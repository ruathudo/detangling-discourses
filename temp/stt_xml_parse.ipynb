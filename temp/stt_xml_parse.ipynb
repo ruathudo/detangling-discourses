{
 "cells": [
  {
   "cell_type": "code",
   "execution_count": 100,
   "metadata": {},
   "outputs": [],
   "source": [
    "import os\n",
    "import json\n",
    "from glob import glob\n",
    "import pandas as pd\n",
    "import xml.etree.ElementTree as ET\n",
    "\n",
    "from tqdm import tqdm\n",
    "import matplotlib.pyplot as plt\n",
    "\n",
    "%matplotlib inline"
   ]
  },
  {
   "cell_type": "code",
   "execution_count": 25,
   "metadata": {},
   "outputs": [],
   "source": [
    "tree = ET.parse('data/stt/arkistosiirto2018/101748201.xml')"
   ]
  },
  {
   "cell_type": "code",
   "execution_count": 26,
   "metadata": {},
   "outputs": [],
   "source": [
    "root = tree.getroot()"
   ]
  },
  {
   "cell_type": "code",
   "execution_count": 58,
   "metadata": {},
   "outputs": [],
   "source": [
    "ns = {'n': 'http://iptc.org/std/nar/2006-10-01/'}"
   ]
  },
  {
   "cell_type": "code",
   "execution_count": null,
   "metadata": {},
   "outputs": [],
   "source": []
  },
  {
   "cell_type": "code",
   "execution_count": 79,
   "metadata": {},
   "outputs": [],
   "source": [
    "# [elem.tag for elem in root.iter()]"
   ]
  },
  {
   "cell_type": "code",
   "execution_count": 78,
   "metadata": {},
   "outputs": [],
   "source": [
    "# print(ET.tostring(root).decode())"
   ]
  },
  {
   "cell_type": "code",
   "execution_count": 77,
   "metadata": {},
   "outputs": [
    {
     "data": {
      "text/plain": [
       "['Kotimaa',\n",
       " 'Talous',\n",
       " 'Liikenne',\n",
       " 'Lentoliikenne',\n",
       " 'Rahoituspalvelut Liike-elämän palvelut',\n",
       " 'Kuluttajakäyttäytyminen',\n",
       " 'Vapaa-aika',\n",
       " 'Lomamatkailu Turismi',\n",
       " 'Makrotalous',\n",
       " 'Kuluttaja-asiat',\n",
       " 'Yritysinformaatio',\n",
       " 'Kuluttajat',\n",
       " 'Matkailu- ja vapaa-aikateollisuus']"
      ]
     },
     "execution_count": 77,
     "metadata": {},
     "output_type": "execute_result"
    }
   ],
   "source": [
    "subjects = []\n",
    "for item in root.findall('n:contentMeta/n:subject/n:name', ns):\n",
    "    if item.text not in subjects:\n",
    "        subjects.append(item.text)\n",
    "subjects"
   ]
  },
  {
   "cell_type": "code",
   "execution_count": 73,
   "metadata": {},
   "outputs": [
    {
     "name": "stdout",
     "output_type": "stream",
     "text": [
      "\n",
      "\n",
      "\n",
      "\n",
      "Pitkä viikonloppu Lontoossa loppiaisena 4.1. - 7.1. 2018\n",
      "Hintoja vertailtiin marraskuun 23. päivänä, jolloin kuvitteellista matkaa suunniteltiin. Menolento aamukoneella ja paluu iltakoneella. Vertailussa oli mukana vain suoria lentoja.\n",
      "\n",
      "\n",
      "Finnairin lennot: meno klo 8.00 / paluu klo 18.05\n",
      "\n",
      "\n",
      "Finnairin\n",
      "- Matkalaukku ruumaan 20 euroa / suunta\n",
      "- Ikkuna- tai käytäväpaikka 14 euroa / suunta\n",
      "- Jalkatilapaikka 26 euroa / suunta\n",
      "Ebookers\n",
      "- Istuinpaikkapyynnön voi esittää, hinta ei käynyt suoraan ilmi, istuinpaikkakarttaa ei ollut saatavilla\n",
      "- Matkatavaroiden hinnoittelussa viitattiin Finnairin hinnastoon\n",
      "Momondon\n",
      "- Hakupalvelu antoi useiden toimistojen hinnat, joissa haitari oli suuri.\n",
      "- Jokaisella toimistolla on oma hinnoittelunsa matkatavaroiden, istuinpaikkojen jne. suhteen. Hinnat käyvät ilmi ostotapahtuman edetessä.\n",
      "- Halvin hinta 249 euroa \n",
      "Travel2be.com\n",
      "- Kallein hinta 361 euroa \n",
      "Lol.travel/fi\n",
      "- Kaikkiaan 15 varaussivustoa myi kyseisen lennon lippua\n",
      "\n",
      "\n",
      "Norwegianin lennot: meno klo 7.55 / paluu klo 18.45\n",
      "\n",
      "\n",
      "Norwegianin\n",
      "- Istumapaikkavaraus ja matkatavara yhteensä 18 euroa / suunta ostettuna pakettitarjouksena\n",
      "Ebookersin kautta Norwegianin lentoja ei ollut testiajankohtana myynnissä \n",
      "Momondon hakupalvelun kautta halvin Norwegianin lento 199 euroa\n",
      "- Halvin hinta 199\n",
      " Airngo.fi\n",
      "- Kallein hinta 228 euroa \n",
      "Kiwi.com\n",
      "- Kaikkiaan 19 varaussivustoa myi Norwegianin kyseistä lentoa\n",
      "\n",
      "\n",
      "British Airwaysin lennot: meno klo 7.50 / paluu klo 18.15\n",
      "\n",
      "\n",
      "British Airwaysin\n",
      "- Matkalaukku ruumassa 19 euroa / suunta\n",
      "- Istuinpaikkahinnasto alkaen 8 euroa\n",
      "Ebookers 370 euroa käsimatkatavaralla\n",
      "- Matkalaukun kuljettamiselle ilmoitettiin sivustolla hinnaksi 74–75 euroa suunta, mutta tiedoista ei käynyt suoraan ilmi, oliko kyse lentokentällä maksettavasta hinnasta.\n",
      "Momondon hakupalvelun kautta British Airways 348 euroa\n",
      "- Halvin hinta 348 euroa \n",
      "Ticket.fi\n",
      "- Kallein hinta 408 euroa \n",
      "FlyHi.fi\n",
      "- 10 varaussivustoa myi lippua\n"
     ]
    }
   ],
   "source": [
    "body = root.find('n:contentSet/n:inlineXML/n:html/n:body', ns)\n",
    "for child in body.iter():\n",
    "    if child.tag == 'body' or child.text is None:\n",
    "        continue\n",
    "    print(child.text)"
   ]
  },
  {
   "cell_type": "code",
   "execution_count": 75,
   "metadata": {},
   "outputs": [],
   "source": [
    "date = root.find('n:contentMeta/n:contentCreated', ns).text"
   ]
  },
  {
   "cell_type": "code",
   "execution_count": 94,
   "metadata": {},
   "outputs": [
    {
     "data": {
      "text/plain": [
       "'2018-01-01T13:09:17'"
      ]
     },
     "execution_count": 94,
     "metadata": {},
     "output_type": "execute_result"
    }
   ],
   "source": [
    "date"
   ]
  },
  {
   "cell_type": "code",
   "execution_count": 95,
   "metadata": {},
   "outputs": [],
   "source": [
    "title = root.find('n:contentMeta/n:headline', ns).text"
   ]
  },
  {
   "cell_type": "code",
   "execution_count": 96,
   "metadata": {},
   "outputs": [
    {
     "data": {
      "text/plain": [
       "'EMBARGO Näin hinnat vaihtelevat Helsinki–Lontoo-viikonloppureissulla'"
      ]
     },
     "execution_count": 96,
     "metadata": {},
     "output_type": "execute_result"
    }
   ],
   "source": [
    "title"
   ]
  },
  {
   "cell_type": "code",
   "execution_count": 121,
   "metadata": {},
   "outputs": [],
   "source": [
    "def parse_data(data_dir):\n",
    "    folders = next(os.walk(data_dir))[1]\n",
    "    ns = {'n': 'http://iptc.org/std/nar/2006-10-01/'}\n",
    "    \n",
    "    for folder in folders:\n",
    "        articles = []\n",
    "        files = [x for x in glob(os.path.join(data_dir, folder, '*.xml'))]\n",
    "        \n",
    "        for file in tqdm(files):\n",
    "            tree = ET.parse(file)\n",
    "            root = tree.getroot()\n",
    "            title = root.find('n:contentMeta/n:headline', ns).text\n",
    "            date = root.find('n:contentMeta/n:contentCreated', ns).text\n",
    "            \n",
    "            subjects = []\n",
    "            for item in root.findall('n:contentMeta/n:subject/n:name', ns):\n",
    "                if item.text not in subjects:\n",
    "                    subjects.append(item.text)\n",
    "                    \n",
    "            \n",
    "            body = root.find('n:contentSet/n:inlineXML/n:html/n:body', ns)\n",
    "            text = \"\" \n",
    "            for child in body.iter():\n",
    "                if child.tag == 'body' or child.text is None:\n",
    "                    continue\n",
    "                text += \" \" + child.text\n",
    "            \n",
    "            articles.append({\n",
    "                'date': date,\n",
    "                'subjects': subjects,\n",
    "                'title': title,\n",
    "                'body': text\n",
    "            })\n",
    "            \n",
    "        with open(os.path.join(data_dir, folder + '.json'), 'w') as out:\n",
    "            json.dump(articles, out)\n",
    "    \n",
    "    return 0"
   ]
  },
  {
   "cell_type": "code",
   "execution_count": 120,
   "metadata": {},
   "outputs": [
    {
     "name": "stderr",
     "output_type": "stream",
     "text": [
      "100%|██████████| 55529/55529 [00:06<00:00, 8377.83it/s]\n"
     ]
    },
    {
     "data": {
      "text/plain": [
       "0"
      ]
     },
     "execution_count": 120,
     "metadata": {},
     "output_type": "execute_result"
    }
   ],
   "source": [
    "parse_data('data/stt')"
   ]
  },
  {
   "cell_type": "code",
   "execution_count": 88,
   "metadata": {},
   "outputs": [
    {
     "data": {
      "text/plain": [
       "['arkistosiirto2004',\n",
       " 'arkistosiirto2007',\n",
       " 'arkistosiirto2014',\n",
       " 'arkistosiirto2012',\n",
       " 'arkistosiirto2009',\n",
       " 'arkistosiirto2000',\n",
       " 'arkistosiirto2017',\n",
       " 'arkistosiirto2015',\n",
       " 'arkistosiirto1999',\n",
       " 'arkistosiirto2010',\n",
       " 'arkistosiirto2005',\n",
       " 'arkistosiirto2016',\n",
       " 'arkistosiirto1997',\n",
       " 'arkistosiirto2001',\n",
       " 'arkistosiirto1994',\n",
       " 'arkistosiirto1995',\n",
       " 'arkistosiirto2008',\n",
       " 'arkistosiirto2002',\n",
       " 'arkistosiirto1992',\n",
       " 'arkistosiirto2018',\n",
       " 'arkistosiirto2013',\n",
       " 'arkistosiirto2011',\n",
       " 'arkistosiirto1996',\n",
       " 'arkistosiirto2003',\n",
       " 'arkistosiirto2006',\n",
       " 'arkistosiirto1993',\n",
       " 'arkistosiirto1998']"
      ]
     },
     "execution_count": 88,
     "metadata": {},
     "output_type": "execute_result"
    }
   ],
   "source": [
    "next(os.walk('data/stt'))[1]"
   ]
  },
  {
   "cell_type": "code",
   "execution_count": 102,
   "metadata": {},
   "outputs": [],
   "source": [
    "#[y for y in glob(os.path.join('data/stt/arkistosiirto2004', '*.xml'))]"
   ]
  },
  {
   "cell_type": "code",
   "execution_count": 122,
   "metadata": {},
   "outputs": [],
   "source": [
    "with open('data/stt/arkistosiirto1995.json', 'r') as f:\n",
    "    test = json.load(f)"
   ]
  },
  {
   "cell_type": "code",
   "execution_count": 123,
   "metadata": {},
   "outputs": [
    {
     "data": {
      "text/plain": [
       "{'date': '1995-06-06T00:00:00',\n",
       " 'subjects': ['Politiikka'],\n",
       " 'title': None,\n",
       " 'body': ' \\n Suomi tukee tiukkaa EU-budjettia Välimeri-rahoihin ei vielä kantaa (VN) Helsinki, 7.\\u20096. (STT) Suomi tukee EU:n budjetin tiukkaa yleislinjaa ja pitää tarpeellisena leikata menoja kustannustehokkuudeltaan heikoissa kohteissa. Suomen hallitus määritteli keskiviikkona yleiset periaatteensa käsiteltäessä EU:n talousarvioesitystä vuodelle 1996.  Hallituksen kannanotto meni eduskunnan tietoon. Kannanotto määrittää myös valtiovarainministeriön linjaa, kun EU:n neuvosto ryhtyy käsittelemään budjettia heinäkuussa. Suomi ei ole kuitenkaan valmis säästämään kehittämis- ja tutkimustyöstä, Keski- ja Itä-Euroopan tuesta eikä raja-alueiden yhteistyön kehittämisestä. Myös telekommunikaatio, tutkijavaihto ja ympäristöohjelmat kuuluvat Suomen kiinnostuksen kohteisiin EU:n budjetissa. Ensi vuonna alkavien kulttuuriohjelmien rahoitus tulee lisäksi turvata. Maatalousmenoista selvitys ja työllisyyteen lisää Suomi esittää toisaalta, että EU:n komissio valmistelee mahdollisimman pian selvityksen maatalousmenoista. Ensi vuoden alustavassa budjetissa maatalousmenot nousevat yli 10 prosenttia ja komission povaa niiden kasvavan tästäkin. Suomen hallituksen mielestä EU:n rakennetoiminnan rahoitusnäkymien sopeuttamisessa on ongelmia ja rakennerahastojen ohjelmien täytäntöönpanoa tulee tehostaa. Suomen tavoitteena on lisätä työttömyyden torjuntaan kohdistettavia varoja EU:n rakennerahastoissa. Lisäksi hallitus pyrkii korjaamaan ongelmia, joita rakennerahastoista Suomelle osoitettavien varojen riittämättömyys aiheuttaa eräillä alueilla. Suomen hallitus ei vielä ota kantaa Välimeri-määrärahojen lisäykseen. Suomi vaatii komissiolta perusteellista maa- ja sektorikohtaista selvitystä Välimeren maiden rahoitustarpeista ja ehdotusta rahoituksen kohdentamisesta. Vasta sen jälkeen Suomi voi muodostaa lopullisen kannan Välimeri-rahoihin. Komissio esittää Välimeri-rahoitukseen lisää 5,16 miljardia ecua eli runsaat 29 miljardia markkaa vuosille 1995—99. Suomenkielistä budjettia kaivataan Suomea kummeksuttaa myös EU:n budjetin eläkemenojen kasvuvauhti: kasvua on ensi vuonna 14,3 prosenttia. Hallituksen mielestä keinoja kasvun hillitsemiseksi tulisi selvittää. Suomessa on EU:n budjetista käytettävissä suomen kielellä vain osia. Hallituksen mielestä budjettiasiakirjat tulisi olla Suomessa käytettävissä käännöksineen samanaikaisesti kuin muissa EU-maissa. —\\u2009Tämän turvaamiseksi on tärkeätä, että hallintomenoissa turvataan Suomen osalta erityisesti kielipalveluihin riittävät määrärahat. (STT) am'}"
      ]
     },
     "execution_count": 123,
     "metadata": {},
     "output_type": "execute_result"
    }
   ],
   "source": [
    "test[0]"
   ]
  },
  {
   "cell_type": "code",
   "execution_count": 126,
   "metadata": {},
   "outputs": [],
   "source": [
    "def read_data(data_dir, start=1992, end=2018):\n",
    "    articles = []\n",
    "    \n",
    "    for year in range(start, end):\n",
    "        with open(os.path.join(data_dir, str(year) + '.json')) as f:\n",
    "            articles += json.load(f)\n",
    "\n",
    "    return articles"
   ]
  },
  {
   "cell_type": "code",
   "execution_count": 127,
   "metadata": {},
   "outputs": [],
   "source": [
    "articles = read_data('data/stt_parsed', start=2016, end=2018)"
   ]
  },
  {
   "cell_type": "code",
   "execution_count": 128,
   "metadata": {},
   "outputs": [
    {
     "data": {
      "text/plain": [
       "203567"
      ]
     },
     "execution_count": 128,
     "metadata": {},
     "output_type": "execute_result"
    }
   ],
   "source": [
    "len(articles)"
   ]
  },
  {
   "cell_type": "code",
   "execution_count": 130,
   "metadata": {},
   "outputs": [
    {
     "data": {
      "text/plain": [
       "{'date': '2016-08-24T02:12:14',\n",
       " 'subjects': ['Ulkomaat',\n",
       "  'Politiikka',\n",
       "  'Puolustus',\n",
       "  'Puolustusvoimat',\n",
       "  'Talous',\n",
       "  'Metalliteollisuus',\n",
       "  'Sotateollisuus',\n",
       "  'Ohjusjärjestelmät'],\n",
       " 'title': 'Pohjois-Korea testasi jälleen sukellusveneestä laukaistavaa ohjusta',\n",
       " 'body': ' \\n Pohjois-Korea on jälleen testannut ballistisen ohjuksen laukaisua. Se ammuttiin sukellusveneestä maan itärannikolla keskiviikkona. Asiasta kertoo Etelä-Korean uutistoimisto Yonhap. Etelä-Korean puolustushaarakomentajien neuvoston tiedotteessa kerrotaan, että ohjus laukaistiin Japaninmerellä hieman ennen aamukuutta keskiviikkoaamuna paikallista aikaa. Tiedotteessa ei kerrota enempää yksityiskohtia asiasta, eikä myöskään sitä, onnistuiko testi.  Etelä-Korea ja Yhdysvallat aloittivat maanantaina vuotuiset sotaharjoituksensa, mikä on lisännyt jännitteitä maiden ja Pohjois-Korean välillä. Soulista ja Washingtonista on viestitetty harjoitusten olevan puhtaasti puolustuksen harjoittelua, mutta Pohjois-Korea on nähnyt harjoitukset provokaationa. Pohjois-Korea on muun muassa sanonut harjoitusten aiheuttavan epävakautta Korean niemimaalla. \\n Pohjois-Korea jatkaa testejä YK:n kielloista huolimatta Kaksi viikkoa kestävään harjoitukseen osallistuu 50\\u2009  000 eteläkorealaista ja 25\\u2009  000 yhdysvaltalaissotilasta. Heti harjoitusten alettua Pohjois-Korea uhkasi \"ennakoivilla ydiniskuilla\". Jännitteitä on lisännyt myös Yhdysvaltain ja Etelä-Korean suunnitelma ohjustorjuntajärjestelmästä. Jännitteet ovat kasvaneet Korean niemimaalla tammikuun jälkeen.  YK:n nykyinen päätöslauselma kieltää Pohjois-Korealta kaikki ballististen ohjusten testaukset. Helmikuussa Pohjois-Korea laukaisema pitkän kantaman raketti sai YK:n tiukentamaan pakotteitaan. Päätöslauselmista huolimatta Pohjois-Korea on laukaissut useita erilaisia ohjuksia menneiden kuukausien aikana. Viimeisimmän ohjustestin Pohjois-Korea teki tämän kuun alussa. Ohjus laskeutui tuolloin Japanin merialueelle. Eri testien onnistumisista on saatu vaihtelevia raportteja.'}"
      ]
     },
     "execution_count": 130,
     "metadata": {},
     "output_type": "execute_result"
    }
   ],
   "source": [
    "articles[523]"
   ]
  },
  {
   "cell_type": "code",
   "execution_count": null,
   "metadata": {},
   "outputs": [],
   "source": []
  }
 ],
 "metadata": {
  "kernelspec": {
   "display_name": "Python 3",
   "language": "python",
   "name": "python3"
  },
  "language_info": {
   "codemirror_mode": {
    "name": "ipython",
    "version": 3
   },
   "file_extension": ".py",
   "mimetype": "text/x-python",
   "name": "python",
   "nbconvert_exporter": "python",
   "pygments_lexer": "ipython3",
   "version": "3.8.3"
  }
 },
 "nbformat": 4,
 "nbformat_minor": 4
}
