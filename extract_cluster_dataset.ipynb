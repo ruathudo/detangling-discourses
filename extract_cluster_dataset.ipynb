{
 "cells": [
  {
   "cell_type": "code",
   "execution_count": 1,
   "metadata": {},
   "outputs": [],
   "source": [
    "import pandas as pd\n",
    "import numpy as np\n",
    "from itertools import chain\n",
    "\n",
    "from gensim.corpora import Dictionary\n",
    "import ruptures as rpt\n",
    "\n",
    "import matplotlib.pyplot as plt\n",
    "import seaborn as sns\n",
    "\n",
    "%matplotlib inline"
   ]
  },
  {
   "cell_type": "code",
   "execution_count": 2,
   "metadata": {},
   "outputs": [],
   "source": [
    "df = pd.read_json('data/yle-articles.json', orient='records')"
   ]
  },
  {
   "cell_type": "code",
   "execution_count": 3,
   "metadata": {},
   "outputs": [
    {
     "data": {
      "text/html": [
       "<div>\n",
       "<style scoped>\n",
       "    .dataframe tbody tr th:only-of-type {\n",
       "        vertical-align: middle;\n",
       "    }\n",
       "\n",
       "    .dataframe tbody tr th {\n",
       "        vertical-align: top;\n",
       "    }\n",
       "\n",
       "    .dataframe thead th {\n",
       "        text-align: right;\n",
       "    }\n",
       "</style>\n",
       "<table border=\"1\" class=\"dataframe\">\n",
       "  <thead>\n",
       "    <tr style=\"text-align: right;\">\n",
       "      <th></th>\n",
       "      <th>id</th>\n",
       "      <th>date</th>\n",
       "      <th>title</th>\n",
       "      <th>body</th>\n",
       "      <th>subjects</th>\n",
       "    </tr>\n",
       "  </thead>\n",
       "  <tbody>\n",
       "    <tr>\n",
       "      <th>0</th>\n",
       "      <td>3-6475540</td>\n",
       "      <td>2013-01-31T22:53:33+0200</td>\n",
       "      <td>UMK-finalistit valittu – Great Wide North maks...</td>\n",
       "      <td>Great Wide North sai toisessa semifinaalissa ...</td>\n",
       "      <td>[kulttuuri, musiikki, viihde, uuden musiikin k...</td>\n",
       "    </tr>\n",
       "    <tr>\n",
       "      <th>1</th>\n",
       "      <td>3-6475536</td>\n",
       "      <td>2013-01-31T22:53:15+0200</td>\n",
       "      <td>YK:n pääsihteeri: Tieto Israelin iskusta Syyri...</td>\n",
       "      <td>Ban Ki-moon kehottaa Lähi-idän kaikki valtioi...</td>\n",
       "      <td>[ulkomaat, yhdistyneiden kansakuntien pääsihte...</td>\n",
       "    </tr>\n",
       "    <tr>\n",
       "      <th>2</th>\n",
       "      <td>3-6475539</td>\n",
       "      <td>2013-01-31T22:53:04+0200</td>\n",
       "      <td>AIK kuritti Rögleä - Pirnes kahmi tehopisteitä</td>\n",
       "      <td>Esa Pirnes oli tehokkaalla pelipäällä Elitser...</td>\n",
       "      <td>[urheilu, jääkiekko, aik if, svenska hockeylig...</td>\n",
       "    </tr>\n",
       "    <tr>\n",
       "      <th>3</th>\n",
       "      <td>20-162900</td>\n",
       "      <td>2013-01-31T22:43:34+0200</td>\n",
       "      <td>Polkupyörällä Islannissa: kirja lähtee painoon</td>\n",
       "      <td>On taas se aika vuodesta, kun olo on melko ep...</td>\n",
       "      <td>[matkakertomukset, matkakirjallisuus (kaunokir...</td>\n",
       "    </tr>\n",
       "    <tr>\n",
       "      <th>4</th>\n",
       "      <td>3-6475529</td>\n",
       "      <td>2013-01-31T22:38:24+0200</td>\n",
       "      <td>TPS:n oljenkorsi ei katkennut - 36 pistettä yh...</td>\n",
       "      <td>TPS säilytti SaiPasta otetun 3-1-voiton ansio...</td>\n",
       "      <td>[urheilu, jääkiekon miesten sm-liiga, jääkiekk...</td>\n",
       "    </tr>\n",
       "  </tbody>\n",
       "</table>\n",
       "</div>"
      ],
      "text/plain": [
       "          id                      date  \\\n",
       "0  3-6475540  2013-01-31T22:53:33+0200   \n",
       "1  3-6475536  2013-01-31T22:53:15+0200   \n",
       "2  3-6475539  2013-01-31T22:53:04+0200   \n",
       "3  20-162900  2013-01-31T22:43:34+0200   \n",
       "4  3-6475529  2013-01-31T22:38:24+0200   \n",
       "\n",
       "                                               title  \\\n",
       "0  UMK-finalistit valittu – Great Wide North maks...   \n",
       "1  YK:n pääsihteeri: Tieto Israelin iskusta Syyri...   \n",
       "2     AIK kuritti Rögleä - Pirnes kahmi tehopisteitä   \n",
       "3     Polkupyörällä Islannissa: kirja lähtee painoon   \n",
       "4  TPS:n oljenkorsi ei katkennut - 36 pistettä yh...   \n",
       "\n",
       "                                                body  \\\n",
       "0   Great Wide North sai toisessa semifinaalissa ...   \n",
       "1   Ban Ki-moon kehottaa Lähi-idän kaikki valtioi...   \n",
       "2   Esa Pirnes oli tehokkaalla pelipäällä Elitser...   \n",
       "3   On taas se aika vuodesta, kun olo on melko ep...   \n",
       "4   TPS säilytti SaiPasta otetun 3-1-voiton ansio...   \n",
       "\n",
       "                                            subjects  \n",
       "0  [kulttuuri, musiikki, viihde, uuden musiikin k...  \n",
       "1  [ulkomaat, yhdistyneiden kansakuntien pääsihte...  \n",
       "2  [urheilu, jääkiekko, aik if, svenska hockeylig...  \n",
       "3  [matkakertomukset, matkakirjallisuus (kaunokir...  \n",
       "4  [urheilu, jääkiekon miesten sm-liiga, jääkiekk...  "
      ]
     },
     "execution_count": 3,
     "metadata": {},
     "output_type": "execute_result"
    }
   ],
   "source": [
    "df.head()"
   ]
  },
  {
   "cell_type": "code",
   "execution_count": 3,
   "metadata": {},
   "outputs": [
    {
     "name": "stdout",
     "output_type": "stream",
     "text": [
      "<class 'pandas.core.frame.DataFrame'>\n",
      "RangeIndex: 702673 entries, 0 to 702672\n",
      "Data columns (total 5 columns):\n",
      " #   Column    Non-Null Count   Dtype \n",
      "---  ------    --------------   ----- \n",
      " 0   id        702673 non-null  object\n",
      " 1   date      702673 non-null  object\n",
      " 2   title     702673 non-null  object\n",
      " 3   body      702673 non-null  object\n",
      " 4   subjects  702673 non-null  object\n",
      "dtypes: object(5)\n",
      "memory usage: 26.8+ MB\n"
     ]
    }
   ],
   "source": [
    "df.info()"
   ]
  },
  {
   "cell_type": "code",
   "execution_count": 19,
   "metadata": {},
   "outputs": [],
   "source": [
    "# dictionary = Dictionary.load('models/dev/dictionary.pkl')"
   ]
  },
  {
   "cell_type": "code",
   "execution_count": 4,
   "metadata": {},
   "outputs": [],
   "source": [
    "def create_subjects_dict(subjects_list):\n",
    "    # subjects = subjects_list.apply(lambda x: list(chain.from_iterable(i.lower().split(' ') for i in x)))\n",
    "    \n",
    "    # subjects = list(chain.from_iterable(item.lower().split(' ') for block in subjects_list for item in block))\n",
    "    # print(subjects[0])\n",
    "    total = subjects_list.apply(len).sum()\n",
    "    print(total)\n",
    "    subject_dict = Dictionary(subjects_list)\n",
    "\n",
    "    return subject_dict"
   ]
  },
  {
   "cell_type": "code",
   "execution_count": 14,
   "metadata": {},
   "outputs": [
    {
     "name": "stdout",
     "output_type": "stream",
     "text": [
      "9771037\n"
     ]
    }
   ],
   "source": [
    "sub_dict = create_subjects_dict(df['subjects'])"
   ]
  },
  {
   "cell_type": "code",
   "execution_count": 15,
   "metadata": {},
   "outputs": [
    {
     "data": {
      "text/plain": [
       "98392"
      ]
     },
     "execution_count": 15,
     "metadata": {},
     "output_type": "execute_result"
    }
   ],
   "source": [
    "len(sub_dict)"
   ]
  },
  {
   "cell_type": "code",
   "execution_count": 10,
   "metadata": {},
   "outputs": [
    {
     "data": {
      "text/plain": [
       "1"
      ]
     },
     "execution_count": 10,
     "metadata": {},
     "output_type": "execute_result"
    }
   ],
   "source": [
    "sub_dict.cfs[2]"
   ]
  },
  {
   "cell_type": "code",
   "execution_count": 11,
   "metadata": {},
   "outputs": [
    {
     "data": {
      "text/plain": [
       "'sillat'"
      ]
     },
     "execution_count": 11,
     "metadata": {},
     "output_type": "execute_result"
    }
   ],
   "source": [
    "sub_dict[653]"
   ]
  },
  {
   "cell_type": "code",
   "execution_count": 5,
   "metadata": {
    "scrolled": false
   },
   "outputs": [],
   "source": [
    "def count_subjects(sub_dict):\n",
    "\n",
    "    dict_freq = {}\n",
    "\n",
    "    for i, word in enumerate(sub_dict):\n",
    "        dict_freq[sub_dict[i]] = sub_dict.cfs[i]\n",
    "\n",
    "    count = 0\n",
    "    for k in sorted(dict_freq, key=dict_freq.get, reverse=True):\n",
    "        print(k, dict_freq[k])\n",
    "        count  += 1\n",
    "        if dict_freq[k] <= 200:\n",
    "            break\n",
    "\n",
    "    print(count)"
   ]
  },
  {
   "cell_type": "code",
   "execution_count": 4,
   "metadata": {},
   "outputs": [],
   "source": [
    "# generate distinct groups for testing the hypothesis\n",
    "def extract_categories(df, cats):\n",
    "    clusters = []\n",
    "    \n",
    "    for cat in cats:\n",
    "        is_cat = df['subjects'].apply(lambda x: (cat in x))\n",
    "        df_filtered = df[is_cat].copy()\n",
    "        df_filtered['category'] = cat\n",
    "        clusters.append(df_filtered)\n",
    "        \n",
    "    df_merged = pd.concat(clusters, ignore_index=True)\n",
    "    \n",
    "    return df_merged"
   ]
  },
  {
   "cell_type": "code",
   "execution_count": 5,
   "metadata": {},
   "outputs": [
    {
     "name": "stdout",
     "output_type": "stream",
     "text": [
      "CPU times: user 3.22 s, sys: 3.93 ms, total: 3.22 s\n",
      "Wall time: 3.24 s\n"
     ]
    }
   ],
   "source": [
    "%%time\n",
    "cat_list = ['autot', 'musiikki', 'luonto', 'vaalit', 'taudit', 'työllisyys', 'jääkiekko', 'kulttuuri', 'rikokset', 'koulut', 'tulipalot', 'ruoat']\n",
    "df_cluster = extract_categories(df, cats=cat_list)"
   ]
  },
  {
   "cell_type": "code",
   "execution_count": 6,
   "metadata": {},
   "outputs": [
    {
     "data": {
      "text/html": [
       "<div>\n",
       "<style scoped>\n",
       "    .dataframe tbody tr th:only-of-type {\n",
       "        vertical-align: middle;\n",
       "    }\n",
       "\n",
       "    .dataframe tbody tr th {\n",
       "        vertical-align: top;\n",
       "    }\n",
       "\n",
       "    .dataframe thead th {\n",
       "        text-align: right;\n",
       "    }\n",
       "</style>\n",
       "<table border=\"1\" class=\"dataframe\">\n",
       "  <thead>\n",
       "    <tr style=\"text-align: right;\">\n",
       "      <th></th>\n",
       "      <th>id</th>\n",
       "      <th>date</th>\n",
       "      <th>title</th>\n",
       "      <th>body</th>\n",
       "      <th>subjects</th>\n",
       "      <th>category</th>\n",
       "    </tr>\n",
       "  </thead>\n",
       "  <tbody>\n",
       "    <tr>\n",
       "      <th>0</th>\n",
       "      <td>3-6475275</td>\n",
       "      <td>2013-01-31T16:59:42+0200</td>\n",
       "      <td>Aika kallis Volkkari</td>\n",
       "      <td>Vuonna 1973 autonvalmistaja Volkswagen oli kr...</td>\n",
       "      <td>[tekniikka, ulkomaat, liikenne, vw passat, vol...</td>\n",
       "      <td>autot</td>\n",
       "    </tr>\n",
       "    <tr>\n",
       "      <th>1</th>\n",
       "      <td>3-6475075</td>\n",
       "      <td>2013-01-31T16:02:43+0200</td>\n",
       "      <td>Kuopion koruryöstäjille kymmenien tuhansien sa...</td>\n",
       "      <td>Poliisi kaipaa edelleen havaintoja keskiviikk...</td>\n",
       "      <td>[kotimaan uutiset, ryöstö, varallisuusrikokset...</td>\n",
       "      <td>autot</td>\n",
       "    </tr>\n",
       "    <tr>\n",
       "      <th>2</th>\n",
       "      <td>3-6474561</td>\n",
       "      <td>2013-01-31T13:24:08+0200</td>\n",
       "      <td>Nuori nainen kuoli kolarissa Virroilla</td>\n",
       "      <td>Etelä-Pohjanmaalla asuva nuori nainen menehty...</td>\n",
       "      <td>[virrat, räntä, liikenneonnettomuudet, henkilö...</td>\n",
       "      <td>autot</td>\n",
       "    </tr>\n",
       "    <tr>\n",
       "      <th>3</th>\n",
       "      <td>3-6474214</td>\n",
       "      <td>2013-01-31T10:54:11+0200</td>\n",
       "      <td>Autoasentajat kurssikierteessä</td>\n",
       "      <td>Kun auton polttimonvaihto vie alan korjaamoll...</td>\n",
       "      <td>[kotimaan uutiset, tekniikka, tuulilasinpesin,...</td>\n",
       "      <td>autot</td>\n",
       "    </tr>\n",
       "    <tr>\n",
       "      <th>4</th>\n",
       "      <td>3-6474222</td>\n",
       "      <td>2013-01-31T10:54:01+0200</td>\n",
       "      <td>12 kertaa kiinni kortitta ajosta</td>\n",
       "      <td>Kokemäellä autoillut mies jäi keskiviikkona k...</td>\n",
       "      <td>[ajokortitta ajaminen, kokemäki, liikennerikko...</td>\n",
       "      <td>autot</td>\n",
       "    </tr>\n",
       "  </tbody>\n",
       "</table>\n",
       "</div>"
      ],
      "text/plain": [
       "          id                      date  \\\n",
       "0  3-6475275  2013-01-31T16:59:42+0200   \n",
       "1  3-6475075  2013-01-31T16:02:43+0200   \n",
       "2  3-6474561  2013-01-31T13:24:08+0200   \n",
       "3  3-6474214  2013-01-31T10:54:11+0200   \n",
       "4  3-6474222  2013-01-31T10:54:01+0200   \n",
       "\n",
       "                                               title  \\\n",
       "0                               Aika kallis Volkkari   \n",
       "1  Kuopion koruryöstäjille kymmenien tuhansien sa...   \n",
       "2             Nuori nainen kuoli kolarissa Virroilla   \n",
       "3                     Autoasentajat kurssikierteessä   \n",
       "4                   12 kertaa kiinni kortitta ajosta   \n",
       "\n",
       "                                                body  \\\n",
       "0   Vuonna 1973 autonvalmistaja Volkswagen oli kr...   \n",
       "1   Poliisi kaipaa edelleen havaintoja keskiviikk...   \n",
       "2   Etelä-Pohjanmaalla asuva nuori nainen menehty...   \n",
       "3   Kun auton polttimonvaihto vie alan korjaamoll...   \n",
       "4   Kokemäellä autoillut mies jäi keskiviikkona k...   \n",
       "\n",
       "                                            subjects category  \n",
       "0  [tekniikka, ulkomaat, liikenne, vw passat, vol...    autot  \n",
       "1  [kotimaan uutiset, ryöstö, varallisuusrikokset...    autot  \n",
       "2  [virrat, räntä, liikenneonnettomuudet, henkilö...    autot  \n",
       "3  [kotimaan uutiset, tekniikka, tuulilasinpesin,...    autot  \n",
       "4  [ajokortitta ajaminen, kokemäki, liikennerikko...    autot  "
      ]
     },
     "execution_count": 6,
     "metadata": {},
     "output_type": "execute_result"
    }
   ],
   "source": [
    "df_cluster.head()"
   ]
  },
  {
   "cell_type": "code",
   "execution_count": 7,
   "metadata": {},
   "outputs": [
    {
     "name": "stdout",
     "output_type": "stream",
     "text": [
      "<class 'pandas.core.frame.DataFrame'>\n",
      "RangeIndex: 222779 entries, 0 to 222778\n",
      "Data columns (total 6 columns):\n",
      " #   Column    Non-Null Count   Dtype \n",
      "---  ------    --------------   ----- \n",
      " 0   id        222779 non-null  object\n",
      " 1   date      222779 non-null  object\n",
      " 2   title     222779 non-null  object\n",
      " 3   body      222779 non-null  object\n",
      " 4   subjects  222779 non-null  object\n",
      " 5   category  222779 non-null  object\n",
      "dtypes: object(6)\n",
      "memory usage: 10.2+ MB\n"
     ]
    }
   ],
   "source": [
    "df_cluster.info()"
   ]
  },
  {
   "cell_type": "code",
   "execution_count": 8,
   "metadata": {},
   "outputs": [],
   "source": [
    "df_cluster.to_json('data/dev/cluster_12_cats.json')"
   ]
  },
  {
   "cell_type": "code",
   "execution_count": null,
   "metadata": {},
   "outputs": [],
   "source": []
  }
 ],
 "metadata": {
  "kernelspec": {
   "display_name": "Python 3",
   "language": "python",
   "name": "python3"
  },
  "language_info": {
   "codemirror_mode": {
    "name": "ipython",
    "version": 3
   },
   "file_extension": ".py",
   "mimetype": "text/x-python",
   "name": "python",
   "nbconvert_exporter": "python",
   "pygments_lexer": "ipython3",
   "version": "3.7.5"
  },
  "varInspector": {
   "cols": {
    "lenName": 16,
    "lenType": 16,
    "lenVar": 40
   },
   "kernels_config": {
    "python": {
     "delete_cmd_postfix": "",
     "delete_cmd_prefix": "del ",
     "library": "var_list.py",
     "varRefreshCmd": "print(var_dic_list())"
    },
    "r": {
     "delete_cmd_postfix": ") ",
     "delete_cmd_prefix": "rm(",
     "library": "var_list.r",
     "varRefreshCmd": "cat(var_dic_list()) "
    }
   },
   "types_to_exclude": [
    "module",
    "function",
    "builtin_function_or_method",
    "instance",
    "_Feature"
   ],
   "window_display": false
  }
 },
 "nbformat": 4,
 "nbformat_minor": 4
}
