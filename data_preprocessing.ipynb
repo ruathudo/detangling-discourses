{
 "cells": [
  {
   "cell_type": "code",
   "execution_count": 1,
   "metadata": {},
   "outputs": [],
   "source": [
    "import os\n",
    "import re\n",
    "from glob import glob\n",
    "import json\n",
    "import random\n",
    "\n",
    "import pandas as pd\n",
    "import numpy as np\n",
    "\n",
    "from tqdm import tqdm\n",
    "\n",
    "from gensim.corpora import Dictionary\n",
    "from gensim.parsing.preprocessing import strip_punctuation, strip_multiple_whitespaces, strip_tags, strip_non_alphanum\n",
    "\n",
    "import matplotlib.pyplot as plt\n",
    "\n",
    "%matplotlib inline"
   ]
  },
  {
   "cell_type": "code",
   "execution_count": 2,
   "metadata": {},
   "outputs": [],
   "source": [
    "def read_corpus(folder):\n",
    "    files = [y for x in os.walk(folder) for y in glob(os.path.join(x[0], '*.json'))]\n",
    "    articles = []\n",
    "    \n",
    "    # attrs: id, contents\n",
    "    for filepath in tqdm(files):\n",
    "        # print(filepath)\n",
    "        with open(filepath, 'r') as f:\n",
    "            try:\n",
    "                text = json.load(f)\n",
    "            except:\n",
    "                print('errors', filepath)\n",
    "                continue\n",
    "            \n",
    "            for a in text['data']:\n",
    "                article = {'id': a['id'], 'date': a['datePublished']}\n",
    "                body = \"\"\n",
    "                title = \"\"\n",
    "                subjects = []\n",
    "                \n",
    "                for c in a['content']:\n",
    "                    if c['type'] == 'heading':\n",
    "                        title = c['text']\n",
    "                    elif c['type'] == 'text':\n",
    "                        body += \" \" + c['text']\n",
    "                \n",
    "                for s in a.get('subjects', []):\n",
    "                    if s['title']['fi']:\n",
    "                        subjects.append(s['title']['fi'].lower())\n",
    "                    \n",
    "                article['title'] = title\n",
    "                article['body'] = body\n",
    "                article['subjects'] = subjects\n",
    "                \n",
    "                articles.append(article)\n",
    "        \n",
    "    return articles"
   ]
  },
  {
   "cell_type": "code",
   "execution_count": 3,
   "metadata": {},
   "outputs": [
    {
     "output_type": "stream",
     "name": "stderr",
     "text": [
      "100%|██████████| 753/753 [05:20<00:00,  2.35it/s]\n"
     ]
    }
   ],
   "source": [
    "articles = read_corpus('data/yle-src/data/fi')"
   ]
  },
  {
   "cell_type": "code",
   "execution_count": 4,
   "metadata": {},
   "outputs": [
    {
     "output_type": "execute_result",
     "data": {
      "text/plain": [
       "703673"
      ]
     },
     "metadata": {},
     "execution_count": 4
    }
   ],
   "source": [
    "len(articles)"
   ]
  },
  {
   "cell_type": "code",
   "execution_count": 5,
   "metadata": {},
   "outputs": [
    {
     "output_type": "execute_result",
     "data": {
      "text/plain": [
       "{'id': '3-6450519',\n",
       " 'date': '2013-01-14T17:00:23+0200',\n",
       " 'title': 'Ruben Stiller: Kantasuomalainen, uussuomalainen, perussuomalainen vai pseudosuomalainen?',\n",
       " 'body': ' Vai olenko sittenkin megasuomalainen?  Vaikeaa tämä suomalaisuus. Alussa oli maahanmuuttaja. Sitten hänet päätettiin nimetä _uussuomalaiseksi,_ jotta kaikki tajuaisivat, että maahanmuuttajakin voi olla suomalainen. Tämä ei kuitenkaan riittänyt: jotenkin se maahanmuuttaja oli erotettava varsinaisista suomalaisista, joten joukkoomme syntyi yhtäkkiä valtava määrä ns. _kantasuomalaisia_. En ymmärrä tämän kielipelin mielekkyyttä - miksi maahanmuuttaja muutetaan uussuomalaiseksi, jos tarkoituksena on kuitenkin pitää yllä sitä erottelua, josta yritettiin luopua? Miksi maahanmuuttaja-sanalle\\xa0täytyy keksiä poliittisesti korrekti vastine, joka vain korostaa sitä, kuinka suomalaisia sitä ollaan? Miten kauan uussuomalaisen pitää olla uussuomalainen ennen kuin hän muuttuu kantasuomalaiseksi? Koska suomalaisuus on nykyään valtavan vaikeaa, päätin täsmentää käsitteitä. Tarvitsemme uusia uudissanoja suomalaisuuden määrittelemiseksi: **Megasuomalainen**. Suursuomalaisen nykyinen vastine. Suursuomalaiset iskivät päänsä Karjalan mäntyyn, ja megasuomalainen jatkaa perinnettä lyömällä päätään vasten vieraita kulttuureja. Näin megasuomalainen kykenee määrittelemään oman epämääräisen suomalaisuutensa. Jos päivystävää somalia ei olisi olemassa, megasuomalaisen maailma menisi sekaisin ja identiteetti hämärtyisi. Somali on megasuomalaisen identiteetin perusta, mutta myös muut etniset ryhmät kelpaavat\\xa0suomalaisuuden kirkastamiseen. **Kvasisuomalainen. **Maamme-laulu on tyypillinen kvasisuomalainen, siis näennäisesti suomalainen, kulttuurituote. Sen sävelsi Hampurissa syntynyt maahanmuuttaja Fredrik Pacius (synt. Friedrich Pacius). Megasuomalaiset hoilottavat tyytyväisinä tätä kappaletta, mikä kertoo megasuomalaisten historiatajun syvyydestä. **Suomalaisuus plasebona: plasebosuomalaisuus. **Suomalaisuutta käytetään nykyään yleisesti plasebona eli lumelääkkeenä. Kun globaali markkinatalous uhkaa, ja työpaikat lähtevät alta, suomalaisuuden plasebo parantaa oloa. Se palauttaa omanarvontunteen, ja maailmakin tuntuu olevan taas kontrollissa. Lumelääkkeen tehoa voidaan vahvistaa vihaamalla jotain ryhmää, joka symbolisoi Suomeen tunkeutuvaa uhkaavaa Maailmaa. Keskipitkällä aikavälillä lumelääkkeen teho on kuitenkin heikko: globaalin talouden ikävien realiteettien keskellä se auttaa yhtä paljon kuin housuihin pissaaminen hangessa. Toivon, että näillä termeillä on käyttöä epämääräisen suomalaisuuden hämärien hokemien hetteikössä. Lopuksi on vielä muistutettava teitä maamme vakavimmasta integraatio-ongelmasta. Kiitän työkaveriani Janne Zareffia siitä, että hän kiinnitti huomioni tähän vakavaan yhteiskunnalliseen ongelmaan. Monet kantasuomalaiset eivät integroidu Suomeen, vaikka niitä on yritetty kotouttaa jo usean sukupolven ajan. Ne kännäävät, puukottavat ja haluavat vain laiskotella ja vastustaa eläkeiän nostoa. Mitä me niille oikein teemme? _Ruben Stiller  \\nKirjoittaja on toimittaja ja Pressiklubi-ohjelman juontaja_',\n",
       " 'subjects': ['yle blogit',\n",
       "  'kotimaan uutiset',\n",
       "  'ruben stiller',\n",
       "  'maahanmuuttajat',\n",
       "  'suomalaisuus',\n",
       "  'suomalaiset',\n",
       "  'kansallinen tai etninen ryhmä',\n",
       "  'plasebo',\n",
       "  'muuttoliike',\n",
       "  'fredrik pacius',\n",
       "  'suomen kansallislaulu',\n",
       "  'itämerensuomalaiset kansat',\n",
       "  'kansatiede',\n",
       "  'hampuri',\n",
       "  'identiteetti',\n",
       "  'sanat',\n",
       "  'lumehoito']}"
      ]
     },
     "metadata": {},
     "execution_count": 5
    }
   ],
   "source": [
    "articles[32]"
   ]
  },
  {
   "cell_type": "code",
   "execution_count": null,
   "metadata": {},
   "outputs": [],
   "source": [
    "with open('data/yle-articles.json', 'w', encoding='utf-8') as f:\n",
    "    json.dump(articles, f, ensure_ascii=False, indent=4)"
   ]
  },
  {
   "cell_type": "code",
   "execution_count": 8,
   "metadata": {},
   "outputs": [],
   "source": [
    "# now try to read the saved data\n",
    "df = pd.read_json('data/yle-articles.json', orient='records')"
   ]
  },
  {
   "cell_type": "code",
   "execution_count": 9,
   "metadata": {},
   "outputs": [
    {
     "output_type": "stream",
     "name": "stdout",
     "text": [
      "<class 'pandas.core.frame.DataFrame'>\nRangeIndex: 702673 entries, 0 to 702672\nData columns (total 5 columns):\n #   Column    Non-Null Count   Dtype \n---  ------    --------------   ----- \n 0   id        702673 non-null  object\n 1   date      702673 non-null  object\n 2   title     702673 non-null  object\n 3   body      702673 non-null  object\n 4   subjects  702673 non-null  object\ndtypes: object(5)\nmemory usage: 26.8+ MB\n"
     ]
    }
   ],
   "source": [
    "df.info()"
   ]
  },
  {
   "cell_type": "code",
   "execution_count": 10,
   "metadata": {},
   "outputs": [
    {
     "output_type": "execute_result",
     "data": {
      "text/plain": [
       "          id                      date  \\\n",
       "0  3-6475540  2013-01-31T22:53:33+0200   \n",
       "1  3-6475536  2013-01-31T22:53:15+0200   \n",
       "2  3-6475539  2013-01-31T22:53:04+0200   \n",
       "3  20-162900  2013-01-31T22:43:34+0200   \n",
       "4  3-6475529  2013-01-31T22:38:24+0200   \n",
       "\n",
       "                                               title  \\\n",
       "0  UMK-finalistit valittu – Great Wide North maks...   \n",
       "1  YK:n pääsihteeri: Tieto Israelin iskusta Syyri...   \n",
       "2     AIK kuritti Rögleä - Pirnes kahmi tehopisteitä   \n",
       "3     Polkupyörällä Islannissa: kirja lähtee painoon   \n",
       "4  TPS:n oljenkorsi ei katkennut - 36 pistettä yh...   \n",
       "\n",
       "                                                body  \\\n",
       "0   Great Wide North sai toisessa semifinaalissa ...   \n",
       "1   Ban Ki-moon kehottaa Lähi-idän kaikki valtioi...   \n",
       "2   Esa Pirnes oli tehokkaalla pelipäällä Elitser...   \n",
       "3   On taas se aika vuodesta, kun olo on melko ep...   \n",
       "4   TPS säilytti SaiPasta otetun 3-1-voiton ansio...   \n",
       "\n",
       "                                            subjects  \n",
       "0  [kulttuuri, musiikki, viihde, uuden musiikin k...  \n",
       "1  [ulkomaat, yhdistyneiden kansakuntien pääsihte...  \n",
       "2  [urheilu, jääkiekko, aik if, svenska hockeylig...  \n",
       "3  [matkakertomukset, matkakirjallisuus (kaunokir...  \n",
       "4  [urheilu, jääkiekon miesten sm-liiga, jääkiekk...  "
      ],
      "text/html": "<div>\n<style scoped>\n    .dataframe tbody tr th:only-of-type {\n        vertical-align: middle;\n    }\n\n    .dataframe tbody tr th {\n        vertical-align: top;\n    }\n\n    .dataframe thead th {\n        text-align: right;\n    }\n</style>\n<table border=\"1\" class=\"dataframe\">\n  <thead>\n    <tr style=\"text-align: right;\">\n      <th></th>\n      <th>id</th>\n      <th>date</th>\n      <th>title</th>\n      <th>body</th>\n      <th>subjects</th>\n    </tr>\n  </thead>\n  <tbody>\n    <tr>\n      <th>0</th>\n      <td>3-6475540</td>\n      <td>2013-01-31T22:53:33+0200</td>\n      <td>UMK-finalistit valittu – Great Wide North maks...</td>\n      <td>Great Wide North sai toisessa semifinaalissa ...</td>\n      <td>[kulttuuri, musiikki, viihde, uuden musiikin k...</td>\n    </tr>\n    <tr>\n      <th>1</th>\n      <td>3-6475536</td>\n      <td>2013-01-31T22:53:15+0200</td>\n      <td>YK:n pääsihteeri: Tieto Israelin iskusta Syyri...</td>\n      <td>Ban Ki-moon kehottaa Lähi-idän kaikki valtioi...</td>\n      <td>[ulkomaat, yhdistyneiden kansakuntien pääsihte...</td>\n    </tr>\n    <tr>\n      <th>2</th>\n      <td>3-6475539</td>\n      <td>2013-01-31T22:53:04+0200</td>\n      <td>AIK kuritti Rögleä - Pirnes kahmi tehopisteitä</td>\n      <td>Esa Pirnes oli tehokkaalla pelipäällä Elitser...</td>\n      <td>[urheilu, jääkiekko, aik if, svenska hockeylig...</td>\n    </tr>\n    <tr>\n      <th>3</th>\n      <td>20-162900</td>\n      <td>2013-01-31T22:43:34+0200</td>\n      <td>Polkupyörällä Islannissa: kirja lähtee painoon</td>\n      <td>On taas se aika vuodesta, kun olo on melko ep...</td>\n      <td>[matkakertomukset, matkakirjallisuus (kaunokir...</td>\n    </tr>\n    <tr>\n      <th>4</th>\n      <td>3-6475529</td>\n      <td>2013-01-31T22:38:24+0200</td>\n      <td>TPS:n oljenkorsi ei katkennut - 36 pistettä yh...</td>\n      <td>TPS säilytti SaiPasta otetun 3-1-voiton ansio...</td>\n      <td>[urheilu, jääkiekon miesten sm-liiga, jääkiekk...</td>\n    </tr>\n  </tbody>\n</table>\n</div>"
     },
     "metadata": {},
     "execution_count": 10
    }
   ],
   "source": [
    "df.head()"
   ]
  },
  {
   "cell_type": "code",
   "execution_count": 11,
   "metadata": {},
   "outputs": [],
   "source": [
    "def create_subjects_dict(subjects_list):\n",
    "    # subjects = subjects_list.apply(lambda x: list(chain.from_iterable(i.lower().split(' ') for i in x)))\n",
    "    \n",
    "    # subjects = list(chain.from_iterable(item.lower().split(' ') for block in subjects_list for item in block))\n",
    "    # print(subjects[0])\n",
    "    total = subjects_list.apply(len).sum()\n",
    "    print(total)\n",
    "    subject_dict = Dictionary(subjects_list)\n",
    "\n",
    "    return subject_dict"
   ]
  },
  {
   "cell_type": "code",
   "execution_count": 12,
   "metadata": {},
   "outputs": [
    {
     "output_type": "stream",
     "name": "stdout",
     "text": [
      "9771037\n"
     ]
    }
   ],
   "source": [
    "sub_dict = create_subjects_dict(df['subjects'])"
   ]
  },
  {
   "cell_type": "code",
   "execution_count": 13,
   "metadata": {},
   "outputs": [],
   "source": [
    "def count_subjects(sub_dict):\n",
    "\n",
    "    dict_freq = {}\n",
    "\n",
    "    for i, word in enumerate(sub_dict):\n",
    "        dict_freq[sub_dict[i]] = sub_dict.cfs[i]\n",
    "\n",
    "    count = 0\n",
    "    for k in sorted(dict_freq, key=dict_freq.get, reverse=True):\n",
    "        print(k, dict_freq[k])\n",
    "        count  += 1\n",
    "        if dict_freq[k] <= 200:\n",
    "            break\n",
    "\n",
    "    print(count)"
   ]
  },
  {
   "cell_type": "code",
   "execution_count": 14,
   "metadata": {},
   "outputs": [],
   "source": [
    "# generate distinct groups for testing the hypothesis\n",
    "def extract_categories(df, cats):\n",
    "    clusters = []\n",
    "    \n",
    "    for cat in cats:\n",
    "        is_cat = df['subjects'].apply(lambda x: (cat in x))\n",
    "        df_filtered = df[is_cat].copy()\n",
    "        df_filtered['category'] = cat\n",
    "        clusters.append(df_filtered)\n",
    "        \n",
    "    df_merged = pd.concat(clusters, ignore_index=True)\n",
    "    \n",
    "    return df_merged"
   ]
  },
  {
   "cell_type": "code",
   "execution_count": 15,
   "metadata": {},
   "outputs": [],
   "source": [
    "cat_list = ['autot', 'musiikki', 'luonto', 'vaalit', 'taudit', 'työllisyys', 'jääkiekko', 'kulttuuri', 'rikokset', 'koulut', 'tulipalot', 'ruoat']\n",
    "df_cat = extract_categories(df, cats=cat_list)"
   ]
  },
  {
   "cell_type": "code",
   "execution_count": 16,
   "metadata": {},
   "outputs": [
    {
     "output_type": "execute_result",
     "data": {
      "text/plain": [
       "          id                      date  \\\n",
       "0  3-6475275  2013-01-31T16:59:42+0200   \n",
       "1  3-6475075  2013-01-31T16:02:43+0200   \n",
       "2  3-6474561  2013-01-31T13:24:08+0200   \n",
       "3  3-6474214  2013-01-31T10:54:11+0200   \n",
       "4  3-6474222  2013-01-31T10:54:01+0200   \n",
       "\n",
       "                                               title  \\\n",
       "0                               Aika kallis Volkkari   \n",
       "1  Kuopion koruryöstäjille kymmenien tuhansien sa...   \n",
       "2             Nuori nainen kuoli kolarissa Virroilla   \n",
       "3                     Autoasentajat kurssikierteessä   \n",
       "4                   12 kertaa kiinni kortitta ajosta   \n",
       "\n",
       "                                                body  \\\n",
       "0   Vuonna 1973 autonvalmistaja Volkswagen oli kr...   \n",
       "1   Poliisi kaipaa edelleen havaintoja keskiviikk...   \n",
       "2   Etelä-Pohjanmaalla asuva nuori nainen menehty...   \n",
       "3   Kun auton polttimonvaihto vie alan korjaamoll...   \n",
       "4   Kokemäellä autoillut mies jäi keskiviikkona k...   \n",
       "\n",
       "                                            subjects category  \n",
       "0  [tekniikka, ulkomaat, liikenne, vw passat, vol...    autot  \n",
       "1  [kotimaan uutiset, ryöstö, varallisuusrikokset...    autot  \n",
       "2  [virrat, räntä, liikenneonnettomuudet, henkilö...    autot  \n",
       "3  [kotimaan uutiset, tekniikka, tuulilasinpesin,...    autot  \n",
       "4  [ajokortitta ajaminen, kokemäki, liikennerikko...    autot  "
      ],
      "text/html": "<div>\n<style scoped>\n    .dataframe tbody tr th:only-of-type {\n        vertical-align: middle;\n    }\n\n    .dataframe tbody tr th {\n        vertical-align: top;\n    }\n\n    .dataframe thead th {\n        text-align: right;\n    }\n</style>\n<table border=\"1\" class=\"dataframe\">\n  <thead>\n    <tr style=\"text-align: right;\">\n      <th></th>\n      <th>id</th>\n      <th>date</th>\n      <th>title</th>\n      <th>body</th>\n      <th>subjects</th>\n      <th>category</th>\n    </tr>\n  </thead>\n  <tbody>\n    <tr>\n      <th>0</th>\n      <td>3-6475275</td>\n      <td>2013-01-31T16:59:42+0200</td>\n      <td>Aika kallis Volkkari</td>\n      <td>Vuonna 1973 autonvalmistaja Volkswagen oli kr...</td>\n      <td>[tekniikka, ulkomaat, liikenne, vw passat, vol...</td>\n      <td>autot</td>\n    </tr>\n    <tr>\n      <th>1</th>\n      <td>3-6475075</td>\n      <td>2013-01-31T16:02:43+0200</td>\n      <td>Kuopion koruryöstäjille kymmenien tuhansien sa...</td>\n      <td>Poliisi kaipaa edelleen havaintoja keskiviikk...</td>\n      <td>[kotimaan uutiset, ryöstö, varallisuusrikokset...</td>\n      <td>autot</td>\n    </tr>\n    <tr>\n      <th>2</th>\n      <td>3-6474561</td>\n      <td>2013-01-31T13:24:08+0200</td>\n      <td>Nuori nainen kuoli kolarissa Virroilla</td>\n      <td>Etelä-Pohjanmaalla asuva nuori nainen menehty...</td>\n      <td>[virrat, räntä, liikenneonnettomuudet, henkilö...</td>\n      <td>autot</td>\n    </tr>\n    <tr>\n      <th>3</th>\n      <td>3-6474214</td>\n      <td>2013-01-31T10:54:11+0200</td>\n      <td>Autoasentajat kurssikierteessä</td>\n      <td>Kun auton polttimonvaihto vie alan korjaamoll...</td>\n      <td>[kotimaan uutiset, tekniikka, tuulilasinpesin,...</td>\n      <td>autot</td>\n    </tr>\n    <tr>\n      <th>4</th>\n      <td>3-6474222</td>\n      <td>2013-01-31T10:54:01+0200</td>\n      <td>12 kertaa kiinni kortitta ajosta</td>\n      <td>Kokemäellä autoillut mies jäi keskiviikkona k...</td>\n      <td>[ajokortitta ajaminen, kokemäki, liikennerikko...</td>\n      <td>autot</td>\n    </tr>\n  </tbody>\n</table>\n</div>"
     },
     "metadata": {},
     "execution_count": 16
    }
   ],
   "source": [
    "df_cat.head()"
   ]
  },
  {
   "cell_type": "code",
   "execution_count": 17,
   "metadata": {},
   "outputs": [
    {
     "output_type": "stream",
     "name": "stdout",
     "text": [
      "<class 'pandas.core.frame.DataFrame'>\nRangeIndex: 222779 entries, 0 to 222778\nData columns (total 6 columns):\n #   Column    Non-Null Count   Dtype \n---  ------    --------------   ----- \n 0   id        222779 non-null  object\n 1   date      222779 non-null  object\n 2   title     222779 non-null  object\n 3   body      222779 non-null  object\n 4   subjects  222779 non-null  object\n 5   category  222779 non-null  object\ndtypes: object(6)\nmemory usage: 10.2+ MB\n"
     ]
    }
   ],
   "source": [
    "df_cat.info()"
   ]
  },
  {
   "cell_type": "code",
   "execution_count": null,
   "metadata": {},
   "outputs": [],
   "source": [
    "df_cat.to_json('data/dev/cluster_12_cats.json')"
   ]
  }
 ],
 "metadata": {
  "kernelspec": {
   "name": "python3",
   "display_name": "Python 3.7.5 64-bit ('base': conda)"
  },
  "language_info": {
   "codemirror_mode": {
    "name": "ipython",
    "version": 3
   },
   "file_extension": ".py",
   "mimetype": "text/x-python",
   "name": "python",
   "nbconvert_exporter": "python",
   "pygments_lexer": "ipython3",
   "version": "3.7.5"
  },
  "interpreter": {
   "hash": "822e03a259ee26036b07c301b62192b42e51b9d09794aaca6c03133fdddfeb3f"
  }
 },
 "nbformat": 4,
 "nbformat_minor": 4
}