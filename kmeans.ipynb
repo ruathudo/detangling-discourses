{
 "metadata": {
  "language_info": {
   "codemirror_mode": {
    "name": "ipython",
    "version": 3
   },
   "file_extension": ".py",
   "mimetype": "text/x-python",
   "name": "python",
   "nbconvert_exporter": "python",
   "pygments_lexer": "ipython3",
   "version": "3.7.5"
  },
  "orig_nbformat": 4,
  "kernelspec": {
   "name": "python3",
   "display_name": "Python 3.7.5 64-bit ('base': conda)"
  },
  "interpreter": {
   "hash": "822e03a259ee26036b07c301b62192b42e51b9d09794aaca6c03133fdddfeb3f"
  }
 },
 "nbformat": 4,
 "nbformat_minor": 2,
 "cells": [
  {
   "cell_type": "code",
   "execution_count": 1,
   "metadata": {},
   "outputs": [],
   "source": [
    "import os\n",
    "import time\n",
    "import pickle\n",
    "import pandas as pd\n",
    "import numpy as np\n",
    "import datetime\n",
    "\n",
    "from gensim.utils import simple_preprocess, tokenize\n",
    "from gensim.summarization.textcleaner import split_sentences\n",
    "from gensim.parsing import preprocessing\n",
    "from gensim.models import Doc2Vec\n",
    "from gensim.corpora import Dictionary\n",
    "\n",
    "from sklearn.cluster import KMeans\n",
    "\n",
    "from tqdm import tqdm\n",
    "\n",
    "import matplotlib.pyplot as plt\n",
    "from multiprocessing import cpu_count\n",
    "\n",
    "%matplotlib inline"
   ]
  },
  {
   "cell_type": "code",
   "execution_count": 3,
   "metadata": {},
   "outputs": [],
   "source": [
    "df = pd.read_json('data/dev/cluster_12_cats_index.json')"
   ]
  },
  {
   "cell_type": "code",
   "execution_count": 5,
   "metadata": {},
   "outputs": [],
   "source": [
    "doc_vecs = pickle.load(open(\"data/prod/doc_vecs.pkl\", \"rb\"))"
   ]
  },
  {
   "cell_type": "code",
   "execution_count": 6,
   "metadata": {},
   "outputs": [],
   "source": [
    "dataset = pickle.load(open(\"data/prod/dataset_2_docs.pkl\", \"rb\"))"
   ]
  },
  {
   "cell_type": "code",
   "execution_count": 7,
   "metadata": {},
   "outputs": [],
   "source": [
    "def get_doc_vecs(doc_vecs, df, ids):\n",
    "    df2 = df.reset_index()\n",
    "    df2 = df2.set_index('id')\n",
    "\n",
    "    indexes = df2.loc[ids, 'index'].tolist()\n",
    "    # print(len(indexes))\n",
    "    vecs = doc_vecs[indexes]\n",
    "    \n",
    "    return vecs\n",
    "\n",
    "\n",
    "def kmean_cluster(doc_vecs, df, samples, n_clusters=20):\n",
    "    models = []\n",
    "    \n",
    "    for i, sample in tqdm(enumerate(samples)):\n",
    "        #sample.reset_index(inplace=True, drop=True)\n",
    "        vecs = get_doc_vecs(doc_vecs, df, sample['id'])\n",
    "        \n",
    "        model = KMeans(n_clusters=n_clusters, random_state=2).fit(vecs)\n",
    "        models.append(model)\n",
    "        \n",
    "    return models"
   ]
  },
  {
   "cell_type": "code",
   "execution_count": null,
   "metadata": {},
   "outputs": [],
   "source": [
    "models = kmean_cluster(doc_vecs, df, dataset, n_clusters=20)"
   ]
  },
  {
   "cell_type": "code",
   "execution_count": null,
   "metadata": {},
   "outputs": [],
   "source": [
    "pickle.dump(models, open('data/prod/kmean_1k_models.pkl', 'wb'))"
   ]
  }
 ]
}