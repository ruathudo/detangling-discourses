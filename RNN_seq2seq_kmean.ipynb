{
 "cells": [
  {
   "cell_type": "code",
   "execution_count": 1,
   "metadata": {},
   "outputs": [
    {
     "name": "stdout",
     "output_type": "stream",
     "text": [
      "cuda\n"
     ]
    }
   ],
   "source": [
    "import os\n",
    "import time\n",
    "import pickle\n",
    "import pandas as pd\n",
    "import numpy as np\n",
    "\n",
    "\n",
    "import torch\n",
    "import torch.nn as nn\n",
    "from torch.optim import Adam\n",
    "from torch.utils.data import DataLoader, Dataset\n",
    "import torch.nn.functional as F\n",
    "\n",
    "from gensim.utils import simple_preprocess, tokenize\n",
    "from gensim.summarization.textcleaner import split_sentences\n",
    "from gensim.parsing import preprocessing\n",
    "from gensim.models import Doc2Vec\n",
    "from gensim.corpora import Dictionary\n",
    "\n",
    "\n",
    "from sklearn.metrics import precision_recall_fscore_support, confusion_matrix, classification_report, f1_score\n",
    "from sklearn.model_selection import train_test_split\n",
    "\n",
    "from sklearn.cluster import KMeans\n",
    "from sklearn import metrics # silhouette\n",
    "from sklearn.preprocessing import minmax_scale\n",
    "\n",
    "import matplotlib.pyplot as plt\n",
    "from multiprocessing import cpu_count\n",
    "\n",
    "from imblearn.over_sampling import RandomOverSampler\n",
    "from imblearn.under_sampling import RandomUnderSampler\n",
    "\n",
    "import ruptures as rpt\n",
    "from ruptures.metrics import hausdorff, randindex\n",
    "\n",
    "from tqdm import tqdm\n",
    "\n",
    "# pd.set_option('display.max_colwidth',1000)\n",
    "\n",
    "device = torch.device(\"cuda\" if torch.cuda.is_available() else \"cpu\")\n",
    "\n",
    "print(device)\n",
    "\n",
    "%matplotlib inline"
   ]
  },
  {
   "cell_type": "code",
   "execution_count": 2,
   "metadata": {},
   "outputs": [],
   "source": [
    "df = pd.read_json('data/dev/cluster_12_cats_index.json')"
   ]
  },
  {
   "cell_type": "code",
   "execution_count": 3,
   "metadata": {},
   "outputs": [
    {
     "data": {
      "text/html": [
       "<div>\n",
       "<style scoped>\n",
       "    .dataframe tbody tr th:only-of-type {\n",
       "        vertical-align: middle;\n",
       "    }\n",
       "\n",
       "    .dataframe tbody tr th {\n",
       "        vertical-align: top;\n",
       "    }\n",
       "\n",
       "    .dataframe thead th {\n",
       "        text-align: right;\n",
       "    }\n",
       "</style>\n",
       "<table border=\"1\" class=\"dataframe\">\n",
       "  <thead>\n",
       "    <tr style=\"text-align: right;\">\n",
       "      <th></th>\n",
       "      <th>id</th>\n",
       "      <th>date</th>\n",
       "      <th>category</th>\n",
       "    </tr>\n",
       "  </thead>\n",
       "  <tbody>\n",
       "    <tr>\n",
       "      <th>0</th>\n",
       "      <td>3-6475275</td>\n",
       "      <td>2013-01-31T16:59:42+0200</td>\n",
       "      <td>autot</td>\n",
       "    </tr>\n",
       "    <tr>\n",
       "      <th>1</th>\n",
       "      <td>3-6475075</td>\n",
       "      <td>2013-01-31T16:02:43+0200</td>\n",
       "      <td>autot</td>\n",
       "    </tr>\n",
       "    <tr>\n",
       "      <th>2</th>\n",
       "      <td>3-6474561</td>\n",
       "      <td>2013-01-31T13:24:08+0200</td>\n",
       "      <td>autot</td>\n",
       "    </tr>\n",
       "    <tr>\n",
       "      <th>3</th>\n",
       "      <td>3-6474214</td>\n",
       "      <td>2013-01-31T10:54:11+0200</td>\n",
       "      <td>autot</td>\n",
       "    </tr>\n",
       "    <tr>\n",
       "      <th>4</th>\n",
       "      <td>3-6474222</td>\n",
       "      <td>2013-01-31T10:54:01+0200</td>\n",
       "      <td>autot</td>\n",
       "    </tr>\n",
       "  </tbody>\n",
       "</table>\n",
       "</div>"
      ],
      "text/plain": [
       "          id                      date category\n",
       "0  3-6475275  2013-01-31T16:59:42+0200    autot\n",
       "1  3-6475075  2013-01-31T16:02:43+0200    autot\n",
       "2  3-6474561  2013-01-31T13:24:08+0200    autot\n",
       "3  3-6474214  2013-01-31T10:54:11+0200    autot\n",
       "4  3-6474222  2013-01-31T10:54:01+0200    autot"
      ]
     },
     "execution_count": 3,
     "metadata": {},
     "output_type": "execute_result"
    }
   ],
   "source": [
    "df.head()"
   ]
  },
  {
   "cell_type": "code",
   "execution_count": 3,
   "metadata": {},
   "outputs": [],
   "source": [
    "# df.drop(['title', 'body', 'subjects', 'date'], axis=1, inplace=True)"
   ]
  },
  {
   "cell_type": "code",
   "execution_count": 4,
   "metadata": {},
   "outputs": [],
   "source": [
    "# df.to_json('data/dev/cluster_12_cats_index.json')"
   ]
  },
  {
   "cell_type": "code",
   "execution_count": 4,
   "metadata": {},
   "outputs": [],
   "source": [
    "doc_vecs = pickle.load(open(\"data/dev/doc_vecs.pkl\", \"rb\"))"
   ]
  },
  {
   "cell_type": "code",
   "execution_count": 57,
   "metadata": {
    "code_folding": []
   },
   "outputs": [],
   "source": [
    "def get_clusters(labels, df, ids):\n",
    "    df2 = df.reset_index()\n",
    "    df2 = df2.set_index('id')\n",
    "\n",
    "    indexes = df2.loc[ids, 'index'].tolist()\n",
    "    \n",
    "    clusters = labels[indexes]\n",
    "    \n",
    "    return clusters\n",
    "    \n",
    "\n",
    "def visualize_trending(df):\n",
    "#     target = df[df['target'] == True]\n",
    "#     noise = df[df['target'] == False]\n",
    "#     t_group = target.groupby(['time'])['id'].count()\n",
    "#     n_group = noise.groupby(['category'])\n",
    "    \n",
    "    fig, ax = plt.subplots(figsize=(20, 10))\n",
    "    # ax.plot(t_group.index, t_group.values, label='target')\n",
    "    \n",
    "    for name, group in df.groupby(['category']):\n",
    "        g = group.groupby(['time'])['id'].count()\n",
    "        ax.plot(g.index, g.values, label=name)\n",
    "    \n",
    "    ax.set(xlabel='time', ylabel='Numbers')\n",
    "    ax.legend()\n",
    "    ax.grid()\n",
    "\n",
    "    plt.show()\n",
    "    \n",
    "def get_target(df):\n",
    "    target = df[df['event'] != 'noise']['category'].iloc[0]\n",
    "    return target\n",
    "\n",
    "def get_cluster_change(clusters, sample, target, event, timeline=100):\n",
    "    sample['cluster'] = clusters\n",
    "    n_cluster = sample['cluster'].nunique()\n",
    "    changes = []\n",
    "    \n",
    "    for g, cluster in sample.groupby('cluster'):\n",
    "        # count and sort by timeline\n",
    "        counts = cluster['time'].value_counts().sort_index()\n",
    "        if len(counts) < timeline:\n",
    "            miss_times = list(set(range(timeline)).difference(counts.index))\n",
    "            fill_values = pd.Series(np.zeros(len(miss_times)), index=miss_times)\n",
    "            counts = counts.append(fill_values)\n",
    "            counts = counts.sort_index()\n",
    "            \n",
    "        # print(cluster['time'].nunique())\n",
    "        class_count = cluster['category'].value_counts(normalize=True)\n",
    "        maj_class = class_count.index[0]\n",
    "        maj_percent = class_count[0]\n",
    "        # diff = times.diff().fillna(0)\n",
    "        # print(class_count[0])\n",
    "        is_target = (maj_class == target) and maj_percent > 0.5\n",
    "        p = event['pivots'] if is_target else []\n",
    "        e = event['event'] if is_target else 'noise'\n",
    "        \n",
    "        changes.append((counts.values, is_target, maj_class, e, p))\n",
    "        \n",
    "    return changes\n",
    "\n",
    "\n",
    "# def get_cluster_change(clusters, sample, target, event, timeline=100):\n",
    "#     # sample['cluster'] = clusters\n",
    "#     changes = []\n",
    "    \n",
    "#     for i, ids in enumerate(clusters):\n",
    "#         cluster = sample.iloc[ids]\n",
    "#         # count and sort by timeline\n",
    "#         counts = cluster['time'].value_counts().sort_index()\n",
    "        \n",
    "#         if len(counts) < timeline:\n",
    "#             miss_times = list(set(range(timeline)).difference(counts.index))\n",
    "#             fill_values = pd.Series(np.zeros(len(miss_times)), index=miss_times)\n",
    "#             counts = counts.append(fill_values)\n",
    "#             counts = counts.sort_index()\n",
    "            \n",
    "#         # print(cluster['time'].nunique())\n",
    "#         class_count = cluster['category'].value_counts(normalize=True)\n",
    "#         maj_class = class_count.index[0]\n",
    "#         maj_percent = class_count[0]\n",
    "#         # diff = times.diff().fillna(0)\n",
    "#         # print(class_count[0])\n",
    "#         is_target = (maj_class == target) # and maj_percent > 0.5\n",
    "        \n",
    "#         p = event['pivots'] if is_target else []\n",
    "#         e = event['event'] if is_target else 'noise'\n",
    "        \n",
    "#         changes.append((counts.values, is_target, maj_class, e, p))\n",
    "        \n",
    "#     return changes\n",
    "\n",
    "\n",
    "def get_doc_vecs(doc_vecs, df, ids):\n",
    "    df2 = df.reset_index()\n",
    "    df2 = df2.set_index('id')\n",
    "\n",
    "    indexes = df2.loc[ids, 'index'].tolist()\n",
    "    # print(len(indexes))\n",
    "    vecs = doc_vecs[indexes]\n",
    "    \n",
    "    return vecs\n",
    "\n",
    "\n",
    "def kmean_cluster(doc_vecs, df, n_sample, n_clusters=20):\n",
    "    models = []\n",
    "    \n",
    "    for i in tqdm(range(n_sample)):\n",
    "        sample = pd.read_json('data/dev/samples/sample_' + str(i) + '.json')\n",
    "        sample.reset_index(inplace=True, drop=True)\n",
    "        vecs = get_doc_vecs(doc_vecs, df, sample['id'])\n",
    "        \n",
    "        model = KMeans(n_clusters=n_clusters, random_state=12).fit(vecs)\n",
    "        models.append(model)\n",
    "        \n",
    "    return models"
   ]
  },
  {
   "cell_type": "code",
   "execution_count": 7,
   "metadata": {},
   "outputs": [],
   "source": [
    "#models = kmean_cluster(doc_vecs, df, 2000, n_clusters=20)"
   ]
  },
  {
   "cell_type": "code",
   "execution_count": 8,
   "metadata": {},
   "outputs": [],
   "source": [
    "#pickle.dump(models, open('data/dev/kmean_2k_models.pkl', 'wb'))"
   ]
  },
  {
   "cell_type": "code",
   "execution_count": 6,
   "metadata": {},
   "outputs": [],
   "source": [
    "dataset = pickle.load(open(\"data/dev/sample_7_patterns.pkl\", \"rb\"))"
   ]
  },
  {
   "cell_type": "code",
   "execution_count": 7,
   "metadata": {},
   "outputs": [],
   "source": [
    "tracker = pd.read_pickle('data/dev/tracker_7_patterns.pkl')"
   ]
  },
  {
   "cell_type": "code",
   "execution_count": 96,
   "metadata": {},
   "outputs": [
    {
     "data": {
      "text/html": [
       "<div>\n",
       "<style scoped>\n",
       "    .dataframe tbody tr th:only-of-type {\n",
       "        vertical-align: middle;\n",
       "    }\n",
       "\n",
       "    .dataframe tbody tr th {\n",
       "        vertical-align: top;\n",
       "    }\n",
       "\n",
       "    .dataframe thead th {\n",
       "        text-align: right;\n",
       "    }\n",
       "</style>\n",
       "<table border=\"1\" class=\"dataframe\">\n",
       "  <thead>\n",
       "    <tr style=\"text-align: right;\">\n",
       "      <th></th>\n",
       "      <th>id</th>\n",
       "      <th>category</th>\n",
       "      <th>time</th>\n",
       "    </tr>\n",
       "  </thead>\n",
       "  <tbody>\n",
       "    <tr>\n",
       "      <th>6351</th>\n",
       "      <td>3-5359493</td>\n",
       "      <td>jääkiekko</td>\n",
       "      <td>0</td>\n",
       "    </tr>\n",
       "    <tr>\n",
       "      <th>632</th>\n",
       "      <td>3-6966327</td>\n",
       "      <td>jääkiekko</td>\n",
       "      <td>91</td>\n",
       "    </tr>\n",
       "    <tr>\n",
       "      <th>4086</th>\n",
       "      <td>3-7849371</td>\n",
       "      <td>jääkiekko</td>\n",
       "      <td>63</td>\n",
       "    </tr>\n",
       "    <tr>\n",
       "      <th>6621</th>\n",
       "      <td>3-9533398</td>\n",
       "      <td>jääkiekko</td>\n",
       "      <td>11</td>\n",
       "    </tr>\n",
       "    <tr>\n",
       "      <th>2639</th>\n",
       "      <td>3-7098091</td>\n",
       "      <td>jääkiekko</td>\n",
       "      <td>67</td>\n",
       "    </tr>\n",
       "  </tbody>\n",
       "</table>\n",
       "</div>"
      ],
      "text/plain": [
       "             id   category  time\n",
       "6351  3-5359493  jääkiekko     0\n",
       "632   3-6966327  jääkiekko    91\n",
       "4086  3-7849371  jääkiekko    63\n",
       "6621  3-9533398  jääkiekko    11\n",
       "2639  3-7098091  jääkiekko    67"
      ]
     },
     "execution_count": 96,
     "metadata": {},
     "output_type": "execute_result"
    }
   ],
   "source": [
    "dataset[1].sample(5)"
   ]
  },
  {
   "cell_type": "code",
   "execution_count": 5,
   "metadata": {},
   "outputs": [
    {
     "data": {
      "text/html": [
       "<div>\n",
       "<style scoped>\n",
       "    .dataframe tbody tr th:only-of-type {\n",
       "        vertical-align: middle;\n",
       "    }\n",
       "\n",
       "    .dataframe tbody tr th {\n",
       "        vertical-align: top;\n",
       "    }\n",
       "\n",
       "    .dataframe thead th {\n",
       "        text-align: right;\n",
       "    }\n",
       "</style>\n",
       "<table border=\"1\" class=\"dataframe\">\n",
       "  <thead>\n",
       "    <tr style=\"text-align: right;\">\n",
       "      <th></th>\n",
       "      <th>category</th>\n",
       "      <th>event</th>\n",
       "      <th>pivots</th>\n",
       "    </tr>\n",
       "  </thead>\n",
       "  <tbody>\n",
       "    <tr>\n",
       "      <th>0</th>\n",
       "      <td>vaalit</td>\n",
       "      <td>noise</td>\n",
       "      <td>[]</td>\n",
       "    </tr>\n",
       "    <tr>\n",
       "      <th>1</th>\n",
       "      <td>jääkiekko</td>\n",
       "      <td>down_up</td>\n",
       "      <td>[11, 41, 72]</td>\n",
       "    </tr>\n",
       "    <tr>\n",
       "      <th>2</th>\n",
       "      <td>tulipalot</td>\n",
       "      <td>complex</td>\n",
       "      <td>[20, 40, 70]</td>\n",
       "    </tr>\n",
       "    <tr>\n",
       "      <th>3</th>\n",
       "      <td>vaalit</td>\n",
       "      <td>noise</td>\n",
       "      <td>[]</td>\n",
       "    </tr>\n",
       "    <tr>\n",
       "      <th>4</th>\n",
       "      <td>rikokset</td>\n",
       "      <td>up</td>\n",
       "      <td>[26, 96]</td>\n",
       "    </tr>\n",
       "  </tbody>\n",
       "</table>\n",
       "</div>"
      ],
      "text/plain": [
       "    category    event        pivots\n",
       "0     vaalit    noise            []\n",
       "1  jääkiekko  down_up  [11, 41, 72]\n",
       "2  tulipalot  complex  [20, 40, 70]\n",
       "3     vaalit    noise            []\n",
       "4   rikokset       up      [26, 96]"
      ]
     },
     "execution_count": 5,
     "metadata": {},
     "output_type": "execute_result"
    }
   ],
   "source": [
    "tracker.head()"
   ]
  },
  {
   "cell_type": "code",
   "execution_count": 9,
   "metadata": {},
   "outputs": [],
   "source": [
    "kmeans = pickle.load(open('data/dev/kmean_2k_models.pkl', 'rb'))"
   ]
  },
  {
   "cell_type": "code",
   "execution_count": 9,
   "metadata": {},
   "outputs": [],
   "source": [
    "# dataset = pickle.load(open(\"data/dev/dataset_1_event.pkl\", \"rb\"))"
   ]
  },
  {
   "cell_type": "code",
   "execution_count": 95,
   "metadata": {},
   "outputs": [],
   "source": [
    "# %%time\n",
    "# clutering = AffinityPropagation(random_state=12).fit(sample_vecs)\n",
    "# clutering = KMeans(n_clusters=12, random_state=12).fit(sample_vecs)\n",
    "# clustering = KMeans(n_clusters=20, random_state=12).fit(doc_vecs)"
   ]
  },
  {
   "cell_type": "code",
   "execution_count": 41,
   "metadata": {
    "code_folding": [
     20
    ]
   },
   "outputs": [],
   "source": [
    "def get_cluster_freq_change(kmeans, samples, tracker, offset=0):\n",
    "    \n",
    "    all_changes = []\n",
    "    \n",
    "    for i, sample in enumerate(tqdm(samples)):\n",
    "        #sample = pd.read_json('data/dev/samples/sample_' + str(i) + '.json')\n",
    "        sample.reset_index(inplace=True, drop=True)\n",
    "        #sample_vecs = get_doc_vecs(doc_vecs, df, sample['id'])\n",
    "        target = get_target(sample)\n",
    "        model = kmeans[i+offset]\n",
    "        clusters = model.labels_ #get_clusters(model.labels_, df, sample['id'])\n",
    "        events = tracker.iloc[i]\n",
    "        freq_change = get_cluster_change(clusters, sample, target, events)\n",
    "        \n",
    "        all_changes += freq_change\n",
    "    \n",
    "    return all_changes\n",
    "\n",
    "def get_freq_change(samples, tracker):\n",
    "    \n",
    "    changes = []\n",
    "    \n",
    "    for i, sample in enumerate(tqdm(samples)):\n",
    "        event = tracker.iloc[i]\n",
    "        counts = sample['time'].value_counts().sort_index()\n",
    "        # print(class_count[0])\n",
    "#         p = event['pivots']\n",
    "#         e = event['event'] if is_target else 'noise'\n",
    "        \n",
    "        changes.append((counts.values, event['pivots']))\n",
    "        \n",
    "    return changes\n",
    "    \n",
    "\n",
    "def scale_x(X):\n",
    "    X = X + 1\n",
    "    return X / X[:, 0][:, None]"
   ]
  },
  {
   "cell_type": "code",
   "execution_count": null,
   "metadata": {},
   "outputs": [],
   "source": [
    "# sample = dataset[0]"
   ]
  },
  {
   "cell_type": "code",
   "execution_count": null,
   "metadata": {},
   "outputs": [],
   "source": [
    "# target = get_target(sample)\n",
    "# clusters = get_clusters(clustering.labels_, df, sample['id'])\n",
    "# changes = get_cluster_change(clusters, sample, target)"
   ]
  },
  {
   "cell_type": "code",
   "execution_count": 12,
   "metadata": {},
   "outputs": [],
   "source": []
  },
  {
   "cell_type": "code",
   "execution_count": 13,
   "metadata": {},
   "outputs": [],
   "source": [
    "# train_samples = dataset[200:]\n",
    "# test_samples = dataset[:200]"
   ]
  },
  {
   "cell_type": "code",
   "execution_count": 11,
   "metadata": {},
   "outputs": [
    {
     "name": "stderr",
     "output_type": "stream",
     "text": [
      "100%|██████████| 2000/2000 [00:01<00:00, 1325.13it/s]\n"
     ]
    }
   ],
   "source": [
    "train_data = get_freq_change(dataset, tracker)"
   ]
  },
  {
   "cell_type": "code",
   "execution_count": 98,
   "metadata": {},
   "outputs": [],
   "source": [
    "# test_data = get_all_freq_change(clustering, df, test_samples, pivot_data.iloc[:200])"
   ]
  },
  {
   "cell_type": "code",
   "execution_count": 12,
   "metadata": {},
   "outputs": [
    {
     "data": {
      "text/plain": [
       "(array([76, 78, 77, 77, 78, 76, 76, 78, 78, 77, 77, 78, 77, 78, 78, 77, 73,\n",
       "        77, 77, 77, 76, 78, 78, 78, 76, 78, 78, 78, 77, 77, 76, 78, 78, 78,\n",
       "        78, 76, 78, 78, 77, 77, 78, 78, 77, 76, 78, 78, 77, 77, 78, 76, 77,\n",
       "        77, 77, 78, 75, 78, 77, 77, 77, 76, 77, 77, 78, 77, 77, 78, 76, 76,\n",
       "        78, 78, 76, 77, 77, 78, 78, 74, 78, 75, 78, 77, 78, 78, 78, 78, 78,\n",
       "        78, 76, 78, 77, 77, 78, 78, 78, 78, 77, 78, 76, 78, 78, 77]),\n",
       " array([], dtype=int64))"
      ]
     },
     "execution_count": 12,
     "metadata": {},
     "output_type": "execute_result"
    }
   ],
   "source": [
    "train_data[0]"
   ]
  },
  {
   "cell_type": "code",
   "execution_count": 17,
   "metadata": {},
   "outputs": [
    {
     "data": {
      "text/html": [
       "<div>\n",
       "<style scoped>\n",
       "    .dataframe tbody tr th:only-of-type {\n",
       "        vertical-align: middle;\n",
       "    }\n",
       "\n",
       "    .dataframe tbody tr th {\n",
       "        vertical-align: top;\n",
       "    }\n",
       "\n",
       "    .dataframe thead th {\n",
       "        text-align: right;\n",
       "    }\n",
       "</style>\n",
       "<table border=\"1\" class=\"dataframe\">\n",
       "  <thead>\n",
       "    <tr style=\"text-align: right;\">\n",
       "      <th></th>\n",
       "      <th>category</th>\n",
       "      <th>event</th>\n",
       "      <th>pivots</th>\n",
       "    </tr>\n",
       "  </thead>\n",
       "  <tbody>\n",
       "    <tr>\n",
       "      <th>0</th>\n",
       "      <td>tulipalot</td>\n",
       "      <td>periodic</td>\n",
       "      <td>[10, 26, 42, 58, 74, 90]</td>\n",
       "    </tr>\n",
       "    <tr>\n",
       "      <th>1</th>\n",
       "      <td>työllisyys</td>\n",
       "      <td>complex</td>\n",
       "      <td>[30, 60, 90]</td>\n",
       "    </tr>\n",
       "    <tr>\n",
       "      <th>2</th>\n",
       "      <td>musiikki</td>\n",
       "      <td>down</td>\n",
       "      <td>[6, 90]</td>\n",
       "    </tr>\n",
       "    <tr>\n",
       "      <th>3</th>\n",
       "      <td>rikokset</td>\n",
       "      <td>down_up</td>\n",
       "      <td>[30, 54, 78]</td>\n",
       "    </tr>\n",
       "    <tr>\n",
       "      <th>4</th>\n",
       "      <td>koulut</td>\n",
       "      <td>up_down</td>\n",
       "      <td>[1, 39, 77]</td>\n",
       "    </tr>\n",
       "  </tbody>\n",
       "</table>\n",
       "</div>"
      ],
      "text/plain": [
       "     category     event                    pivots\n",
       "0   tulipalot  periodic  [10, 26, 42, 58, 74, 90]\n",
       "1  työllisyys   complex              [30, 60, 90]\n",
       "2    musiikki      down                   [6, 90]\n",
       "3    rikokset   down_up              [30, 54, 78]\n",
       "4      koulut   up_down               [1, 39, 77]"
      ]
     },
     "execution_count": 17,
     "metadata": {},
     "output_type": "execute_result"
    }
   ],
   "source": []
  },
  {
   "cell_type": "code",
   "execution_count": null,
   "metadata": {},
   "outputs": [],
   "source": []
  },
  {
   "cell_type": "code",
   "execution_count": 13,
   "metadata": {},
   "outputs": [],
   "source": [
    "X, y = zip(*train_data)\n",
    "# X_test, _, maj_cats, events_test, y_test = zip(*test_data)"
   ]
  },
  {
   "cell_type": "code",
   "execution_count": 14,
   "metadata": {},
   "outputs": [],
   "source": [
    "X = np.vstack(X)\n",
    "#y = np.array(y)\n",
    "#X_test = np.vstack(X_test)\n",
    "#y_test = np.array(y_test)"
   ]
  },
  {
   "cell_type": "code",
   "execution_count": 15,
   "metadata": {},
   "outputs": [],
   "source": [
    "# ros = RandomOverSampler(random_state=12)\n",
    "# X_resampled, y_resampled = ros.fit_resample(X, y)"
   ]
  },
  {
   "cell_type": "code",
   "execution_count": 16,
   "metadata": {},
   "outputs": [],
   "source": [
    "# X_resampled = minmax_scale(X_resampled, axis=1)\n",
    "# X_test = minmax_scale(X_test, axis=1)\n",
    "X = scale_x(X)\n",
    "# X_test = scale_x(X_test)"
   ]
  },
  {
   "cell_type": "code",
   "execution_count": null,
   "metadata": {},
   "outputs": [],
   "source": [
    "X_resampled.shape, y_resampled.shape"
   ]
  },
  {
   "cell_type": "code",
   "execution_count": 110,
   "metadata": {},
   "outputs": [
    {
     "data": {
      "text/plain": [
       "(100,)"
      ]
     },
     "execution_count": 110,
     "metadata": {},
     "output_type": "execute_result"
    }
   ],
   "source": [
    "X[0].shape"
   ]
  },
  {
   "cell_type": "code",
   "execution_count": 17,
   "metadata": {
    "code_folding": [
     0,
     34
    ]
   },
   "outputs": [],
   "source": [
    "def visualize_change(sample, model, df, events):    \n",
    "    fig, ax = plt.subplots(figsize=(20, 10))\n",
    "    target = get_target(sample)\n",
    "    clusters = get_clusters(model.labels_, df, sample['id'])\n",
    "    changes = get_cluster_change(clusters, sample, target, events)\n",
    "    index = np.arange(100)\n",
    "    distance = 0\n",
    "    \n",
    "    counts, is_target, cats, event, pivots = zip(*changes)\n",
    "    counts = np.array(counts) + 1\n",
    "    # print(counts.shape)\n",
    "    counts = counts / counts[:, 0][:,None]\n",
    "    # print(counts[-1])\n",
    "    \n",
    "    \n",
    "    for i, change in enumerate(is_target):\n",
    "        val = counts[i] + distance\n",
    "        \n",
    "        if change:\n",
    "            print(event[i])\n",
    "            print(pivots[i])\n",
    "            ax.plot(index, val, ls='--')\n",
    "        else:\n",
    "            ax.plot(index, val)\n",
    "            \n",
    "        distance += 1\n",
    "    \n",
    "    ax.set(xlabel='Time', ylabel='Counts')\n",
    "    # ax.legend()\n",
    "    ax.grid()\n",
    "\n",
    "    plt.show()\n",
    "\n",
    "    \n",
    "def visualize_train_data(X, y):    \n",
    "    fig, ax = plt.subplots(figsize=(20, 10))\n",
    "    index = np.arange(100)\n",
    "    \n",
    "    ax.plot(index, X)\n",
    "    ax.vlines(y, ymin=0, ymax=1, color='red')\n",
    "    \n",
    "    ax.set(xlabel='Time', ylabel='Counts')\n",
    "    # ax.legend()\n",
    "    ax.grid()\n",
    "\n",
    "    plt.show()"
   ]
  },
  {
   "cell_type": "code",
   "execution_count": 18,
   "metadata": {},
   "outputs": [
    {
     "data": {
      "image/png": "[encoded data removed]",
      "text/plain": [
       "<Figure size 1440x720 with 1 Axes>"
      ]
     },
     "metadata": {
      "needs_background": "light"
     },
     "output_type": "display_data"
    }
   ],
   "source": [
    "visualize_train_data(X[1], y[1])"
   ]
  },
  {
   "cell_type": "code",
   "execution_count": 1,
   "metadata": {},
   "outputs": [],
   "source": [
    "# randid = np.random.randint(2000)\n",
    "# sample = dataset[randid]\n",
    "# print(randid)\n",
    "# visualize_change(sample, clustering, df, pivot_data.iloc[randid])"
   ]
  },
  {
   "cell_type": "code",
   "execution_count": 19,
   "metadata": {},
   "outputs": [],
   "source": [
    "X_train, X_val, y_train, y_val = train_test_split(X, y, test_size=0.1)"
   ]
  },
  {
   "cell_type": "code",
   "execution_count": 20,
   "metadata": {},
   "outputs": [
    {
     "data": {
      "text/plain": [
       "(200, 100)"
      ]
     },
     "execution_count": 20,
     "metadata": {},
     "output_type": "execute_result"
    }
   ],
   "source": [
    "X_val.shape"
   ]
  },
  {
   "cell_type": "code",
   "execution_count": null,
   "metadata": {},
   "outputs": [],
   "source": []
  },
  {
   "cell_type": "code",
   "execution_count": 21,
   "metadata": {},
   "outputs": [],
   "source": [
    "class SeqDataset(Dataset):\n",
    "\n",
    "    def __init__(self, X, points, timeline=100):\n",
    "        self.X = X\n",
    "        self.points = points\n",
    "        self.timeline = timeline\n",
    "\n",
    "    def __len__(self):\n",
    "        return len(self.X)\n",
    "\n",
    "    def __getitem__(self, idx):\n",
    "        src = self.X[idx]\n",
    "        trg = torch.zeros(self.timeline, dtype=torch.long)\n",
    "        \n",
    "        for i in self.points[idx]:\n",
    "            trg[i:] = trg[i-1] == 0\n",
    "            \n",
    "        sos = torch.tensor([2])\n",
    "        eos = torch.tensor([3])\n",
    "        \n",
    "        src = torch.tensor(src, dtype=torch.float)\n",
    "        # src = torch.cat((sos, src, eos))\n",
    "        trg = torch.cat((sos, trg, eos))\n",
    "        # add sos and eos token id\n",
    "        # print(F.one_hot(trg))\n",
    "        \n",
    "        return src, trg\n"
   ]
  },
  {
   "cell_type": "code",
   "execution_count": 22,
   "metadata": {},
   "outputs": [],
   "source": [
    "train_set = SeqDataset(X_train, y_train)\n",
    "val_set = SeqDataset(X_val, y_val)\n",
    "#test_set = SeqDataset(X_test, y_test)\n",
    "\n",
    "train_loader = DataLoader(train_set, batch_size=128, shuffle=True, num_workers=4)\n",
    "val_loader = DataLoader(val_set, batch_size=128, shuffle=False, num_workers=4)\n",
    "#test_loader = DataLoader(test_set, batch_size=128, shuffle=False, num_workers=4)"
   ]
  },
  {
   "cell_type": "code",
   "execution_count": 121,
   "metadata": {},
   "outputs": [
    {
     "data": {
      "text/plain": [
       "(tensor([1.0000, 0.9833, 0.9833, 0.9833, 0.9833, 1.0000, 0.9833, 0.9833, 0.9333,\n",
       "         0.9333, 0.9500, 0.9667, 0.9667, 0.9500, 0.9833, 0.9833, 0.9833, 0.9833,\n",
       "         1.0000, 1.0000, 1.0167, 1.0167, 1.0333, 1.0000, 1.0333, 1.0667, 1.0667,\n",
       "         1.0667, 1.0833, 1.1167, 1.1167, 1.1333, 1.1500, 1.1333, 1.1500, 1.2000,\n",
       "         1.2000, 1.2167, 1.2667, 1.2833, 1.3000, 1.3167, 1.3333, 1.3000, 1.3333,\n",
       "         1.3833, 1.3833, 1.4167, 1.4000, 1.4333, 1.4667, 1.4667, 1.5000, 1.5000,\n",
       "         1.5167, 1.5333, 1.5167, 1.5167, 1.5667, 1.5500, 1.5833, 1.5833, 1.5667,\n",
       "         1.5667, 1.5833, 1.5833, 1.6167, 1.6000, 1.6000, 1.5833, 1.6333, 1.6167,\n",
       "         1.5667, 1.6333, 1.6000, 1.6500, 1.6500, 1.6333, 1.6333, 1.6000, 1.6500,\n",
       "         1.6167, 1.5833, 1.6500, 1.6000, 1.6500, 1.6500, 1.6333, 1.6500, 1.6167,\n",
       "         1.6500, 1.6500, 1.6333, 1.6333, 1.6333, 1.6333, 1.6500, 1.6000, 1.6500,\n",
       "         1.6500]),\n",
       " tensor([2, 0, 0, 0, 0, 0, 0, 0, 0, 1, 1, 1, 1, 1, 1, 1, 1, 1, 1, 1, 1, 1, 1, 1,\n",
       "         1, 1, 1, 1, 1, 1, 1, 1, 1, 1, 1, 1, 1, 1, 1, 1, 1, 1, 1, 1, 1, 1, 1, 1,\n",
       "         1, 1, 1, 1, 1, 1, 1, 1, 1, 1, 1, 1, 1, 1, 1, 1, 1, 1, 1, 1, 1, 1, 1, 1,\n",
       "         1, 1, 1, 1, 1, 1, 1, 1, 1, 1, 1, 1, 1, 1, 1, 1, 1, 1, 0, 0, 0, 0, 0, 0,\n",
       "         0, 0, 0, 0, 0, 3]))"
      ]
     },
     "execution_count": 121,
     "metadata": {},
     "output_type": "execute_result"
    }
   ],
   "source": [
    "val_set[19]"
   ]
  },
  {
   "cell_type": "code",
   "execution_count": null,
   "metadata": {},
   "outputs": [],
   "source": []
  },
  {
   "cell_type": "code",
   "execution_count": 23,
   "metadata": {},
   "outputs": [],
   "source": [
    "class Seq2SeqModel(nn.Module):\n",
    "    \n",
    "    def __init__(self, hid_dim, out_dim, dropout=0.2, device=device):\n",
    "        super().__init__()\n",
    "        \n",
    "        self.hid_dim = hid_dim\n",
    "        self.encoder = nn.GRU(1, hid_dim, bidirectional=True, batch_first=True)\n",
    "        self.decoder = nn.GRU(out_dim + hid_dim * 2, hid_dim, bidirectional=True, batch_first=True)\n",
    "        self.out_dim = out_dim\n",
    "        self.device = device\n",
    "        self.seq_len = 100\n",
    "        \n",
    "        self.fc_out = nn.Linear((self.seq_len + 1) * hid_dim * 2, out_dim)\n",
    "        \n",
    "        self.dropout = nn.Dropout(dropout)\n",
    "\n",
    "    def encode(self, src):\n",
    "        src = src.unsqueeze(2)\n",
    "        #print('src', src.shape)\n",
    "        out, hid = self.encoder(src)\n",
    "        \n",
    "        return out, hid\n",
    "    \n",
    "    def decode(self, input, hidden, context):\n",
    "        batch_size = context.shape[0]\n",
    "        # print('input', input.shape)\n",
    "        one_hot = F.one_hot(input.unsqueeze(0), num_classes=self.out_dim)\n",
    "        #print('onehot', one_hot.shape)\n",
    "        #print('ctx', context.shape)\n",
    "        #print('hid', hidden.shape)\n",
    "        merge_ctx = torch.cat((one_hot, hidden.view(1, batch_size, -1)), dim=2)\n",
    "        #print('merge', merge_ctx.shape)\n",
    "        \n",
    "        out, hid = self.decoder(merge_ctx.permute(1, 0, 2), hidden)\n",
    "        #print('out', out.shape)\n",
    "        \n",
    "        cat = torch.cat((out.view(batch_size, -1), context), dim=1)\n",
    "        #print('cat', cat.shape)\n",
    "        \n",
    "        pred = self.fc_out(cat)\n",
    "        \n",
    "        return pred, hid\n",
    "    \n",
    "    def forward(self, src, trg):\n",
    "        trg_len = src.shape[1] + 2\n",
    "        batch_size = src.shape[0]\n",
    "        #tensor to store decoder outputs\n",
    "        outputs = torch.zeros(batch_size, trg_len, self.out_dim).to(self.device)\n",
    "        #assign the sos to the first output (mark index 2 is True)\n",
    "        outputs[:, 0, 2] = 1\n",
    "        #last hidden state of the encoder is the context\n",
    "        context, hidden = self.encode(src)\n",
    "        context = context.reshape(batch_size, -1)\n",
    "        #first input to the decoder is the <sos> tokens\n",
    "        input = trg[:, 0]\n",
    "\n",
    "        \n",
    "        for t in range(1, trg_len):\n",
    "            \n",
    "            #insert input token embedding, previous hidden state and the context state\n",
    "            #receive output tensor (predictions) and new hidden state\n",
    "            output, hidden = self.decode(input, hidden, context)\n",
    "            \n",
    "            #place predictions in a tensor holding predictions for each token\n",
    "            outputs[:, t] = output\n",
    "            \n",
    "            #if teacher forcing, use actual next token as next input\n",
    "            #if not, use predicted token\n",
    "            # print('output', output.shape)\n",
    "            input = output.argmax(1)\n",
    "\n",
    "        return outputs\n"
   ]
  },
  {
   "cell_type": "code",
   "execution_count": null,
   "metadata": {},
   "outputs": [],
   "source": []
  },
  {
   "cell_type": "code",
   "execution_count": 24,
   "metadata": {},
   "outputs": [],
   "source": [
    "model = Seq2SeqModel(hid_dim=128, out_dim=4).to(device)\n",
    "optimizer = Adam(model.parameters(), lr=1e-4)\n",
    "criterion = nn.CrossEntropyLoss()\n",
    "# criterion = nn.BCEWithLogitsLoss(pos_weight=torch.tensor([10]).to(device))"
   ]
  },
  {
   "cell_type": "code",
   "execution_count": 25,
   "metadata": {
    "code_folding": [
     36
    ]
   },
   "outputs": [],
   "source": [
    "def train(model, data_loader, optimizer, criterion):\n",
    "    model.train()\n",
    "    epoch_loss = 0\n",
    "    # for i, batch in tqdm(enumerate(data_loader), total=len(data_loader), desc='Train'):\n",
    "    for batch in data_loader:\n",
    "        inputs, labels = batch\n",
    "        inputs = inputs.to(device)\n",
    "        labels = labels.to(device)\n",
    "        \n",
    "        #print('inputs', inputs.shape)\n",
    "        #print('labels', labels.shape)\n",
    "        \n",
    "        outputs = model(inputs, labels)\n",
    "\n",
    "        #print('output', outputs.shape)\n",
    "\n",
    "        # outputs = outputs.squeeze(1)\n",
    "        #trg = [(trg len - 1) * batch size]\n",
    "        #output = [(trg len - 1) * batch size, output dim]\n",
    "#         print(outputs)\n",
    "#         print(labels)\n",
    "        output_dim = outputs.shape[-1]\n",
    "        \n",
    "        outputs = outputs.reshape(-1, output_dim)\n",
    "        labels = labels.reshape(-1)\n",
    "        \n",
    "        optimizer.zero_grad()\n",
    "        loss = criterion(outputs, labels)\n",
    "        loss.backward()\n",
    "\n",
    "        optimizer.step()\n",
    "        \n",
    "        epoch_loss += loss.item()\n",
    "        \n",
    "    return epoch_loss / len(data_loader)\n",
    "\n",
    "def evaluate(model, data_loader, criterion):\n",
    "    model.eval()\n",
    "    epoch_loss = 0\n",
    "    # y_pred = torch.tensor([], dtype=bool).to(device)\n",
    "    # y_true = torch.tensor([], dtype=bool).to(device)\n",
    "    \n",
    "    with torch.no_grad():\n",
    "        for batch in data_loader:\n",
    "\n",
    "            inputs, labels = batch\n",
    "            inputs = inputs.to(device)\n",
    "            labels = labels.to(device)\n",
    "\n",
    "            outputs = model(inputs, labels)\n",
    "        \n",
    "            output_dim = outputs.shape[-1]\n",
    "            outputs = outputs.reshape(-1, output_dim)\n",
    "            labels = labels.reshape(-1)\n",
    "\n",
    "            loss = criterion(outputs, labels)\n",
    "            epoch_loss += loss.item()\n",
    "            # y_true = torch.cat([y_true, labels])\n",
    "            \n",
    "#             accuracy += (preds == labels).sum()\n",
    "#             n_sample += len(labels)\n",
    "    \n",
    "    epoch_loss = epoch_loss / len(data_loader)\n",
    "    # accuracy = accuracy.cpu().item()\n",
    "    # accuracy = accuracy / n_sample\n",
    "    return epoch_loss\n",
    "\n",
    "def test(model, data_loader, criterion):\n",
    "    model.eval()\n",
    "    epoch_loss = 0\n",
    "    y_pred = torch.tensor([], dtype=bool).to(device)\n",
    "    # y_true = torch.tensor([], dtype=bool).to(device)\n",
    "    \n",
    "    with torch.no_grad():\n",
    "        for batch in data_loader:\n",
    "\n",
    "            inputs, labels = batch\n",
    "            inputs = inputs.to(device)\n",
    "            labels = labels.to(device)\n",
    "\n",
    "            outputs = model(inputs, labels)\n",
    "            # print('output', outputs.shape)\n",
    "#             print('labels', labels.shape)\n",
    "#         print(labels)\n",
    "            preds = torch.argmax(outputs, 2)\n",
    "    \n",
    "            # print(preds.shape)\n",
    "            y_pred = torch.cat([y_pred, preds])\n",
    "        \n",
    "            output_dim = outputs.shape[-1]\n",
    "            outputs = outputs.reshape(-1, output_dim)\n",
    "            labels = labels.reshape(-1)\n",
    "\n",
    "            loss = criterion(outputs, labels)\n",
    "            epoch_loss += loss.item()\n",
    "            # y_true = torch.cat([y_true, labels])\n",
    "            \n",
    "#             accuracy += (preds == labels).sum()\n",
    "#             n_sample += len(labels)\n",
    "    \n",
    "    epoch_loss = epoch_loss / len(data_loader)\n",
    "    # accuracy = accuracy.cpu().item()\n",
    "    # accuracy = accuracy / n_sample\n",
    "    return epoch_loss, y_pred.cpu().numpy()\n",
    "\n",
    "def get_pivots(pred):\n",
    "    pivots = []\n",
    "    \n",
    "    cur = 0\n",
    "    for i, v in enumerate(pred[:-1]):\n",
    "        if v != 0 and v != 1:\n",
    "            continue\n",
    "        if v != cur:\n",
    "            pivots.append(i)\n",
    "            cur = v\n",
    "    return pivots\n",
    "            \n",
    "    "
   ]
  },
  {
   "cell_type": "code",
   "execution_count": 26,
   "metadata": {
    "scrolled": true
   },
   "outputs": [
    {
     "name": "stdout",
     "output_type": "stream",
     "text": [
      "Epoch: 1 | Time: 0.06 mins | Train Loss: 0.915 | Val Loss: 0.750\n",
      "Epoch: 2 | Time: 0.05 mins | Train Loss: 0.750 | Val Loss: 0.748\n",
      "Epoch: 3 | Time: 0.06 mins | Train Loss: 0.748 | Val Loss: 0.745\n",
      "Epoch: 4 | Time: 0.05 mins | Train Loss: 0.743 | Val Loss: 0.739\n",
      "Epoch: 5 | Time: 0.06 mins | Train Loss: 0.733 | Val Loss: 0.728\n",
      "Epoch: 6 | Time: 0.06 mins | Train Loss: 0.721 | Val Loss: 0.718\n",
      "Epoch: 7 | Time: 0.05 mins | Train Loss: 0.718 | Val Loss: 0.711\n",
      "Epoch: 8 | Time: 0.05 mins | Train Loss: 0.707 | Val Loss: 0.709\n",
      "Epoch: 9 | Time: 0.06 mins | Train Loss: 0.704 | Val Loss: 0.706\n",
      "Epoch: 10 | Time: 0.05 mins | Train Loss: 0.705 | Val Loss: 0.714\n",
      "Epoch: 11 | Time: 0.05 mins | Train Loss: 0.703 | Val Loss: 0.704\n",
      "Epoch: 12 | Time: 0.05 mins | Train Loss: 0.700 | Val Loss: 0.705\n",
      "Epoch: 13 | Time: 0.05 mins | Train Loss: 0.707 | Val Loss: 0.702\n",
      "Epoch: 14 | Time: 0.06 mins | Train Loss: 0.702 | Val Loss: 0.705\n",
      "Epoch: 15 | Time: 0.06 mins | Train Loss: 0.700 | Val Loss: 0.701\n",
      "Epoch: 16 | Time: 0.06 mins | Train Loss: 0.698 | Val Loss: 0.702\n",
      "Epoch: 17 | Time: 0.06 mins | Train Loss: 0.700 | Val Loss: 0.699\n",
      "Epoch: 18 | Time: 0.06 mins | Train Loss: 0.696 | Val Loss: 0.699\n",
      "Epoch: 19 | Time: 0.06 mins | Train Loss: 0.694 | Val Loss: 0.700\n",
      "Epoch: 20 | Time: 0.05 mins | Train Loss: 0.697 | Val Loss: 0.694\n",
      "Epoch: 21 | Time: 0.05 mins | Train Loss: 0.691 | Val Loss: 0.686\n",
      "Epoch: 22 | Time: 0.05 mins | Train Loss: 0.686 | Val Loss: 0.681\n",
      "Epoch: 23 | Time: 0.06 mins | Train Loss: 0.685 | Val Loss: 0.686\n",
      "Epoch: 24 | Time: 0.06 mins | Train Loss: 0.684 | Val Loss: 0.683\n",
      "Epoch: 25 | Time: 0.05 mins | Train Loss: 0.684 | Val Loss: 0.680\n",
      "Epoch: 26 | Time: 0.06 mins | Train Loss: 0.683 | Val Loss: 0.680\n",
      "Epoch: 27 | Time: 0.05 mins | Train Loss: 0.679 | Val Loss: 0.680\n",
      "Epoch: 28 | Time: 0.05 mins | Train Loss: 0.679 | Val Loss: 0.674\n",
      "Epoch: 29 | Time: 0.06 mins | Train Loss: 0.678 | Val Loss: 0.673\n",
      "Epoch: 30 | Time: 0.06 mins | Train Loss: 0.676 | Val Loss: 0.675\n",
      "Epoch: 31 | Time: 0.06 mins | Train Loss: 0.676 | Val Loss: 0.678\n",
      "Epoch: 32 | Time: 0.06 mins | Train Loss: 0.680 | Val Loss: 0.675\n",
      "Epoch: 33 | Time: 0.06 mins | Train Loss: 0.671 | Val Loss: 0.676\n",
      "Epoch: 34 | Time: 0.05 mins | Train Loss: 0.676 | Val Loss: 0.670\n",
      "Epoch: 35 | Time: 0.05 mins | Train Loss: 0.673 | Val Loss: 0.673\n",
      "Epoch: 36 | Time: 0.05 mins | Train Loss: 0.676 | Val Loss: 0.669\n",
      "Epoch: 37 | Time: 0.05 mins | Train Loss: 0.669 | Val Loss: 0.669\n",
      "Epoch: 38 | Time: 0.06 mins | Train Loss: 0.673 | Val Loss: 0.671\n",
      "Epoch: 39 | Time: 0.05 mins | Train Loss: 0.672 | Val Loss: 0.688\n",
      "Epoch: 40 | Time: 0.05 mins | Train Loss: 0.682 | Val Loss: 0.670\n",
      "Epoch: 41 | Time: 0.05 mins | Train Loss: 0.667 | Val Loss: 0.664\n",
      "Epoch: 42 | Time: 0.05 mins | Train Loss: 0.668 | Val Loss: 0.661\n",
      "Epoch: 43 | Time: 0.05 mins | Train Loss: 0.668 | Val Loss: 0.662\n",
      "Epoch: 44 | Time: 0.06 mins | Train Loss: 0.667 | Val Loss: 0.658\n",
      "Epoch: 45 | Time: 0.05 mins | Train Loss: 0.661 | Val Loss: 0.652\n",
      "Epoch: 46 | Time: 0.05 mins | Train Loss: 0.654 | Val Loss: 0.642\n",
      "Epoch: 47 | Time: 0.06 mins | Train Loss: 0.642 | Val Loss: 0.622\n",
      "Epoch: 48 | Time: 0.05 mins | Train Loss: 0.629 | Val Loss: 0.612\n",
      "Epoch: 49 | Time: 0.06 mins | Train Loss: 0.619 | Val Loss: 0.612\n",
      "Epoch: 50 | Time: 0.05 mins | Train Loss: 0.618 | Val Loss: 0.601\n"
     ]
    }
   ],
   "source": [
    "N_EPOCH = 50\n",
    "for epoch in range(N_EPOCH):\n",
    "    \n",
    "    t0 = time.time()\n",
    "    \n",
    "    train_loss = train(model, train_loader, optimizer, criterion)\n",
    "    val_loss = evaluate(model, val_loader, criterion)\n",
    "    \n",
    "    duration = (time.time() - t0) / 60\n",
    "    # print(f'Train Loss: {train_loss:.4f}')\n",
    "    # f1 = f1_score(y_true, y_pred)\n",
    "    print(f'Epoch: {epoch+1} | Time: {duration:.2f} mins | Train Loss: {train_loss:.3f} | Val Loss: {val_loss:.3f}')\n",
    "    # print(classification_report(y_true, y_pred))\n"
   ]
  },
  {
   "cell_type": "code",
   "execution_count": null,
   "metadata": {},
   "outputs": [],
   "source": [
    "# now test with Kmeans"
   ]
  },
  {
   "cell_type": "code",
   "execution_count": 27,
   "metadata": {},
   "outputs": [],
   "source": [
    "test_data = pickle.load(open(\"data/dev/dataset_1_event.pkl\", \"rb\"))[:200]"
   ]
  },
  {
   "cell_type": "code",
   "execution_count": 28,
   "metadata": {},
   "outputs": [],
   "source": [
    "test_tracker = pd.read_pickle('data/dev/dataset_1_pivot.pkl')"
   ]
  },
  {
   "cell_type": "code",
   "execution_count": 29,
   "metadata": {},
   "outputs": [
    {
     "data": {
      "text/plain": [
       "200"
      ]
     },
     "execution_count": 29,
     "metadata": {},
     "output_type": "execute_result"
    }
   ],
   "source": [
    "len(test_data)"
   ]
  },
  {
   "cell_type": "code",
   "execution_count": 30,
   "metadata": {},
   "outputs": [],
   "source": [
    "test_tracker = test_tracker.iloc[:200]"
   ]
  },
  {
   "cell_type": "code",
   "execution_count": 31,
   "metadata": {},
   "outputs": [
    {
     "data": {
      "text/plain": [
       "category                   tulipalot\n",
       "event                       periodic\n",
       "pivots      [10, 26, 42, 58, 74, 90]\n",
       "Name: 0, dtype: object"
      ]
     },
     "execution_count": 31,
     "metadata": {},
     "output_type": "execute_result"
    }
   ],
   "source": [
    "test_tracker.iloc[0]"
   ]
  },
  {
   "cell_type": "code",
   "execution_count": 38,
   "metadata": {},
   "outputs": [
    {
     "data": {
      "text/plain": [
       "(71003, 4)"
      ]
     },
     "execution_count": 38,
     "metadata": {},
     "output_type": "execute_result"
    }
   ],
   "source": [
    "test_data[0].shape"
   ]
  },
  {
   "cell_type": "code",
   "execution_count": 58,
   "metadata": {},
   "outputs": [
    {
     "name": "stderr",
     "output_type": "stream",
     "text": [
      "100%|██████████| 200/200 [00:11<00:00, 18.07it/s]\n"
     ]
    }
   ],
   "source": [
    "test_samples = get_cluster_freq_change(kmeans, test_data, test_tracker)"
   ]
  },
  {
   "cell_type": "code",
   "execution_count": 40,
   "metadata": {},
   "outputs": [
    {
     "data": {
      "text/plain": [
       "71003"
      ]
     },
     "execution_count": 40,
     "metadata": {},
     "output_type": "execute_result"
    }
   ],
   "source": [
    "len(kmeans[0].labels_)"
   ]
  },
  {
   "cell_type": "code",
   "execution_count": 43,
   "metadata": {},
   "outputs": [
    {
     "data": {
      "text/plain": [
       "(array([29, 28, 16, 25, 25, 31, 16, 28, 27, 31, 29, 19, 22, 33, 30, 20, 20,\n",
       "        30, 22, 35, 22, 32, 22, 24, 25, 27, 32, 21, 27, 23, 39, 33, 25, 25,\n",
       "        28, 23, 27, 29, 36, 29, 18, 24, 28, 28, 27, 21, 26, 22, 27, 25, 23,\n",
       "        28, 35, 24, 26, 22, 22, 35, 28, 29, 29, 24, 26, 18, 31, 27, 25, 20,\n",
       "        29, 24, 31, 29, 24, 21, 21, 28, 29, 31, 28, 27, 34, 32, 31, 25, 26,\n",
       "        28, 21, 26, 24, 27, 26, 23, 21, 29, 30, 25, 20, 36, 28, 31]),\n",
       " False,\n",
       " 'luonto',\n",
       " 'noise',\n",
       " [])"
      ]
     },
     "execution_count": 43,
     "metadata": {},
     "output_type": "execute_result"
    }
   ],
   "source": [
    "test_samples[0]"
   ]
  },
  {
   "cell_type": "code",
   "execution_count": 59,
   "metadata": {},
   "outputs": [],
   "source": [
    "X_test, _, maj_cats, events_test, y_test = zip(*test_samples)"
   ]
  },
  {
   "cell_type": "code",
   "execution_count": 60,
   "metadata": {},
   "outputs": [],
   "source": [
    "X_test = np.vstack(X_test)\n",
    "X_test = scale_x(X_test)"
   ]
  },
  {
   "cell_type": "code",
   "execution_count": 61,
   "metadata": {},
   "outputs": [],
   "source": [
    "test_set = SeqDataset(X_test, y_test)"
   ]
  },
  {
   "cell_type": "code",
   "execution_count": 62,
   "metadata": {},
   "outputs": [],
   "source": [
    "test_loader = DataLoader(test_set, batch_size=128, shuffle=False, num_workers=4)"
   ]
  },
  {
   "cell_type": "code",
   "execution_count": 63,
   "metadata": {},
   "outputs": [],
   "source": [
    "test_loss, y_pred = test(model, test_loader, criterion)"
   ]
  },
  {
   "cell_type": "code",
   "execution_count": 64,
   "metadata": {},
   "outputs": [
    {
     "data": {
      "text/plain": [
       "0.5481795817613602"
      ]
     },
     "execution_count": 64,
     "metadata": {},
     "output_type": "execute_result"
    }
   ],
   "source": [
    "test_loss"
   ]
  },
  {
   "cell_type": "code",
   "execution_count": 175,
   "metadata": {},
   "outputs": [
    {
     "data": {
      "text/plain": [
       "(101,)"
      ]
     },
     "execution_count": 175,
     "metadata": {},
     "output_type": "execute_result"
    }
   ],
   "source": [
    "y_pred[0][:-1].shape"
   ]
  },
  {
   "cell_type": "code",
   "execution_count": 160,
   "metadata": {},
   "outputs": [],
   "source": [
    "\"\"\"\n",
    "Check if the sample has the changed event\n",
    "Predict the pivot points for that changed event\n",
    "The metric is rand index average by number of samples\n",
    "\"\"\"\n",
    "\n",
    "def get_result(y_pred):\n",
    "    founds = []\n",
    "    for i, p in enumerate(y_pred):\n",
    "        pivots = get_pivots(p)\n",
    "        if len(pivots):\n",
    "            founds.append(i)\n",
    "    return founds\n",
    "\n",
    "# def get_metrics(y_true, y_pred):\n",
    "#     timeline = 100\n",
    "#     avg = 0\n",
    "    \n",
    "#     pred_pivots = []\n",
    "    \n",
    "#     for i, p in enumerate(y_pred):\n",
    "#         pivots = get_pivots(p)\n",
    "#         if len(pivots):\n",
    "#             founds.append(i)\n",
    "    \n",
    "#     for t, p in zip(pv_true, pv_pred):\n",
    "#         t = np.concatenate((t, [timeline]))\n",
    "#         p = np.concatenate((p, [timeline]))\n",
    "#         ridx = randindex(t, p)\n",
    "        \n",
    "#         avg += ridx\n",
    "#     avg = avg / len(pv_true)\n",
    "    \n",
    "#     return avg"
   ]
  },
  {
   "cell_type": "code",
   "execution_count": 172,
   "metadata": {},
   "outputs": [
    {
     "data": {
      "text/plain": [
       "(102,)"
      ]
     },
     "execution_count": 172,
     "metadata": {},
     "output_type": "execute_result"
    }
   ],
   "source": [
    "y_pred[119].shape"
   ]
  },
  {
   "cell_type": "code",
   "execution_count": 94,
   "metadata": {},
   "outputs": [],
   "source": [
    "dcm = get_result(y_pred)"
   ]
  },
  {
   "cell_type": "code",
   "execution_count": 164,
   "metadata": {},
   "outputs": [],
   "source": [
    "test_id = np.random.choice(dcm)"
   ]
  },
  {
   "cell_type": "code",
   "execution_count": 165,
   "metadata": {},
   "outputs": [
    {
     "data": {
      "text/plain": [
       "[14, 88, 98]"
      ]
     },
     "execution_count": 165,
     "metadata": {},
     "output_type": "execute_result"
    }
   ],
   "source": [
    "get_pivots(y_pred[test_id])"
   ]
  },
  {
   "cell_type": "code",
   "execution_count": 166,
   "metadata": {},
   "outputs": [
    {
     "data": {
      "text/plain": [
       "array([31, 48, 66])"
      ]
     },
     "execution_count": 166,
     "metadata": {},
     "output_type": "execute_result"
    }
   ],
   "source": [
    "y_test[test_id]"
   ]
  },
  {
   "cell_type": "code",
   "execution_count": null,
   "metadata": {},
   "outputs": [],
   "source": [
    "print(classification_report(y_true, y_pred, digits=4))"
   ]
  },
  {
   "cell_type": "code",
   "execution_count": 65,
   "metadata": {},
   "outputs": [],
   "source": [
    "def get_metrics(df, y_true, y_pred, maj_cats, target):\n",
    "    accuracy = 0   # accuracy of detect correctly clusters have the target category as major\n",
    "    precision = 0  # accuracy of detect how many articles in cluster are target category\n",
    "    recall = 0    # accuracy of detect how many articles in target category are in choosen clusters\n",
    "    randidx = 0\n",
    "    pred_ids = []\n",
    "    timeline = 100\n",
    "    \n",
    "    for i, pred_points in enumerate(y_pred):\n",
    "        if len(pred_points):\n",
    "            pred_ids.append(i)\n",
    "            \n",
    "            true_points = y_true[i]  \n",
    "            if len(true_points):\n",
    "                # print(pred_points)\n",
    "                true_points = np.concatenate((true_points, [timeline]), axis=0).astype(int)\n",
    "                if timeline not in pred_points:\n",
    "                    pred_points = np.concatenate((pred_points, [timeline]), axis=0).astype(int)\n",
    "                # print(t, p)\n",
    "                randidx += randindex(true_points, pred_points)\n",
    "    \n",
    "    # pred_ids = np.argwhere(y_pred > 0).squeeze(1)\n",
    "    n_cluster = len(pred_ids)\n",
    "\n",
    "    df['target'] = (df['event'] != 'noise')\n",
    "    target_cluster = df[df['target'] == True]\n",
    "    \n",
    "    for i in pred_ids:\n",
    "        pred_cat = maj_cats[i]\n",
    "        cluster = df[df['cluster'] == i]\n",
    "        # cluster = df.iloc[clusters[i]]\n",
    "        \n",
    "        if pred_cat == target:\n",
    "            accuracy += 1\n",
    "        # calculate the prec and recall\n",
    "        if len(cluster['target']) > 0:\n",
    "            precision += cluster['target'].mean()\n",
    "        recall += cluster['target'].sum()\n",
    "    \n",
    "    # if there is output \n",
    "    if n_cluster:\n",
    "        accuracy = accuracy / n_cluster\n",
    "        precision = precision / n_cluster\n",
    "        randidx = randidx / n_cluster\n",
    "    \n",
    "    recall = recall / target_cluster.shape[0]\n",
    "    \n",
    "    return accuracy, precision, recall, randidx\n",
    "\n",
    "\n",
    "def evaluate_pipeline(samples, labels, preds, maj_cats):\n",
    "    n_samples = len(samples)\n",
    "    acc = np.zeros(n_samples)\n",
    "    prc = np.zeros(n_samples)\n",
    "    rec = np.zeros(n_samples)\n",
    "    f = np.zeros(n_samples)\n",
    "    rid = np.zeros(n_samples)\n",
    "    n_cluster = 20\n",
    "    \n",
    "    for i, sample in enumerate(tqdm(samples)):\n",
    "        target = get_target(sample)\n",
    "        y_true = labels[i*n_cluster: (i+1)*n_cluster]\n",
    "        y_pred = preds[i*n_cluster: (i+1)*n_cluster]\n",
    "        pivots = [get_pivots(p) for p in y_pred]\n",
    "        cats = maj_cats[i*n_cluster: (i+1)*n_cluster]\n",
    "        \n",
    "        # clusters = pickle.load(open(\"models/lda_cluster/clusters_\" + str(i) + \".pkl\", \"rb\"))\n",
    "        \n",
    "        acc[i], prc[i], rec[i], rid[i] = get_metrics(sample, y_true, pivots, cats, target)\n",
    "        if (prc[i] + rec[i]) != 0:\n",
    "            f[i] = 2 * prc[i] * rec[i] / (prc[i] + rec[i])\n",
    "        \n",
    "    return acc, prc, rec, rid, f"
   ]
  },
  {
   "cell_type": "code",
   "execution_count": 66,
   "metadata": {},
   "outputs": [
    {
     "name": "stderr",
     "output_type": "stream",
     "text": [
      "100%|██████████| 200/200 [00:05<00:00, 34.42it/s]\n"
     ]
    }
   ],
   "source": [
    "accs, precs, recs, rid, f_micro = evaluate_pipeline(test_data, y_test, y_pred, maj_cats)"
   ]
  },
  {
   "cell_type": "code",
   "execution_count": 67,
   "metadata": {},
   "outputs": [],
   "source": [
    "# randindex([ 10, 30,  50,  70,  90, 100], [ 12, 101, 100])"
   ]
  },
  {
   "cell_type": "code",
   "execution_count": null,
   "metadata": {},
   "outputs": [],
   "source": []
  },
  {
   "cell_type": "code",
   "execution_count": 68,
   "metadata": {},
   "outputs": [
    {
     "data": {
      "text/plain": [
       "(0.2148527861027861,\n",
       " 0.19969395366829396,\n",
       " 0.6788199935222012,\n",
       " 0.14267169264901766)"
      ]
     },
     "execution_count": 68,
     "metadata": {},
     "output_type": "execute_result"
    }
   ],
   "source": [
    "f_macro =2 * precs.mean()*recs.mean()/(precs.mean()+recs.mean())\n",
    "accs.mean(), precs.mean(), recs.mean(), rid.mean()"
   ]
  },
  {
   "cell_type": "code",
   "execution_count": 69,
   "metadata": {},
   "outputs": [
    {
     "name": "stdout",
     "output_type": "stream",
     "text": [
      "f_micro: 0.30092676218610054 f_macro: 0.3086035202265043\n"
     ]
    }
   ],
   "source": [
    "f_micro = np.nan_to_num(f_micro)\n",
    "print(\"f_micro:\", f_micro.mean(), \"f_macro:\", f_macro)"
   ]
  },
  {
   "cell_type": "code",
   "execution_count": null,
   "metadata": {},
   "outputs": [],
   "source": [
    "len(test_samples)"
   ]
  },
  {
   "cell_type": "code",
   "execution_count": null,
   "metadata": {},
   "outputs": [],
   "source": []
  }
 ],
 "metadata": {
  "kernelspec": {
   "display_name": "Python 3",
   "language": "python",
   "name": "python3"
  },
  "language_info": {
   "codemirror_mode": {
    "name": "ipython",
    "version": 3
   },
   "file_extension": ".py",
   "mimetype": "text/x-python",
   "name": "python",
   "nbconvert_exporter": "python",
   "pygments_lexer": "ipython3",
   "version": "3.7.5"
  },
  "varInspector": {
   "cols": {
    "lenName": 16,
    "lenType": 16,
    "lenVar": 40
   },
   "kernels_config": {
    "python": {
     "delete_cmd_postfix": "",
     "delete_cmd_prefix": "del ",
     "library": "var_list.py",
     "varRefreshCmd": "print(var_dic_list())"
    },
    "r": {
     "delete_cmd_postfix": ") ",
     "delete_cmd_prefix": "rm(",
     "library": "var_list.r",
     "varRefreshCmd": "cat(var_dic_list()) "
    }
   },
   "types_to_exclude": [
    "module",
    "function",
    "builtin_function_or_method",
    "instance",
    "_Feature"
   ],
   "window_display": false
  }
 },
 "nbformat": 4,
 "nbformat_minor": 4
}
