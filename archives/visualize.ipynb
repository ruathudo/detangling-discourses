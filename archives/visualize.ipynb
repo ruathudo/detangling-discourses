{
 "cells": [
  {
   "cell_type": "code",
   "execution_count": 1,
   "metadata": {},
   "outputs": [],
   "source": [
    "import pandas as pd\n",
    "import numpy as np\n",
    "\n",
    "from gensim.corpora import Dictionary\n",
    "import ruptures as rpt\n",
    "\n",
    "import matplotlib.pyplot as plt\n",
    "import seaborn as sns\n",
    "\n",
    "%matplotlib inline"
   ]
  },
  {
   "cell_type": "code",
   "execution_count": 2,
   "metadata": {},
   "outputs": [],
   "source": [
    "df = pd.read_json('data/yle-tokenized-dev.json', orient='records')"
   ]
  },
  {
   "cell_type": "code",
   "execution_count": 3,
   "metadata": {},
   "outputs": [
    {
     "data": {
      "text/html": [
       "<div>\n",
       "<style scoped>\n",
       "    .dataframe tbody tr th:only-of-type {\n",
       "        vertical-align: middle;\n",
       "    }\n",
       "\n",
       "    .dataframe tbody tr th {\n",
       "        vertical-align: top;\n",
       "    }\n",
       "\n",
       "    .dataframe thead th {\n",
       "        text-align: right;\n",
       "    }\n",
       "</style>\n",
       "<table border=\"1\" class=\"dataframe\">\n",
       "  <thead>\n",
       "    <tr style=\"text-align: right;\">\n",
       "      <th></th>\n",
       "      <th>id</th>\n",
       "      <th>date</th>\n",
       "      <th>title</th>\n",
       "      <th>body</th>\n",
       "      <th>subjects</th>\n",
       "      <th>tokens</th>\n",
       "    </tr>\n",
       "  </thead>\n",
       "  <tbody>\n",
       "    <tr>\n",
       "      <th>0</th>\n",
       "      <td>3-9375096</td>\n",
       "      <td>2016-12-27T21:07:56+0200</td>\n",
       "      <td>Liverpool sahasi Stoken aivan sekaisin</td>\n",
       "      <td></td>\n",
       "      <td>[urheilu, englannin, valioliiga, stoke, city, ...</td>\n",
       "      <td>[liverpool, sahasi, stoken, aivan, sekaisin]</td>\n",
       "    </tr>\n",
       "    <tr>\n",
       "      <th>1</th>\n",
       "      <td>20-194518</td>\n",
       "      <td>2017-06-09T12:43:12+0300</td>\n",
       "      <td>Jazzin show-mies Rahsaan Roland Kirk puhalsi s...</td>\n",
       "      <td></td>\n",
       "      <td>[rahsaan, roland, kirk, saksofoni, huilu, mult...</td>\n",
       "      <td>[jazzin, show, mies, rahsaan, roland, kirk, pu...</td>\n",
       "    </tr>\n",
       "    <tr>\n",
       "      <th>2</th>\n",
       "      <td>20-217168</td>\n",
       "      <td>2014-07-29T11:35:19+0300</td>\n",
       "      <td>Loost Koosin Särre lähtee sooloilemaan – video...</td>\n",
       "      <td></td>\n",
       "      <td>[särre, miika, särmäkari, ylex, suomirap, ruud...</td>\n",
       "      <td>[loost, koosin, särre, lähtee, sooloilemaan, v...</td>\n",
       "    </tr>\n",
       "    <tr>\n",
       "      <th>3</th>\n",
       "      <td>3-6234345</td>\n",
       "      <td>2012-07-29T11:53:59+0300</td>\n",
       "      <td>Räikköstä povataan takaisin Ferrarille</td>\n",
       "      <td></td>\n",
       "      <td>[urheilu, formula, 1, moottoriurheilu, ferrari...</td>\n",
       "      <td>[räikköstä, povataan, takaisin, ferrarille]</td>\n",
       "    </tr>\n",
       "    <tr>\n",
       "      <th>4</th>\n",
       "      <td>3-9472646</td>\n",
       "      <td>2017-02-21T19:00:09+0200</td>\n",
       "      <td>Video: TsSKA sai apuja tuomareilta – Jokerien ...</td>\n",
       "      <td></td>\n",
       "      <td>[urheilu, khl, pfk, tsska, moskova, jokerit, u...</td>\n",
       "      <td>[video, tsska, sai, apuja, tuomareilta, jokeri...</td>\n",
       "    </tr>\n",
       "  </tbody>\n",
       "</table>\n",
       "</div>"
      ],
      "text/plain": [
       "          id                      date  \\\n",
       "0  3-9375096  2016-12-27T21:07:56+0200   \n",
       "1  20-194518  2017-06-09T12:43:12+0300   \n",
       "2  20-217168  2014-07-29T11:35:19+0300   \n",
       "3  3-6234345  2012-07-29T11:53:59+0300   \n",
       "4  3-9472646  2017-02-21T19:00:09+0200   \n",
       "\n",
       "                                               title body  \\\n",
       "0             Liverpool sahasi Stoken aivan sekaisin        \n",
       "1  Jazzin show-mies Rahsaan Roland Kirk puhalsi s...        \n",
       "2  Loost Koosin Särre lähtee sooloilemaan – video...        \n",
       "3             Räikköstä povataan takaisin Ferrarille        \n",
       "4  Video: TsSKA sai apuja tuomareilta – Jokerien ...        \n",
       "\n",
       "                                            subjects  \\\n",
       "0  [urheilu, englannin, valioliiga, stoke, city, ...   \n",
       "1  [rahsaan, roland, kirk, saksofoni, huilu, mult...   \n",
       "2  [särre, miika, särmäkari, ylex, suomirap, ruud...   \n",
       "3  [urheilu, formula, 1, moottoriurheilu, ferrari...   \n",
       "4  [urheilu, khl, pfk, tsska, moskova, jokerit, u...   \n",
       "\n",
       "                                              tokens  \n",
       "0       [liverpool, sahasi, stoken, aivan, sekaisin]  \n",
       "1  [jazzin, show, mies, rahsaan, roland, kirk, pu...  \n",
       "2  [loost, koosin, särre, lähtee, sooloilemaan, v...  \n",
       "3        [räikköstä, povataan, takaisin, ferrarille]  \n",
       "4  [video, tsska, sai, apuja, tuomareilta, jokeri...  "
      ]
     },
     "execution_count": 3,
     "metadata": {},
     "output_type": "execute_result"
    }
   ],
   "source": [
    "df.head()"
   ]
  },
  {
   "cell_type": "code",
   "execution_count": 4,
   "metadata": {},
   "outputs": [
    {
     "name": "stdout",
     "output_type": "stream",
     "text": [
      "<class 'pandas.core.frame.DataFrame'>\n",
      "RangeIndex: 20000 entries, 0 to 19999\n",
      "Data columns (total 6 columns):\n",
      " #   Column    Non-Null Count  Dtype \n",
      "---  ------    --------------  ----- \n",
      " 0   id        20000 non-null  object\n",
      " 1   date      20000 non-null  object\n",
      " 2   title     20000 non-null  object\n",
      " 3   body      20000 non-null  object\n",
      " 4   subjects  20000 non-null  object\n",
      " 5   tokens    20000 non-null  object\n",
      "dtypes: object(6)\n",
      "memory usage: 937.6+ KB\n"
     ]
    }
   ],
   "source": [
    "df.info()"
   ]
  },
  {
   "cell_type": "code",
   "execution_count": 5,
   "metadata": {},
   "outputs": [],
   "source": [
    "# convert date string to date object and normalize to ignore the time\n",
    "df['date'] = pd.to_datetime(df['date'], utc=True)"
   ]
  },
  {
   "cell_type": "code",
   "execution_count": 6,
   "metadata": {},
   "outputs": [
    {
     "data": {
      "text/html": [
       "<div>\n",
       "<style scoped>\n",
       "    .dataframe tbody tr th:only-of-type {\n",
       "        vertical-align: middle;\n",
       "    }\n",
       "\n",
       "    .dataframe tbody tr th {\n",
       "        vertical-align: top;\n",
       "    }\n",
       "\n",
       "    .dataframe thead th {\n",
       "        text-align: right;\n",
       "    }\n",
       "</style>\n",
       "<table border=\"1\" class=\"dataframe\">\n",
       "  <thead>\n",
       "    <tr style=\"text-align: right;\">\n",
       "      <th></th>\n",
       "      <th>id</th>\n",
       "      <th>date</th>\n",
       "      <th>title</th>\n",
       "      <th>body</th>\n",
       "      <th>subjects</th>\n",
       "      <th>tokens</th>\n",
       "    </tr>\n",
       "  </thead>\n",
       "  <tbody>\n",
       "    <tr>\n",
       "      <th>0</th>\n",
       "      <td>3-9375096</td>\n",
       "      <td>2016-12-27 19:07:56+00:00</td>\n",
       "      <td>Liverpool sahasi Stoken aivan sekaisin</td>\n",
       "      <td></td>\n",
       "      <td>[urheilu, englannin, valioliiga, stoke, city, ...</td>\n",
       "      <td>[liverpool, sahasi, stoken, aivan, sekaisin]</td>\n",
       "    </tr>\n",
       "    <tr>\n",
       "      <th>1</th>\n",
       "      <td>20-194518</td>\n",
       "      <td>2017-06-09 09:43:12+00:00</td>\n",
       "      <td>Jazzin show-mies Rahsaan Roland Kirk puhalsi s...</td>\n",
       "      <td></td>\n",
       "      <td>[rahsaan, roland, kirk, saksofoni, huilu, mult...</td>\n",
       "      <td>[jazzin, show, mies, rahsaan, roland, kirk, pu...</td>\n",
       "    </tr>\n",
       "    <tr>\n",
       "      <th>2</th>\n",
       "      <td>20-217168</td>\n",
       "      <td>2014-07-29 08:35:19+00:00</td>\n",
       "      <td>Loost Koosin Särre lähtee sooloilemaan – video...</td>\n",
       "      <td></td>\n",
       "      <td>[särre, miika, särmäkari, ylex, suomirap, ruud...</td>\n",
       "      <td>[loost, koosin, särre, lähtee, sooloilemaan, v...</td>\n",
       "    </tr>\n",
       "    <tr>\n",
       "      <th>3</th>\n",
       "      <td>3-6234345</td>\n",
       "      <td>2012-07-29 08:53:59+00:00</td>\n",
       "      <td>Räikköstä povataan takaisin Ferrarille</td>\n",
       "      <td></td>\n",
       "      <td>[urheilu, formula, 1, moottoriurheilu, ferrari...</td>\n",
       "      <td>[räikköstä, povataan, takaisin, ferrarille]</td>\n",
       "    </tr>\n",
       "    <tr>\n",
       "      <th>4</th>\n",
       "      <td>3-9472646</td>\n",
       "      <td>2017-02-21 17:00:09+00:00</td>\n",
       "      <td>Video: TsSKA sai apuja tuomareilta – Jokerien ...</td>\n",
       "      <td></td>\n",
       "      <td>[urheilu, khl, pfk, tsska, moskova, jokerit, u...</td>\n",
       "      <td>[video, tsska, sai, apuja, tuomareilta, jokeri...</td>\n",
       "    </tr>\n",
       "  </tbody>\n",
       "</table>\n",
       "</div>"
      ],
      "text/plain": [
       "          id                      date  \\\n",
       "0  3-9375096 2016-12-27 19:07:56+00:00   \n",
       "1  20-194518 2017-06-09 09:43:12+00:00   \n",
       "2  20-217168 2014-07-29 08:35:19+00:00   \n",
       "3  3-6234345 2012-07-29 08:53:59+00:00   \n",
       "4  3-9472646 2017-02-21 17:00:09+00:00   \n",
       "\n",
       "                                               title body  \\\n",
       "0             Liverpool sahasi Stoken aivan sekaisin        \n",
       "1  Jazzin show-mies Rahsaan Roland Kirk puhalsi s...        \n",
       "2  Loost Koosin Särre lähtee sooloilemaan – video...        \n",
       "3             Räikköstä povataan takaisin Ferrarille        \n",
       "4  Video: TsSKA sai apuja tuomareilta – Jokerien ...        \n",
       "\n",
       "                                            subjects  \\\n",
       "0  [urheilu, englannin, valioliiga, stoke, city, ...   \n",
       "1  [rahsaan, roland, kirk, saksofoni, huilu, mult...   \n",
       "2  [särre, miika, särmäkari, ylex, suomirap, ruud...   \n",
       "3  [urheilu, formula, 1, moottoriurheilu, ferrari...   \n",
       "4  [urheilu, khl, pfk, tsska, moskova, jokerit, u...   \n",
       "\n",
       "                                              tokens  \n",
       "0       [liverpool, sahasi, stoken, aivan, sekaisin]  \n",
       "1  [jazzin, show, mies, rahsaan, roland, kirk, pu...  \n",
       "2  [loost, koosin, särre, lähtee, sooloilemaan, v...  \n",
       "3        [räikköstä, povataan, takaisin, ferrarille]  \n",
       "4  [video, tsska, sai, apuja, tuomareilta, jokeri...  "
      ]
     },
     "execution_count": 6,
     "metadata": {},
     "output_type": "execute_result"
    }
   ],
   "source": [
    "df.head()"
   ]
  },
  {
   "cell_type": "code",
   "execution_count": 76,
   "metadata": {},
   "outputs": [
    {
     "data": {
      "text/plain": [
       "pandas._libs.tslibs.timestamps.Timestamp"
      ]
     },
     "execution_count": 76,
     "metadata": {},
     "output_type": "execute_result"
    }
   ],
   "source": [
    "type(df.iloc[0]['date'])"
   ]
  },
  {
   "cell_type": "code",
   "execution_count": 10,
   "metadata": {},
   "outputs": [],
   "source": [
    "def build_dictionary(tokens, save_path):\n",
    "    \"\"\"\n",
    "    Build dictionary from tokens list to get unique vocab\n",
    "    \"\"\"\n",
    "    dct = Dictionary(tokens)\n",
    "    dct.save(save_path)\n",
    "    \n",
    "    return dct\n",
    "\n",
    "def get_term_doc_freq(dictionary, token):\n",
    "    \"\"\"\n",
    "    Get the term frequency, and number of docs contain that term\n",
    "    \"\"\"\n",
    "    term_id = dictionary.token2id[token]\n",
    "    term_freq = dictionary.cfs[term_id]\n",
    "    doc_freq = dictionary.dfs[term_id]\n",
    "    return term_freq, doc_freq\n",
    "\n",
    "def count_terms_per_doc(dictionary, docs_tokens):\n",
    "    \"\"\"\n",
    "    Get the terms frequency in all doc\n",
    "    return: List of tuple (term_id, freq_in_doc)\n",
    "    \"\"\"\n",
    "    freq_list = []\n",
    "    for tokens in docs_tokens:\n",
    "        terms_freq = dictionary.doc2bow(tokens)\n",
    "        freq_list.append(terms_freq)\n",
    "    \n",
    "    return freq_list\n",
    "\n",
    "def query_term(term, docs_terms_freq, dictionary):\n",
    "    \"\"\"\n",
    "    Map term freq to articles by date\n",
    "    \"\"\"\n",
    "    term_id = dictionary.token2id[term]\n",
    "    count = np.zeros(len(docs_terms_freq), dtype=int)\n",
    "    \n",
    "    for i, doc in enumerate(docs_terms_freq):\n",
    "        for freq in doc:\n",
    "            if term_id == freq[0]:\n",
    "                count[i] = freq[1]\n",
    "                continue\n",
    "    \n",
    "    return count\n",
    "    \n",
    "    \n",
    "    \n",
    "\n",
    "def visualize_term_freq(df, freq):\n",
    "    df_freq = df[['id', 'date']].copy()\n",
    "    df_freq['freq'] = freq\n",
    "    # df_freq.index = pd.to_datetime(df_freq.index)\n",
    "    print(type(df_freq.iloc[0]['date']))\n",
    "    \n",
    "    df_freq['Year'] = df_freq['date'].dt.year\n",
    "    df_freq['Month'] = df_freq['date'].dt.month\n",
    "    df_freq['Weekday'] = df_freq['date'].dt.weekday\n",
    "    \n",
    "    df_freq.set_index('date', inplace=True)\n",
    "\n",
    "    df_agg = df_freq.groupby(['Year', 'Month']).agg({'id': 'first', 'freq': 'sum'})\n",
    "    \n",
    "    print(df_agg.head())\n",
    "    \n",
    "    sns.set(rc={'figure.figsize':(20, 5)})\n",
    "    ax = df_agg['freq'].plot(marker='o', linestyle='-')\n",
    "    ax.set_ylabel('Frequency by month');\n",
    "    plt.show()\n",
    "    \n",
    "    return df_agg\n"
   ]
  },
  {
   "cell_type": "code",
   "execution_count": 8,
   "metadata": {},
   "outputs": [],
   "source": [
    "dictionary = build_dictionary(df['tokens'], save_path='models/dev/dictionary.pkl')"
   ]
  },
  {
   "cell_type": "code",
   "execution_count": 5,
   "metadata": {},
   "outputs": [],
   "source": [
    "dictionary = Dictionary.load('models/dev/dictionary.pkl')"
   ]
  },
  {
   "cell_type": "code",
   "execution_count": 25,
   "metadata": {},
   "outputs": [
    {
     "data": {
      "text/plain": [
       "'olivat'"
      ]
     },
     "execution_count": 25,
     "metadata": {},
     "output_type": "execute_result"
    }
   ],
   "source": [
    "dictionary[53]"
   ]
  },
  {
   "cell_type": "code",
   "execution_count": 26,
   "metadata": {},
   "outputs": [
    {
     "data": {
      "text/plain": [
       "809"
      ]
     },
     "execution_count": 26,
     "metadata": {},
     "output_type": "execute_result"
    }
   ],
   "source": [
    "dictionary.dfs[53]"
   ]
  },
  {
   "cell_type": "code",
   "execution_count": 11,
   "metadata": {},
   "outputs": [
    {
     "name": "stdout",
     "output_type": "stream",
     "text": [
      "CPU times: user 189 ms, sys: 5 ms, total: 194 ms\n",
      "Wall time: 194 ms\n"
     ]
    }
   ],
   "source": [
    "%%time\n",
    "docs_terms_freq = count_terms_per_doc(dictionary, df['tokens'])"
   ]
  },
  {
   "cell_type": "code",
   "execution_count": 30,
   "metadata": {},
   "outputs": [],
   "source": [
    "# docs_term_freq[78]"
   ]
  },
  {
   "cell_type": "code",
   "execution_count": 13,
   "metadata": {},
   "outputs": [],
   "source": [
    "query_key = \"suomi\"\n",
    "query_freq = query_term(query_key, docs_terms_freq, dictionary)"
   ]
  },
  {
   "cell_type": "code",
   "execution_count": 89,
   "metadata": {},
   "outputs": [],
   "source": [
    "# Now we can visualize the term frequency density in timeline"
   ]
  },
  {
   "cell_type": "code",
   "execution_count": 14,
   "metadata": {},
   "outputs": [
    {
     "name": "stdout",
     "output_type": "stream",
     "text": [
      "<class 'pandas._libs.tslibs.timestamps.Timestamp'>\n",
      "                   id  freq\n",
      "Year Month                 \n",
      "2010 12     3-5299869     0\n",
      "2011 1      3-5302354     1\n",
      "     2      3-5082401     1\n",
      "     3      3-5331143     2\n",
      "     4      3-5339642     0\n"
     ]
    },
    {
     "data": {
      "image/png": "[encoded data removed]",
      "text/plain": [
       "<Figure size 1440x360 with 1 Axes>"
      ]
     },
     "metadata": {},
     "output_type": "display_data"
    }
   ],
   "source": [
    "df_freq = visualize_term_freq(df, query_freq)"
   ]
  },
  {
   "cell_type": "code",
   "execution_count": 28,
   "metadata": {},
   "outputs": [
    {
     "data": {
      "text/plain": [
       "'ei'"
      ]
     },
     "execution_count": 28,
     "metadata": {},
     "output_type": "execute_result"
    }
   ],
   "source": [
    "dictionary[15]"
   ]
  },
  {
   "cell_type": "code",
   "execution_count": 30,
   "metadata": {},
   "outputs": [
    {
     "data": {
      "text/plain": [
       "7771"
      ]
     },
     "execution_count": 30,
     "metadata": {},
     "output_type": "execute_result"
    }
   ],
   "source": [
    "dictionary.token2id['kuntavaalien']"
   ]
  },
  {
   "cell_type": "code",
   "execution_count": null,
   "metadata": {},
   "outputs": [],
   "source": [
    "# to visualize by term:\n",
    "# term input => per_doc => per year"
   ]
  },
  {
   "cell_type": "code",
   "execution_count": 107,
   "metadata": {},
   "outputs": [
    {
     "name": "stdout",
     "output_type": "stream",
     "text": [
      "<class 'pandas.core.frame.DataFrame'>\n",
      "MultiIndex: 96 entries, (2011, 1) to (2018, 12)\n",
      "Data columns (total 2 columns):\n",
      " #   Column  Non-Null Count  Dtype \n",
      "---  ------  --------------  ----- \n",
      " 0   id      96 non-null     object\n",
      " 1   freq    96 non-null     int64 \n",
      "dtypes: int64(1), object(1)\n",
      "memory usage: 1.9+ KB\n"
     ]
    }
   ],
   "source": [
    "df_freq.info()"
   ]
  },
  {
   "cell_type": "code",
   "execution_count": 16,
   "metadata": {},
   "outputs": [
    {
     "name": "stdout",
     "output_type": "stream",
     "text": [
      "[0 1 1 2 0 2 1 0 1 2]\n",
      "[ 0 19 38 57 76 95]\n"
     ]
    },
    {
     "data": {
      "text/plain": [
       "<Figure size 1440x720 with 0 Axes>"
      ]
     },
     "metadata": {},
     "output_type": "display_data"
    },
    {
     "data": {
      "image/png": "[encoded data removed]",
      "text/plain": [
       "<Figure size 720x144 with 1 Axes>"
      ]
     },
     "metadata": {},
     "output_type": "display_data"
    }
   ],
   "source": [
    "# generate signal\n",
    "# n_samples, dim, sigma = 1000, 1, 1\n",
    "n_bkps = 5  # number of breakpoints\n",
    "\n",
    "# signal, bkps = rpt.pw_constant(n_samples, dim, n_bkps, noise_std=sigma)\n",
    "signal = df_freq['freq'].to_numpy()\n",
    "bkps = np.arange(0, len(signal), int(len(signal) / n_bkps), dtype=int)\n",
    "print(signal[:10])\n",
    "print(bkps)\n",
    "# detection\n",
    "algo = rpt.Dynp(model=\"rbf\").fit(signal)\n",
    "result = algo.predict(5)\n",
    "# display\n",
    "\n",
    "plt.figure(figsize=(20,10))\n",
    "rpt.display(signal, bkps, result)\n",
    "\n",
    "plt.show()\n"
   ]
  },
  {
   "cell_type": "code",
   "execution_count": null,
   "metadata": {},
   "outputs": [],
   "source": []
  }
 ],
 "metadata": {
  "kernelspec": {
   "display_name": "Python 3",
   "language": "python",
   "name": "python3"
  },
  "language_info": {
   "codemirror_mode": {
    "name": "ipython",
    "version": 3
   },
   "file_extension": ".py",
   "mimetype": "text/x-python",
   "name": "python",
   "nbconvert_exporter": "python",
   "pygments_lexer": "ipython3",
   "version": "3.7.5"
  },
  "varInspector": {
   "cols": {
    "lenName": 16,
    "lenType": 16,
    "lenVar": 40
   },
   "kernels_config": {
    "python": {
     "delete_cmd_postfix": "",
     "delete_cmd_prefix": "del ",
     "library": "var_list.py",
     "varRefreshCmd": "print(var_dic_list())"
    },
    "r": {
     "delete_cmd_postfix": ") ",
     "delete_cmd_prefix": "rm(",
     "library": "var_list.r",
     "varRefreshCmd": "cat(var_dic_list()) "
    }
   },
   "types_to_exclude": [
    "module",
    "function",
    "builtin_function_or_method",
    "instance",
    "_Feature"
   ],
   "window_display": false
  }
 },
 "nbformat": 4,
 "nbformat_minor": 4
}
