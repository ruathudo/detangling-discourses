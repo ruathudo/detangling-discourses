{
 "cells": [
  {
   "cell_type": "code",
   "execution_count": 1,
   "metadata": {},
   "outputs": [],
   "source": [
    "import pandas as pd\n",
    "import numpy as np\n",
    "import pickle\n",
    "from numpy import random\n",
    "from scipy.stats import norm\n",
    "from itertools import combinations, permutations, product\n",
    "\n",
    "from gensim.models import LdaModel, LdaMulticore, CoherenceModel\n",
    "from gensim.corpora import Dictionary\n",
    "from gensim.utils import simple_preprocess\n",
    "from gensim.models import Doc2Vec\n",
    "\n",
    "from sklearn.model_selection import train_test_split\n",
    "from sklearn.preprocessing import minmax_scale\n",
    "\n",
    "from tqdm import tqdm\n",
    "\n",
    "import matplotlib.pyplot as plt\n",
    "import seaborn as sns\n",
    "\n",
    "%matplotlib inline"
   ]
  },
  {
   "cell_type": "code",
   "execution_count": 2,
   "metadata": {},
   "outputs": [],
   "source": [
    "df = pd.read_json('data/dev/cluster_12_cats.json')"
   ]
  },
  {
   "cell_type": "code",
   "execution_count": 7,
   "metadata": {},
   "outputs": [
    {
     "name": "stdout",
     "output_type": "stream",
     "text": [
      "<class 'pandas.core.frame.DataFrame'>\n",
      "Int64Index: 207881 entries, 0 to 207880\n",
      "Data columns (total 6 columns):\n",
      " #   Column    Non-Null Count   Dtype \n",
      "---  ------    --------------   ----- \n",
      " 0   id        207881 non-null  object\n",
      " 1   date      207881 non-null  object\n",
      " 2   title     207881 non-null  object\n",
      " 3   body      207881 non-null  object\n",
      " 4   subjects  207881 non-null  object\n",
      " 5   category  207881 non-null  object\n",
      "dtypes: object(6)\n",
      "memory usage: 11.1+ MB\n"
     ]
    }
   ],
   "source": [
    "df.info()"
   ]
  },
  {
   "cell_type": "code",
   "execution_count": 4,
   "metadata": {},
   "outputs": [
    {
     "data": {
      "text/plain": [
       "array(['autot', 'musiikki', 'luonto', 'vaalit', 'taudit', 'työllisyys',\n",
       "       'jääkiekko', 'kulttuuri', 'rikokset', 'koulut', 'tulipalot',\n",
       "       'ruoat'], dtype=object)"
      ]
     },
     "execution_count": 4,
     "metadata": {},
     "output_type": "execute_result"
    }
   ],
   "source": [
    "df['category'].unique()"
   ]
  },
  {
   "cell_type": "code",
   "execution_count": 5,
   "metadata": {},
   "outputs": [],
   "source": [
    "# df.drop_duplicates('id', inplace=True)"
   ]
  },
  {
   "cell_type": "code",
   "execution_count": 6,
   "metadata": {},
   "outputs": [],
   "source": [
    "# df.reset_index(inplace=True, drop=True)"
   ]
  },
  {
   "cell_type": "code",
   "execution_count": 7,
   "metadata": {},
   "outputs": [],
   "source": [
    "# df.to_json('data/dev/cluster_12_cats.json')"
   ]
  },
  {
   "cell_type": "code",
   "execution_count": 2,
   "metadata": {},
   "outputs": [],
   "source": [
    "def sample_sigmoid(time_range, n=1, change_rate=0.5):\n",
    "    x = np.arange(time_range)\n",
    "    mid = int(time_range / 2)\n",
    "    y = (1 / (1 + np.exp(-0.1* (x-mid) ))) * n * change_rate\n",
    "    y = (y - y.min()) / (y.max() - y.min())\n",
    "    \n",
    "    y = n + y * n * change_rate\n",
    "    \n",
    "    print(y)\n",
    "    plt.figure(figsize=(20, 5))\n",
    "    plt.plot(x, y)\n",
    "    plt.show()\n",
    "    \n",
    "def sample_bell(time_range, n=1, change_rate=0.5, std=0):\n",
    "    x = np.arange(time_range)\n",
    "    mu = int(time_range / 2)\n",
    "    std = std if std else int(time_range / 5)\n",
    "    y = norm.pdf(x, mu, std)\n",
    "    # scale 0-1\n",
    "    y_min = y.min()\n",
    "    y_max = y.max()\n",
    "    y = (y - y_min) / (y_max - y_min)\n",
    "    # add n docs\n",
    "    y = n + y * n * change_rate\n",
    "    \n",
    "    plt.figure(figsize=(10, 5))\n",
    "    plt.plot(x, y)\n",
    "    plt.show()\n",
    "    \n",
    "\n",
    "def sample_linear(time_range, n=100, change_rate=0.5):\n",
    "    x = np.arange(time_range)\n",
    "    y = (x - x.min()) / (x.max() - x.min())\n",
    "    y = n + y * n * change_rate\n",
    "    \n",
    "    plt.figure(figsize=(10, 5))\n",
    "    plt.plot(x, y)\n",
    "    plt.show()"
   ]
  },
  {
   "cell_type": "code",
   "execution_count": 3,
   "metadata": {},
   "outputs": [
    {
     "name": "stdout",
     "output_type": "stream",
     "text": [
      "[1.         1.00434886 1.00907571 1.01420522 1.01976211 1.02577071\n",
      " 1.03225463 1.03923621 1.04673601 1.05477219 1.06335984 1.07251035\n",
      " 1.08223063 1.09252244 1.10338175 1.11479806 1.12675395 1.13922469\n",
      " 1.15217803 1.16557416 1.17936597 1.19349947 1.20791447 1.22254552\n",
      " 1.237323   1.25217443 1.26702586 1.28180334 1.29643439 1.31084939\n",
      " 1.32498289 1.3387747  1.35217083 1.36512417 1.37759491 1.38955081\n",
      " 1.40096711 1.41182642 1.42211823 1.43183851 1.44098902 1.44957668\n",
      " 1.45761285 1.46511265 1.47209423 1.47857815 1.48458676 1.49014364\n",
      " 1.49527315 1.5       ]\n"
     ]
    },
    {
     "data": {
      "image/png": "[encoded data removed]",
      "text/plain": [
       "<Figure size 1440x360 with 1 Axes>"
      ]
     },
     "metadata": {
      "needs_background": "light"
     },
     "output_type": "display_data"
    }
   ],
   "source": [
    "sample_sigmoid(50, n=1, change_rate=0.5)"
   ]
  },
  {
   "cell_type": "code",
   "execution_count": 3,
   "metadata": {
    "code_folding": [
     220,
     278
    ]
   },
   "outputs": [],
   "source": [
    "def linear_pattern(n=1, start=0, stop=100, change_rate=1):\n",
    "    \"\"\"\n",
    "    Sampling up pattern, start and end in random points\n",
    "    \"\"\"\n",
    "    # print(lower_p, upper_p)\n",
    "    # change_points = np.array([0, lower_p, upper_p, timeline], dtype=int)\n",
    "    x = np.arange(start, stop)\n",
    "    # normalize x to range 0-1\n",
    "    y = (x - start) / (stop - start)\n",
    "    freq_rates = n + y * n * change_rate\n",
    "    \n",
    "    return freq_rates\n",
    "\n",
    "def sigmoid_pattern(n=1, start=0, stop=100, change_rate=1):\n",
    "    x = np.arange(start, stop)\n",
    "    mid = int((stop - start) / 2)\n",
    "    y = 1 / (1 + np.exp(-0.1* (x-mid) ))\n",
    "    y = (y - y.min()) / (y.max() - y.min())\n",
    "    \n",
    "    freq_rates = n + y * n * change_rate\n",
    "    return freq_rates\n",
    "\n",
    "def flat_pattern(n=1, start=0, stop=100):\n",
    "    freq_rates = np.ones(stop-start) * n\n",
    "    return freq_rates\n",
    "\n",
    "\n",
    "def bell_pattern(n=1, start=0, stop=100, change_rate=1, std=0):\n",
    "    sample_list = []\n",
    "    time_range = stop - start\n",
    "    \n",
    "    x = np.arange(start, stop)\n",
    "    mu = int(time_range / 2)\n",
    "    \n",
    "    std = std if std else int(time_range / 5)\n",
    "    y = norm.pdf(np.arange(time_range), mu, std)\n",
    "    # scale 0-1\n",
    "    y = (y - y.min()) / (y.max() - y.min())\n",
    "    # add n docs\n",
    "    freq_rates = n + y * n * change_rate\n",
    "    \n",
    "    return freq_rates\n",
    "\n",
    "\n",
    "def sample_pattern(pattern, timeline=100, change_rate=0.01):\n",
    "    sample = None\n",
    "    \n",
    "    if pattern == 'up':\n",
    "        lower_p = np.random.randint(low=1, high=timeline-30)\n",
    "        upper_p = np.random.randint(low=lower_p+20, high=timeline)\n",
    "        \n",
    "        # f1, f2, f3 [-1] is the start of freqs ratio for the pattern as the chaning variable\n",
    "        f1 = flat_pattern(1, start=0, stop=lower_p)\n",
    "        f2 = sigmoid_pattern(f1[-1], start=lower_p, stop=upper_p, change_rate=change_rate)\n",
    "        f3 = flat_pattern(f2[-1], start=upper_p, stop=timeline)\n",
    "        \n",
    "        # the frequency ratio \n",
    "        time_freqs = np.concatenate((f1, f2, f3))\n",
    "        time_freqs = time_freqs / time_freqs.sum()\n",
    "\n",
    "        change_points = np.array([lower_p, upper_p])\n",
    "        \n",
    "    elif pattern == 'down':\n",
    "        lower_p = np.random.randint(low=1, high=timeline-30)\n",
    "        upper_p = np.random.randint(low=lower_p+20, high=timeline)\n",
    "        \n",
    "        f1 = flat_pattern(1, start=0, stop=lower_p)\n",
    "        f2 = sigmoid_pattern(f1[-1], start=lower_p, stop=upper_p, change_rate=-change_rate)\n",
    "        f3 = flat_pattern(f2[-1], start=upper_p, stop=timeline)\n",
    "        \n",
    "        # the frequency ratio \n",
    "        time_freqs = np.concatenate((f1, f2, f3))\n",
    "        time_freqs = time_freqs / time_freqs.sum()\n",
    "\n",
    "        change_points = np.array([lower_p, upper_p])\n",
    "        \n",
    "    elif pattern == 'spike_up':\n",
    "        n_point = np.random.randint(1, 5)\n",
    "        invalid = True\n",
    "        \n",
    "        while invalid:\n",
    "            change_points = np.sort(np.random.choice(range(5, timeline - 5), n_point, replace=False))\n",
    "            diff = np.diff(change_points)\n",
    "            invalid = len(np.where(diff < 10)[0])\n",
    "            \n",
    "        change_rates = np.random.uniform(0.3, change_rate, n_point)\n",
    "        #print(change_points)\n",
    "        cur_p = 0\n",
    "        cur_n = 1\n",
    "        \n",
    "        time_freqs = []\n",
    "        \n",
    "        for i, p in enumerate(change_points):\n",
    "            #print(cur_p, p - 2)\n",
    "            f1 = flat_pattern(cur_n, start=cur_p, stop=p-2)\n",
    "            cur_n = f1[-1]\n",
    "            f2 = bell_pattern(cur_n, start=p-2, stop=p+3, change_rate=change_rates[i], std=0.1)\n",
    "            cur_n = f2[-1]\n",
    "            \n",
    "            time_freqs.append(f1)\n",
    "            time_freqs.append(f2)\n",
    "            \n",
    "            cur_p = p + 3\n",
    "            \n",
    "            if i == len(change_points) - 1:\n",
    "                f3 = flat_pattern(cur_n, start=cur_p, stop=timeline)\n",
    "                time_freqs.append(f3)\n",
    "\n",
    "        time_freqs = np.concatenate(time_freqs)\n",
    "        time_freqs = time_freqs / time_freqs.sum()\n",
    "        \n",
    "    elif pattern == 'spike_down':\n",
    "        n_point = np.random.randint(1, 5)\n",
    "        invalid = True\n",
    "        # generate n points with min distance 10\n",
    "        while invalid:\n",
    "            change_points = np.sort(np.random.choice(range(5, timeline - 5), n_point, replace=False))\n",
    "            diff = np.diff(change_points)\n",
    "            invalid = len(np.where(diff < 10)[0])\n",
    "            \n",
    "        change_rates = np.random.uniform(0.3, change_rate, n_point)\n",
    "        cur_p = 0\n",
    "        cur_n = 1\n",
    "        \n",
    "        time_freqs = []\n",
    "        \n",
    "        for i, p in enumerate(change_points):\n",
    "\n",
    "            f1 = flat_pattern(cur_n, start=cur_p, stop=p-2)\n",
    "            cur_n = f1[-1]\n",
    "            f2 = bell_pattern(cur_n, start=p-2, stop=p+3, change_rate=-change_rates[i], std=0.1)\n",
    "            cur_n = f2[-1]\n",
    "            \n",
    "            time_freqs.append(f1)\n",
    "            time_freqs.append(f2)\n",
    "            \n",
    "            cur_p = p + 3\n",
    "            \n",
    "            if i == len(change_points) - 1:\n",
    "                f3 = flat_pattern(cur_n, start=cur_p, stop=timeline)\n",
    "                time_freqs.append(f3)\n",
    "            \n",
    "        time_freqs = np.concatenate(time_freqs)\n",
    "        time_freqs = time_freqs / time_freqs.sum()\n",
    "        \n",
    "    elif pattern == 'up_down':\n",
    "        lower_p = np.random.randint(low=1, high=timeline-20)\n",
    "        upper_p = np.random.randint(low=lower_p+10, high=timeline)\n",
    "        \n",
    "        f1 = flat_pattern(1, start=0, stop=lower_p)\n",
    "        f2 = bell_pattern(f1[-1], start=lower_p, stop=upper_p, change_rate=change_rate)\n",
    "        f3 = flat_pattern(f2[-1], start=upper_p, stop=timeline)\n",
    "        \n",
    "        # the frequency ratio \n",
    "        time_freqs = np.concatenate((f1, f2, f3))\n",
    "        time_freqs = time_freqs / time_freqs.sum()\n",
    "        \n",
    "        mid_p = int(lower_p + (upper_p - lower_p) / 2)\n",
    "        change_points = np.array([lower_p, mid_p, upper_p])\n",
    "        \n",
    "    elif pattern == 'down_up':\n",
    "        lower_p = np.random.randint(low=1, high=timeline-20)\n",
    "        upper_p = np.random.randint(low=lower_p+10, high=timeline)\n",
    "        \n",
    "        f1 = flat_pattern(1, start=0, stop=lower_p)\n",
    "        f2 = bell_pattern(f1[-1], start=lower_p, stop=upper_p, change_rate=-change_rate)\n",
    "        f3 = flat_pattern(f2[-1], start=upper_p, stop=timeline)\n",
    "        \n",
    "        # the frequency ratio \n",
    "        \n",
    "        time_freqs = np.concatenate((f1, f2, f3))\n",
    "        time_freqs = time_freqs / time_freqs.sum()\n",
    "\n",
    "        mid_p = int(lower_p + (upper_p - lower_p) / 2)\n",
    "        change_points = np.array([lower_p, mid_p, upper_p])\n",
    "        \n",
    "    else:\n",
    "        time_freqs = flat_pattern(1, start=0, stop=timeline)\n",
    "        time_freqs = time_freqs / time_freqs.sum()\n",
    "        change_points = np.empty(shape=(0,))\n",
    "        \n",
    "    return time_freqs, change_points.astype(int)\n",
    "\n",
    "def sample_val_pattern(data, time_freqs, change_points, n_doc):\n",
    "    # calculate the docs_num based on the total docs and its freqs distribution\n",
    "    docs_num = (n_doc * time_freqs).astype(int)\n",
    "    sample = data.sample(n_doc)\n",
    "    sample['time'] = -1\n",
    "        \n",
    "    cur = 0\n",
    "    for i, n in enumerate(docs_num):\n",
    "        sample.iloc[cur:cur+n, sample.columns.get_loc(\"time\")] = i\n",
    "        cur += n\n",
    "    \n",
    "    # because the freq is converted to int so some articles will remain -1 for time, we need to prunt those\n",
    "    sample = sample[sample['time'] > -1]\n",
    "    \n",
    "    return sample, change_points\n",
    "\n",
    "\n",
    "def create_train_samples(timeline=100, n_samples=100, noise_rates=[0, 0.01, 0.1], change_rates=[0.5, 1]):\n",
    "    patterns = ['up', 'down', 'up_down', 'down_up', 'spike_up', 'spike_down', 'stable']\n",
    "    events = np.random.choice(patterns, n_samples, p=[0.1, 0.1, 0.1, 0.1, 0.1, 0.1, 0.4])\n",
    "    rates = np.random.uniform(*change_rates, n_samples)\n",
    "    # noises = np.random.normal(1e-3, 5e-4, n_samples)\n",
    "    noises = np.random.choice(noise_rates, n_samples, p=[0.1, 0.2, 0.7])\n",
    "    \n",
    "    data = []\n",
    "    \n",
    "    for i, e in enumerate(events):\n",
    "        values, pivots = sample_pattern(e, timeline=100, change_rate=rates[i])\n",
    "        values = values + np.random.uniform(0, 1, size=timeline) * noises[i]   # np.random.choice(noise_rates, p=[0.1, 0.5, 0.4])\n",
    "        values = minmax_scale(values)\n",
    "        data.append([values, pivots, e])\n",
    "    \n",
    "    df = pd.DataFrame(data, columns=['freqs','pivots', 'pattern'])\n",
    "    \n",
    "    return df\n",
    "    \n",
    "    \n",
    "def create_test_samples(df, n_samples=100, min_doc=50, max_doc=100, frac=0.99, timeline=100, change_rates=[0.5, 1]):\n",
    "    categories = df['category'].unique()\n",
    "    \n",
    "    samples = []   # list article ids\n",
    "    tracker = pd.DataFrame(columns=['category', 'pattern', 'pivots'])\n",
    "    # sample_pivots = []  # list of pivots index in timeline, need to map with ids\n",
    "    patterns = ['up', 'down', 'up_down', 'down_up', 'spike_up', 'spike_down']\n",
    "    # events = np.random.choice(patterns, n_samples, p=[0.1, 0.1, 0.1, 0.1, 0.1, 0.1, 0.4])\n",
    "    # patterns = ['spike_down']\n",
    "    \n",
    "    g = df.groupby(['category'])\n",
    "    \n",
    "    for _ in range(n_samples):\n",
    "        # select random category as the target\n",
    "        # And the rest as noise\n",
    "        cat = np.random.choice(categories)\n",
    "        pattern = np.random.choice(patterns)\n",
    "        change_rate = np.random.uniform(*change_rates)\n",
    "        df_sample = []\n",
    "        \n",
    "        for c in categories:\n",
    "            if c == cat:\n",
    "                freqs, pivots = sample_pattern(pattern, timeline=timeline, change_rate=change_rate)\n",
    "            else:\n",
    "                freqs, _ = sample_pattern('stable', timeline=timeline, change_rate=change_rate)\n",
    "        \n",
    "            # get n_doc, which is random between min and max but not exceed the total docs in cluster\n",
    "            df_cat = g.get_group(c)[['id', 'category']]\n",
    "            df_len = len(df_cat)\n",
    "            n_doc = np.random.randint(min_doc, max_doc)\n",
    "            n_doc = min(n_doc, df_len)\n",
    "        \n",
    "            # calculate the docs_num based on the total docs and its freqs distribution\n",
    "            docs_num = (n_doc * freqs).astype(int)\n",
    "            sample = df_cat.sample(n_doc)\n",
    "            sample['time'] = -1\n",
    " \n",
    "            #print(sample.head())\n",
    "            \n",
    "            # assign the sampled time points to the docs\n",
    "            cur = 0\n",
    "            for i, n in enumerate(docs_num):\n",
    "                sample.iloc[cur:cur+n, sample.columns.get_loc(\"time\")] = i\n",
    "                cur += n\n",
    "\n",
    "            # because the freq is converted to int, so the n_doc > docs_num. so some articles will remain -1 for time, we need to prunt those\n",
    "            sample = sample[sample['time'] > -1]\n",
    "            df_sample.append(sample)\n",
    "            \n",
    "        df_sample = pd.concat(df_sample, ignore_index=True)\n",
    "        #df_sample = df_sample.sample(frac=frac)\n",
    "        samples.append(df_sample)\n",
    "        \n",
    "        tracker = tracker.append({'category':cat, 'pattern': pattern, 'pivots': pivots}, ignore_index=True)\n",
    "        \n",
    "    return samples, tracker\n",
    "\n",
    "\n",
    "def create_dataset2(df, timeline=100, change_rate=2, n_samples=100, min_doc=50, max_doc=100, frac=0.98):\n",
    "    categories = df['category'].unique()\n",
    "    n_cat = len(categories)\n",
    "    \n",
    "    samples = []   # list article ids\n",
    "    # sample_pivots = []  # list of pivots index in timeline, need to map with ids\n",
    "    \n",
    "    for _ in range(n_samples):\n",
    "        # select random category as the target\n",
    "        # And the rest as noise\n",
    "        cat = np.random.choice(categories)\n",
    "#         df_target = df[df['category'] == cat]\n",
    "#         df_noise = df[~(df['category'] == cat)]\n",
    "        \n",
    "        # take random n articles from group 1 and 2\n",
    "        # y = x * 1.2\n",
    "        \n",
    "        df_sample = pd.DataFrame()\n",
    "        \n",
    "        for c, g in df.groupby(['category']):\n",
    "            time_unit = []\n",
    "            n_doc = np.random.randint(min_doc, max_doc)\n",
    "    \n",
    "            for i in range(timeline):\n",
    "                if c == cat:\n",
    "                    n_target = int(n_doc  * (1 + i * change_rate/timeline))\n",
    "                    sample = g[['id', 'category']].sample(n=n_target)\n",
    "                    sample['target'] = True\n",
    "                else:\n",
    "                    n_noise = int(n_doc * (2 + change_rate)/2)\n",
    "                    sample = g[['id', 'category']].sample(n=n_noise)\n",
    "                    sample['target'] = False\n",
    "\n",
    "                sample['time'] = i\n",
    "                time_unit.append(sample)\n",
    "                \n",
    "            df_sample = pd.concat((df_sample, *time_unit), ignore_index=True)\n",
    "        \n",
    "        df_sample = df_sample.sample(frac=frac)\n",
    "        # sample.reset_index(drop=True, inplace=True)\n",
    "        samples.append(df_sample)\n",
    "        \n",
    "    return samples"
   ]
  },
  {
   "cell_type": "code",
   "execution_count": 21,
   "metadata": {},
   "outputs": [],
   "source": [
    "samples = create_train_samples(timeline=100, n_samples=100000, noise_rates=[5e-4, 1e-3, 2e-3], change_rates=[0.5, 0.8]) #, "
   ]
  },
  {
   "cell_type": "code",
   "execution_count": 5,
   "metadata": {},
   "outputs": [
    {
     "data": {
      "text/html": [
       "<div>\n",
       "<style scoped>\n",
       "    .dataframe tbody tr th:only-of-type {\n",
       "        vertical-align: middle;\n",
       "    }\n",
       "\n",
       "    .dataframe tbody tr th {\n",
       "        vertical-align: top;\n",
       "    }\n",
       "\n",
       "    .dataframe thead th {\n",
       "        text-align: right;\n",
       "    }\n",
       "</style>\n",
       "<table border=\"1\" class=\"dataframe\">\n",
       "  <thead>\n",
       "    <tr style=\"text-align: right;\">\n",
       "      <th></th>\n",
       "      <th>freqs</th>\n",
       "      <th>pivots</th>\n",
       "      <th>pattern</th>\n",
       "    </tr>\n",
       "  </thead>\n",
       "  <tbody>\n",
       "    <tr>\n",
       "      <th>0</th>\n",
       "      <td>[0.014269188615330552, 0.25664929463955066, 0....</td>\n",
       "      <td>[]</td>\n",
       "      <td>stable</td>\n",
       "    </tr>\n",
       "    <tr>\n",
       "      <th>1</th>\n",
       "      <td>[0.4080438329925087, 0.14011523485183108, 0.49...</td>\n",
       "      <td>[]</td>\n",
       "      <td>stable</td>\n",
       "    </tr>\n",
       "    <tr>\n",
       "      <th>2</th>\n",
       "      <td>[0.4555780107535642, 0.3203855961021457, 0.355...</td>\n",
       "      <td>[22, 32, 52, 69]</td>\n",
       "      <td>spike_up</td>\n",
       "    </tr>\n",
       "    <tr>\n",
       "      <th>3</th>\n",
       "      <td>[0.9531531763031207, 0.3927772326648429, 0.283...</td>\n",
       "      <td>[]</td>\n",
       "      <td>stable</td>\n",
       "    </tr>\n",
       "    <tr>\n",
       "      <th>4</th>\n",
       "      <td>[0.1377318847892307, 0.1774370134522737, 0.372...</td>\n",
       "      <td>[54, 70, 87]</td>\n",
       "      <td>up_down</td>\n",
       "    </tr>\n",
       "  </tbody>\n",
       "</table>\n",
       "</div>"
      ],
      "text/plain": [
       "                                               freqs            pivots  \\\n",
       "0  [0.014269188615330552, 0.25664929463955066, 0....                []   \n",
       "1  [0.4080438329925087, 0.14011523485183108, 0.49...                []   \n",
       "2  [0.4555780107535642, 0.3203855961021457, 0.355...  [22, 32, 52, 69]   \n",
       "3  [0.9531531763031207, 0.3927772326648429, 0.283...                []   \n",
       "4  [0.1377318847892307, 0.1774370134522737, 0.372...      [54, 70, 87]   \n",
       "\n",
       "    pattern  \n",
       "0    stable  \n",
       "1    stable  \n",
       "2  spike_up  \n",
       "3    stable  \n",
       "4   up_down  "
      ]
     },
     "execution_count": 5,
     "metadata": {},
     "output_type": "execute_result"
    }
   ],
   "source": [
    "samples.head()"
   ]
  },
  {
   "cell_type": "code",
   "execution_count": 376,
   "metadata": {},
   "outputs": [
    {
     "name": "stdout",
     "output_type": "stream",
     "text": [
      "pattern down\n"
     ]
    },
    {
     "data": {
      "image/png": "[encoded data removed]",
      "text/plain": [
       "<Figure size 1440x720 with 1 Axes>"
      ]
     },
     "metadata": {
      "needs_background": "light"
     },
     "output_type": "display_data"
    }
   ],
   "source": [
    "visualize_train_sample(samples)"
   ]
  },
  {
   "cell_type": "code",
   "execution_count": 338,
   "metadata": {},
   "outputs": [
    {
     "data": {
      "text/plain": [
       "array([ 1.39006771,  0.83812531, -1.05080844,  0.93988812, -1.63467349,\n",
       "       -0.13662061,  0.18291311, -0.98195602,  0.52067356,  0.86264107,\n",
       "       -0.33933748,  0.07704849,  1.21380405, -0.04114358, -0.87069365,\n",
       "       -1.26516112, -0.66245861,  2.05648155, -1.93106277, -0.4257285 ,\n",
       "       -0.18663397,  2.14114172,  0.34208344,  1.83185254,  1.83957294,\n",
       "        1.09719616,  1.23682282, -0.95256984,  0.69200629,  0.95124926])"
      ]
     },
     "execution_count": 338,
     "metadata": {},
     "output_type": "execute_result"
    }
   ],
   "source": [
    "np.random.normal(0, 1, 30)"
   ]
  },
  {
   "cell_type": "code",
   "execution_count": null,
   "metadata": {},
   "outputs": [],
   "source": []
  },
  {
   "cell_type": "code",
   "execution_count": null,
   "metadata": {},
   "outputs": [],
   "source": [
    "# 0.1, 0.4, 0.5\n",
    "# 0.1, 0.1, 0.8\n",
    "# 0.2, 0.5, 0.3\n",
    "# 0.1, 0.2, 0.7 best\n",
    "# 0.1, 0.3, 0.6\n",
    "# 0.2, 0.3, 0.5\n",
    "# 0.2, 0.6, 0.2 "
   ]
  },
  {
   "cell_type": "code",
   "execution_count": 22,
   "metadata": {},
   "outputs": [],
   "source": [
    "samples.to_pickle('data/prod/train_samples.pkl')"
   ]
  },
  {
   "cell_type": "code",
   "execution_count": 4,
   "metadata": {},
   "outputs": [],
   "source": [
    "samples = pd.read_pickle('data/prod/train_samples.pkl')"
   ]
  },
  {
   "cell_type": "code",
   "execution_count": 9,
   "metadata": {},
   "outputs": [
    {
     "data": {
      "text/html": [
       "<div>\n",
       "<style scoped>\n",
       "    .dataframe tbody tr th:only-of-type {\n",
       "        vertical-align: middle;\n",
       "    }\n",
       "\n",
       "    .dataframe tbody tr th {\n",
       "        vertical-align: top;\n",
       "    }\n",
       "\n",
       "    .dataframe thead th {\n",
       "        text-align: right;\n",
       "    }\n",
       "</style>\n",
       "<table border=\"1\" class=\"dataframe\">\n",
       "  <thead>\n",
       "    <tr style=\"text-align: right;\">\n",
       "      <th></th>\n",
       "      <th>freqs</th>\n",
       "      <th>pivots</th>\n",
       "      <th>pattern</th>\n",
       "    </tr>\n",
       "  </thead>\n",
       "  <tbody>\n",
       "    <tr>\n",
       "      <th>0</th>\n",
       "      <td>[0.8501266384547419, 0.9333112933106216, 0.968...</td>\n",
       "      <td>[11, 63]</td>\n",
       "      <td>spike_down</td>\n",
       "    </tr>\n",
       "    <tr>\n",
       "      <th>1</th>\n",
       "      <td>[0.5642528003020821, 0.5783295540701987, 0.996...</td>\n",
       "      <td>[]</td>\n",
       "      <td>stable</td>\n",
       "    </tr>\n",
       "    <tr>\n",
       "      <th>2</th>\n",
       "      <td>[0.9017256704805636, 0.9229583934523402, 0.986...</td>\n",
       "      <td>[16, 82]</td>\n",
       "      <td>down</td>\n",
       "    </tr>\n",
       "    <tr>\n",
       "      <th>3</th>\n",
       "      <td>[0.9460213693887373, 0.8285427047594923, 0.870...</td>\n",
       "      <td>[23, 57, 92]</td>\n",
       "      <td>down_up</td>\n",
       "    </tr>\n",
       "    <tr>\n",
       "      <th>4</th>\n",
       "      <td>[1.0, 0.962602833443452, 0.9951430981134859, 0...</td>\n",
       "      <td>[19, 95]</td>\n",
       "      <td>down</td>\n",
       "    </tr>\n",
       "  </tbody>\n",
       "</table>\n",
       "</div>"
      ],
      "text/plain": [
       "                                               freqs        pivots     pattern\n",
       "0  [0.8501266384547419, 0.9333112933106216, 0.968...      [11, 63]  spike_down\n",
       "1  [0.5642528003020821, 0.5783295540701987, 0.996...            []      stable\n",
       "2  [0.9017256704805636, 0.9229583934523402, 0.986...      [16, 82]        down\n",
       "3  [0.9460213693887373, 0.8285427047594923, 0.870...  [23, 57, 92]     down_up\n",
       "4  [1.0, 0.962602833443452, 0.9951430981134859, 0...      [19, 95]        down"
      ]
     },
     "execution_count": 9,
     "metadata": {},
     "output_type": "execute_result"
    }
   ],
   "source": [
    "samples.head()"
   ]
  },
  {
   "cell_type": "code",
   "execution_count": 7,
   "metadata": {},
   "outputs": [
    {
     "name": "stdout",
     "output_type": "stream",
     "text": [
      "CPU times: user 57.5 s, sys: 265 ms, total: 57.8 s\n",
      "Wall time: 57.5 s\n"
     ]
    }
   ],
   "source": [
    "# %%time\n",
    "# samples, tracker = create_samples(df, timeline=100, n_samples=2000, min_doc=5000, max_doc=15000, change_rate=0.8)"
   ]
  },
  {
   "cell_type": "code",
   "execution_count": 102,
   "metadata": {},
   "outputs": [
    {
     "name": "stdout",
     "output_type": "stream",
     "text": [
      "CPU times: user 5min 38s, sys: 2.18 s, total: 5min 40s\n",
      "Wall time: 5min 38s\n"
     ]
    }
   ],
   "source": [
    "%%time\n",
    "test_samples, tracker = create_test_samples(df, n_samples=1000, min_doc=8000, max_doc=15000, frac=0.99, change_rates=[0.5, 1])"
   ]
  },
  {
   "cell_type": "code",
   "execution_count": 101,
   "metadata": {},
   "outputs": [
    {
     "data": {
      "text/html": [
       "<div>\n",
       "<style scoped>\n",
       "    .dataframe tbody tr th:only-of-type {\n",
       "        vertical-align: middle;\n",
       "    }\n",
       "\n",
       "    .dataframe tbody tr th {\n",
       "        vertical-align: top;\n",
       "    }\n",
       "\n",
       "    .dataframe thead th {\n",
       "        text-align: right;\n",
       "    }\n",
       "</style>\n",
       "<table border=\"1\" class=\"dataframe\">\n",
       "  <thead>\n",
       "    <tr style=\"text-align: right;\">\n",
       "      <th></th>\n",
       "      <th>category</th>\n",
       "      <th>pattern</th>\n",
       "      <th>pivots</th>\n",
       "    </tr>\n",
       "  </thead>\n",
       "  <tbody>\n",
       "    <tr>\n",
       "      <th>0</th>\n",
       "      <td>rikokset</td>\n",
       "      <td>down_up</td>\n",
       "      <td>[33, 58, 84]</td>\n",
       "    </tr>\n",
       "    <tr>\n",
       "      <th>1</th>\n",
       "      <td>koulut</td>\n",
       "      <td>up_down</td>\n",
       "      <td>[43, 69, 96]</td>\n",
       "    </tr>\n",
       "    <tr>\n",
       "      <th>2</th>\n",
       "      <td>koulut</td>\n",
       "      <td>down</td>\n",
       "      <td>[58, 83]</td>\n",
       "    </tr>\n",
       "    <tr>\n",
       "      <th>3</th>\n",
       "      <td>taudit</td>\n",
       "      <td>down</td>\n",
       "      <td>[55, 98]</td>\n",
       "    </tr>\n",
       "    <tr>\n",
       "      <th>4</th>\n",
       "      <td>musiikki</td>\n",
       "      <td>spike_up</td>\n",
       "      <td>[25, 83]</td>\n",
       "    </tr>\n",
       "  </tbody>\n",
       "</table>\n",
       "</div>"
      ],
      "text/plain": [
       "   category   pattern        pivots\n",
       "0  rikokset   down_up  [33, 58, 84]\n",
       "1    koulut   up_down  [43, 69, 96]\n",
       "2    koulut      down      [58, 83]\n",
       "3    taudit      down      [55, 98]\n",
       "4  musiikki  spike_up      [25, 83]"
      ]
     },
     "execution_count": 101,
     "metadata": {},
     "output_type": "execute_result"
    }
   ],
   "source": [
    "tracker.head()"
   ]
  },
  {
   "cell_type": "code",
   "execution_count": 100,
   "metadata": {},
   "outputs": [
    {
     "data": {
      "text/html": [
       "<div>\n",
       "<style scoped>\n",
       "    .dataframe tbody tr th:only-of-type {\n",
       "        vertical-align: middle;\n",
       "    }\n",
       "\n",
       "    .dataframe tbody tr th {\n",
       "        vertical-align: top;\n",
       "    }\n",
       "\n",
       "    .dataframe thead th {\n",
       "        text-align: right;\n",
       "    }\n",
       "</style>\n",
       "<table border=\"1\" class=\"dataframe\">\n",
       "  <thead>\n",
       "    <tr style=\"text-align: right;\">\n",
       "      <th></th>\n",
       "      <th>id</th>\n",
       "      <th>category</th>\n",
       "      <th>time</th>\n",
       "    </tr>\n",
       "  </thead>\n",
       "  <tbody>\n",
       "    <tr>\n",
       "      <th>93400</th>\n",
       "      <td>3-7959028</td>\n",
       "      <td>kulttuuri</td>\n",
       "      <td>92</td>\n",
       "    </tr>\n",
       "    <tr>\n",
       "      <th>97741</th>\n",
       "      <td>3-5369147</td>\n",
       "      <td>rikokset</td>\n",
       "      <td>28</td>\n",
       "    </tr>\n",
       "    <tr>\n",
       "      <th>137323</th>\n",
       "      <td>3-7711268</td>\n",
       "      <td>ruoat</td>\n",
       "      <td>95</td>\n",
       "    </tr>\n",
       "    <tr>\n",
       "      <th>56191</th>\n",
       "      <td>3-7169576</td>\n",
       "      <td>työllisyys</td>\n",
       "      <td>8</td>\n",
       "    </tr>\n",
       "    <tr>\n",
       "      <th>76340</th>\n",
       "      <td>3-5065827</td>\n",
       "      <td>jääkiekko</td>\n",
       "      <td>73</td>\n",
       "    </tr>\n",
       "  </tbody>\n",
       "</table>\n",
       "</div>"
      ],
      "text/plain": [
       "               id    category  time\n",
       "93400   3-7959028   kulttuuri    92\n",
       "97741   3-5369147    rikokset    28\n",
       "137323  3-7711268       ruoat    95\n",
       "56191   3-7169576  työllisyys     8\n",
       "76340   3-5065827   jääkiekko    73"
      ]
     },
     "execution_count": 100,
     "metadata": {},
     "output_type": "execute_result"
    }
   ],
   "source": [
    "test_samples[0].head()"
   ]
  },
  {
   "cell_type": "code",
   "execution_count": 205,
   "metadata": {},
   "outputs": [],
   "source": [
    "def visualize_sample(df):\n",
    "    # target = df[df['target'] == True]\n",
    "    # noise = df[df['target'] == False]\n",
    "    # t_group = target.groupby(['time'])['id'].count()\n",
    "    fig, ax = plt.subplots(figsize=(20, 10))\n",
    "    # ax.plot(t_group.index, t_group.values, label='target')\n",
    "    \n",
    "    g = df.groupby(['time'])['id'].count()\n",
    "    #print(g.values)\n",
    "    ax.plot(g.index, g.values)\n",
    "    \n",
    "    ax.set(xlabel='time', ylabel='Numbers')\n",
    "    # ax.legend()\n",
    "    ax.grid()\n",
    "    #ax.set_ylim(0, 200)\n",
    "    plt.show()\n",
    "    \n",
    "\n",
    "def visualize_samples(ids, samples):\n",
    "    fig, ax = plt.subplots(figsize=(20, 10))\n",
    "    labels = ['Down', 'Down Up', 'Stable', 'Spike Up',  'Up',  'Up Down', 'Spike Down']\n",
    "    \n",
    "    #distance = [0, 100, 170, 200, 300, 360, 420]\n",
    "    # distance = range(7)\n",
    "    distance = range(7, 0, -1)\n",
    "    \n",
    "    for i, idx in enumerate(ids):\n",
    "        sample = samples.iloc[idx]\n",
    "        #g = df.groupby(['time'])['id'].count()\n",
    "        ax.plot(range(100), sample['freqs'] + distance[i], label=labels[i])\n",
    "        # distance += 100\n",
    "    \n",
    "    ax.set(xlabel='Time')\n",
    "    ax.legend(fontsize=14)\n",
    "    ax.grid()\n",
    "    ax.get_yaxis().set_visible(False)\n",
    "    # ax.set_ylim([0, 200])\n",
    "    plt.show()\n",
    "    \n",
    "def visualize_train_sample(df):\n",
    "    idx = np.random.randint(len(df))\n",
    "    print(idx)\n",
    "    # target = df[df['target'] == True]\n",
    "    # noise = df[df['target'] == False]\n",
    "    # t_group = target.groupby(['time'])['id'].count()\n",
    "    fig, ax = plt.subplots(figsize=(20, 10))\n",
    "    # ax.plot(t_group.index, t_group.values, label='target')\n",
    "    indexes = range(100)\n",
    "    #g = df.groupby(['time'])['id'].count()\n",
    "    print('pattern', df.iloc[idx]['pattern'])\n",
    "    ax.plot(indexes, df.iloc[idx]['freqs'])\n",
    "    \n",
    "    ax.vlines(df.iloc[idx]['pivots'], ymin=0, ymax=1, color='red')\n",
    "    ax.set(xlabel='time', ylabel='Numbers')\n",
    "    # ax.legend()\n",
    "    ax.grid()\n",
    "    ax.set_ylim(0, 1.1)\n",
    "    plt.show()\n",
    "    \n",
    "def convert_pivots(df):\n",
    "    # convert pivots\n",
    "    \n",
    "    for i, row in df.iterrows():\n",
    "        if row['pattern'] == 'up_down' or row['pattern'] == 'down_up':\n",
    "            row['pivots'] = np.array([row['pivots'][0], row['pivots'][2]])\n",
    "        elif row['pattern'] == 'spike_up' or row['pattern'] == 'spike_down':\n",
    "            temp = []\n",
    "            for p in row['pivots']:\n",
    "                temp.append(p-2)\n",
    "                temp.append(p+2)\n",
    "            row['pivots'] = np.array(temp)\n",
    "            \n",
    "    return df\n",
    "#def visualize_test_sample(df):\n",
    "    "
   ]
  },
  {
   "cell_type": "code",
   "execution_count": 24,
   "metadata": {},
   "outputs": [],
   "source": [
    "samples = convert_pivots(samples)"
   ]
  },
  {
   "cell_type": "code",
   "execution_count": 185,
   "metadata": {},
   "outputs": [
    {
     "name": "stdout",
     "output_type": "stream",
     "text": [
      "11580\n",
      "pattern up\n"
     ]
    },
    {
     "data": {
      "image/png": "[encoded data removed]",
      "text/plain": [
       "<Figure size 1440x720 with 1 Axes>"
      ]
     },
     "metadata": {
      "needs_background": "light"
     },
     "output_type": "display_data"
    }
   ],
   "source": [
    "#sample = samples.iloc[np.random.randint(len(samples))]  56366, 88307, 50622, 89999, 8644, 65750, 68943\n",
    "visualize_train_sample(samples)"
   ]
  },
  {
   "cell_type": "code",
   "execution_count": 206,
   "metadata": {},
   "outputs": [
    {
     "data": {
      "image/png": "[encoded data removed]",
      "text/plain": [
       "<Figure size 1440x720 with 1 Axes>"
      ]
     },
     "metadata": {
      "needs_background": "light"
     },
     "output_type": "display_data"
    }
   ],
   "source": [
    "visualize_samples([68943, 50622, 89999, 56366, 65750, 88307, 8644], samples)"
   ]
  },
  {
   "cell_type": "code",
   "execution_count": 153,
   "metadata": {},
   "outputs": [
    {
     "data": {
      "image/png": "[encoded data removed]",
      "text/plain": [
       "<Figure size 1440x720 with 1 Axes>"
      ]
     },
     "metadata": {
      "needs_background": "light"
     },
     "output_type": "display_data"
    }
   ],
   "source": [
    "randid = np.random.randint(len(test_samples))\n",
    "#print(tracker.iloc[randid])\n",
    "visualize_sample(test_samples[randid])\n",
    "# print(tracker.iloc[0])\n",
    "\n",
    "# noise 736, periodic 65, up 462 (1431), down 1598, up down 1693, down up 1238, complex 895"
   ]
  },
  {
   "cell_type": "code",
   "execution_count": 103,
   "metadata": {},
   "outputs": [],
   "source": [
    "pickle.dump(test_samples, open(\"data/prod/dataset_2_docs.pkl\", \"wb\"))\n",
    "tracker.to_pickle('data/prod/dataset_2_pivots.pkl')"
   ]
  },
  {
   "cell_type": "code",
   "execution_count": 24,
   "metadata": {},
   "outputs": [],
   "source": [
    "# pickle.dump(samples, open(\"data/prod/sample_7_patterns_2.pkl\", \"wb\"))\n",
    "# tracker.to_pickle('data/prod/tracker_7_patterns_2.pkl')"
   ]
  },
  {
   "cell_type": "code",
   "execution_count": 4,
   "metadata": {},
   "outputs": [],
   "source": [
    "# samples = pickle.load(open(\"data/prod/sample_7_patterns.pkl\", \"rb\"))\n",
    "# tracker = pd.read_pickle('data/prod/tracker_7_patterns.pkl')"
   ]
  },
  {
   "cell_type": "code",
   "execution_count": 5,
   "metadata": {},
   "outputs": [
    {
     "data": {
      "text/html": [
       "<div>\n",
       "<style scoped>\n",
       "    .dataframe tbody tr th:only-of-type {\n",
       "        vertical-align: middle;\n",
       "    }\n",
       "\n",
       "    .dataframe tbody tr th {\n",
       "        vertical-align: top;\n",
       "    }\n",
       "\n",
       "    .dataframe thead th {\n",
       "        text-align: right;\n",
       "    }\n",
       "</style>\n",
       "<table border=\"1\" class=\"dataframe\">\n",
       "  <thead>\n",
       "    <tr style=\"text-align: right;\">\n",
       "      <th></th>\n",
       "      <th>category</th>\n",
       "      <th>event</th>\n",
       "      <th>pivots</th>\n",
       "    </tr>\n",
       "  </thead>\n",
       "  <tbody>\n",
       "    <tr>\n",
       "      <th>0</th>\n",
       "      <td>luonto</td>\n",
       "      <td>up_down</td>\n",
       "      <td>[5, 86]</td>\n",
       "    </tr>\n",
       "    <tr>\n",
       "      <th>1</th>\n",
       "      <td>työllisyys</td>\n",
       "      <td>noise</td>\n",
       "      <td>[]</td>\n",
       "    </tr>\n",
       "    <tr>\n",
       "      <th>2</th>\n",
       "      <td>taudit</td>\n",
       "      <td>up_down</td>\n",
       "      <td>[7, 95]</td>\n",
       "    </tr>\n",
       "    <tr>\n",
       "      <th>3</th>\n",
       "      <td>työllisyys</td>\n",
       "      <td>up</td>\n",
       "      <td>[23, 82]</td>\n",
       "    </tr>\n",
       "    <tr>\n",
       "      <th>4</th>\n",
       "      <td>ruoat</td>\n",
       "      <td>down</td>\n",
       "      <td>[25, 96]</td>\n",
       "    </tr>\n",
       "  </tbody>\n",
       "</table>\n",
       "</div>"
      ],
      "text/plain": [
       "     category    event    pivots\n",
       "0      luonto  up_down   [5, 86]\n",
       "1  työllisyys    noise        []\n",
       "2      taudit  up_down   [7, 95]\n",
       "3  työllisyys       up  [23, 82]\n",
       "4       ruoat     down  [25, 96]"
      ]
     },
     "execution_count": 5,
     "metadata": {},
     "output_type": "execute_result"
    }
   ],
   "source": [
    "tracker.head()"
   ]
  },
  {
   "cell_type": "code",
   "execution_count": 25,
   "metadata": {
    "code_folding": []
   },
   "outputs": [],
   "source": [
    "def create_cluster_data(samples, tracker, n=10, n_event=1):\n",
    "    df_noise = tracker[tracker['event'] == 'noise']\n",
    "    df_change = tracker[tracker['event'] != 'noise']\n",
    "    \n",
    "    data = []\n",
    "    # generate n cluster for each samples, from 6 to 12, with prob for 12 is most\n",
    "    # n_clusters = np.random.choice(range(6, 13), size=n, p=[0.1, 0.1, 0.1, 0.1, 0.2, 0.2, 0.2])\n",
    "    track_ids = []\n",
    "    \n",
    "    for i in range(n):\n",
    "        df_data = []\n",
    "        unique_cats = []\n",
    "        n_cluster = 12 # n_clusters[i]\n",
    "        \n",
    "        # select one event for target\n",
    "        while len(unique_cats) < n_event:\n",
    "            target = df_change[~df_change['category'].isin(unique_cats)].sample(1).iloc[0]\n",
    "            \n",
    "#             if target['category'] in unique_cats:\n",
    "#                 continue\n",
    "#             else:\n",
    "            sample = samples[target.name]\n",
    "            sample['event'] = target['event']\n",
    "            unique_cats.append(target['category'])\n",
    "            df_data.append(sample)\n",
    "            track_ids.append(target.name)\n",
    "        \n",
    "        while len(unique_cats) < n_cluster:\n",
    "            # print(unique_cats)\n",
    "            noise = df_noise[~df_noise['category'].isin(unique_cats)].sample(1).iloc[0]\n",
    "            # print(noise)\n",
    "            \n",
    "#             if noise['category'] in unique_cats:\n",
    "#                 continue\n",
    "#             else:\n",
    "            sample = samples[noise.name]\n",
    "            sample['event'] = noise['event']\n",
    "            unique_cats.append(noise['category'])\n",
    "            df_data.append(sample)\n",
    "            \n",
    "        df_data = pd.concat(df_data, ignore_index=True)\n",
    "        data.append(df_data)\n",
    "        \n",
    "    df_pivots = tracker.iloc[track_ids]\n",
    "    \n",
    "    return data, df_pivots\n"
   ]
  },
  {
   "cell_type": "code",
   "execution_count": 26,
   "metadata": {},
   "outputs": [
    {
     "name": "stdout",
     "output_type": "stream",
     "text": [
      "CPU times: user 48.5 s, sys: 2.32 s, total: 50.8 s\n",
      "Wall time: 50.9 s\n"
     ]
    }
   ],
   "source": [
    "# %%time\n",
    "# dataset, pivots = create_cluster_data(samples, tracker, n=2000, n_event=1)"
   ]
  },
  {
   "cell_type": "code",
   "execution_count": 27,
   "metadata": {},
   "outputs": [
    {
     "data": {
      "text/html": [
       "<div>\n",
       "<style scoped>\n",
       "    .dataframe tbody tr th:only-of-type {\n",
       "        vertical-align: middle;\n",
       "    }\n",
       "\n",
       "    .dataframe tbody tr th {\n",
       "        vertical-align: top;\n",
       "    }\n",
       "\n",
       "    .dataframe thead th {\n",
       "        text-align: right;\n",
       "    }\n",
       "</style>\n",
       "<table border=\"1\" class=\"dataframe\">\n",
       "  <thead>\n",
       "    <tr style=\"text-align: right;\">\n",
       "      <th></th>\n",
       "      <th>id</th>\n",
       "      <th>category</th>\n",
       "      <th>time</th>\n",
       "      <th>event</th>\n",
       "    </tr>\n",
       "  </thead>\n",
       "  <tbody>\n",
       "    <tr>\n",
       "      <th>0</th>\n",
       "      <td>3-6438589</td>\n",
       "      <td>vaalit</td>\n",
       "      <td>42</td>\n",
       "      <td>down</td>\n",
       "    </tr>\n",
       "    <tr>\n",
       "      <th>1</th>\n",
       "      <td>3-7917304</td>\n",
       "      <td>vaalit</td>\n",
       "      <td>21</td>\n",
       "      <td>down</td>\n",
       "    </tr>\n",
       "    <tr>\n",
       "      <th>2</th>\n",
       "      <td>3-9577710</td>\n",
       "      <td>vaalit</td>\n",
       "      <td>27</td>\n",
       "      <td>down</td>\n",
       "    </tr>\n",
       "    <tr>\n",
       "      <th>3</th>\n",
       "      <td>3-9300247</td>\n",
       "      <td>vaalit</td>\n",
       "      <td>71</td>\n",
       "      <td>down</td>\n",
       "    </tr>\n",
       "    <tr>\n",
       "      <th>4</th>\n",
       "      <td>3-10045459</td>\n",
       "      <td>vaalit</td>\n",
       "      <td>84</td>\n",
       "      <td>down</td>\n",
       "    </tr>\n",
       "  </tbody>\n",
       "</table>\n",
       "</div>"
      ],
      "text/plain": [
       "           id category  time event\n",
       "0   3-6438589   vaalit    42  down\n",
       "1   3-7917304   vaalit    21  down\n",
       "2   3-9577710   vaalit    27  down\n",
       "3   3-9300247   vaalit    71  down\n",
       "4  3-10045459   vaalit    84  down"
      ]
     },
     "execution_count": 27,
     "metadata": {},
     "output_type": "execute_result"
    }
   ],
   "source": [
    "# randid = np.random.randint(2000)\n",
    "# dataset[randid].head()"
   ]
  },
  {
   "cell_type": "code",
   "execution_count": 152,
   "metadata": {},
   "outputs": [
    {
     "data": {
      "text/plain": [
       "category    musiikki\n",
       "event             up\n",
       "pivots      [26, 90]\n",
       "Name: 396, dtype: object"
      ]
     },
     "execution_count": 152,
     "metadata": {},
     "output_type": "execute_result"
    }
   ],
   "source": [
    "#pivots.iloc[randid]"
   ]
  },
  {
   "cell_type": "code",
   "execution_count": 28,
   "metadata": {},
   "outputs": [],
   "source": [
    "#pickle.dump(dataset, open(\"data/prod/dataset_1_event_2.pkl\", \"wb\"))"
   ]
  },
  {
   "cell_type": "code",
   "execution_count": 29,
   "metadata": {},
   "outputs": [],
   "source": [
    "#pivots.to_pickle('data/prod/dataset_1_pivot_2.pkl')"
   ]
  },
  {
   "cell_type": "code",
   "execution_count": null,
   "metadata": {},
   "outputs": [],
   "source": []
  },
  {
   "cell_type": "code",
   "execution_count": null,
   "metadata": {},
   "outputs": [],
   "source": []
  },
  {
   "cell_type": "code",
   "execution_count": null,
   "metadata": {},
   "outputs": [],
   "source": []
  },
  {
   "cell_type": "code",
   "execution_count": null,
   "metadata": {},
   "outputs": [],
   "source": []
  },
  {
   "cell_type": "code",
   "execution_count": null,
   "metadata": {},
   "outputs": [],
   "source": []
  },
  {
   "cell_type": "code",
   "execution_count": null,
   "metadata": {},
   "outputs": [],
   "source": []
  },
  {
   "cell_type": "code",
   "execution_count": null,
   "metadata": {},
   "outputs": [],
   "source": []
  },
  {
   "cell_type": "code",
   "execution_count": null,
   "metadata": {},
   "outputs": [],
   "source": []
  },
  {
   "cell_type": "code",
   "execution_count": 2,
   "metadata": {},
   "outputs": [],
   "source": [
    "#dataset = pickle.load(open(\"data/dev/dataset_1_event.pkl\", \"rb\"))"
   ]
  },
  {
   "cell_type": "code",
   "execution_count": 156,
   "metadata": {},
   "outputs": [],
   "source": [
    "def save_dataset_folder(dataset):\n",
    "    for i, df in enumerate(dataset):\n",
    "        df.to_json('data/prod/samples/sample_' + str(i) + '.json')"
   ]
  },
  {
   "cell_type": "code",
   "execution_count": 157,
   "metadata": {},
   "outputs": [
    {
     "name": "stdout",
     "output_type": "stream",
     "text": [
      "CPU times: user 1min 17s, sys: 3.64 s, total: 1min 21s\n",
      "Wall time: 1min 22s\n"
     ]
    }
   ],
   "source": [
    "%%time\n",
    "save_dataset_folder(test_samples)"
   ]
  },
  {
   "cell_type": "code",
   "execution_count": 17,
   "metadata": {},
   "outputs": [],
   "source": [
    "rand_id = np.random.randint(10)\n",
    "df_sample = dataset[rand_id]"
   ]
  },
  {
   "cell_type": "code",
   "execution_count": 18,
   "metadata": {},
   "outputs": [
    {
     "data": {
      "text/html": [
       "<div>\n",
       "<style scoped>\n",
       "    .dataframe tbody tr th:only-of-type {\n",
       "        vertical-align: middle;\n",
       "    }\n",
       "\n",
       "    .dataframe tbody tr th {\n",
       "        vertical-align: top;\n",
       "    }\n",
       "\n",
       "    .dataframe thead th {\n",
       "        text-align: right;\n",
       "    }\n",
       "</style>\n",
       "<table border=\"1\" class=\"dataframe\">\n",
       "  <thead>\n",
       "    <tr style=\"text-align: right;\">\n",
       "      <th></th>\n",
       "      <th>id</th>\n",
       "      <th>category</th>\n",
       "      <th>time</th>\n",
       "      <th>event</th>\n",
       "    </tr>\n",
       "  </thead>\n",
       "  <tbody>\n",
       "    <tr>\n",
       "      <th>0</th>\n",
       "      <td>3-5420741</td>\n",
       "      <td>rikokset</td>\n",
       "      <td>0</td>\n",
       "      <td>down</td>\n",
       "    </tr>\n",
       "    <tr>\n",
       "      <th>1</th>\n",
       "      <td>3-9680082</td>\n",
       "      <td>rikokset</td>\n",
       "      <td>0</td>\n",
       "      <td>down</td>\n",
       "    </tr>\n",
       "    <tr>\n",
       "      <th>2</th>\n",
       "      <td>3-6758211</td>\n",
       "      <td>rikokset</td>\n",
       "      <td>0</td>\n",
       "      <td>down</td>\n",
       "    </tr>\n",
       "    <tr>\n",
       "      <th>3</th>\n",
       "      <td>3-9194366</td>\n",
       "      <td>rikokset</td>\n",
       "      <td>0</td>\n",
       "      <td>down</td>\n",
       "    </tr>\n",
       "    <tr>\n",
       "      <th>4</th>\n",
       "      <td>3-8725027</td>\n",
       "      <td>rikokset</td>\n",
       "      <td>0</td>\n",
       "      <td>down</td>\n",
       "    </tr>\n",
       "  </tbody>\n",
       "</table>\n",
       "</div>"
      ],
      "text/plain": [
       "          id  category  time event\n",
       "0  3-5420741  rikokset     0  down\n",
       "1  3-9680082  rikokset     0  down\n",
       "2  3-6758211  rikokset     0  down\n",
       "3  3-9194366  rikokset     0  down\n",
       "4  3-8725027  rikokset     0  down"
      ]
     },
     "execution_count": 18,
     "metadata": {},
     "output_type": "execute_result"
    }
   ],
   "source": [
    "df_sample.head()"
   ]
  },
  {
   "cell_type": "code",
   "execution_count": 19,
   "metadata": {},
   "outputs": [],
   "source": [
    "def get_sample_text(df_text, sample_ids):\n",
    "    df = df_text.reset_index(drop=True)\n",
    "    df = df.set_index('id')\n",
    "\n",
    "    df_sample = df.loc[sample_ids]\n",
    "    \n",
    "    return df_sample"
   ]
  },
  {
   "cell_type": "code",
   "execution_count": 20,
   "metadata": {},
   "outputs": [],
   "source": [
    "df_sample_text = get_sample_text(df, df_sample['id'])"
   ]
  },
  {
   "cell_type": "code",
   "execution_count": 21,
   "metadata": {},
   "outputs": [
    {
     "data": {
      "text/html": [
       "<div>\n",
       "<style scoped>\n",
       "    .dataframe tbody tr th:only-of-type {\n",
       "        vertical-align: middle;\n",
       "    }\n",
       "\n",
       "    .dataframe tbody tr th {\n",
       "        vertical-align: top;\n",
       "    }\n",
       "\n",
       "    .dataframe thead th {\n",
       "        text-align: right;\n",
       "    }\n",
       "</style>\n",
       "<table border=\"1\" class=\"dataframe\">\n",
       "  <thead>\n",
       "    <tr style=\"text-align: right;\">\n",
       "      <th></th>\n",
       "      <th>date</th>\n",
       "      <th>title</th>\n",
       "      <th>body</th>\n",
       "      <th>subjects</th>\n",
       "      <th>category</th>\n",
       "    </tr>\n",
       "    <tr>\n",
       "      <th>id</th>\n",
       "      <th></th>\n",
       "      <th></th>\n",
       "      <th></th>\n",
       "      <th></th>\n",
       "      <th></th>\n",
       "    </tr>\n",
       "  </thead>\n",
       "  <tbody>\n",
       "    <tr>\n",
       "      <th>3-5420741</th>\n",
       "      <td>2011-09-09T17:04:26+0300</td>\n",
       "      <td>Seksityöaktivistit vastustavat seksin oston tä...</td>\n",
       "      <td>Helsinkiin kokoontuneet pohjoismaiset seksity...</td>\n",
       "      <td>[kotimaan uutiset, prostituutio, seksin ostami...</td>\n",
       "      <td>rikokset</td>\n",
       "    </tr>\n",
       "    <tr>\n",
       "      <th>3-9680082</th>\n",
       "      <td>2017-06-20T07:03:51+0300</td>\n",
       "      <td>Hallitus kiistää vakoilun</td>\n",
       "      <td>Vakoiluviestejä on lähetetty niin laajamittai...</td>\n",
       "      <td>[meksiko, vakoiluohjelma, ulkomaat, tiedustelu...</td>\n",
       "      <td>rikokset</td>\n",
       "    </tr>\n",
       "    <tr>\n",
       "      <th>3-6758211</th>\n",
       "      <td>2013-08-01T11:12:32+0300</td>\n",
       "      <td>KHO kumosi Viestintäviraston päätöksen Itellan...</td>\n",
       "      <td>Korkein hallinto-oikeus katsoi, että Viestint...</td>\n",
       "      <td>[kotimaan uutiset, posti group oyj, viestintäv...</td>\n",
       "      <td>rikokset</td>\n",
       "    </tr>\n",
       "    <tr>\n",
       "      <th>3-9194366</th>\n",
       "      <td>2016-09-27T14:48:01+0300</td>\n",
       "      <td>Kolme kertaa kaivinkoneen päälle</td>\n",
       "      <td>Pyhäjoen ydinvoimala-alueen työkoneiden pääl...</td>\n",
       "      <td>[rikos (tv-sarja), fennovoima, aktivismi, rang...</td>\n",
       "      <td>rikokset</td>\n",
       "    </tr>\n",
       "    <tr>\n",
       "      <th>3-8725027</th>\n",
       "      <td>2016-03-07T16:45:59+0200</td>\n",
       "      <td>Poliisi: Yhteys Veikoon vain lehdistön kautta</td>\n",
       "      <td>Salaperäisen virolaisen Veikon väitteet Helsi...</td>\n",
       "      <td>[kotimaan uutiset, jari aarnio, huumepoliisi, ...</td>\n",
       "      <td>rikokset</td>\n",
       "    </tr>\n",
       "  </tbody>\n",
       "</table>\n",
       "</div>"
      ],
      "text/plain": [
       "                               date  \\\n",
       "id                                    \n",
       "3-5420741  2011-09-09T17:04:26+0300   \n",
       "3-9680082  2017-06-20T07:03:51+0300   \n",
       "3-6758211  2013-08-01T11:12:32+0300   \n",
       "3-9194366  2016-09-27T14:48:01+0300   \n",
       "3-8725027  2016-03-07T16:45:59+0200   \n",
       "\n",
       "                                                       title  \\\n",
       "id                                                             \n",
       "3-5420741  Seksityöaktivistit vastustavat seksin oston tä...   \n",
       "3-9680082                          Hallitus kiistää vakoilun   \n",
       "3-6758211  KHO kumosi Viestintäviraston päätöksen Itellan...   \n",
       "3-9194366                   Kolme kertaa kaivinkoneen päälle   \n",
       "3-8725027      Poliisi: Yhteys Veikoon vain lehdistön kautta   \n",
       "\n",
       "                                                        body  \\\n",
       "id                                                             \n",
       "3-5420741   Helsinkiin kokoontuneet pohjoismaiset seksity...   \n",
       "3-9680082   Vakoiluviestejä on lähetetty niin laajamittai...   \n",
       "3-6758211   Korkein hallinto-oikeus katsoi, että Viestint...   \n",
       "3-9194366    Pyhäjoen ydinvoimala-alueen työkoneiden pääl...   \n",
       "3-8725027   Salaperäisen virolaisen Veikon väitteet Helsi...   \n",
       "\n",
       "                                                    subjects  category  \n",
       "id                                                                      \n",
       "3-5420741  [kotimaan uutiset, prostituutio, seksin ostami...  rikokset  \n",
       "3-9680082  [meksiko, vakoiluohjelma, ulkomaat, tiedustelu...  rikokset  \n",
       "3-6758211  [kotimaan uutiset, posti group oyj, viestintäv...  rikokset  \n",
       "3-9194366  [rikos (tv-sarja), fennovoima, aktivismi, rang...  rikokset  \n",
       "3-8725027  [kotimaan uutiset, jari aarnio, huumepoliisi, ...  rikokset  "
      ]
     },
     "execution_count": 21,
     "metadata": {},
     "output_type": "execute_result"
    }
   ],
   "source": [
    "df_sample_text.head()"
   ]
  },
  {
   "cell_type": "code",
   "execution_count": 22,
   "metadata": {},
   "outputs": [
    {
     "data": {
      "text/plain": [
       "array(['autot', 'tulipalot', 'työllisyys', 'musiikki'], dtype=object)"
      ]
     },
     "execution_count": 22,
     "metadata": {},
     "output_type": "execute_result"
    }
   ],
   "source": [
    "df_sample[df_sample['event'] == 'noise'].category.unique()"
   ]
  },
  {
   "cell_type": "code",
   "execution_count": 23,
   "metadata": {},
   "outputs": [
    {
     "name": "stdout",
     "output_type": "stream",
     "text": [
      "<class 'pandas.core.frame.DataFrame'>\n",
      "RangeIndex: 32521 entries, 0 to 32520\n",
      "Data columns (total 4 columns):\n",
      " #   Column    Non-Null Count  Dtype \n",
      "---  ------    --------------  ----- \n",
      " 0   id        32521 non-null  object\n",
      " 1   category  32521 non-null  object\n",
      " 2   time      32521 non-null  int64 \n",
      " 3   event     32521 non-null  object\n",
      "dtypes: int64(1), object(3)\n",
      "memory usage: 1016.4+ KB\n"
     ]
    }
   ],
   "source": [
    "df_sample.info()"
   ]
  },
  {
   "cell_type": "code",
   "execution_count": 3,
   "metadata": {},
   "outputs": [],
   "source": [
    "def visualize_trending(df):\n",
    "    # target = df[df['target'] == True]\n",
    "    # noise = df[df['target'] == False]\n",
    "    # t_group = target.groupby(['time'])['id'].count()\n",
    "    n_group = df.groupby(['category'])\n",
    "    \n",
    "    fig, ax = plt.subplots(figsize=(20, 10))\n",
    "    # ax.plot(t_group.index, t_group.values, label='target')\n",
    "    \n",
    "    for name, group in n_group:\n",
    "        g = group.groupby(['time'])['id'].count()\n",
    "        ax.plot(g.index, g.values, label=name)\n",
    "    \n",
    "    ax.set(xlabel='time', ylabel='Numbers')\n",
    "    ax.legend()\n",
    "    ax.grid()\n",
    "\n",
    "    plt.show()"
   ]
  },
  {
   "cell_type": "code",
   "execution_count": 5,
   "metadata": {},
   "outputs": [],
   "source": [
    "# visualize_trending(df_sample)"
   ]
  },
  {
   "cell_type": "code",
   "execution_count": 2,
   "metadata": {},
   "outputs": [],
   "source": [
    "### try to match dataset with the tracker"
   ]
  },
  {
   "cell_type": "code",
   "execution_count": 3,
   "metadata": {},
   "outputs": [],
   "source": [
    "dataset = pickle.load(open(\"data/dev/dataset_1_event.pkl\", \"rb\"))"
   ]
  },
  {
   "cell_type": "code",
   "execution_count": 6,
   "metadata": {},
   "outputs": [],
   "source": [
    "tracker = pd.read_pickle('data/dev/tracker_7_patterns.pkl')"
   ]
  },
  {
   "cell_type": "code",
   "execution_count": 7,
   "metadata": {},
   "outputs": [],
   "source": [
    "samples = pickle.load(open(\"data/dev/sample_7_patterns.pkl\", \"rb\"))"
   ]
  },
  {
   "cell_type": "code",
   "execution_count": 6,
   "metadata": {},
   "outputs": [
    {
     "data": {
      "text/html": [
       "<div>\n",
       "<style scoped>\n",
       "    .dataframe tbody tr th:only-of-type {\n",
       "        vertical-align: middle;\n",
       "    }\n",
       "\n",
       "    .dataframe tbody tr th {\n",
       "        vertical-align: top;\n",
       "    }\n",
       "\n",
       "    .dataframe thead th {\n",
       "        text-align: right;\n",
       "    }\n",
       "</style>\n",
       "<table border=\"1\" class=\"dataframe\">\n",
       "  <thead>\n",
       "    <tr style=\"text-align: right;\">\n",
       "      <th></th>\n",
       "      <th>id</th>\n",
       "      <th>category</th>\n",
       "      <th>time</th>\n",
       "      <th>event</th>\n",
       "    </tr>\n",
       "  </thead>\n",
       "  <tbody>\n",
       "    <tr>\n",
       "      <th>0</th>\n",
       "      <td>3-5315164</td>\n",
       "      <td>tulipalot</td>\n",
       "      <td>44</td>\n",
       "      <td>periodic</td>\n",
       "    </tr>\n",
       "    <tr>\n",
       "      <th>1</th>\n",
       "      <td>3-8718277</td>\n",
       "      <td>tulipalot</td>\n",
       "      <td>84</td>\n",
       "      <td>periodic</td>\n",
       "    </tr>\n",
       "    <tr>\n",
       "      <th>2</th>\n",
       "      <td>3-6495998</td>\n",
       "      <td>tulipalot</td>\n",
       "      <td>68</td>\n",
       "      <td>periodic</td>\n",
       "    </tr>\n",
       "    <tr>\n",
       "      <th>3</th>\n",
       "      <td>3-8927863</td>\n",
       "      <td>tulipalot</td>\n",
       "      <td>39</td>\n",
       "      <td>periodic</td>\n",
       "    </tr>\n",
       "    <tr>\n",
       "      <th>4</th>\n",
       "      <td>3-5062412</td>\n",
       "      <td>tulipalot</td>\n",
       "      <td>10</td>\n",
       "      <td>periodic</td>\n",
       "    </tr>\n",
       "  </tbody>\n",
       "</table>\n",
       "</div>"
      ],
      "text/plain": [
       "          id   category  time     event\n",
       "0  3-5315164  tulipalot    44  periodic\n",
       "1  3-8718277  tulipalot    84  periodic\n",
       "2  3-6495998  tulipalot    68  periodic\n",
       "3  3-8927863  tulipalot    39  periodic\n",
       "4  3-5062412  tulipalot    10  periodic"
      ]
     },
     "execution_count": 6,
     "metadata": {},
     "output_type": "execute_result"
    }
   ],
   "source": [
    "dataset[0].head()"
   ]
  },
  {
   "cell_type": "code",
   "execution_count": 7,
   "metadata": {},
   "outputs": [
    {
     "data": {
      "text/html": [
       "<div>\n",
       "<style scoped>\n",
       "    .dataframe tbody tr th:only-of-type {\n",
       "        vertical-align: middle;\n",
       "    }\n",
       "\n",
       "    .dataframe tbody tr th {\n",
       "        vertical-align: top;\n",
       "    }\n",
       "\n",
       "    .dataframe thead th {\n",
       "        text-align: right;\n",
       "    }\n",
       "</style>\n",
       "<table border=\"1\" class=\"dataframe\">\n",
       "  <thead>\n",
       "    <tr style=\"text-align: right;\">\n",
       "      <th></th>\n",
       "      <th>id</th>\n",
       "      <th>category</th>\n",
       "      <th>time</th>\n",
       "    </tr>\n",
       "  </thead>\n",
       "  <tbody>\n",
       "    <tr>\n",
       "      <th>0</th>\n",
       "      <td>3-5067773</td>\n",
       "      <td>vaalit</td>\n",
       "      <td>38</td>\n",
       "    </tr>\n",
       "    <tr>\n",
       "      <th>1</th>\n",
       "      <td>3-6356605</td>\n",
       "      <td>vaalit</td>\n",
       "      <td>73</td>\n",
       "    </tr>\n",
       "    <tr>\n",
       "      <th>2</th>\n",
       "      <td>3-6298727</td>\n",
       "      <td>vaalit</td>\n",
       "      <td>57</td>\n",
       "    </tr>\n",
       "    <tr>\n",
       "      <th>3</th>\n",
       "      <td>3-9557392</td>\n",
       "      <td>vaalit</td>\n",
       "      <td>79</td>\n",
       "    </tr>\n",
       "    <tr>\n",
       "      <th>4</th>\n",
       "      <td>3-9254950</td>\n",
       "      <td>vaalit</td>\n",
       "      <td>97</td>\n",
       "    </tr>\n",
       "  </tbody>\n",
       "</table>\n",
       "</div>"
      ],
      "text/plain": [
       "          id category  time\n",
       "0  3-5067773   vaalit    38\n",
       "1  3-6356605   vaalit    73\n",
       "2  3-6298727   vaalit    57\n",
       "3  3-9557392   vaalit    79\n",
       "4  3-9254950   vaalit    97"
      ]
     },
     "execution_count": 7,
     "metadata": {},
     "output_type": "execute_result"
    }
   ],
   "source": [
    "samples[0].head()"
   ]
  },
  {
   "cell_type": "code",
   "execution_count": 8,
   "metadata": {},
   "outputs": [],
   "source": [
    "sample = dataset[0]"
   ]
  },
  {
   "cell_type": "code",
   "execution_count": 19,
   "metadata": {},
   "outputs": [
    {
     "data": {
      "text/plain": [
       "array(['3-5315164', '3-8718277', '3-6495998', ..., '3-5056491',\n",
       "       '3-6810889', '20-157926'], dtype=object)"
      ]
     },
     "execution_count": 19,
     "metadata": {},
     "output_type": "execute_result"
    }
   ],
   "source": [
    "sample['id'].values"
   ]
  },
  {
   "cell_type": "code",
   "execution_count": 14,
   "metadata": {},
   "outputs": [
    {
     "data": {
      "text/html": [
       "<div>\n",
       "<style scoped>\n",
       "    .dataframe tbody tr th:only-of-type {\n",
       "        vertical-align: middle;\n",
       "    }\n",
       "\n",
       "    .dataframe tbody tr th {\n",
       "        vertical-align: top;\n",
       "    }\n",
       "\n",
       "    .dataframe thead th {\n",
       "        text-align: right;\n",
       "    }\n",
       "</style>\n",
       "<table border=\"1\" class=\"dataframe\">\n",
       "  <thead>\n",
       "    <tr style=\"text-align: right;\">\n",
       "      <th></th>\n",
       "      <th>category</th>\n",
       "      <th>event</th>\n",
       "      <th>pivots</th>\n",
       "    </tr>\n",
       "  </thead>\n",
       "  <tbody>\n",
       "    <tr>\n",
       "      <th>0</th>\n",
       "      <td>vaalit</td>\n",
       "      <td>noise</td>\n",
       "      <td>[]</td>\n",
       "    </tr>\n",
       "    <tr>\n",
       "      <th>1</th>\n",
       "      <td>jääkiekko</td>\n",
       "      <td>down_up</td>\n",
       "      <td>[11, 41, 72]</td>\n",
       "    </tr>\n",
       "    <tr>\n",
       "      <th>2</th>\n",
       "      <td>tulipalot</td>\n",
       "      <td>complex</td>\n",
       "      <td>[20, 40, 70]</td>\n",
       "    </tr>\n",
       "    <tr>\n",
       "      <th>3</th>\n",
       "      <td>vaalit</td>\n",
       "      <td>noise</td>\n",
       "      <td>[]</td>\n",
       "    </tr>\n",
       "    <tr>\n",
       "      <th>4</th>\n",
       "      <td>rikokset</td>\n",
       "      <td>up</td>\n",
       "      <td>[26, 96]</td>\n",
       "    </tr>\n",
       "  </tbody>\n",
       "</table>\n",
       "</div>"
      ],
      "text/plain": [
       "    category    event        pivots\n",
       "0     vaalit    noise            []\n",
       "1  jääkiekko  down_up  [11, 41, 72]\n",
       "2  tulipalot  complex  [20, 40, 70]\n",
       "3     vaalit    noise            []\n",
       "4   rikokset       up      [26, 96]"
      ]
     },
     "execution_count": 14,
     "metadata": {},
     "output_type": "execute_result"
    }
   ],
   "source": [
    "tracker.head()"
   ]
  },
  {
   "cell_type": "code",
   "execution_count": 15,
   "metadata": {},
   "outputs": [
    {
     "data": {
      "text/plain": [
       "array(['vaalit', 'jääkiekko', 'tulipalot', 'rikokset', 'musiikki',\n",
       "       'taudit', 'kulttuuri', 'koulut', 'autot', 'työllisyys', 'ruoat',\n",
       "       'luonto'], dtype=object)"
      ]
     },
     "execution_count": 15,
     "metadata": {},
     "output_type": "execute_result"
    }
   ],
   "source": [
    "tracker.category.unique()"
   ]
  },
  {
   "cell_type": "code",
   "execution_count": 12,
   "metadata": {},
   "outputs": [],
   "source": [
    "def get_cat_event(df):\n",
    "    target = df[df['event'] != 'noise'].iloc[0]\n",
    "    cat = target['category']\n",
    "    event = target['event']\n",
    "    return cat, event"
   ]
  },
  {
   "cell_type": "code",
   "execution_count": 13,
   "metadata": {},
   "outputs": [
    {
     "data": {
      "text/plain": [
       "('tulipalot', 'periodic')"
      ]
     },
     "execution_count": 13,
     "metadata": {},
     "output_type": "execute_result"
    }
   ],
   "source": [
    "get_cat_event(sample)"
   ]
  },
  {
   "cell_type": "code",
   "execution_count": 22,
   "metadata": {},
   "outputs": [],
   "source": [
    "def match_tracker(df, samples, tracker):\n",
    "    cat, event = get_cat_event(df)\n",
    "    target_ids = df[df['event'] != 'noise']['id'].values\n",
    "    \n",
    "    # get all id from tracker which have cat and event\n",
    "    df_track = tracker[(tracker['category'] == cat) & (tracker['event'] == event)]\n",
    "    track_ids = df_track.index.values\n",
    "    \n",
    "    match_id = None\n",
    "    \n",
    "    # now for each sample event, try to get list id\n",
    "    for i in track_ids:\n",
    "        sample = samples[i]\n",
    "        sample_ids = sample['id'].values\n",
    "        if np.array_equal(sample_ids, target_ids):\n",
    "            match_id = i\n",
    "            break\n",
    "    \n",
    "    return match_id"
   ]
  },
  {
   "cell_type": "code",
   "execution_count": 23,
   "metadata": {},
   "outputs": [],
   "source": [
    "match_id = match_tracker(sample, samples, tracker)"
   ]
  },
  {
   "cell_type": "code",
   "execution_count": 24,
   "metadata": {},
   "outputs": [
    {
     "data": {
      "text/plain": [
       "1459"
      ]
     },
     "execution_count": 24,
     "metadata": {},
     "output_type": "execute_result"
    }
   ],
   "source": [
    "match_id"
   ]
  },
  {
   "cell_type": "code",
   "execution_count": 25,
   "metadata": {},
   "outputs": [
    {
     "data": {
      "text/plain": [
       "category                   tulipalot\n",
       "event                       periodic\n",
       "pivots      [10, 26, 42, 58, 74, 90]\n",
       "Name: 1459, dtype: object"
      ]
     },
     "execution_count": 25,
     "metadata": {},
     "output_type": "execute_result"
    }
   ],
   "source": [
    "tracker.iloc[match_id]"
   ]
  },
  {
   "cell_type": "code",
   "execution_count": 31,
   "metadata": {},
   "outputs": [],
   "source": [
    "def match_all(dataset, samples, tracker):\n",
    "    match_ids = []\n",
    "    \n",
    "    for df in tqdm(dataset):\n",
    "        match_id = match_tracker(df, samples, tracker)\n",
    "        match_ids.append(match_id)\n",
    "        \n",
    "    return match_ids"
   ]
  },
  {
   "cell_type": "code",
   "execution_count": 32,
   "metadata": {},
   "outputs": [
    {
     "name": "stderr",
     "output_type": "stream",
     "text": [
      "100%|██████████| 2000/2000 [00:26<00:00, 74.76it/s]\n"
     ]
    }
   ],
   "source": [
    "match_ids = match_all(dataset, samples, tracker)"
   ]
  },
  {
   "cell_type": "code",
   "execution_count": 33,
   "metadata": {},
   "outputs": [
    {
     "data": {
      "text/plain": [
       "2000"
      ]
     },
     "execution_count": 33,
     "metadata": {},
     "output_type": "execute_result"
    }
   ],
   "source": [
    "len(match_ids)"
   ]
  },
  {
   "cell_type": "code",
   "execution_count": 34,
   "metadata": {},
   "outputs": [
    {
     "data": {
      "text/plain": [
       "1995"
      ]
     },
     "execution_count": 34,
     "metadata": {},
     "output_type": "execute_result"
    }
   ],
   "source": [
    "match_ids[10]"
   ]
  },
  {
   "cell_type": "code",
   "execution_count": 68,
   "metadata": {},
   "outputs": [],
   "source": [
    "def test_match(match_ids, dataset, tracker):\n",
    "    test_id = np.random.randint(2000)\n",
    "    match_id = match_ids[test_id]\n",
    "    \n",
    "    sample = dataset[test_id]\n",
    "    cat, event = get_cat_event(sample)\n",
    "    \n",
    "    track = tracker.iloc[match_id]\n",
    "    \n",
    "    if track['category'] == cat and track['event'] == event:\n",
    "        return True\n",
    "    else:\n",
    "        print(track['category'], cat)\n",
    "        print(track['event'], event)\n",
    "        \n",
    "        return False\n",
    "    \n",
    "    "
   ]
  },
  {
   "cell_type": "code",
   "execution_count": 119,
   "metadata": {},
   "outputs": [
    {
     "data": {
      "text/plain": [
       "True"
      ]
     },
     "execution_count": 119,
     "metadata": {},
     "output_type": "execute_result"
    }
   ],
   "source": [
    "test_match(match_ids, dataset, tracker)"
   ]
  },
  {
   "cell_type": "code",
   "execution_count": 120,
   "metadata": {},
   "outputs": [],
   "source": [
    "df_match = tracker.iloc[match_ids]"
   ]
  },
  {
   "cell_type": "code",
   "execution_count": 124,
   "metadata": {},
   "outputs": [
    {
     "data": {
      "text/html": [
       "<div>\n",
       "<style scoped>\n",
       "    .dataframe tbody tr th:only-of-type {\n",
       "        vertical-align: middle;\n",
       "    }\n",
       "\n",
       "    .dataframe tbody tr th {\n",
       "        vertical-align: top;\n",
       "    }\n",
       "\n",
       "    .dataframe thead th {\n",
       "        text-align: right;\n",
       "    }\n",
       "</style>\n",
       "<table border=\"1\" class=\"dataframe\">\n",
       "  <thead>\n",
       "    <tr style=\"text-align: right;\">\n",
       "      <th></th>\n",
       "      <th>category</th>\n",
       "      <th>event</th>\n",
       "      <th>pivots</th>\n",
       "    </tr>\n",
       "  </thead>\n",
       "  <tbody>\n",
       "    <tr>\n",
       "      <th>0</th>\n",
       "      <td>tulipalot</td>\n",
       "      <td>periodic</td>\n",
       "      <td>[10, 26, 42, 58, 74, 90]</td>\n",
       "    </tr>\n",
       "    <tr>\n",
       "      <th>1</th>\n",
       "      <td>työllisyys</td>\n",
       "      <td>complex</td>\n",
       "      <td>[30, 60, 90]</td>\n",
       "    </tr>\n",
       "    <tr>\n",
       "      <th>2</th>\n",
       "      <td>musiikki</td>\n",
       "      <td>down</td>\n",
       "      <td>[6, 90]</td>\n",
       "    </tr>\n",
       "    <tr>\n",
       "      <th>3</th>\n",
       "      <td>rikokset</td>\n",
       "      <td>down_up</td>\n",
       "      <td>[30, 54, 78]</td>\n",
       "    </tr>\n",
       "    <tr>\n",
       "      <th>4</th>\n",
       "      <td>koulut</td>\n",
       "      <td>up_down</td>\n",
       "      <td>[1, 39, 77]</td>\n",
       "    </tr>\n",
       "  </tbody>\n",
       "</table>\n",
       "</div>"
      ],
      "text/plain": [
       "     category     event                    pivots\n",
       "0   tulipalot  periodic  [10, 26, 42, 58, 74, 90]\n",
       "1  työllisyys   complex              [30, 60, 90]\n",
       "2    musiikki      down                   [6, 90]\n",
       "3    rikokset   down_up              [30, 54, 78]\n",
       "4      koulut   up_down               [1, 39, 77]"
      ]
     },
     "execution_count": 124,
     "metadata": {},
     "output_type": "execute_result"
    }
   ],
   "source": [
    "df_match.head()"
   ]
  },
  {
   "cell_type": "code",
   "execution_count": 122,
   "metadata": {},
   "outputs": [
    {
     "data": {
      "text/html": [
       "<div>\n",
       "<style scoped>\n",
       "    .dataframe tbody tr th:only-of-type {\n",
       "        vertical-align: middle;\n",
       "    }\n",
       "\n",
       "    .dataframe tbody tr th {\n",
       "        vertical-align: top;\n",
       "    }\n",
       "\n",
       "    .dataframe thead th {\n",
       "        text-align: right;\n",
       "    }\n",
       "</style>\n",
       "<table border=\"1\" class=\"dataframe\">\n",
       "  <thead>\n",
       "    <tr style=\"text-align: right;\">\n",
       "      <th></th>\n",
       "      <th>id</th>\n",
       "      <th>category</th>\n",
       "      <th>time</th>\n",
       "      <th>event</th>\n",
       "    </tr>\n",
       "  </thead>\n",
       "  <tbody>\n",
       "    <tr>\n",
       "      <th>0</th>\n",
       "      <td>3-7617150</td>\n",
       "      <td>rikokset</td>\n",
       "      <td>35</td>\n",
       "      <td>down_up</td>\n",
       "    </tr>\n",
       "    <tr>\n",
       "      <th>1</th>\n",
       "      <td>3-5347603</td>\n",
       "      <td>rikokset</td>\n",
       "      <td>86</td>\n",
       "      <td>down_up</td>\n",
       "    </tr>\n",
       "    <tr>\n",
       "      <th>2</th>\n",
       "      <td>3-6607317</td>\n",
       "      <td>rikokset</td>\n",
       "      <td>50</td>\n",
       "      <td>down_up</td>\n",
       "    </tr>\n",
       "    <tr>\n",
       "      <th>3</th>\n",
       "      <td>3-6778959</td>\n",
       "      <td>rikokset</td>\n",
       "      <td>72</td>\n",
       "      <td>down_up</td>\n",
       "    </tr>\n",
       "    <tr>\n",
       "      <th>4</th>\n",
       "      <td>3-6452026</td>\n",
       "      <td>rikokset</td>\n",
       "      <td>89</td>\n",
       "      <td>down_up</td>\n",
       "    </tr>\n",
       "  </tbody>\n",
       "</table>\n",
       "</div>"
      ],
      "text/plain": [
       "          id  category  time    event\n",
       "0  3-7617150  rikokset    35  down_up\n",
       "1  3-5347603  rikokset    86  down_up\n",
       "2  3-6607317  rikokset    50  down_up\n",
       "3  3-6778959  rikokset    72  down_up\n",
       "4  3-6452026  rikokset    89  down_up"
      ]
     },
     "execution_count": 122,
     "metadata": {},
     "output_type": "execute_result"
    }
   ],
   "source": [
    "dataset[3].head()"
   ]
  },
  {
   "cell_type": "code",
   "execution_count": 123,
   "metadata": {},
   "outputs": [],
   "source": [
    "df_match.reset_index(inplace=True, drop=True)"
   ]
  },
  {
   "cell_type": "code",
   "execution_count": 125,
   "metadata": {},
   "outputs": [],
   "source": [
    "df_match.to_pickle('data/dev/dataset_1_pivot.pkl')"
   ]
  },
  {
   "cell_type": "code",
   "execution_count": 8,
   "metadata": {},
   "outputs": [],
   "source": [
    "# get the up, down, flat points for complex pattern only"
   ]
  },
  {
   "cell_type": "code",
   "execution_count": 9,
   "metadata": {},
   "outputs": [
    {
     "data": {
      "text/html": [
       "<div>\n",
       "<style scoped>\n",
       "    .dataframe tbody tr th:only-of-type {\n",
       "        vertical-align: middle;\n",
       "    }\n",
       "\n",
       "    .dataframe tbody tr th {\n",
       "        vertical-align: top;\n",
       "    }\n",
       "\n",
       "    .dataframe thead th {\n",
       "        text-align: right;\n",
       "    }\n",
       "</style>\n",
       "<table border=\"1\" class=\"dataframe\">\n",
       "  <thead>\n",
       "    <tr style=\"text-align: right;\">\n",
       "      <th></th>\n",
       "      <th>category</th>\n",
       "      <th>event</th>\n",
       "      <th>pivots</th>\n",
       "    </tr>\n",
       "  </thead>\n",
       "  <tbody>\n",
       "    <tr>\n",
       "      <th>0</th>\n",
       "      <td>vaalit</td>\n",
       "      <td>noise</td>\n",
       "      <td>[]</td>\n",
       "    </tr>\n",
       "    <tr>\n",
       "      <th>1</th>\n",
       "      <td>jääkiekko</td>\n",
       "      <td>down_up</td>\n",
       "      <td>[11, 41, 72]</td>\n",
       "    </tr>\n",
       "    <tr>\n",
       "      <th>2</th>\n",
       "      <td>tulipalot</td>\n",
       "      <td>complex</td>\n",
       "      <td>[20, 40, 70]</td>\n",
       "    </tr>\n",
       "    <tr>\n",
       "      <th>3</th>\n",
       "      <td>vaalit</td>\n",
       "      <td>noise</td>\n",
       "      <td>[]</td>\n",
       "    </tr>\n",
       "    <tr>\n",
       "      <th>4</th>\n",
       "      <td>rikokset</td>\n",
       "      <td>up</td>\n",
       "      <td>[26, 96]</td>\n",
       "    </tr>\n",
       "  </tbody>\n",
       "</table>\n",
       "</div>"
      ],
      "text/plain": [
       "    category    event        pivots\n",
       "0     vaalit    noise            []\n",
       "1  jääkiekko  down_up  [11, 41, 72]\n",
       "2  tulipalot  complex  [20, 40, 70]\n",
       "3     vaalit    noise            []\n",
       "4   rikokset       up      [26, 96]"
      ]
     },
     "execution_count": 9,
     "metadata": {},
     "output_type": "execute_result"
    }
   ],
   "source": [
    "tracker.head()"
   ]
  },
  {
   "cell_type": "code",
   "execution_count": 10,
   "metadata": {},
   "outputs": [],
   "source": [
    "df_comp = tracker[tracker['event'] == 'complex']"
   ]
  },
  {
   "cell_type": "code",
   "execution_count": 11,
   "metadata": {},
   "outputs": [
    {
     "data": {
      "text/html": [
       "<div>\n",
       "<style scoped>\n",
       "    .dataframe tbody tr th:only-of-type {\n",
       "        vertical-align: middle;\n",
       "    }\n",
       "\n",
       "    .dataframe tbody tr th {\n",
       "        vertical-align: top;\n",
       "    }\n",
       "\n",
       "    .dataframe thead th {\n",
       "        text-align: right;\n",
       "    }\n",
       "</style>\n",
       "<table border=\"1\" class=\"dataframe\">\n",
       "  <thead>\n",
       "    <tr style=\"text-align: right;\">\n",
       "      <th></th>\n",
       "      <th>category</th>\n",
       "      <th>event</th>\n",
       "      <th>pivots</th>\n",
       "    </tr>\n",
       "  </thead>\n",
       "  <tbody>\n",
       "    <tr>\n",
       "      <th>2</th>\n",
       "      <td>tulipalot</td>\n",
       "      <td>complex</td>\n",
       "      <td>[20, 40, 70]</td>\n",
       "    </tr>\n",
       "    <tr>\n",
       "      <th>5</th>\n",
       "      <td>musiikki</td>\n",
       "      <td>complex</td>\n",
       "      <td>[10, 40, 50, 80, 90]</td>\n",
       "    </tr>\n",
       "    <tr>\n",
       "      <th>10</th>\n",
       "      <td>koulut</td>\n",
       "      <td>complex</td>\n",
       "      <td>[30, 60, 80, 90]</td>\n",
       "    </tr>\n",
       "    <tr>\n",
       "      <th>28</th>\n",
       "      <td>koulut</td>\n",
       "      <td>complex</td>\n",
       "      <td>[10, 20, 30]</td>\n",
       "    </tr>\n",
       "    <tr>\n",
       "      <th>31</th>\n",
       "      <td>ruoat</td>\n",
       "      <td>complex</td>\n",
       "      <td>[10, 20, 30, 50, 60]</td>\n",
       "    </tr>\n",
       "  </tbody>\n",
       "</table>\n",
       "</div>"
      ],
      "text/plain": [
       "     category    event                pivots\n",
       "2   tulipalot  complex          [20, 40, 70]\n",
       "5    musiikki  complex  [10, 40, 50, 80, 90]\n",
       "10     koulut  complex      [30, 60, 80, 90]\n",
       "28     koulut  complex          [10, 20, 30]\n",
       "31      ruoat  complex  [10, 20, 30, 50, 60]"
      ]
     },
     "execution_count": 11,
     "metadata": {},
     "output_type": "execute_result"
    }
   ],
   "source": [
    "df_comp.head()"
   ]
  },
  {
   "cell_type": "code",
   "execution_count": 14,
   "metadata": {},
   "outputs": [
    {
     "data": {
      "text/plain": [
       "(280, 3)"
      ]
     },
     "execution_count": 14,
     "metadata": {},
     "output_type": "execute_result"
    }
   ],
   "source": [
    "df_comp.shape"
   ]
  },
  {
   "cell_type": "code",
   "execution_count": 17,
   "metadata": {},
   "outputs": [],
   "source": [
    "sample = samples[2]"
   ]
  },
  {
   "cell_type": "code",
   "execution_count": 18,
   "metadata": {},
   "outputs": [
    {
     "data": {
      "text/html": [
       "<div>\n",
       "<style scoped>\n",
       "    .dataframe tbody tr th:only-of-type {\n",
       "        vertical-align: middle;\n",
       "    }\n",
       "\n",
       "    .dataframe tbody tr th {\n",
       "        vertical-align: top;\n",
       "    }\n",
       "\n",
       "    .dataframe thead th {\n",
       "        text-align: right;\n",
       "    }\n",
       "</style>\n",
       "<table border=\"1\" class=\"dataframe\">\n",
       "  <thead>\n",
       "    <tr style=\"text-align: right;\">\n",
       "      <th></th>\n",
       "      <th>id</th>\n",
       "      <th>category</th>\n",
       "      <th>time</th>\n",
       "    </tr>\n",
       "  </thead>\n",
       "  <tbody>\n",
       "    <tr>\n",
       "      <th>0</th>\n",
       "      <td>3-9218779</td>\n",
       "      <td>tulipalot</td>\n",
       "      <td>56</td>\n",
       "    </tr>\n",
       "    <tr>\n",
       "      <th>1</th>\n",
       "      <td>3-6437631</td>\n",
       "      <td>tulipalot</td>\n",
       "      <td>67</td>\n",
       "    </tr>\n",
       "    <tr>\n",
       "      <th>2</th>\n",
       "      <td>3-7118988</td>\n",
       "      <td>tulipalot</td>\n",
       "      <td>3</td>\n",
       "    </tr>\n",
       "    <tr>\n",
       "      <th>3</th>\n",
       "      <td>3-10335177</td>\n",
       "      <td>tulipalot</td>\n",
       "      <td>59</td>\n",
       "    </tr>\n",
       "    <tr>\n",
       "      <th>4</th>\n",
       "      <td>3-10285523</td>\n",
       "      <td>tulipalot</td>\n",
       "      <td>65</td>\n",
       "    </tr>\n",
       "  </tbody>\n",
       "</table>\n",
       "</div>"
      ],
      "text/plain": [
       "           id   category  time\n",
       "0   3-9218779  tulipalot    56\n",
       "1   3-6437631  tulipalot    67\n",
       "2   3-7118988  tulipalot     3\n",
       "3  3-10335177  tulipalot    59\n",
       "4  3-10285523  tulipalot    65"
      ]
     },
     "execution_count": 18,
     "metadata": {},
     "output_type": "execute_result"
    }
   ],
   "source": [
    "sample.head()"
   ]
  },
  {
   "cell_type": "code",
   "execution_count": null,
   "metadata": {},
   "outputs": [],
   "source": [
    "\n",
    "    "
   ]
  },
  {
   "cell_type": "code",
   "execution_count": null,
   "metadata": {},
   "outputs": [],
   "source": []
  }
 ],
 "metadata": {
  "kernelspec": {
   "display_name": "Python 3",
   "language": "python",
   "name": "python3"
  },
  "language_info": {
   "codemirror_mode": {
    "name": "ipython",
    "version": 3
   },
   "file_extension": ".py",
   "mimetype": "text/x-python",
   "name": "python",
   "nbconvert_exporter": "python",
   "pygments_lexer": "ipython3",
   "version": "3.7.5"
  },
  "varInspector": {
   "cols": {
    "lenName": 16,
    "lenType": 16,
    "lenVar": 40
   },
   "kernels_config": {
    "python": {
     "delete_cmd_postfix": "",
     "delete_cmd_prefix": "del ",
     "library": "var_list.py",
     "varRefreshCmd": "print(var_dic_list())"
    },
    "r": {
     "delete_cmd_postfix": ") ",
     "delete_cmd_prefix": "rm(",
     "library": "var_list.r",
     "varRefreshCmd": "cat(var_dic_list()) "
    }
   },
   "types_to_exclude": [
    "module",
    "function",
    "builtin_function_or_method",
    "instance",
    "_Feature"
   ],
   "window_display": false
  }
 },
 "nbformat": 4,
 "nbformat_minor": 4
}
