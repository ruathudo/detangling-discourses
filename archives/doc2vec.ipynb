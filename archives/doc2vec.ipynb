{
 "cells": [
  {
   "cell_type": "code",
   "execution_count": 30,
   "metadata": {},
   "outputs": [],
   "source": [
    "import pandas as pd\n",
    "import numpy as np\n",
    "import pickle\n",
    "from numpy import random\n",
    "from itertools import combinations\n",
    "\n",
    "from gensim.utils import simple_preprocess\n",
    "\n",
    "from gensim.corpora import Dictionary\n",
    "from gensim.models.doc2vec import Doc2Vec, TaggedDocument\n",
    "\n",
    "import matplotlib.pyplot as plt\n",
    "\n",
    "%matplotlib inline"
   ]
  },
  {
   "cell_type": "code",
   "execution_count": 2,
   "metadata": {},
   "outputs": [],
   "source": [
    "df = pd.read_json('data/yle-articles.json', orient='records')"
   ]
  },
  {
   "cell_type": "code",
   "execution_count": 4,
   "metadata": {},
   "outputs": [
    {
     "data": {
      "text/html": [
       "<div>\n",
       "<style scoped>\n",
       "    .dataframe tbody tr th:only-of-type {\n",
       "        vertical-align: middle;\n",
       "    }\n",
       "\n",
       "    .dataframe tbody tr th {\n",
       "        vertical-align: top;\n",
       "    }\n",
       "\n",
       "    .dataframe thead th {\n",
       "        text-align: right;\n",
       "    }\n",
       "</style>\n",
       "<table border=\"1\" class=\"dataframe\">\n",
       "  <thead>\n",
       "    <tr style=\"text-align: right;\">\n",
       "      <th></th>\n",
       "      <th>id</th>\n",
       "      <th>date</th>\n",
       "      <th>title</th>\n",
       "      <th>body</th>\n",
       "      <th>subjects</th>\n",
       "    </tr>\n",
       "  </thead>\n",
       "  <tbody>\n",
       "    <tr>\n",
       "      <th>0</th>\n",
       "      <td>3-6475540</td>\n",
       "      <td>2013-01-31T22:53:33+0200</td>\n",
       "      <td>UMK-finalistit valittu – Great Wide North maks...</td>\n",
       "      <td>Great Wide North sai toisessa semifinaalissa ...</td>\n",
       "      <td>[kulttuuri, musiikki, viihde, uuden musiikin k...</td>\n",
       "    </tr>\n",
       "    <tr>\n",
       "      <th>1</th>\n",
       "      <td>3-6475536</td>\n",
       "      <td>2013-01-31T22:53:15+0200</td>\n",
       "      <td>YK:n pääsihteeri: Tieto Israelin iskusta Syyri...</td>\n",
       "      <td>Ban Ki-moon kehottaa Lähi-idän kaikki valtioi...</td>\n",
       "      <td>[ulkomaat, yhdistyneiden kansakuntien pääsihte...</td>\n",
       "    </tr>\n",
       "    <tr>\n",
       "      <th>2</th>\n",
       "      <td>3-6475539</td>\n",
       "      <td>2013-01-31T22:53:04+0200</td>\n",
       "      <td>AIK kuritti Rögleä - Pirnes kahmi tehopisteitä</td>\n",
       "      <td>Esa Pirnes oli tehokkaalla pelipäällä Elitser...</td>\n",
       "      <td>[urheilu, jääkiekko, aik if, svenska hockeylig...</td>\n",
       "    </tr>\n",
       "    <tr>\n",
       "      <th>3</th>\n",
       "      <td>20-162900</td>\n",
       "      <td>2013-01-31T22:43:34+0200</td>\n",
       "      <td>Polkupyörällä Islannissa: kirja lähtee painoon</td>\n",
       "      <td>On taas se aika vuodesta, kun olo on melko ep...</td>\n",
       "      <td>[matkakertomukset, matkakirjallisuus (kaunokir...</td>\n",
       "    </tr>\n",
       "    <tr>\n",
       "      <th>4</th>\n",
       "      <td>3-6475529</td>\n",
       "      <td>2013-01-31T22:38:24+0200</td>\n",
       "      <td>TPS:n oljenkorsi ei katkennut - 36 pistettä yh...</td>\n",
       "      <td>TPS säilytti SaiPasta otetun 3-1-voiton ansio...</td>\n",
       "      <td>[urheilu, jääkiekon miesten sm-liiga, jääkiekk...</td>\n",
       "    </tr>\n",
       "  </tbody>\n",
       "</table>\n",
       "</div>"
      ],
      "text/plain": [
       "          id                      date  \\\n",
       "0  3-6475540  2013-01-31T22:53:33+0200   \n",
       "1  3-6475536  2013-01-31T22:53:15+0200   \n",
       "2  3-6475539  2013-01-31T22:53:04+0200   \n",
       "3  20-162900  2013-01-31T22:43:34+0200   \n",
       "4  3-6475529  2013-01-31T22:38:24+0200   \n",
       "\n",
       "                                               title  \\\n",
       "0  UMK-finalistit valittu – Great Wide North maks...   \n",
       "1  YK:n pääsihteeri: Tieto Israelin iskusta Syyri...   \n",
       "2     AIK kuritti Rögleä - Pirnes kahmi tehopisteitä   \n",
       "3     Polkupyörällä Islannissa: kirja lähtee painoon   \n",
       "4  TPS:n oljenkorsi ei katkennut - 36 pistettä yh...   \n",
       "\n",
       "                                                body  \\\n",
       "0   Great Wide North sai toisessa semifinaalissa ...   \n",
       "1   Ban Ki-moon kehottaa Lähi-idän kaikki valtioi...   \n",
       "2   Esa Pirnes oli tehokkaalla pelipäällä Elitser...   \n",
       "3   On taas se aika vuodesta, kun olo on melko ep...   \n",
       "4   TPS säilytti SaiPasta otetun 3-1-voiton ansio...   \n",
       "\n",
       "                                            subjects  \n",
       "0  [kulttuuri, musiikki, viihde, uuden musiikin k...  \n",
       "1  [ulkomaat, yhdistyneiden kansakuntien pääsihte...  \n",
       "2  [urheilu, jääkiekko, aik if, svenska hockeylig...  \n",
       "3  [matkakertomukset, matkakirjallisuus (kaunokir...  \n",
       "4  [urheilu, jääkiekon miesten sm-liiga, jääkiekk...  "
      ]
     },
     "execution_count": 4,
     "metadata": {},
     "output_type": "execute_result"
    }
   ],
   "source": [
    "df.head()"
   ]
  },
  {
   "cell_type": "code",
   "execution_count": 11,
   "metadata": {},
   "outputs": [],
   "source": [
    "df['title'] = df['title'].astype(str)\n",
    "df['body'] = df['body'].astype(str)"
   ]
  },
  {
   "cell_type": "code",
   "execution_count": 13,
   "metadata": {},
   "outputs": [],
   "source": [
    "df['body'] = df['title'] + ' ' + df['body']"
   ]
  },
  {
   "cell_type": "code",
   "execution_count": 14,
   "metadata": {},
   "outputs": [],
   "source": [
    "%%time\n",
    "tokenized = df['body'].apply(simple_preprocess)"
   ]
  },
  {
   "cell_type": "code",
   "execution_count": 33,
   "metadata": {},
   "outputs": [
    {
     "name": "stdout",
     "output_type": "stream",
     "text": [
      "length of list: 702673 \n",
      "average document length 199.91770567532836 \n",
      "minimum document length 0 \n",
      "maximum document length 20333 \n",
      "number document less than 20 words: 7147 \n",
      "number document more than 1000 words: 5147\n"
     ]
    }
   ],
   "source": [
    "doc_lengths = tokenized.apply(lambda x: len(x))\n",
    "\n",
    "print(\"length of list:\",len(doc_lengths),\n",
    "      \"\\naverage document length\", doc_lengths.mean(),\n",
    "      \"\\nminimum document length\", doc_lengths.min(),\n",
    "      \"\\nmaximum document length\", doc_lengths.max(),\n",
    "      \"\\nnumber document less than {} words:\".format(20), (doc_lengths < 20).sum(),\n",
    "      \"\\nnumber document more than {} words:\".format(1000), (doc_lengths > 1000).sum())"
   ]
  },
  {
   "cell_type": "code",
   "execution_count": 44,
   "metadata": {},
   "outputs": [
    {
     "data": {
      "image/png": "[encoded data removed]",
      "text/plain": [
       "<Figure size 864x432 with 1 Axes>"
      ]
     },
     "metadata": {
      "needs_background": "light"
     },
     "output_type": "display_data"
    }
   ],
   "source": [
    "# plot a histogram of document length\n",
    "fig, ax = plt.subplots(figsize=(12,6));\n",
    "# the histogram of the data\n",
    "n, bins, patches = ax.hist(doc_lengths, bins=500, density=1)\n",
    "ax.set_xlabel('Document Length (tokens)', fontsize=15)\n",
    "ax.set_ylabel('Normed Frequency', fontsize=15)\n",
    "ax.grid()\n",
    "\n",
    "plt.xlim(0, 1000)\n",
    "# plt.ylim(0, 1)\n",
    "ax.plot([np.average(doc_lengths) for i in np.linspace(0.0, 0.01, 10)], np.linspace(0.0, 0.01, 10), '-',\n",
    "        label='average doc length')\n",
    "ax.legend()\n",
    "ax.grid()\n",
    "fig.tight_layout()\n",
    "plt.show()"
   ]
  },
  {
   "cell_type": "code",
   "execution_count": 45,
   "metadata": {},
   "outputs": [],
   "source": [
    "df['doc_len'] = doc_lengths\n",
    "df['tokens'] = tokenized"
   ]
  },
  {
   "cell_type": "code",
   "execution_count": 49,
   "metadata": {},
   "outputs": [],
   "source": [
    "# filter out documents < 20 or > 1000 tokens\n",
    "df_filtered = df[(df['doc_len'] > 20) & (df['doc_len'] < 1000)]"
   ]
  },
  {
   "cell_type": "code",
   "execution_count": 50,
   "metadata": {},
   "outputs": [
    {
     "data": {
      "text/plain": [
       "(689875, 7)"
      ]
     },
     "execution_count": 50,
     "metadata": {},
     "output_type": "execute_result"
    }
   ],
   "source": [
    "df_filtered.shape"
   ]
  },
  {
   "cell_type": "code",
   "execution_count": 48,
   "metadata": {},
   "outputs": [
    {
     "data": {
      "text/plain": [
       "(702673, 7)"
      ]
     },
     "execution_count": 48,
     "metadata": {},
     "output_type": "execute_result"
    }
   ],
   "source": [
    "df.shape"
   ]
  },
  {
   "cell_type": "code",
   "execution_count": 51,
   "metadata": {},
   "outputs": [
    {
     "data": {
      "text/html": [
       "<div>\n",
       "<style scoped>\n",
       "    .dataframe tbody tr th:only-of-type {\n",
       "        vertical-align: middle;\n",
       "    }\n",
       "\n",
       "    .dataframe tbody tr th {\n",
       "        vertical-align: top;\n",
       "    }\n",
       "\n",
       "    .dataframe thead th {\n",
       "        text-align: right;\n",
       "    }\n",
       "</style>\n",
       "<table border=\"1\" class=\"dataframe\">\n",
       "  <thead>\n",
       "    <tr style=\"text-align: right;\">\n",
       "      <th></th>\n",
       "      <th>id</th>\n",
       "      <th>date</th>\n",
       "      <th>title</th>\n",
       "      <th>body</th>\n",
       "      <th>subjects</th>\n",
       "      <th>doc_len</th>\n",
       "      <th>tokens</th>\n",
       "    </tr>\n",
       "  </thead>\n",
       "  <tbody>\n",
       "    <tr>\n",
       "      <th>0</th>\n",
       "      <td>3-6475540</td>\n",
       "      <td>2013-01-31T22:53:33+0200</td>\n",
       "      <td>UMK-finalistit valittu – Great Wide North maks...</td>\n",
       "      <td>UMK-finalistit valittu – Great Wide North maks...</td>\n",
       "      <td>[kulttuuri, musiikki, viihde, uuden musiikin k...</td>\n",
       "      <td>110</td>\n",
       "      <td>[umk, finalistit, valittu, great, wide, north,...</td>\n",
       "    </tr>\n",
       "    <tr>\n",
       "      <th>1</th>\n",
       "      <td>3-6475536</td>\n",
       "      <td>2013-01-31T22:53:15+0200</td>\n",
       "      <td>YK:n pääsihteeri: Tieto Israelin iskusta Syyri...</td>\n",
       "      <td>YK:n pääsihteeri: Tieto Israelin iskusta Syyri...</td>\n",
       "      <td>[ulkomaat, yhdistyneiden kansakuntien pääsihte...</td>\n",
       "      <td>109</td>\n",
       "      <td>[yk, pääsihteeri, tieto, israelin, iskusta, sy...</td>\n",
       "    </tr>\n",
       "    <tr>\n",
       "      <th>2</th>\n",
       "      <td>3-6475539</td>\n",
       "      <td>2013-01-31T22:53:04+0200</td>\n",
       "      <td>AIK kuritti Rögleä - Pirnes kahmi tehopisteitä</td>\n",
       "      <td>AIK kuritti Rögleä - Pirnes kahmi tehopisteitä...</td>\n",
       "      <td>[urheilu, jääkiekko, aik if, svenska hockeylig...</td>\n",
       "      <td>107</td>\n",
       "      <td>[aik, kuritti, rögleä, pirnes, kahmi, tehopist...</td>\n",
       "    </tr>\n",
       "    <tr>\n",
       "      <th>3</th>\n",
       "      <td>20-162900</td>\n",
       "      <td>2013-01-31T22:43:34+0200</td>\n",
       "      <td>Polkupyörällä Islannissa: kirja lähtee painoon</td>\n",
       "      <td>Polkupyörällä Islannissa: kirja lähtee painoon...</td>\n",
       "      <td>[matkakertomukset, matkakirjallisuus (kaunokir...</td>\n",
       "      <td>227</td>\n",
       "      <td>[polkupyörällä, islannissa, kirja, lähtee, pai...</td>\n",
       "    </tr>\n",
       "    <tr>\n",
       "      <th>4</th>\n",
       "      <td>3-6475529</td>\n",
       "      <td>2013-01-31T22:38:24+0200</td>\n",
       "      <td>TPS:n oljenkorsi ei katkennut - 36 pistettä yh...</td>\n",
       "      <td>TPS:n oljenkorsi ei katkennut - 36 pistettä yh...</td>\n",
       "      <td>[urheilu, jääkiekon miesten sm-liiga, jääkiekk...</td>\n",
       "      <td>209</td>\n",
       "      <td>[tps, oljenkorsi, ei, katkennut, pistettä, yhä...</td>\n",
       "    </tr>\n",
       "  </tbody>\n",
       "</table>\n",
       "</div>"
      ],
      "text/plain": [
       "          id                      date  \\\n",
       "0  3-6475540  2013-01-31T22:53:33+0200   \n",
       "1  3-6475536  2013-01-31T22:53:15+0200   \n",
       "2  3-6475539  2013-01-31T22:53:04+0200   \n",
       "3  20-162900  2013-01-31T22:43:34+0200   \n",
       "4  3-6475529  2013-01-31T22:38:24+0200   \n",
       "\n",
       "                                               title  \\\n",
       "0  UMK-finalistit valittu – Great Wide North maks...   \n",
       "1  YK:n pääsihteeri: Tieto Israelin iskusta Syyri...   \n",
       "2     AIK kuritti Rögleä - Pirnes kahmi tehopisteitä   \n",
       "3     Polkupyörällä Islannissa: kirja lähtee painoon   \n",
       "4  TPS:n oljenkorsi ei katkennut - 36 pistettä yh...   \n",
       "\n",
       "                                                body  \\\n",
       "0  UMK-finalistit valittu – Great Wide North maks...   \n",
       "1  YK:n pääsihteeri: Tieto Israelin iskusta Syyri...   \n",
       "2  AIK kuritti Rögleä - Pirnes kahmi tehopisteitä...   \n",
       "3  Polkupyörällä Islannissa: kirja lähtee painoon...   \n",
       "4  TPS:n oljenkorsi ei katkennut - 36 pistettä yh...   \n",
       "\n",
       "                                            subjects  doc_len  \\\n",
       "0  [kulttuuri, musiikki, viihde, uuden musiikin k...      110   \n",
       "1  [ulkomaat, yhdistyneiden kansakuntien pääsihte...      109   \n",
       "2  [urheilu, jääkiekko, aik if, svenska hockeylig...      107   \n",
       "3  [matkakertomukset, matkakirjallisuus (kaunokir...      227   \n",
       "4  [urheilu, jääkiekon miesten sm-liiga, jääkiekk...      209   \n",
       "\n",
       "                                              tokens  \n",
       "0  [umk, finalistit, valittu, great, wide, north,...  \n",
       "1  [yk, pääsihteeri, tieto, israelin, iskusta, sy...  \n",
       "2  [aik, kuritti, rögleä, pirnes, kahmi, tehopist...  \n",
       "3  [polkupyörällä, islannissa, kirja, lähtee, pai...  \n",
       "4  [tps, oljenkorsi, ei, katkennut, pistettä, yhä...  "
      ]
     },
     "execution_count": 51,
     "metadata": {},
     "output_type": "execute_result"
    }
   ],
   "source": [
    "df_filtered.head()"
   ]
  },
  {
   "cell_type": "code",
   "execution_count": 63,
   "metadata": {},
   "outputs": [
    {
     "data": {
      "text/plain": [
       "'UMK-finalistit valittu – Great Wide North maksimipisteillä jatkoon'"
      ]
     },
     "execution_count": 63,
     "metadata": {},
     "output_type": "execute_result"
    }
   ],
   "source": [
    "df_filtered.iloc[0]['title']"
   ]
  },
  {
   "cell_type": "code",
   "execution_count": 52,
   "metadata": {},
   "outputs": [],
   "source": [
    "df_filtered.to_pickle('data/dev/yle-articles-tokens.pkl')"
   ]
  },
  {
   "cell_type": "code",
   "execution_count": 54,
   "metadata": {},
   "outputs": [],
   "source": [
    "df_filtered.reset_index(inplace=True, drop=True)"
   ]
  },
  {
   "cell_type": "code",
   "execution_count": 55,
   "metadata": {},
   "outputs": [],
   "source": [
    "documents = [TaggedDocument(doc, [i]) for i, doc in enumerate(df_filtered['tokens'])]"
   ]
  },
  {
   "cell_type": "code",
   "execution_count": 56,
   "metadata": {},
   "outputs": [],
   "source": [
    "model = Doc2Vec(vector_size=128, min_count=2, workers=4, dbow_words=1, negative=5)"
   ]
  },
  {
   "cell_type": "code",
   "execution_count": 57,
   "metadata": {},
   "outputs": [
    {
     "name": "stdout",
     "output_type": "stream",
     "text": [
      "CPU times: user 5min 52s, sys: 3.2 s, total: 5min 55s\n",
      "Wall time: 5min 56s\n"
     ]
    }
   ],
   "source": [
    "%%time\n",
    "model.build_vocab(documents)"
   ]
  },
  {
   "cell_type": "code",
   "execution_count": null,
   "metadata": {},
   "outputs": [],
   "source": [
    "%%time\n",
    "model.train(documents, total_examples=model.corpus_count, epochs=30)"
   ]
  },
  {
   "cell_type": "code",
   "execution_count": null,
   "metadata": {},
   "outputs": [],
   "source": [
    "model.save('models/doc2vec_full')"
   ]
  },
  {
   "cell_type": "code",
   "execution_count": null,
   "metadata": {},
   "outputs": [],
   "source": []
  },
  {
   "cell_type": "code",
   "execution_count": 60,
   "metadata": {},
   "outputs": [],
   "source": [
    "# now we will validate if the model able to find the document itself is the most similar one\n",
    "doc_id = 2"
   ]
  },
  {
   "cell_type": "code",
   "execution_count": 61,
   "metadata": {},
   "outputs": [],
   "source": [
    "inferred_vector = model.infer_vector(documents[doc_id].words)\n",
    "sims = model.docvecs.most_similar([inferred_vector], topn=len(model.docvecs))"
   ]
  },
  {
   "cell_type": "code",
   "execution_count": 62,
   "metadata": {},
   "outputs": [
    {
     "name": "stdout",
     "output_type": "stream",
     "text": [
      "Document (2): «aik kuritti rögleä pirnes kahmi tehopisteitä esa pirnes oli tehokkaalla pelipäällä elitserienissä myös ville lajunen heilutti maaliverkkoa aik antoi kovaa kyytiä röglelle ruotsin jääkiekon elitserienissä aik ykkösketjussa hyökännyt esa pirnes merkkautti neljä tehopistettä kun rökitti vieraansa peräti aik osui kahdessa ensimmäisessä erässä kummassakin kahdesti ja pirnes sai syöttömerkinnät ja osumiin päätöserässä pirnes pääsi iskemään taululle jo lukemat röglen kavennusmaalin teki mathias tjärnqvist kymmenen minuuttian ennen loppusummeria juhamatti aaltonen sai syöttöpisteen osumaan aaltonen on ollut viime aikoina kovassa vedossa sillä hän on tehnyt neljässä viime ottelussa tehot kierroksen kolmas suomalainen pistemies oli färjestadin takalinjoilla häärivä ville lajunen hän pääsi maalin makuun joukkueensa kaataessa brynäsin vieraskentällä aik tavoin maalein»\n",
      "\n",
      "SIMILAR/DISSIMILAR DOCS PER MODEL Doc2Vec(dm/m,d128,n5,w5,mc2,s0.001,t4):\n",
      "\n",
      "MOST (2, 0.9206591844558716): «aik kuritti rögleä pirnes kahmi tehopisteitä esa pirnes oli tehokkaalla pelipäällä elitserienissä myös ville lajunen heilutti maaliverkkoa aik antoi kovaa kyytiä röglelle ruotsin jääkiekon elitserienissä aik ykkösketjussa hyökännyt esa pirnes merkkautti neljä tehopistettä kun rökitti vieraansa peräti aik osui kahdessa ensimmäisessä erässä kummassakin kahdesti ja pirnes sai syöttömerkinnät ja osumiin päätöserässä pirnes pääsi iskemään taululle jo lukemat röglen kavennusmaalin teki mathias tjärnqvist kymmenen minuuttian ennen loppusummeria juhamatti aaltonen sai syöttöpisteen osumaan aaltonen on ollut viime aikoina kovassa vedossa sillä hän on tehnyt neljässä viime ottelussa tehot kierroksen kolmas suomalainen pistemies oli färjestadin takalinjoilla häärivä ville lajunen hän pääsi maalin makuun joukkueensa kaataessa brynäsin vieraskentällä aik tavoin maalein»\n",
      "\n",
      "SECOND-MOST (29031, 0.6880477070808411): «lukko hankki aaron gagnon siirtyy lukon riveihin ruotsin kiekkoliigan hv stä rauman lukko on tehnyt loppukauden kattavan sopimuksen hyökkääjä aaron gagnonin kanssa sekä sentterinä että laiturina viihtyvä vuotias kanadalainen on pelannut tällä kaudella ruotsin kiekkoliigassa hv ssä gagnon on tehnyt ruotsissa pelaamissaan yhdekässä ottelussa tehot senttinen ja kiloinen gagnon pelannee lukon paidassa jo lauantaina hifk ta vastaan gagnon on phoenixin kahdeksannen kierroksen varaus vuodelta hän on pelannut yhteensä nhl ottelua dallasin ja winnipegin joukkueissa tehoin»\n",
      "\n",
      "MEDIAN (635589, 0.28342726826667786): «projektit purivat ahvenanmaan väkiluku on kasvanut tasaisesti koko luvun ajan syyskuun lopussa asui ahvenanmaan mukaan asukasta lukumäärä on kaikkien aikojen ennätys siirtolaisuus on eri vuosikymmeninä rokottanut ahvenanmaan väkilukua luvulla lähdettiin leivän ja paremman toimeentulon hakuun rapakon taakse joko amerikkaan tai ruotsiin luotettavia tilastoja ei luvulta ole silloin ahvenanmaalla asui ehkä asukasta ahvenamaa tunnetaan erityisesti ja harva tietää että ovat kotoisin eri maasta ja että siellä puhutaan eri kieltä noin kolmasosa asukkaista on syntynyt muualla kuin ahvenanmaalla muuttoliike niin ahvenanmaalle kuin sieltä pois on vilkasta ruotsi on säilyttänyt vuosisadat asemansa uutena kotimaana viime vuosina sinne on muuttanut prosenttia lähtijöistä suomikin kiinnostaa noin prosenttia löytää manner suomesta uuden kotipaikan luvulla väkiluku käväisi alapuolella mutta pysytteli seuraavat vuosikymmenet asukkaan yläpuolella ahvenanmaa on houkutellut monin eri projektein uusia asukkaita vuosikausia projektit ja hyvä ovat tuottaneet tulosta väkiluku on kasvanut tasaisesti koko luvun ajan pohjoismaiden ulkopuolelta halutaan muuttaa myös ahvenanmaalle viime vuosina eniten tulijoita on ollut latviasta ja romaniasta thaimaasta ja iranista ruotsin kielen jälkeen muita kieliä puhutaan jo enemmän kuin suomea päiväkodit ja koulut ovat entistä koska maahanmuuttajat ovat useimmiten työikäisiä ja perheellisiä»\n",
      "\n",
      "LEAST (671198, -0.09520425647497177): «marleenan mekoista ei synny leikkuujätettä maailmalla pikkuhiljaa yleistyvä muotiluomusten ekologinen suunnittelu tulee myös suomalaiseen asujen kaavat suunnitellaan niin että kaikki kangas tulee käytetyksi eikä hukkapaloja jää yleensä marleena terhon työhuoneella lojuu ympäriinsä kaavanpalasia kankaita ja suuria papereita joihin suunnittelija luonnostelee asuja nyt ateljee on siisti rekissä lepää henkareissa mustia punaisia taivaansinisiä roosanvärisiä ja viininpunaisia vaatteita kaavat ja näytekappaleet tulevasta terhon ensimmäisestä ovat valmiina tai ommeltavana marleena terho on yksi uraauurtavista suomalaisista hän on vienyt ekologisen ajattelun pitkälle vaatteiden tuotanto on alusta loppuun suomalaista ja paikallista kankaat on valittu kotimaisten vaatetehtaiden ja kaavoituksen jälkeen niistä ei jää hukkapaloja leikkuujätettä ei tule lainkaan kaikki vaatteen palaset käyvät tismalleen vastakkain kankaalla marleena terho kertoo jossa kangasjätettä ei synny lainkaan työskentely on matemaattisen tarkkaa esimerkiksi pythagoraan lause on ollut suunnittelussa kovassa käytössä kestävää ja uudenlaista maailmalla zero waste tekniikaksi suom ei jätettä kutsuttu on pikkuhiljaa kerännyt tekijöitä ja kannattajia marleena terho tietää taustalla vallitsevan ekologisen ajattelutavan on turhaa että palasia kankaasta jää käyttämättä näin saa tehtyä hienoja ja vaatteita tekemisessä on myös kivaa haastetta ekologisella tavalla tehdyt vaatteet kiinnostanevat varsinkin naisia jotka etsivät muotoilultaan ja laadultaan aikaa kestäviä vaatteita uskoo marleena terho sekin vaikuttaa että jotkut haluavat ostaa lähellä tehtyjä vaatteita kaikki suunnittelemani vaatteet on ommeltu lahdessa ja suomessa vuodenvaihteen jälkeen ensimmäisen mallistonsa julkaisevalla marleena terholla ovat edessä jännittävät ajat olen iloinen että iso työ on nyt valmis ja voin esitellä tuloksia silti jännittää ovatko muut näistä yhtä innoissaan kuin minä»\n",
      "\n"
     ]
    }
   ],
   "source": [
    "\n",
    "print('Document ({}): «{}»\\n'.format(doc_id, ' '.join(documents[doc_id].words)))\n",
    "print(u'SIMILAR/DISSIMILAR DOCS PER MODEL %s:\\n' % model)\n",
    "for label, index in [('MOST', 0), ('SECOND-MOST', 1), ('MEDIAN', len(sims)//2), ('LEAST', len(sims) - 1)]:\n",
    "    print(u'%s %s: «%s»\\n' % (label, sims[index], ' '.join(documents[sims[index][0]].words)))"
   ]
  },
  {
   "cell_type": "code",
   "execution_count": 26,
   "metadata": {},
   "outputs": [
    {
     "data": {
      "text/plain": [
       "[('vaisulla', 0.6381917595863342),\n",
       " ('vahvalla', 0.629941463470459),\n",
       " ('pienelläkin', 0.627147912979126),\n",
       " ('taitavalla', 0.6257155537605286),\n",
       " ('taidokkaalla', 0.6211278438568115),\n",
       " ('onnistuneella', 0.6185193657875061),\n",
       " ('joustavalla', 0.6067602634429932),\n",
       " ('mainiolla', 0.6042071580886841),\n",
       " ('laadukkaalla', 0.603455126285553),\n",
       " ('viileällä', 0.6015875935554504)]"
      ]
     },
     "execution_count": 26,
     "metadata": {},
     "output_type": "execute_result"
    }
   ],
   "source": [
    "model.wv.most_similar('tehokkaalla')"
   ]
  },
  {
   "cell_type": "code",
   "execution_count": 27,
   "metadata": {},
   "outputs": [
    {
     "data": {
      "text/plain": [
       "(128,)"
      ]
     },
     "execution_count": 27,
     "metadata": {},
     "output_type": "execute_result"
    }
   ],
   "source": [
    "model.wv['tehokkaalla'].shape"
   ]
  },
  {
   "cell_type": "code",
   "execution_count": 64,
   "metadata": {},
   "outputs": [
    {
     "ename": "KeyError",
     "evalue": "0",
     "output_type": "error",
     "traceback": [
      "\u001b[0;31m---------------------------------------------------------------------------\u001b[0m",
      "\u001b[0;31mKeyError\u001b[0m                                  Traceback (most recent call last)",
      "\u001b[0;32m<ipython-input-64-5d57d3bebb1e>\u001b[0m in \u001b[0;36m<module>\u001b[0;34m\u001b[0m\n\u001b[0;32m----> 1\u001b[0;31m \u001b[0mmodel\u001b[0m\u001b[0;34m.\u001b[0m\u001b[0mwv\u001b[0m\u001b[0;34m.\u001b[0m\u001b[0mvocab\u001b[0m\u001b[0;34m[\u001b[0m\u001b[0;36m0\u001b[0m\u001b[0;34m]\u001b[0m\u001b[0;34m\u001b[0m\u001b[0;34m\u001b[0m\u001b[0m\n\u001b[0m",
      "\u001b[0;31mKeyError\u001b[0m: 0"
     ]
    }
   ],
   "source": [
    "model.wv.vocab"
   ]
  },
  {
   "cell_type": "code",
   "execution_count": null,
   "metadata": {},
   "outputs": [],
   "source": []
  }
 ],
 "metadata": {
  "kernelspec": {
   "display_name": "Python 3",
   "language": "python",
   "name": "python3"
  },
  "language_info": {
   "codemirror_mode": {
    "name": "ipython",
    "version": 3
   },
   "file_extension": ".py",
   "mimetype": "text/x-python",
   "name": "python",
   "nbconvert_exporter": "python",
   "pygments_lexer": "ipython3",
   "version": "3.7.5"
  },
  "varInspector": {
   "cols": {
    "lenName": 16,
    "lenType": 16,
    "lenVar": 40
   },
   "kernels_config": {
    "python": {
     "delete_cmd_postfix": "",
     "delete_cmd_prefix": "del ",
     "library": "var_list.py",
     "varRefreshCmd": "print(var_dic_list())"
    },
    "r": {
     "delete_cmd_postfix": ") ",
     "delete_cmd_prefix": "rm(",
     "library": "var_list.r",
     "varRefreshCmd": "cat(var_dic_list()) "
    }
   },
   "types_to_exclude": [
    "module",
    "function",
    "builtin_function_or_method",
    "instance",
    "_Feature"
   ],
   "window_display": false
  }
 },
 "nbformat": 4,
 "nbformat_minor": 4
}
