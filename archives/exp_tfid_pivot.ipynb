{
 "cells": [
  {
   "cell_type": "code",
   "execution_count": 1,
   "metadata": {},
   "outputs": [],
   "source": [
    "import pandas as pd\n",
    "import numpy as np\n",
    "import pickle\n",
    "from numpy import random\n",
    "from itertools import combinations, permutations, product\n",
    "\n",
    "from gensim.corpora import Dictionary\n",
    "from gensim.utils import simple_preprocess\n",
    "from gensim.models import Doc2Vec\n",
    "import ruptures as rpt\n",
    "from ruptures.metrics import hausdorff, randindex, precision_recall\n",
    "\n",
    "from tqdm import tqdm\n",
    "from sklearn.metrics.pairwise import cosine_similarity\n",
    "from sklearn.feature_extraction.text import TfidfVectorizer\n",
    "from sklearn.model_selection import train_test_split\n",
    "\n",
    "\n",
    "import matplotlib.pyplot as plt\n",
    "import seaborn as sns\n",
    "\n",
    "%matplotlib inline"
   ]
  },
  {
   "cell_type": "code",
   "execution_count": 2,
   "metadata": {},
   "outputs": [],
   "source": [
    "df = pd.read_json('data/dev/cluster_2_cat.json')"
   ]
  },
  {
   "cell_type": "code",
   "execution_count": 3,
   "metadata": {},
   "outputs": [
    {
     "data": {
      "text/html": [
       "<div>\n",
       "<style scoped>\n",
       "    .dataframe tbody tr th:only-of-type {\n",
       "        vertical-align: middle;\n",
       "    }\n",
       "\n",
       "    .dataframe tbody tr th {\n",
       "        vertical-align: top;\n",
       "    }\n",
       "\n",
       "    .dataframe thead th {\n",
       "        text-align: right;\n",
       "    }\n",
       "</style>\n",
       "<table border=\"1\" class=\"dataframe\">\n",
       "  <thead>\n",
       "    <tr style=\"text-align: right;\">\n",
       "      <th></th>\n",
       "      <th>id</th>\n",
       "      <th>date</th>\n",
       "      <th>title</th>\n",
       "      <th>body</th>\n",
       "      <th>subjects</th>\n",
       "      <th>category</th>\n",
       "    </tr>\n",
       "  </thead>\n",
       "  <tbody>\n",
       "    <tr>\n",
       "      <th>0</th>\n",
       "      <td>3-6475540</td>\n",
       "      <td>2013-01-31T22:53:33+0200</td>\n",
       "      <td>UMK-finalistit valittu – Great Wide North maks...</td>\n",
       "      <td>Great Wide North sai toisessa semifinaalissa ...</td>\n",
       "      <td>[kulttuuri, musiikki, viihde, uuden musiikin k...</td>\n",
       "      <td>musiikki</td>\n",
       "    </tr>\n",
       "    <tr>\n",
       "      <th>1</th>\n",
       "      <td>3-6474985</td>\n",
       "      <td>2013-01-31T15:32:31+0200</td>\n",
       "      <td>Vaganovan balettiakatemian kesäkurssi tulossa</td>\n",
       "      <td>Mikkeliläisen balettitapahtuman Savcor Ballet...</td>\n",
       "      <td>[kulttuuri, baletti, savcor group, teatteritai...</td>\n",
       "      <td>musiikki</td>\n",
       "    </tr>\n",
       "    <tr>\n",
       "      <th>2</th>\n",
       "      <td>3-6474210</td>\n",
       "      <td>2013-01-31T13:57:18+0200</td>\n",
       "      <td>Liikuttaa ja koskettaa</td>\n",
       "      <td>Musiikki ei juurikaan sulostuta laitoksessa e...</td>\n",
       "      <td>[terveys, kotimaan uutiset, kulttuuri, musiikk...</td>\n",
       "      <td>musiikki</td>\n",
       "    </tr>\n",
       "    <tr>\n",
       "      <th>3</th>\n",
       "      <td>3-6474612</td>\n",
       "      <td>2013-01-31T13:38:49+0200</td>\n",
       "      <td>Säveltäjä Krzysztof Penderecki loistaa musiikk...</td>\n",
       "      <td>Naantalin Musiikkijuhlat kunnioittaa ensi kes...</td>\n",
       "      <td>[kulttuuri, krzysztof penderecki, naantali, mu...</td>\n",
       "      <td>musiikki</td>\n",
       "    </tr>\n",
       "    <tr>\n",
       "      <th>4</th>\n",
       "      <td>3-6474306</td>\n",
       "      <td>2013-01-31T13:30:58+0200</td>\n",
       "      <td>Entisajan lepakko, nykyajan Batman</td>\n",
       "      <td>Lahdessa nähdään ja kuullaan opiskelijavoimin...</td>\n",
       "      <td>[kulttuuri, batman, operetit, dc comics, lahti...</td>\n",
       "      <td>musiikki</td>\n",
       "    </tr>\n",
       "  </tbody>\n",
       "</table>\n",
       "</div>"
      ],
      "text/plain": [
       "          id                      date  \\\n",
       "0  3-6475540  2013-01-31T22:53:33+0200   \n",
       "1  3-6474985  2013-01-31T15:32:31+0200   \n",
       "2  3-6474210  2013-01-31T13:57:18+0200   \n",
       "3  3-6474612  2013-01-31T13:38:49+0200   \n",
       "4  3-6474306  2013-01-31T13:30:58+0200   \n",
       "\n",
       "                                               title  \\\n",
       "0  UMK-finalistit valittu – Great Wide North maks...   \n",
       "1     Vaganovan balettiakatemian kesäkurssi tulossa    \n",
       "2                             Liikuttaa ja koskettaa   \n",
       "3  Säveltäjä Krzysztof Penderecki loistaa musiikk...   \n",
       "4                 Entisajan lepakko, nykyajan Batman   \n",
       "\n",
       "                                                body  \\\n",
       "0   Great Wide North sai toisessa semifinaalissa ...   \n",
       "1   Mikkeliläisen balettitapahtuman Savcor Ballet...   \n",
       "2   Musiikki ei juurikaan sulostuta laitoksessa e...   \n",
       "3   Naantalin Musiikkijuhlat kunnioittaa ensi kes...   \n",
       "4   Lahdessa nähdään ja kuullaan opiskelijavoimin...   \n",
       "\n",
       "                                            subjects  category  \n",
       "0  [kulttuuri, musiikki, viihde, uuden musiikin k...  musiikki  \n",
       "1  [kulttuuri, baletti, savcor group, teatteritai...  musiikki  \n",
       "2  [terveys, kotimaan uutiset, kulttuuri, musiikk...  musiikki  \n",
       "3  [kulttuuri, krzysztof penderecki, naantali, mu...  musiikki  \n",
       "4  [kulttuuri, batman, operetit, dc comics, lahti...  musiikki  "
      ]
     },
     "execution_count": 3,
     "metadata": {},
     "output_type": "execute_result"
    }
   ],
   "source": [
    "df.head()"
   ]
  },
  {
   "cell_type": "code",
   "execution_count": 4,
   "metadata": {},
   "outputs": [
    {
     "name": "stdout",
     "output_type": "stream",
     "text": [
      "<class 'pandas.core.frame.DataFrame'>\n",
      "Int64Index: 40994 entries, 0 to 40993\n",
      "Data columns (total 6 columns):\n",
      " #   Column    Non-Null Count  Dtype \n",
      "---  ------    --------------  ----- \n",
      " 0   id        40994 non-null  object\n",
      " 1   date      40994 non-null  object\n",
      " 2   title     40994 non-null  object\n",
      " 3   body      40994 non-null  object\n",
      " 4   subjects  40994 non-null  object\n",
      " 5   category  40994 non-null  object\n",
      "dtypes: object(6)\n",
      "memory usage: 2.2+ MB\n"
     ]
    }
   ],
   "source": [
    "df.info()"
   ]
  },
  {
   "cell_type": "code",
   "execution_count": 5,
   "metadata": {},
   "outputs": [],
   "source": [
    "df['body'] = df['title'] + '. ' + df['body']"
   ]
  },
  {
   "cell_type": "code",
   "execution_count": null,
   "metadata": {},
   "outputs": [],
   "source": []
  },
  {
   "cell_type": "code",
   "execution_count": 6,
   "metadata": {},
   "outputs": [],
   "source": [
    "# create artificial pivot points\n",
    "# for each\n",
    "\n",
    "def create_dataset(df, max_pivot=5, timeline=20, n_samples=100, min_docs=10, max_docs=100):\n",
    "    df1 = df[df['category'] == 'luonto']\n",
    "    df2 = df[df['category'] == 'musiikki']\n",
    "    \n",
    "    samples = []   # list article ids\n",
    "    sample_pivots = []  # list of pivots index in timeline, need to map with ids\n",
    "    \n",
    "    for i in range(n_samples):\n",
    "        # take random n articles from group 1 and 2\n",
    "        # assign articles in group to rand(1, max_pivot)\n",
    "        # pivot index is from 1 to max timeline, for example, timeline=10, pivots=[2, 6, 9]\n",
    "        n_pivot = random.randint(low=1, high=(max_pivot+1))\n",
    "        pivots = random.choice(range(1, timeline), size=n_pivot, replace=False)\n",
    "        pivots = np.sort(pivots)\n",
    "        \n",
    "        # print(n_pivot, pivots)\n",
    "        \n",
    "        sample_pivots.append(pivots)\n",
    "        # [0, 1], [1, 2]\n",
    "        pivot_switch = False\n",
    "        sample = []\n",
    "        timeline_range = np.concatenate((np.array([0], dtype=int), pivots))\n",
    "        \n",
    "        for j, p in enumerate(timeline_range):\n",
    "            n_doc = random.choice(range(min_docs, max_docs))\n",
    "            # set init low as 0 and final high = timeline + 1 (ex bound of randint)\n",
    "            high = timeline if j == len(timeline_range) - 1 else timeline_range[j+1]\n",
    "            low = p\n",
    "            \n",
    "            if pivot_switch:\n",
    "                group = df2[['id', 'category']].sample(n=n_doc)\n",
    "            else:\n",
    "                group = df1[['id', 'category']].sample(n=n_doc)\n",
    "            \n",
    "            # print(\"group\", len(group))\n",
    "            \n",
    "            # map random id in group to the time unit\n",
    "            # print(f'low {low} - high {high}')\n",
    "            \n",
    "            group['time'] = random.choice(range(low, high), size=n_doc)\n",
    "            # assign next prepoint is current pivot point\n",
    "            pivot_switch = pivot_switch == False\n",
    "            \n",
    "            sample.append(group)\n",
    "\n",
    "        sample = pd.concat(sample, ignore_index=False)\n",
    "        sample.sort_values('time', inplace=True)\n",
    "        # sample.reset_index(drop=True, inplace=True)\n",
    "        samples.append(sample)\n",
    "        \n",
    "    return samples, sample_pivots"
   ]
  },
  {
   "cell_type": "code",
   "execution_count": 7,
   "metadata": {},
   "outputs": [
    {
     "name": "stdout",
     "output_type": "stream",
     "text": [
      "CPU times: user 806 ms, sys: 0 ns, total: 806 ms\n",
      "Wall time: 808 ms\n"
     ]
    }
   ],
   "source": [
    "%%time\n",
    "n_samples = 100\n",
    "dataset = create_dataset(df, max_pivot=3, timeline=100, n_samples=n_samples, min_docs=500, max_docs=1000)"
   ]
  },
  {
   "cell_type": "code",
   "execution_count": 8,
   "metadata": {},
   "outputs": [],
   "source": [
    "samples, pivots = dataset"
   ]
  },
  {
   "cell_type": "code",
   "execution_count": 190,
   "metadata": {},
   "outputs": [],
   "source": [
    "# with open('data/dev/cluster_1_pivot.pkl', 'wb') as f:\n",
    "#     pickle.dump(dataset, f)"
   ]
  },
  {
   "cell_type": "code",
   "execution_count": 191,
   "metadata": {},
   "outputs": [],
   "source": [
    "# with open('data/dev/cluster_dataset_2.pkl', 'rb') as f:\n",
    "#      dataset = pickle.load(f)"
   ]
  },
  {
   "cell_type": "code",
   "execution_count": 12,
   "metadata": {},
   "outputs": [],
   "source": [
    "rand_id = np.random.randint(n_samples)\n",
    "df_sample = samples[rand_id].copy()\n",
    "pivot_sample = pivots[rand_id]"
   ]
  },
  {
   "cell_type": "code",
   "execution_count": 13,
   "metadata": {},
   "outputs": [
    {
     "data": {
      "text/plain": [
       "array([ 4,  8, 27])"
      ]
     },
     "execution_count": 13,
     "metadata": {},
     "output_type": "execute_result"
    }
   ],
   "source": [
    "pivot_sample"
   ]
  },
  {
   "cell_type": "code",
   "execution_count": 37,
   "metadata": {},
   "outputs": [
    {
     "data": {
      "text/html": [
       "<div>\n",
       "<style scoped>\n",
       "    .dataframe tbody tr th:only-of-type {\n",
       "        vertical-align: middle;\n",
       "    }\n",
       "\n",
       "    .dataframe tbody tr th {\n",
       "        vertical-align: top;\n",
       "    }\n",
       "\n",
       "    .dataframe thead th {\n",
       "        text-align: right;\n",
       "    }\n",
       "</style>\n",
       "<table border=\"1\" class=\"dataframe\">\n",
       "  <thead>\n",
       "    <tr style=\"text-align: right;\">\n",
       "      <th></th>\n",
       "      <th>id</th>\n",
       "      <th>category</th>\n",
       "      <th>body</th>\n",
       "      <th>time</th>\n",
       "    </tr>\n",
       "  </thead>\n",
       "  <tbody>\n",
       "    <tr>\n",
       "      <th>1750</th>\n",
       "      <td>3-6710352</td>\n",
       "      <td>musiikki</td>\n",
       "      <td>Kirjanystävät Sastamalaan, kuvataiteista pitäv...</td>\n",
       "      <td>99</td>\n",
       "    </tr>\n",
       "    <tr>\n",
       "      <th>19648</th>\n",
       "      <td>3-5335834</td>\n",
       "      <td>musiikki</td>\n",
       "      <td>Karaoke villitsee Pieksämäen eläkeläisiä.  Elä...</td>\n",
       "      <td>99</td>\n",
       "    </tr>\n",
       "    <tr>\n",
       "      <th>11595</th>\n",
       "      <td>3-7929316</td>\n",
       "      <td>musiikki</td>\n",
       "      <td>Kuinka saisin rikki kookospähkinän?.  Kemiläis...</td>\n",
       "      <td>99</td>\n",
       "    </tr>\n",
       "    <tr>\n",
       "      <th>20225</th>\n",
       "      <td>3-5465506</td>\n",
       "      <td>musiikki</td>\n",
       "      <td>Joroisten Musiikkipäiville savonlinnalainen su...</td>\n",
       "      <td>99</td>\n",
       "    </tr>\n",
       "    <tr>\n",
       "      <th>13380</th>\n",
       "      <td>20-257007</td>\n",
       "      <td>musiikki</td>\n",
       "      <td>Biisibattle: Radioactive.  Maailma on pullolla...</td>\n",
       "      <td>99</td>\n",
       "    </tr>\n",
       "  </tbody>\n",
       "</table>\n",
       "</div>"
      ],
      "text/plain": [
       "              id  category                                               body  \\\n",
       "1750   3-6710352  musiikki  Kirjanystävät Sastamalaan, kuvataiteista pitäv...   \n",
       "19648  3-5335834  musiikki  Karaoke villitsee Pieksämäen eläkeläisiä.  Elä...   \n",
       "11595  3-7929316  musiikki  Kuinka saisin rikki kookospähkinän?.  Kemiläis...   \n",
       "20225  3-5465506  musiikki  Joroisten Musiikkipäiville savonlinnalainen su...   \n",
       "13380  20-257007  musiikki  Biisibattle: Radioactive.  Maailma on pullolla...   \n",
       "\n",
       "       time  \n",
       "1750     99  \n",
       "19648    99  \n",
       "11595    99  \n",
       "20225    99  \n",
       "13380    99  "
      ]
     },
     "execution_count": 37,
     "metadata": {},
     "output_type": "execute_result"
    }
   ],
   "source": [
    "df_sample.tail()"
   ]
  },
  {
   "cell_type": "code",
   "execution_count": 14,
   "metadata": {},
   "outputs": [],
   "source": [
    "# vectorizer = TfidfVectorizer()\n",
    "# corpus = df_sample['body']\n",
    "\n",
    "# X = vectorizer.fit_transform(corpus)"
   ]
  },
  {
   "cell_type": "code",
   "execution_count": 31,
   "metadata": {},
   "outputs": [],
   "source": [
    "# sim_mat = cosine_similarity(X)"
   ]
  },
  {
   "cell_type": "code",
   "execution_count": 32,
   "metadata": {},
   "outputs": [
    {
     "data": {
      "text/plain": [
       "(2194, 2194)"
      ]
     },
     "execution_count": 32,
     "metadata": {},
     "output_type": "execute_result"
    }
   ],
   "source": [
    "# sim_mat.shape"
   ]
  },
  {
   "cell_type": "code",
   "execution_count": 9,
   "metadata": {},
   "outputs": [],
   "source": [
    "# try doc2vec model\n",
    "doc2vec = Doc2Vec.load('models/doc2vec_full')"
   ]
  },
  {
   "cell_type": "code",
   "execution_count": 10,
   "metadata": {},
   "outputs": [],
   "source": [
    "# infering to sample docs\n",
    "def infer_doc2vec(docs, model):\n",
    "    # tokenize the docs\n",
    "    tokenized = docs.apply(simple_preprocess)\n",
    "    vecs = np.zeros((len(docs), model.vector_size))\n",
    "    \n",
    "    for i, tokens in enumerate(tokenized):\n",
    "        vecs[i] = doc2vec.infer_vector(tokens)\n",
    "    \n",
    "    return vecs"
   ]
  },
  {
   "cell_type": "code",
   "execution_count": 11,
   "metadata": {},
   "outputs": [
    {
     "name": "stdout",
     "output_type": "stream",
     "text": [
      "CPU times: user 10min, sys: 503 ms, total: 10min 1s\n",
      "Wall time: 10min 3s\n"
     ]
    }
   ],
   "source": [
    "%%time\n",
    "doc_vecs = infer_doc2vec(df['body'], doc2vec)"
   ]
  },
  {
   "cell_type": "code",
   "execution_count": 10,
   "metadata": {},
   "outputs": [
    {
     "data": {
      "text/plain": [
       "(40994, 128)"
      ]
     },
     "execution_count": 10,
     "metadata": {},
     "output_type": "execute_result"
    }
   ],
   "source": [
    "doc_vecs.shape"
   ]
  },
  {
   "cell_type": "code",
   "execution_count": 14,
   "metadata": {},
   "outputs": [],
   "source": [
    "sample_vecs = doc_vecs[list(df_sample.index)]\n",
    "df_sample.reset_index(inplace=True, drop=True)"
   ]
  },
  {
   "cell_type": "code",
   "execution_count": 15,
   "metadata": {},
   "outputs": [],
   "source": [
    "sim_mat = cosine_similarity(sample_vecs)"
   ]
  },
  {
   "cell_type": "code",
   "execution_count": 16,
   "metadata": {},
   "outputs": [
    {
     "data": {
      "text/plain": [
       "(3295, 3295)"
      ]
     },
     "execution_count": 16,
     "metadata": {},
     "output_type": "execute_result"
    }
   ],
   "source": [
    "sim_mat.shape"
   ]
  },
  {
   "cell_type": "code",
   "execution_count": 15,
   "metadata": {
    "code_folding": [
     55
    ]
   },
   "outputs": [],
   "source": [
    "def calculate_similarity_window(df, sim_mat, timeline, window=2, offset=1):\n",
    "    steps = timeline - window + 1\n",
    "    \n",
    "    mean_sim = np.zeros(steps)\n",
    "    total = 0\n",
    "    \n",
    "    for i in range(steps):\n",
    "        # get all articles having time < window\n",
    "        df_sub = df[(df['time'] < window + i) & (df['time'] >= i)]\n",
    "        # print(df_sub.index[:10])\n",
    "        pairwise_index = list(combinations(list(df_sub.index), 2))\n",
    "        pairwise_index = tuple(zip(*pairwise_index))\n",
    "        # print(pairwise_index)\n",
    "        \n",
    "        sim_scores = sim_mat[pairwise_index]\n",
    "        # print(sim_scores)\n",
    "        mean_sim[i] = np.mean(sim_scores)\n",
    "        \n",
    "        # print(df_sub.shape)\n",
    "        total += df_sub.shape[0]\n",
    "\n",
    "    print(total)\n",
    "    \n",
    "    return mean_sim\n",
    "\n",
    "def get_sim_window(df, sim_mat, timeline, window=2, n_shuff=10):\n",
    "    # idea, calculate for tfidf for group1, group2, and mix\n",
    "    # calculate the diff: (g1 - mix)^2 + (g2 -mix)^2\n",
    "    total = 0\n",
    "    mean_sim = np.zeros(timeline - 1)\n",
    "    \n",
    "    for i in range(timeline - 1):\n",
    "        # get all article for i and i + 1\n",
    "        df_sub1 = df[df['time'] == i]\n",
    "        df_sub2 = df[df['time'] == i+1]\n",
    "        \n",
    "        pairwise_index = list(product(list(df_sub1.index), list(df_sub2.index)))\n",
    "        pairwise_index = tuple(zip(*pairwise_index))\n",
    "        sim_scores = sim_mat[pairwise_index]\n",
    "        \n",
    "        avg_sim_mix = 0\n",
    "        df_sub = pd.concat([df_sub1, df_sub2])\n",
    "        \n",
    "        for n in range(n_shuff):\n",
    "            # now do the same, but mix up the index of 2 group\n",
    "            df_mix1, df_mix2 = train_test_split(df_sub, test_size=0.5)\n",
    "\n",
    "            pairwise_index = list(product(list(df_mix1.index), list(df_mix2.index)))\n",
    "            pairwise_index = tuple(zip(*pairwise_index))\n",
    "            sim_scores_mix = sim_mat[pairwise_index]\n",
    "            \n",
    "            avg_sim_mix += np.mean(sim_scores_mix)\n",
    "        \n",
    "        avg_sim_mix = avg_sim_mix / n_shuff\n",
    "        avg_sim_scores = np.mean(sim_scores)\n",
    "        \n",
    "        mean_sim[i] = (avg_sim_mix - avg_sim_scores) / avg_sim_scores\n",
    "        \n",
    "    return mean_sim\n",
    "        \n",
    "\n",
    "def get_sim_window_2(df, sim_mat, timeline, window=2):\n",
    "    # idea, calculate for tfidf for group1, group2, and mix\n",
    "    # calculate the diff: (g1 - mix)^2 + (g2 -mix)^2\n",
    "    total = 0\n",
    "    mean_sim = np.zeros(timeline - 1)\n",
    "    \n",
    "    for i in range(timeline - 1):\n",
    "        # get all article for i and i + 1\n",
    "        df_sub1 = df[df['time'] == i]\n",
    "        df_sub2 = df[df['time'] == i+1]\n",
    "        \n",
    "        pairwise_index = list(combinations(list(df_sub1.index), 2))\n",
    "        # print(\"origin\", pairwise_index[:10])\n",
    "        pairwise_index = tuple(zip(*pairwise_index))\n",
    "        sim_scores_1 = sim_mat[pairwise_index]\n",
    "        \n",
    "        pairwise_index = list(combinations(list(df_sub2.index), 2))\n",
    "        pairwise_index = tuple(zip(*pairwise_index))\n",
    "        sim_scores_2 = sim_mat[pairwise_index]\n",
    "        \n",
    "        \n",
    "        # now do the same, but mix up the index of 2 group\n",
    "        df_sub = pd.concat([df_sub1, df_sub2])\n",
    "        df_mix1, df_mix2 = train_test_split(df_sub, test_size=len(df_sub2))\n",
    "        # print(len(df_mix1), len(df_sub1))\n",
    "        \n",
    "        pairwise_index = list(combinations(list(df_mix1.index), 2))\n",
    "        pairwise_index = tuple(zip(*pairwise_index))\n",
    "        sim_scores_mix_1 = sim_mat[pairwise_index]\n",
    "        \n",
    "        pairwise_index = list(combinations(list(df_mix2.index), 2))\n",
    "        pairwise_index = tuple(zip(*pairwise_index))\n",
    "        sim_scores_mix_2 = sim_mat[pairwise_index]\n",
    "        \n",
    "        # pairwise_index = list(product(list(df_mix1.index), list(df_mix2.index)))\n",
    "        # print(\"mixed\", pairwise_index[:10])\n",
    "        # pairwise_index = tuple(zip(*pairwise_index))\n",
    "        # sim_scores_2 = sim_mat[pairwise_index]\n",
    "        \n",
    "        diff_scores_1 = (np.mean(sim_scores_1) - np.mean(sim_scores_mix_1)) / np.mean(sim_scores_1)\n",
    "        diff_scores_2 = (np.mean(sim_scores_2) - np.mean(sim_scores_mix_2)) / np.mean(sim_scores_2)\n",
    "        \n",
    "\n",
    "        # print(sim_scores)\n",
    "        mean_sim[i] = diff_scores_1 + diff_scores_2\n",
    "        \n",
    "        # print(df_sub.shape)\n",
    "        # total += df_sub.shape[0]\n",
    "        \n",
    "    # print(total)\n",
    "    \n",
    "    return mean_sim\n",
    "    "
   ]
  },
  {
   "cell_type": "code",
   "execution_count": 30,
   "metadata": {},
   "outputs": [],
   "source": [
    "sim_steps = get_sim_window(df_sample, sim_mat, timeline=100, window=2, n_shuff=10)"
   ]
  },
  {
   "cell_type": "code",
   "execution_count": 19,
   "metadata": {},
   "outputs": [
    {
     "data": {
      "text/plain": [
       "(99,)"
      ]
     },
     "execution_count": 19,
     "metadata": {},
     "output_type": "execute_result"
    }
   ],
   "source": [
    "sim_steps.shape"
   ]
  },
  {
   "cell_type": "code",
   "execution_count": 31,
   "metadata": {},
   "outputs": [
    {
     "name": "stdout",
     "output_type": "stream",
     "text": [
      "[-6.46009091e+00 -5.29825602e+00 -4.29859735e+00 -3.68527781e+00\n",
      " -3.27198712e+00 -3.24981058e+00 -3.18794857e+00 -3.18744686e+00\n",
      " -2.91143207e+00 -2.71038436e+00 -2.64196135e+00 -2.49549488e+00\n",
      " -2.49476937e+00 -2.44230213e+00 -2.23717409e+00 -2.13122764e+00\n",
      " -2.09128333e+00 -1.91500590e+00 -1.90002454e+00 -1.75607550e+00\n",
      " -1.66699827e+00 -1.61141555e+00 -1.53770520e+00 -1.43817625e+00\n",
      " -1.42978184e+00 -1.36008866e+00 -1.31671876e+00 -1.25879887e+00\n",
      " -1.25012849e+00 -1.20194456e+00 -1.11495902e+00 -1.04228962e+00\n",
      " -9.07489815e-01 -8.70351163e-01 -8.31950836e-01 -7.84380111e-01\n",
      " -7.49902735e-01 -7.05748951e-01 -6.91532955e-01 -5.47169058e-01\n",
      " -5.27385296e-01 -4.89297800e-01 -4.68476588e-01 -4.66897867e-01\n",
      " -4.38183810e-01 -4.04174331e-01 -3.99990738e-01 -3.75535350e-01\n",
      " -3.67968667e-01 -3.18961537e-01 -2.56966893e-01 -1.64891173e-01\n",
      " -1.34383599e-01 -4.80976857e-02 -3.51271170e-02 -1.44980746e-02\n",
      "  1.03901425e-02  3.33032100e-02  9.54759996e-02  1.01699672e-01\n",
      "  1.55315461e-01  1.89139692e-01  1.95806883e-01  2.97986989e-01\n",
      "  3.88574824e-01  4.96052505e-01  5.09358322e-01  5.37503777e-01\n",
      "  5.66966986e-01  6.55502902e-01  6.75399042e-01  6.75810028e-01\n",
      "  7.03028653e-01  7.40499339e-01  7.69999330e-01  8.44871613e-01\n",
      "  8.82772659e-01  8.92459599e-01  9.04332154e-01  9.08146472e-01\n",
      "  9.11566213e-01  9.21159654e-01  1.01126740e+00  1.04457048e+00\n",
      "  1.04852268e+00  1.08906141e+00  1.30439031e+00  1.70929894e+00\n",
      "  1.89105893e+00  2.04363980e+00  2.14694794e+00  2.17261199e+00\n",
      "  2.23820467e+00  2.56047881e+00  3.16539255e+00  5.01397989e+00\n",
      "  3.45064720e+01  3.51647639e+01  5.96588281e+01]\n",
      "[  4   8  27 100]\n"
     ]
    },
    {
     "data": {
      "text/plain": [
       "<Figure size 1440x720 with 0 Axes>"
      ]
     },
     "metadata": {},
     "output_type": "display_data"
    },
    {
     "data": {
      "image/png": "[encoded data removed]",
      "text/plain": [
       "<Figure size 720x144 with 1 Axes>"
      ]
     },
     "metadata": {
      "needs_background": "light"
     },
     "output_type": "display_data"
    }
   ],
   "source": [
    "# generate signal\n",
    "# n_samples, dim, sigma = 1000, 1, 1\n",
    "\n",
    "# signal, bkps = rpt.pw_constant(n_samples, dim, n_bkps, noise_std=sigma)\n",
    "signal = sim_steps * 100\n",
    "bkps = np.concatenate((pivot_sample, np.array([100])))\n",
    "print(np.sort(signal))\n",
    "print(bkps)\n",
    "# detection\n",
    "algo = rpt.Window(model=\"normal\", width=5).fit(signal)\n",
    "result = algo.predict(len(bkps) - 1)\n",
    "# display\n",
    "\n",
    "plt.figure(figsize=(20,10))\n",
    "rpt.display(signal, bkps, result)\n",
    "\n",
    "plt.show()\n"
   ]
  },
  {
   "cell_type": "code",
   "execution_count": 12,
   "metadata": {},
   "outputs": [],
   "source": [
    "def detect_change_points(data, up_rate=2):\n",
    "    mu = np.mean(data)\n",
    "    std = np.std(data)\n",
    "    cut_off = std * up_rate\n",
    "    upper = mu + cut_off\n",
    "    \n",
    "    outliers = [(i+1, x) for i, x in enumerate(data) if x > upper]\n",
    "    \n",
    "    return outliers"
   ]
  },
  {
   "cell_type": "code",
   "execution_count": 36,
   "metadata": {},
   "outputs": [],
   "source": [
    "change_points = detect_change_points(sim_steps)"
   ]
  },
  {
   "cell_type": "code",
   "execution_count": 37,
   "metadata": {},
   "outputs": [
    {
     "name": "stdout",
     "output_type": "stream",
     "text": [
      "[(4, 0.35164763918236847), (8, 0.5965882808347635), (27, 0.3450647199255043)]\n"
     ]
    }
   ],
   "source": [
    "print(change_points)"
   ]
  },
  {
   "cell_type": "code",
   "execution_count": 35,
   "metadata": {},
   "outputs": [
    {
     "data": {
      "text/plain": [
       "array([ 4,  8, 27])"
      ]
     },
     "execution_count": 35,
     "metadata": {},
     "output_type": "execute_result"
    }
   ],
   "source": [
    "pivot_sample"
   ]
  },
  {
   "cell_type": "code",
   "execution_count": 13,
   "metadata": {},
   "outputs": [],
   "source": [
    "def get_pivots_batch(dataset, doc_vecs, timeline=100):\n",
    "    samples, pivots = dataset\n",
    "    \n",
    "    pred_points = []\n",
    "    \n",
    "    for df in tqdm(samples):\n",
    "        sample_vecs = doc_vecs[list(df.index)]\n",
    "        df_reset = df.reset_index(drop=True)  # important so sim_mat will have same index as df\n",
    "        \n",
    "        sim_mat = cosine_similarity(sample_vecs)\n",
    "        sim_steps = get_sim_window(df_reset, sim_mat, timeline=timeline, window=2, n_shuff=10)\n",
    "        \n",
    "        change_points = detect_change_points(sim_steps, 3)\n",
    "        pred_points.append(change_points)\n",
    "        \n",
    "    return pred_points, pivots"
   ]
  },
  {
   "cell_type": "code",
   "execution_count": 16,
   "metadata": {},
   "outputs": [
    {
     "name": "stderr",
     "output_type": "stream",
     "text": [
      "100%|██████████| 100/100 [02:16<00:00,  1.37s/it]\n"
     ]
    }
   ],
   "source": [
    "preds, labels = get_pivots_batch(dataset, doc_vecs)"
   ]
  },
  {
   "cell_type": "code",
   "execution_count": 130,
   "metadata": {},
   "outputs": [
    {
     "data": {
      "text/plain": [
       "[[(46, 0.29770628245733544), (84, 0.24376014344495006)],\n",
       " [(30, 0.1547618906617202),\n",
       "  (62, 0.3609478827830846),\n",
       "  (81, 0.2741120871979705)]]"
      ]
     },
     "execution_count": 130,
     "metadata": {},
     "output_type": "execute_result"
    }
   ],
   "source": [
    "preds[:2]"
   ]
  },
  {
   "cell_type": "code",
   "execution_count": 131,
   "metadata": {},
   "outputs": [
    {
     "data": {
      "text/plain": [
       "[array([46, 84]), array([62, 81])]"
      ]
     },
     "execution_count": 131,
     "metadata": {},
     "output_type": "execute_result"
    }
   ],
   "source": [
    "labels[:2]"
   ]
  },
  {
   "cell_type": "code",
   "execution_count": 17,
   "metadata": {},
   "outputs": [],
   "source": [
    "def evaluate(preds, labels, timeline):\n",
    "    metrics = []\n",
    "    \n",
    "    for pred_p, label in zip(preds, labels):\n",
    "        points, scores = zip(*pred_p)\n",
    "        points = np.array(points, dtype=int)\n",
    "        # the library require the last point in timeline in the list\n",
    "        pred_points = np.concatenate((points, [timeline]))\n",
    "        true_points = np.concatenate((label, [timeline]))\n",
    "        \n",
    "        hdf = hausdorff(true_points, pred_points)\n",
    "        rdx = randindex(true_points, pred_points)\n",
    "        p, r = precision_recall(true_points, pred_points, margin=1)\n",
    "        \n",
    "        metrics.append((hdf, rdx, p, r))\n",
    "        \n",
    "    return metrics\n",
    "        "
   ]
  },
  {
   "cell_type": "code",
   "execution_count": 18,
   "metadata": {},
   "outputs": [
    {
     "name": "stdout",
     "output_type": "stream",
     "text": [
      "CPU times: user 47.4 ms, sys: 995 µs, total: 48.4 ms\n",
      "Wall time: 56 ms\n"
     ]
    }
   ],
   "source": [
    "%%time\n",
    "metrics = evaluate(preds, labels, 100)"
   ]
  },
  {
   "cell_type": "code",
   "execution_count": 19,
   "metadata": {},
   "outputs": [],
   "source": [
    "metrics = np.array(metrics)"
   ]
  },
  {
   "cell_type": "code",
   "execution_count": 20,
   "metadata": {},
   "outputs": [],
   "source": [
    "avg_metrics = np.mean(metrics, axis=0)"
   ]
  },
  {
   "cell_type": "code",
   "execution_count": 21,
   "metadata": {},
   "outputs": [
    {
     "data": {
      "text/plain": [
       "array([4.99      , 0.96757   , 0.95166667, 0.96666667])"
      ]
     },
     "execution_count": 21,
     "metadata": {},
     "output_type": "execute_result"
    }
   ],
   "source": [
    "avg_metrics"
   ]
  },
  {
   "cell_type": "code",
   "execution_count": null,
   "metadata": {},
   "outputs": [],
   "source": [
    "# 2.0 std: [13.66    , 0.922014,  0.825   ,  0.995   ]\n",
    "# 2.5 std: [9.26     , 0.944602  , 0.8875    , 0.98666667]\n",
    "# 3.0 std: [5.13     , 0.964308  , 0.95083333, 0.98333333]"
   ]
  }
 ],
 "metadata": {
  "kernelspec": {
   "display_name": "Python 3",
   "language": "python",
   "name": "python3"
  },
  "language_info": {
   "codemirror_mode": {
    "name": "ipython",
    "version": 3
   },
   "file_extension": ".py",
   "mimetype": "text/x-python",
   "name": "python",
   "nbconvert_exporter": "python",
   "pygments_lexer": "ipython3",
   "version": "3.7.5"
  },
  "varInspector": {
   "cols": {
    "lenName": 16,
    "lenType": 16,
    "lenVar": 40
   },
   "kernels_config": {
    "python": {
     "delete_cmd_postfix": "",
     "delete_cmd_prefix": "del ",
     "library": "var_list.py",
     "varRefreshCmd": "print(var_dic_list())"
    },
    "r": {
     "delete_cmd_postfix": ") ",
     "delete_cmd_prefix": "rm(",
     "library": "var_list.r",
     "varRefreshCmd": "cat(var_dic_list()) "
    }
   },
   "types_to_exclude": [
    "module",
    "function",
    "builtin_function_or_method",
    "instance",
    "_Feature"
   ],
   "window_display": false
  }
 },
 "nbformat": 4,
 "nbformat_minor": 4
}
