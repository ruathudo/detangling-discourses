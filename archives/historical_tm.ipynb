{
 "cells": [
  {
   "cell_type": "code",
   "execution_count": 1,
   "metadata": {},
   "outputs": [],
   "source": [
    "import pandas as pd\n",
    "import numpy as np\n",
    "import pickle\n",
    "\n",
    "from sklearn.preprocessing import minmax_scale"
   ]
  },
  {
   "cell_type": "code",
   "execution_count": 2,
   "metadata": {},
   "outputs": [],
   "source": [
    "df = pd.read_csv('data/disappearing_lda.csv', sep=\"\\t\")"
   ]
  },
  {
   "cell_type": "code",
   "execution_count": 3,
   "metadata": {},
   "outputs": [
    {
     "data": {
      "text/html": [
       "<div>\n",
       "<style scoped>\n",
       "    .dataframe tbody tr th:only-of-type {\n",
       "        vertical-align: middle;\n",
       "    }\n",
       "\n",
       "    .dataframe tbody tr th {\n",
       "        vertical-align: top;\n",
       "    }\n",
       "\n",
       "    .dataframe thead th {\n",
       "        text-align: right;\n",
       "    }\n",
       "</style>\n",
       "<table border=\"1\" class=\"dataframe\">\n",
       "  <thead>\n",
       "    <tr style=\"text-align: right;\">\n",
       "      <th></th>\n",
       "      <th>topic_id</th>\n",
       "      <th>topic_words</th>\n",
       "      <th>topic_weight</th>\n",
       "      <th>year</th>\n",
       "    </tr>\n",
       "  </thead>\n",
       "  <tbody>\n",
       "    <tr>\n",
       "      <th>0</th>\n",
       "      <td>1</td>\n",
       "      <td>lintu käärme metalli pesä oksa kääntää pussi t...</td>\n",
       "      <td>0.004633</td>\n",
       "      <td>1854</td>\n",
       "    </tr>\n",
       "    <tr>\n",
       "      <th>1</th>\n",
       "      <td>2</td>\n",
       "      <td>kuningas eläin tuuli luokka lehmä tyyni herttu...</td>\n",
       "      <td>0.008301</td>\n",
       "      <td>1854</td>\n",
       "    </tr>\n",
       "    <tr>\n",
       "      <th>2</th>\n",
       "      <td>3</td>\n",
       "      <td>kirkko pastori saarna past saarnata ruotsalain...</td>\n",
       "      <td>0.016614</td>\n",
       "      <td>1854</td>\n",
       "    </tr>\n",
       "    <tr>\n",
       "      <th>3</th>\n",
       "      <td>4</td>\n",
       "      <td>unkari kreivi unkarilainen varsinainen opett k...</td>\n",
       "      <td>0.000852</td>\n",
       "      <td>1854</td>\n",
       "    </tr>\n",
       "    <tr>\n",
       "      <th>4</th>\n",
       "      <td>5</td>\n",
       "      <td>lukea pitää selä lautta mies tuoda taka muta l...</td>\n",
       "      <td>0.019780</td>\n",
       "      <td>1854</td>\n",
       "    </tr>\n",
       "  </tbody>\n",
       "</table>\n",
       "</div>"
      ],
      "text/plain": [
       "   topic_id                                        topic_words  topic_weight  \\\n",
       "0         1  lintu käärme metalli pesä oksa kääntää pussi t...      0.004633   \n",
       "1         2  kuningas eläin tuuli luokka lehmä tyyni herttu...      0.008301   \n",
       "2         3  kirkko pastori saarna past saarnata ruotsalain...      0.016614   \n",
       "3         4  unkari kreivi unkarilainen varsinainen opett k...      0.000852   \n",
       "4         5  lukea pitää selä lautta mies tuoda taka muta l...      0.019780   \n",
       "\n",
       "   year  \n",
       "0  1854  \n",
       "1  1854  \n",
       "2  1854  \n",
       "3  1854  \n",
       "4  1854  "
      ]
     },
     "execution_count": 3,
     "metadata": {},
     "output_type": "execute_result"
    }
   ],
   "source": [
    "df.head()"
   ]
  },
  {
   "cell_type": "code",
   "execution_count": 4,
   "metadata": {},
   "outputs": [
    {
     "data": {
      "text/plain": [
       "(3200, 4)"
      ]
     },
     "execution_count": 4,
     "metadata": {},
     "output_type": "execute_result"
    }
   ],
   "source": [
    "df.shape"
   ]
  },
  {
   "cell_type": "code",
   "execution_count": 5,
   "metadata": {},
   "outputs": [],
   "source": [
    "def get_changes(df):\n",
    "    clusters = []\n",
    "    \n",
    "    for g, s in df.groupby('topic_id'):\n",
    "        changes = s.sort_values('year')['topic_weight'].values\n",
    "        clusters.append(changes)\n",
    "    return clusters"
   ]
  },
  {
   "cell_type": "code",
   "execution_count": 6,
   "metadata": {},
   "outputs": [],
   "source": [
    "changes = get_changes(df)"
   ]
  },
  {
   "cell_type": "code",
   "execution_count": 7,
   "metadata": {},
   "outputs": [],
   "source": [
    "changes = np.array(changes)"
   ]
  },
  {
   "cell_type": "code",
   "execution_count": 8,
   "metadata": {},
   "outputs": [
    {
     "data": {
      "text/plain": [
       "(50, 64)"
      ]
     },
     "execution_count": 8,
     "metadata": {},
     "output_type": "execute_result"
    }
   ],
   "source": [
    "changes.shape"
   ]
  },
  {
   "cell_type": "code",
   "execution_count": 9,
   "metadata": {},
   "outputs": [],
   "source": [
    "changes = minmax_scale(changes, axis=1)"
   ]
  },
  {
   "cell_type": "code",
   "execution_count": 19,
   "metadata": {},
   "outputs": [],
   "source": [
    "# padding = np.zeros((50, 36))"
   ]
  },
  {
   "cell_type": "code",
   "execution_count": 20,
   "metadata": {},
   "outputs": [],
   "source": [
    "changes = np.concatenate((changes, padding), axis=1)"
   ]
  },
  {
   "cell_type": "code",
   "execution_count": 21,
   "metadata": {},
   "outputs": [
    {
     "data": {
      "text/plain": [
       "(50, 100)"
      ]
     },
     "execution_count": 21,
     "metadata": {},
     "output_type": "execute_result"
    }
   ],
   "source": [
    "changes.shape"
   ]
  },
  {
   "cell_type": "code",
   "execution_count": 22,
   "metadata": {},
   "outputs": [
    {
     "data": {
      "text/plain": [
       "array([1.        , 0.89015279, 0.87366004, 0.77664543, 0.55457107,\n",
       "       0.57240806, 0.49136709, 0.41820795, 0.39491345, 0.04801792,\n",
       "       0.45999879, 0.53613227, 0.30749595, 0.05025607, 0.08901365,\n",
       "       0.24712194, 0.17336029, 0.27548464, 0.16418047, 0.24946135,\n",
       "       0.32937405, 0.32425158, 0.19738741, 0.03834287, 0.12666486,\n",
       "       0.13356207, 0.08853224, 0.22248057, 0.16530791, 0.13498348,\n",
       "       0.11856853, 0.10692929, 0.1068654 , 0.12993398, 0.08608623,\n",
       "       0.06986502, 0.10584539, 0.1068939 , 0.01635009, 0.06360749,\n",
       "       0.57596593, 0.0205623 , 0.        , 0.02793189, 0.01070324,\n",
       "       0.01115279, 0.02167935, 0.15621823, 0.17378522, 0.16883288,\n",
       "       0.09990012, 0.11223697, 0.05761602, 0.07483348, 0.05367091,\n",
       "       0.04285905, 0.07912512, 0.31581234, 0.36922021, 0.3257831 ,\n",
       "       0.27007092, 0.29719807, 0.31790163, 0.22666818, 0.        ,\n",
       "       0.        , 0.        , 0.        , 0.        , 0.        ,\n",
       "       0.        , 0.        , 0.        , 0.        , 0.        ,\n",
       "       0.        , 0.        , 0.        , 0.        , 0.        ,\n",
       "       0.        , 0.        , 0.        , 0.        , 0.        ,\n",
       "       0.        , 0.        , 0.        , 0.        , 0.        ,\n",
       "       0.        , 0.        , 0.        , 0.        , 0.        ,\n",
       "       0.        , 0.        , 0.        , 0.        , 0.        ])"
      ]
     },
     "execution_count": 22,
     "metadata": {},
     "output_type": "execute_result"
    }
   ],
   "source": [
    "changes[0]"
   ]
  },
  {
   "cell_type": "code",
   "execution_count": 28,
   "metadata": {},
   "outputs": [],
   "source": [
    "def scale_x(X):\n",
    "    return X / X[:, 0][:, None]"
   ]
  },
  {
   "cell_type": "code",
   "execution_count": 29,
   "metadata": {},
   "outputs": [],
   "source": [
    "changes_scaled = scale_x(changes)"
   ]
  },
  {
   "cell_type": "code",
   "execution_count": 30,
   "metadata": {},
   "outputs": [
    {
     "data": {
      "text/plain": [
       "array([1.        , 0.90269885, 0.88808981, 0.8021556 , 0.60544518,\n",
       "       0.62124494, 0.54945997, 0.48465661, 0.46402266, 0.15674738,\n",
       "       0.52167436, 0.58911235, 0.38658944, 0.1587299 , 0.19306083,\n",
       "       0.33311098, 0.26777392, 0.35823427, 0.25964256, 0.33518319,\n",
       "       0.40596877, 0.40143135, 0.28905682, 0.14817735, 0.22641175,\n",
       "       0.23252121, 0.1926344 , 0.31128399, 0.26064123, 0.23378027,\n",
       "       0.21924013, 0.20893026, 0.20887366, 0.22930749, 0.19046776,\n",
       "       0.17609923, 0.20797015, 0.20889891, 0.12869644, 0.1705564 ,\n",
       "       0.62439645, 0.13242757, 0.11421376, 0.13895545, 0.12369455,\n",
       "       0.12409275, 0.13341703, 0.25258972, 0.26815032, 0.26376361,\n",
       "       0.20270392, 0.21363172, 0.16524924, 0.18050023, 0.16175472,\n",
       "       0.15217772, 0.18430171, 0.39395598, 0.44126394, 0.40278795,\n",
       "       0.35343886, 0.37746773, 0.39580665, 0.31499331, 0.        ,\n",
       "       0.        , 0.        , 0.        , 0.        , 0.        ,\n",
       "       0.        , 0.        , 0.        , 0.        , 0.        ,\n",
       "       0.        , 0.        , 0.        , 0.        , 0.        ,\n",
       "       0.        , 0.        , 0.        , 0.        , 0.        ,\n",
       "       0.        , 0.        , 0.        , 0.        , 0.        ,\n",
       "       0.        , 0.        , 0.        , 0.        , 0.        ,\n",
       "       0.        , 0.        , 0.        , 0.        , 0.        ])"
      ]
     },
     "execution_count": 30,
     "metadata": {},
     "output_type": "execute_result"
    }
   ],
   "source": [
    "changes_scaled[0]"
   ]
  },
  {
   "cell_type": "code",
   "execution_count": 10,
   "metadata": {},
   "outputs": [],
   "source": [
    "pickle.dump(changes, open(\"models/stt/tm_changes.pkl\", \"wb\"))"
   ]
  },
  {
   "cell_type": "code",
   "execution_count": null,
   "metadata": {},
   "outputs": [],
   "source": []
  }
 ],
 "metadata": {
  "kernelspec": {
   "display_name": "Python 3",
   "language": "python",
   "name": "python3"
  },
  "language_info": {
   "codemirror_mode": {
    "name": "ipython",
    "version": 3
   },
   "file_extension": ".py",
   "mimetype": "text/x-python",
   "name": "python",
   "nbconvert_exporter": "python",
   "pygments_lexer": "ipython3",
   "version": "3.7.5"
  }
 },
 "nbformat": 4,
 "nbformat_minor": 4
}
