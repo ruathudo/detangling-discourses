{
 "cells": [
  {
   "cell_type": "code",
   "execution_count": 1,
   "metadata": {},
   "outputs": [],
   "source": [
    "import os\n",
    "import re\n",
    "from glob import glob\n",
    "import json\n",
    "import random\n",
    "\n",
    "import pandas as pd\n",
    "import numpy as np\n",
    "\n",
    "from tqdm import tqdm\n",
    "\n",
    "from gensim.corpora import Dictionary\n",
    "from gensim.parsing.preprocessing import strip_punctuation, strip_multiple_whitespaces, strip_tags, strip_non_alphanum\n",
    "\n",
    "import matplotlib.pyplot as plt\n",
    "\n",
    "%matplotlib inline"
   ]
  },
  {
   "cell_type": "code",
   "execution_count": 2,
   "metadata": {},
   "outputs": [],
   "source": [
    "def read_corpus(folder):\n",
    "    files = [y for x in os.walk(folder) for y in glob(os.path.join(x[0], '*.json'))]\n",
    "    articles = []\n",
    "    \n",
    "    # attrs: id, contents\n",
    "    for filepath in tqdm(files):\n",
    "        # print(filepath)\n",
    "        with open(filepath, 'r') as f:\n",
    "            try:\n",
    "                text = json.load(f)\n",
    "            except:\n",
    "                print('errors', filepath)\n",
    "                continue\n",
    "            \n",
    "            for a in text['data']:\n",
    "                article = {'id': a['id'], 'date': a['datePublished']}\n",
    "                body = \"\"\n",
    "                title = \"\"\n",
    "                subjects = []\n",
    "                \n",
    "                for c in a['content']:\n",
    "                    if c['type'] == 'heading':\n",
    "                        title = c['text']\n",
    "                    elif c['type'] == 'text':\n",
    "                        body += \" \" + c['text']\n",
    "                \n",
    "                for s in a.get('subjects', []):\n",
    "                    if s['title']['fi']:\n",
    "                        subjects.append(s['title']['fi'].lower())\n",
    "                    \n",
    "                article['title'] = title\n",
    "                article['body'] = body\n",
    "                article['subjects'] = subjects\n",
    "                \n",
    "                articles.append(article)\n",
    "        \n",
    "    return articles"
   ]
  },
  {
   "cell_type": "code",
   "execution_count": 3,
   "metadata": {},
   "outputs": [
    {
     "name": "stderr",
     "output_type": "stream",
     "text": [
      "100%|██████████| 753/753 [05:25<00:00,  2.31it/s]\n"
     ]
    }
   ],
   "source": [
    "articles = read_corpus('data/yle-src/data/fi')"
   ]
  },
  {
   "cell_type": "code",
   "execution_count": 4,
   "metadata": {},
   "outputs": [
    {
     "data": {
      "text/plain": [
       "703673"
      ]
     },
     "execution_count": 4,
     "metadata": {},
     "output_type": "execute_result"
    }
   ],
   "source": [
    "len(articles)"
   ]
  },
  {
   "cell_type": "code",
   "execution_count": 5,
   "metadata": {},
   "outputs": [
    {
     "data": {
      "text/plain": [
       "{'id': '3-6450519',\n",
       " 'date': '2013-01-14T17:00:23+0200',\n",
       " 'title': 'Ruben Stiller: Kantasuomalainen, uussuomalainen, perussuomalainen vai pseudosuomalainen?',\n",
       " 'body': ' Vai olenko sittenkin megasuomalainen?  Vaikeaa tämä suomalaisuus. Alussa oli maahanmuuttaja. Sitten hänet päätettiin nimetä _uussuomalaiseksi,_ jotta kaikki tajuaisivat, että maahanmuuttajakin voi olla suomalainen. Tämä ei kuitenkaan riittänyt: jotenkin se maahanmuuttaja oli erotettava varsinaisista suomalaisista, joten joukkoomme syntyi yhtäkkiä valtava määrä ns. _kantasuomalaisia_. En ymmärrä tämän kielipelin mielekkyyttä - miksi maahanmuuttaja muutetaan uussuomalaiseksi, jos tarkoituksena on kuitenkin pitää yllä sitä erottelua, josta yritettiin luopua? Miksi maahanmuuttaja-sanalle\\xa0täytyy keksiä poliittisesti korrekti vastine, joka vain korostaa sitä, kuinka suomalaisia sitä ollaan? Miten kauan uussuomalaisen pitää olla uussuomalainen ennen kuin hän muuttuu kantasuomalaiseksi? Koska suomalaisuus on nykyään valtavan vaikeaa, päätin täsmentää käsitteitä. Tarvitsemme uusia uudissanoja suomalaisuuden määrittelemiseksi: **Megasuomalainen**. Suursuomalaisen nykyinen vastine. Suursuomalaiset iskivät päänsä Karjalan mäntyyn, ja megasuomalainen jatkaa perinnettä lyömällä päätään vasten vieraita kulttuureja. Näin megasuomalainen kykenee määrittelemään oman epämääräisen suomalaisuutensa. Jos päivystävää somalia ei olisi olemassa, megasuomalaisen maailma menisi sekaisin ja identiteetti hämärtyisi. Somali on megasuomalaisen identiteetin perusta, mutta myös muut etniset ryhmät kelpaavat\\xa0suomalaisuuden kirkastamiseen. **Kvasisuomalainen. **Maamme-laulu on tyypillinen kvasisuomalainen, siis näennäisesti suomalainen, kulttuurituote. Sen sävelsi Hampurissa syntynyt maahanmuuttaja Fredrik Pacius (synt. Friedrich Pacius). Megasuomalaiset hoilottavat tyytyväisinä tätä kappaletta, mikä kertoo megasuomalaisten historiatajun syvyydestä. **Suomalaisuus plasebona: plasebosuomalaisuus. **Suomalaisuutta käytetään nykyään yleisesti plasebona eli lumelääkkeenä. Kun globaali markkinatalous uhkaa, ja työpaikat lähtevät alta, suomalaisuuden plasebo parantaa oloa. Se palauttaa omanarvontunteen, ja maailmakin tuntuu olevan taas kontrollissa. Lumelääkkeen tehoa voidaan vahvistaa vihaamalla jotain ryhmää, joka symbolisoi Suomeen tunkeutuvaa uhkaavaa Maailmaa. Keskipitkällä aikavälillä lumelääkkeen teho on kuitenkin heikko: globaalin talouden ikävien realiteettien keskellä se auttaa yhtä paljon kuin housuihin pissaaminen hangessa. Toivon, että näillä termeillä on käyttöä epämääräisen suomalaisuuden hämärien hokemien hetteikössä. Lopuksi on vielä muistutettava teitä maamme vakavimmasta integraatio-ongelmasta. Kiitän työkaveriani Janne Zareffia siitä, että hän kiinnitti huomioni tähän vakavaan yhteiskunnalliseen ongelmaan. Monet kantasuomalaiset eivät integroidu Suomeen, vaikka niitä on yritetty kotouttaa jo usean sukupolven ajan. Ne kännäävät, puukottavat ja haluavat vain laiskotella ja vastustaa eläkeiän nostoa. Mitä me niille oikein teemme? _Ruben Stiller  \\nKirjoittaja on toimittaja ja Pressiklubi-ohjelman juontaja_',\n",
       " 'subjects': ['yle blogit',\n",
       "  'kotimaan uutiset',\n",
       "  'ruben stiller',\n",
       "  'maahanmuuttajat',\n",
       "  'suomalaisuus',\n",
       "  'suomalaiset',\n",
       "  'kansallinen tai etninen ryhmä',\n",
       "  'plasebo',\n",
       "  'muuttoliike',\n",
       "  'fredrik pacius',\n",
       "  'suomen kansallislaulu',\n",
       "  'itämerensuomalaiset kansat',\n",
       "  'kansatiede',\n",
       "  'hampuri',\n",
       "  'identiteetti',\n",
       "  'sanat',\n",
       "  'lumehoito']}"
      ]
     },
     "execution_count": 5,
     "metadata": {},
     "output_type": "execute_result"
    }
   ],
   "source": [
    "articles[32]"
   ]
  },
  {
   "cell_type": "code",
   "execution_count": null,
   "metadata": {},
   "outputs": [],
   "source": [
    "with open('data/yle-articles.json', 'w', encoding='utf-8') as f:\n",
    "    json.dump(articles, f, ensure_ascii=False, indent=4)"
   ]
  },
  {
   "cell_type": "code",
   "execution_count": 2,
   "metadata": {},
   "outputs": [],
   "source": [
    "def load_data(filepath):\n",
    "    with open(filepath, 'r') as f:\n",
    "        articles = json.load(f)\n",
    "        \n",
    "    return articles"
   ]
  },
  {
   "cell_type": "code",
   "execution_count": 3,
   "metadata": {},
   "outputs": [],
   "source": [
    "# load data\n",
    "articles = load_data('data/yle-articles.json')"
   ]
  },
  {
   "cell_type": "code",
   "execution_count": null,
   "metadata": {},
   "outputs": [],
   "source": []
  },
  {
   "cell_type": "code",
   "execution_count": 4,
   "metadata": {},
   "outputs": [],
   "source": [
    "def create_samples(articles, output, k=1000):\n",
    "    samples = random.sample(articles, k)\n",
    "    with open(output, 'w', encoding='utf-8') as f:\n",
    "        json.dump(samples, f, ensure_ascii=False, indent=4)\n",
    "    \n",
    "    return samples"
   ]
  },
  {
   "cell_type": "code",
   "execution_count": 5,
   "metadata": {},
   "outputs": [],
   "source": [
    "# just wrap some samples to quick test what is going on, no need for production\n",
    "samples = create_samples(articles, 'data/yle-articles-dev.json', k=20000)"
   ]
  },
  {
   "cell_type": "code",
   "execution_count": 6,
   "metadata": {},
   "outputs": [
    {
     "data": {
      "text/plain": [
       "{'id': '3-8010078',\n",
       " 'date': '2015-05-22T11:46:37+0300',\n",
       " 'title': 'Kemppainen valitsi voittamisen - \"Puhutaan NHL:n huippuorganisaatiosta\"',\n",
       " 'body': ' Joonas Kemppainen valitsi Boston Bruinsin mahdollisuudekseen tehdä läpimurto NHL:ään. Sentteri korostaa työnteon merkitystä. Joonas Kemppaisella on edessään hikinen kesä, sanoivat sääennusteet mitä tahansa. Boston Bruinsin kanssa yhden vuoden kaksisuuntaisen sopimuksen tehnyt hyökkääjä tietää, että sopimus ei vielä tarkoita pelipaikkaa.  \\\\- Ihan hyvältä tuntuu, mutta paljon on töitä edessä kesällä. Lähdetään sillä asenteella, että saadaan se paikka NHL:stä, Kemppainen vakuuttaa. \\\\- Eihän se sopimus vielä mitään takaa, mutta hienoa, että noin hyvän mahdollisuuden sain. Viime kevät päättyi menestykseen tottuneen seuran kannalta vaisusti. Päävalmentaja Claude Julien ei saanut piiskattua miehistöään entisenlaiseen iskuun ja Bruins jäi rannalle pudotuspeleistä. Edellisen kerran itärannikon seura oli Stanley Cupin loppuottelussa 2013 ja toissa keväänä kamppaili itäisen konferenssin loppuottelussa Montrealia vastaan aina seitsemänteen otteluun. Kemppaisen mukaan suurin syy seuravalintaan on kuitenkin juuri voittaminen. \\\\- Boston on pärjännyt hyvin viime vuosina, ainoastaan viime kausi meni huonommin. Puhutaan kuitenkin ihan NHL:n huippujoukkueesta. Se kiinnosti itseäkin eniten, hyökkääjä sanoo. \\\\- Se, että siellä voi voittaa, on yksi tärkeimpiä syitä. Sen takia tässä kuitenkin pelataan. Bruins oli Kemppaisen mukaan myös seura, joka todella halusi hänet riveihinsä. \\\\- Tietysti kokonaisuus ratkaisi siinä, en ainakaan keksi mitään huonoa Bostonista. Joukkue oli kiinnostunein niistä, jotka esillä olivat. Uskon, että minut haluttiin eniten sinne. Päätös ei ollut kovin hankala. \\\\- Neuvottelut eivät olleet loppujen lopuksi kovin pitkät. MM-kisojen jälkeen mietin asiaa ja nopeasti vaaka kääntyi Bostonin suuntaan, Kemppainen myöntää. \\\\- Kaikki vaikuttaa todella hyvältä. Olen iloinen ratkaisusta.',\n",
       " 'subjects': ['urheilu',\n",
       "  'nhl',\n",
       "  'boston bruins',\n",
       "  'pohjois-amerikan jääkiekko',\n",
       "  'joonas kemppainen',\n",
       "  'jääkiekko',\n",
       "  'hyökkääjä',\n",
       "  'miesten jääkiekko',\n",
       "  'keskushyökkääjä (jääkiekko)',\n",
       "  'loppuottelut',\n",
       "  'jääkiekkopelaajat (miehet)',\n",
       "  'joukkueurheilu',\n",
       "  'claude julien',\n",
       "  'urheilutapahtumat',\n",
       "  'talviurheilu']}"
      ]
     },
     "execution_count": 6,
     "metadata": {},
     "output_type": "execute_result"
    }
   ],
   "source": [
    "samples[1]"
   ]
  },
  {
   "cell_type": "code",
   "execution_count": 5,
   "metadata": {},
   "outputs": [],
   "source": [
    "def tokenize_articles(articles, max_len=30):\n",
    "    \n",
    "    for article in tqdm(articles):\n",
    "        try:\n",
    "            text = article['title'] + ' ' + article['body']\n",
    "        except:\n",
    "            text = article['body']\n",
    "            print(article['title'])\n",
    "\n",
    "        text = strip_multiple_whitespaces(text)\n",
    "        # remove everything except words, spaces, digits and dash -\n",
    "        # text = re.sub(r'[^\\s\\d\\wäöüåÄÖÜÅ\\-]', '', text)\n",
    "        text = strip_tags(text)\n",
    "        text = strip_non_alphanum(text)\n",
    "        text = text.lower()\n",
    "        tokens = text.split()\n",
    "        tokens = [w for w in tokens if len(w) <= max_len]\n",
    "        \n",
    "        # do the same for the subjects\n",
    "        subjects = []\n",
    "        \n",
    "        for s in article['subjects']:\n",
    "            # s = re.sub(r'[^\\s\\d\\wäöüåÄÖÜÅ\\-]', '', s)\n",
    "            if s is not None:\n",
    "                s = strip_non_alphanum(s)\n",
    "                s = s.lower()\n",
    "                s_tokens = s.split()\n",
    "                subjects += s_tokens\n",
    "        \n",
    "        # empty body for saving space\n",
    "        article['tokens'] = tokens\n",
    "        article['subjects'] = subjects\n",
    "        article['body'] = ''\n",
    "    \n",
    "    return articles"
   ]
  },
  {
   "cell_type": "code",
   "execution_count": 3,
   "metadata": {},
   "outputs": [],
   "source": []
  },
  {
   "cell_type": "code",
   "execution_count": 4,
   "metadata": {},
   "outputs": [],
   "source": []
  },
  {
   "cell_type": "code",
   "execution_count": 5,
   "metadata": {},
   "outputs": [
    {
     "data": {
      "text/plain": [
       "{'id': '3-6567618',\n",
       " 'date': '2013-04-05T23:05:35+0300',\n",
       " 'title': 'FoKoPon putoaminen sai sinetin',\n",
       " 'body': ' Forssan Koripoikien visiitti Korisliigassa jäi lyhyeksi, sillä sarjanousijan kohtalona on paluu ykkösdivisioonaan. Asia\\nvarmistui perjantaina Tampereella, kun FoKoPo hävisi Pyrinnölle. Pyrinnön\\nvoittolukemat olivat 113-78. Voittokaan ei olisi pelastanut FoKoPoa, sillä\\nSalon Vilpas löi Uudenkaupungin Korihait 67-59. FoKoPo\\njaksoi taistella Tampereella ensimmäisen jakson tasaisesti (17-17). Sitten\\nrepesi. Pyrintö vei toisen kympin rökäleluvuin, johtaen tauolla 48-30.\\nLoppulukemat olivat 113-78. Tamperelaisten \\nyllättäjä oli Osku Heinonen. Heinonen on Pyrinnön oma kasvatti. Peliaikaa\\nkertyi 22 minuuttia ja pisteitä 24. Carl Lindbom (29/11) ja Lamonte Ulmer (19)\\nolivat myös pelivireessä. FoKoPon\\nparhaat olivat Andrais Thornton (30) ja Sami Ikävalko (21). Ensi\\ntorstaina FoKoPo päättää Korisliigakauden Feeniksissä, kohtaamalla lo 18.30\\nalkavassa ottelussa Salon Vilppaan. **Timo Kopakkala, Forssa**',\n",
       " 'subjects': ['Forssan Koripojat',\n",
       "  'Korisliiga',\n",
       "  'Kotimaan koripallo',\n",
       "  'Tampereen Pyrintö',\n",
       "  'Vilpas Vikings',\n",
       "  'koripallo',\n",
       "  'Sami Ikävalko',\n",
       "  'Korihait',\n",
       "  'Tampere',\n",
       "  'Carl Lindbom',\n",
       "  'Miesten koripallo',\n",
       "  'Uusikaupunki',\n",
       "  'Tampereen seutukunta',\n",
       "  'joukkueurheilu',\n",
       "  'urheilu']}"
      ]
     },
     "execution_count": 5,
     "metadata": {},
     "output_type": "execute_result"
    }
   ],
   "source": [
    "articles[0]"
   ]
  },
  {
   "cell_type": "code",
   "execution_count": 6,
   "metadata": {},
   "outputs": [
    {
     "name": "stderr",
     "output_type": "stream",
     "text": [
      "  5%|▍         | 33006/702673 [00:07<02:39, 4199.49it/s]"
     ]
    },
    {
     "name": "stdout",
     "output_type": "stream",
     "text": [
      "['resource', {'id': '6385775'}]\n"
     ]
    },
    {
     "name": "stderr",
     "output_type": "stream",
     "text": [
      "100%|██████████| 702673/702673 [03:14<00:00, 3618.74it/s]\n"
     ]
    }
   ],
   "source": [
    "articles = tokenize_articles(articles)"
   ]
  },
  {
   "cell_type": "code",
   "execution_count": 7,
   "metadata": {},
   "outputs": [
    {
     "data": {
      "text/plain": [
       "{'id': '3-6475125',\n",
       " 'date': '2013-01-31T16:16:04+0200',\n",
       " 'title': 'AHL-seuran tempaus: jää värjätään pinkiksi',\n",
       " 'body': '',\n",
       " 'subjects': ['urheilu',\n",
       "  'jääkiekko',\n",
       "  'worcester',\n",
       "  'sharks',\n",
       "  'american',\n",
       "  'hockey',\n",
       "  'league',\n",
       "  'rintasyöpä',\n",
       "  'pohjois',\n",
       "  'amerikan',\n",
       "  'jääkiekko',\n",
       "  'providence',\n",
       "  'bruins',\n",
       "  'harri',\n",
       "  'säteri',\n",
       "  'naisten',\n",
       "  'syövät',\n",
       "  'rinnat',\n",
       "  'talviurheilu',\n",
       "  'miesten',\n",
       "  'jääkiekko',\n",
       "  'rintakehä',\n",
       "  'joukkueurheilu',\n",
       "  'hyväntekeväisyys'],\n",
       " 'tokens': ['ahl',\n",
       "  'seuran',\n",
       "  'tempaus',\n",
       "  'jää',\n",
       "  'värjätään',\n",
       "  'pinkiksi',\n",
       "  'worcester',\n",
       "  'sharksin',\n",
       "  'kotipelissä',\n",
       "  'kerätään',\n",
       "  'rahaa',\n",
       "  'rintasyövän',\n",
       "  'tutkimusta',\n",
       "  'varten',\n",
       "  'jääkiekon',\n",
       "  'ahl',\n",
       "  'liigassa',\n",
       "  'pelaava',\n",
       "  'worcester',\n",
       "  'sharks',\n",
       "  'pelaa',\n",
       "  'lauantain',\n",
       "  'kotiottelunsa',\n",
       "  'poikkeuksellisissa',\n",
       "  'olosuhteissa',\n",
       "  'sharksin',\n",
       "  'kotikaukalon',\n",
       "  'jää',\n",
       "  'värjätään',\n",
       "  'pinkiksi',\n",
       "  'kyseessä',\n",
       "  'on',\n",
       "  'hyväntekeväisyystempaus',\n",
       "  'rintasyövän',\n",
       "  'tutkimuksen',\n",
       "  'kehittämiseksi',\n",
       "  'vastaansa',\n",
       "  'worcester',\n",
       "  'saa',\n",
       "  'providence',\n",
       "  'bruinsin',\n",
       "  'worcesterin',\n",
       "  'riveissä',\n",
       "  'nähdään',\n",
       "  'myös',\n",
       "  'suomalaisväriä',\n",
       "  'harri',\n",
       "  'säteri',\n",
       "  'toimii',\n",
       "  'joukkueen',\n",
       "  'maalivahtina',\n",
       "  'katso',\n",
       "  'kuva',\n",
       "  'sharksin',\n",
       "  'kotikaukalosta',\n",
       "  'sports',\n",
       "  'telegramin',\n",
       "  'nettisivuilta',\n",
       "  'http',\n",
       "  'www',\n",
       "  'telegram',\n",
       "  'com',\n",
       "  'article',\n",
       "  '20130131',\n",
       "  'column35',\n",
       "  '101319927',\n",
       "  '1009',\n",
       "  'sports']}"
      ]
     },
     "execution_count": 7,
     "metadata": {},
     "output_type": "execute_result"
    }
   ],
   "source": [
    "articles[89]"
   ]
  },
  {
   "cell_type": "code",
   "execution_count": 8,
   "metadata": {},
   "outputs": [],
   "source": [
    "with open('data/yle-tokenized.json', 'w', encoding='utf-8') as f:\n",
    "    json.dump(articles, f, ensure_ascii=False)"
   ]
  },
  {
   "cell_type": "code",
   "execution_count": 13,
   "metadata": {},
   "outputs": [
    {
     "name": "stderr",
     "output_type": "stream",
     "text": [
      "100%|██████████| 20000/20000 [00:01<00:00, 15135.42it/s]\n"
     ]
    }
   ],
   "source": [
    "# this is not neccessary for production, just get some sample to see what is going on.\n",
    "samples = tokenize_articles(samples)"
   ]
  },
  {
   "cell_type": "code",
   "execution_count": 14,
   "metadata": {},
   "outputs": [],
   "source": [
    "with open('data/yle-tokenized-dev.json', 'w', encoding='utf-8') as f:\n",
    "    json.dump(samples, f, ensure_ascii=False)"
   ]
  },
  {
   "cell_type": "code",
   "execution_count": null,
   "metadata": {},
   "outputs": [],
   "source": []
  }
 ],
 "metadata": {
  "interpreter": {
   "hash": "822e03a259ee26036b07c301b62192b42e51b9d09794aaca6c03133fdddfeb3f"
  },
  "kernelspec": {
   "display_name": "Python 3",
   "language": "python",
   "name": "python3"
  },
  "language_info": {
   "codemirror_mode": {
    "name": "ipython",
    "version": 3
   },
   "file_extension": ".py",
   "mimetype": "text/x-python",
   "name": "python",
   "nbconvert_exporter": "python",
   "pygments_lexer": "ipython3",
   "version": "3.7.5"
  },
  "varInspector": {
   "cols": {
    "lenName": 16,
    "lenType": 16,
    "lenVar": 40
   },
   "kernels_config": {
    "python": {
     "delete_cmd_postfix": "",
     "delete_cmd_prefix": "del ",
     "library": "var_list.py",
     "varRefreshCmd": "print(var_dic_list())"
    },
    "r": {
     "delete_cmd_postfix": ") ",
     "delete_cmd_prefix": "rm(",
     "library": "var_list.r",
     "varRefreshCmd": "cat(var_dic_list()) "
    }
   },
   "types_to_exclude": [
    "module",
    "function",
    "builtin_function_or_method",
    "instance",
    "_Feature"
   ],
   "window_display": false
  }
 },
 "nbformat": 4,
 "nbformat_minor": 4
}
