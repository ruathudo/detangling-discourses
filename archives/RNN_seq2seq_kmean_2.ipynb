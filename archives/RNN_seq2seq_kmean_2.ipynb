{
 "cells": [
  {
   "cell_type": "code",
   "execution_count": 1,
   "metadata": {},
   "outputs": [
    {
     "name": "stdout",
     "output_type": "stream",
     "text": [
      "cuda\n"
     ]
    }
   ],
   "source": [
    "import os\n",
    "import time\n",
    "import pickle\n",
    "import pandas as pd\n",
    "import numpy as np\n",
    "import datetime\n",
    "\n",
    "\n",
    "\n",
    "import torch\n",
    "import torch.nn as nn\n",
    "from torch.optim import Adam\n",
    "from torch.utils.data import DataLoader, Dataset\n",
    "import torch.nn.functional as F\n",
    "\n",
    "from gensim.utils import simple_preprocess, tokenize\n",
    "from gensim.summarization.textcleaner import split_sentences\n",
    "from gensim.parsing import preprocessing\n",
    "from gensim.models import Doc2Vec\n",
    "from gensim.corpora import Dictionary\n",
    "\n",
    "\n",
    "from sklearn.metrics import precision_recall_fscore_support, confusion_matrix, classification_report, f1_score\n",
    "from sklearn.model_selection import train_test_split\n",
    "\n",
    "from sklearn.cluster import KMeans\n",
    "from sklearn import metrics # silhouette\n",
    "from sklearn.preprocessing import minmax_scale\n",
    "\n",
    "import matplotlib.pyplot as plt\n",
    "from multiprocessing import cpu_count\n",
    "\n",
    "from imblearn.over_sampling import RandomOverSampler\n",
    "from imblearn.under_sampling import RandomUnderSampler\n",
    "\n",
    "import ruptures as rpt\n",
    "from ruptures.metrics import hausdorff, randindex\n",
    "\n",
    "from tqdm import tqdm\n",
    "\n",
    "# pd.set_option('display.max_colwidth',1000)\n",
    "\n",
    "device = torch.device(\"cuda\" if torch.cuda.is_available() else \"cpu\")\n",
    "\n",
    "print(device)\n",
    "\n",
    "%matplotlib inline"
   ]
  },
  {
   "cell_type": "code",
   "execution_count": 2,
   "metadata": {},
   "outputs": [],
   "source": [
    "df = pd.read_json('data/dev/cluster_12_cats_index.json')"
   ]
  },
  {
   "cell_type": "code",
   "execution_count": 3,
   "metadata": {},
   "outputs": [
    {
     "data": {
      "text/html": [
       "<div>\n",
       "<style scoped>\n",
       "    .dataframe tbody tr th:only-of-type {\n",
       "        vertical-align: middle;\n",
       "    }\n",
       "\n",
       "    .dataframe tbody tr th {\n",
       "        vertical-align: top;\n",
       "    }\n",
       "\n",
       "    .dataframe thead th {\n",
       "        text-align: right;\n",
       "    }\n",
       "</style>\n",
       "<table border=\"1\" class=\"dataframe\">\n",
       "  <thead>\n",
       "    <tr style=\"text-align: right;\">\n",
       "      <th></th>\n",
       "      <th>id</th>\n",
       "      <th>date</th>\n",
       "      <th>category</th>\n",
       "    </tr>\n",
       "  </thead>\n",
       "  <tbody>\n",
       "    <tr>\n",
       "      <th>0</th>\n",
       "      <td>3-6475275</td>\n",
       "      <td>2013-01-31T16:59:42+0200</td>\n",
       "      <td>autot</td>\n",
       "    </tr>\n",
       "    <tr>\n",
       "      <th>1</th>\n",
       "      <td>3-6475075</td>\n",
       "      <td>2013-01-31T16:02:43+0200</td>\n",
       "      <td>autot</td>\n",
       "    </tr>\n",
       "    <tr>\n",
       "      <th>2</th>\n",
       "      <td>3-6474561</td>\n",
       "      <td>2013-01-31T13:24:08+0200</td>\n",
       "      <td>autot</td>\n",
       "    </tr>\n",
       "    <tr>\n",
       "      <th>3</th>\n",
       "      <td>3-6474214</td>\n",
       "      <td>2013-01-31T10:54:11+0200</td>\n",
       "      <td>autot</td>\n",
       "    </tr>\n",
       "    <tr>\n",
       "      <th>4</th>\n",
       "      <td>3-6474222</td>\n",
       "      <td>2013-01-31T10:54:01+0200</td>\n",
       "      <td>autot</td>\n",
       "    </tr>\n",
       "  </tbody>\n",
       "</table>\n",
       "</div>"
      ],
      "text/plain": [
       "          id                      date category\n",
       "0  3-6475275  2013-01-31T16:59:42+0200    autot\n",
       "1  3-6475075  2013-01-31T16:02:43+0200    autot\n",
       "2  3-6474561  2013-01-31T13:24:08+0200    autot\n",
       "3  3-6474214  2013-01-31T10:54:11+0200    autot\n",
       "4  3-6474222  2013-01-31T10:54:01+0200    autot"
      ]
     },
     "execution_count": 3,
     "metadata": {},
     "output_type": "execute_result"
    }
   ],
   "source": [
    "df.head()"
   ]
  },
  {
   "cell_type": "code",
   "execution_count": 4,
   "metadata": {},
   "outputs": [],
   "source": [
    "# df.drop(['title', 'body', 'subjects', 'date'], axis=1, inplace=True)"
   ]
  },
  {
   "cell_type": "code",
   "execution_count": 5,
   "metadata": {},
   "outputs": [],
   "source": [
    "# df.to_json('data/dev/cluster_12_cats_index.json')"
   ]
  },
  {
   "cell_type": "code",
   "execution_count": 6,
   "metadata": {},
   "outputs": [],
   "source": [
    "doc_vecs = pickle.load(open(\"data/dev/doc_vecs.pkl\", \"rb\"))"
   ]
  },
  {
   "cell_type": "code",
   "execution_count": 7,
   "metadata": {},
   "outputs": [],
   "source": [
    "def get_clusters(labels, df, ids):\n",
    "    df2 = df.reset_index()\n",
    "    df2 = df2.set_index('id')\n",
    "\n",
    "    indexes = df2.loc[ids, 'index'].tolist()\n",
    "    \n",
    "    clusters = labels[indexes]\n",
    "    \n",
    "    return clusters\n",
    "    \n",
    "\n",
    "def visualize_trending(df):\n",
    "#     target = df[df['target'] == True]\n",
    "#     noise = df[df['target'] == False]\n",
    "#     t_group = target.groupby(['time'])['id'].count()\n",
    "#     n_group = noise.groupby(['category'])\n",
    "    \n",
    "    fig, ax = plt.subplots(figsize=(20, 10))\n",
    "    # ax.plot(t_group.index, t_group.values, label='target')\n",
    "    \n",
    "    for name, group in df.groupby(['category']):\n",
    "        g = group.groupby(['time'])['id'].count()\n",
    "        ax.plot(g.index, g.values, label=name)\n",
    "    \n",
    "    ax.set(xlabel='time', ylabel='Numbers')\n",
    "    ax.legend()\n",
    "    ax.grid()\n",
    "\n",
    "    plt.show()\n",
    "    \n",
    "def get_target(df):\n",
    "    target = df[df['event'] != 'noise']['category'].iloc[0]\n",
    "    return target\n",
    "\n",
    "def get_cluster_change(clusters, sample, target, event, timeline=100):\n",
    "    sample['cluster'] = clusters\n",
    "    n_cluster = sample['cluster'].nunique()\n",
    "    changes = []\n",
    "    \n",
    "    for g, cluster in sample.groupby('cluster'):\n",
    "        # count and sort by timeline\n",
    "        counts = cluster['time'].value_counts().sort_index()\n",
    "        if len(counts) < timeline:\n",
    "            miss_times = list(set(range(timeline)).difference(counts.index))\n",
    "            fill_values = pd.Series(np.zeros(len(miss_times)), index=miss_times)\n",
    "            counts = counts.append(fill_values)\n",
    "            counts = counts.sort_index()\n",
    "            \n",
    "        # print(cluster['time'].nunique())\n",
    "        class_count = cluster['category'].value_counts(normalize=True)\n",
    "        maj_class = class_count.index[0]\n",
    "        maj_percent = class_count[0]\n",
    "        # diff = times.diff().fillna(0)\n",
    "        # print(class_count[0])\n",
    "        is_target = (maj_class == target) and maj_percent > 0.5\n",
    "        p = event['pivots'] if is_target else []\n",
    "        e = event['event'] if is_target else 'noise'\n",
    "        \n",
    "        changes.append((counts.values, is_target, maj_class, e, p))\n",
    "        \n",
    "    return changes\n",
    "\n",
    "\n",
    "# def get_cluster_change(clusters, sample, target, event, timeline=100):\n",
    "#     # sample['cluster'] = clusters\n",
    "#     changes = []\n",
    "    \n",
    "#     for i, ids in enumerate(clusters):\n",
    "#         cluster = sample.iloc[ids]\n",
    "#         # count and sort by timeline\n",
    "#         counts = cluster['time'].value_counts().sort_index()\n",
    "        \n",
    "#         if len(counts) < timeline:\n",
    "#             miss_times = list(set(range(timeline)).difference(counts.index))\n",
    "#             fill_values = pd.Series(np.zeros(len(miss_times)), index=miss_times)\n",
    "#             counts = counts.append(fill_values)\n",
    "#             counts = counts.sort_index()\n",
    "            \n",
    "#         # print(cluster['time'].nunique())\n",
    "#         class_count = cluster['category'].value_counts(normalize=True)\n",
    "#         maj_class = class_count.index[0]\n",
    "#         maj_percent = class_count[0]\n",
    "#         # diff = times.diff().fillna(0)\n",
    "#         # print(class_count[0])\n",
    "#         is_target = (maj_class == target) and maj_percent > 0.5\n",
    "        \n",
    "#         p = event['pivots'] if is_target else []\n",
    "#         e = event['event'] if is_target else 'noise'\n",
    "        \n",
    "#         changes.append((counts.values, is_target, maj_class, e, p))\n",
    "        \n",
    "#     return changes\n",
    "\n",
    "\n",
    "def get_doc_vecs(doc_vecs, df, ids):\n",
    "    df2 = df.reset_index()\n",
    "    df2 = df2.set_index('id')\n",
    "\n",
    "    indexes = df2.loc[ids, 'index'].tolist()\n",
    "    # print(len(indexes))\n",
    "    vecs = doc_vecs[indexes]\n",
    "    \n",
    "    return vecs\n",
    "\n",
    "\n",
    "def kmean_cluster(doc_vecs, df, n_sample, n_clusters=20):\n",
    "    models = []\n",
    "    \n",
    "    for i in tqdm(range(n_sample)):\n",
    "        sample = pd.read_json('data/dev/samples/sample_' + str(i) + '.json')\n",
    "        sample.reset_index(inplace=True, drop=True)\n",
    "        vecs = get_doc_vecs(doc_vecs, df, sample['id'])\n",
    "        \n",
    "        model = KMeans(n_clusters=n_clusters, random_state=12).fit(vecs)\n",
    "        models.append(model)\n",
    "        \n",
    "    return models"
   ]
  },
  {
   "cell_type": "code",
   "execution_count": 8,
   "metadata": {},
   "outputs": [],
   "source": [
    "#models = kmean_cluster(doc_vecs, df, 2000, n_clusters=20)"
   ]
  },
  {
   "cell_type": "code",
   "execution_count": 9,
   "metadata": {},
   "outputs": [],
   "source": [
    "#pickle.dump(models, open('data/dev/kmean_2k_models.pkl', 'wb'))"
   ]
  },
  {
   "cell_type": "code",
   "execution_count": 10,
   "metadata": {},
   "outputs": [],
   "source": [
    "# dataset = pickle.load(open(\"data/dev/sample_7_patterns.pkl\", \"rb\"))"
   ]
  },
  {
   "cell_type": "code",
   "execution_count": 11,
   "metadata": {},
   "outputs": [],
   "source": [
    "# tracker = pd.read_pickle('data/dev/tracker_7_patterns.pkl')"
   ]
  },
  {
   "cell_type": "code",
   "execution_count": 12,
   "metadata": {},
   "outputs": [],
   "source": [
    "dataset = pickle.load(open(\"data/prod/dataset_1_event.pkl\", \"rb\"))"
   ]
  },
  {
   "cell_type": "code",
   "execution_count": 13,
   "metadata": {},
   "outputs": [],
   "source": [
    "tracker = pd.read_pickle('data/prod/dataset_1_pivot.pkl')"
   ]
  },
  {
   "cell_type": "code",
   "execution_count": 24,
   "metadata": {},
   "outputs": [
    {
     "data": {
      "text/html": [
       "<div>\n",
       "<style scoped>\n",
       "    .dataframe tbody tr th:only-of-type {\n",
       "        vertical-align: middle;\n",
       "    }\n",
       "\n",
       "    .dataframe tbody tr th {\n",
       "        vertical-align: top;\n",
       "    }\n",
       "\n",
       "    .dataframe thead th {\n",
       "        text-align: right;\n",
       "    }\n",
       "</style>\n",
       "<table border=\"1\" class=\"dataframe\">\n",
       "  <thead>\n",
       "    <tr style=\"text-align: right;\">\n",
       "      <th></th>\n",
       "      <th>category</th>\n",
       "      <th>event</th>\n",
       "      <th>pivots</th>\n",
       "    </tr>\n",
       "  </thead>\n",
       "  <tbody>\n",
       "    <tr>\n",
       "      <th>218</th>\n",
       "      <td>autot</td>\n",
       "      <td>complex</td>\n",
       "      <td>[110, -30, 40]</td>\n",
       "    </tr>\n",
       "    <tr>\n",
       "      <th>1892</th>\n",
       "      <td>ruoat</td>\n",
       "      <td>periodic</td>\n",
       "      <td>[10, 36, 63, 90]</td>\n",
       "    </tr>\n",
       "    <tr>\n",
       "      <th>897</th>\n",
       "      <td>tulipalot</td>\n",
       "      <td>up_down</td>\n",
       "      <td>[2, 41, 81]</td>\n",
       "    </tr>\n",
       "    <tr>\n",
       "      <th>1813</th>\n",
       "      <td>musiikki</td>\n",
       "      <td>periodic</td>\n",
       "      <td>[10, 30, 50, 70, 90]</td>\n",
       "    </tr>\n",
       "    <tr>\n",
       "      <th>1202</th>\n",
       "      <td>luonto</td>\n",
       "      <td>down</td>\n",
       "      <td>[23, 79]</td>\n",
       "    </tr>\n",
       "  </tbody>\n",
       "</table>\n",
       "</div>"
      ],
      "text/plain": [
       "       category     event                pivots\n",
       "218       autot   complex        [110, -30, 40]\n",
       "1892      ruoat  periodic      [10, 36, 63, 90]\n",
       "897   tulipalot   up_down           [2, 41, 81]\n",
       "1813   musiikki  periodic  [10, 30, 50, 70, 90]\n",
       "1202     luonto      down              [23, 79]"
      ]
     },
     "execution_count": 24,
     "metadata": {},
     "output_type": "execute_result"
    }
   ],
   "source": [
    "tracker.head()"
   ]
  },
  {
   "cell_type": "code",
   "execution_count": 14,
   "metadata": {},
   "outputs": [],
   "source": [
    "# kmeans = pickle.load(open('data/dev/kmean_2k_models.pkl', 'rb'))\n",
    "kmeans = KMeans(n_clusters=20, random_state=12).fit(doc_vecs)"
   ]
  },
  {
   "cell_type": "code",
   "execution_count": 15,
   "metadata": {
    "code_folding": [
     20
    ]
   },
   "outputs": [],
   "source": [
    "# def get_cluster_freq_change(kmeans, samples, tracker, offset=0):\n",
    "    \n",
    "#     all_changes = []\n",
    "    \n",
    "#     for i, sample in enumerate(tqdm(samples)):\n",
    "#         #sample = pd.read_json('data/dev/samples/sample_' + str(i) + '.json')\n",
    "#         sample.reset_index(inplace=True, drop=True)\n",
    "#         #sample_vecs = get_doc_vecs(doc_vecs, df, sample['id'])\n",
    "#         target = get_target(sample)\n",
    "#         model = kmeans[i+offset]\n",
    "#         clusters = model.labels_ #get_clusters(model.labels_, df, sample['id'])\n",
    "#         events = tracker.iloc[i+offset]\n",
    "#         freq_change = get_cluster_change(clusters, sample, target, events)\n",
    "        \n",
    "#         all_changes += freq_change\n",
    "    \n",
    "#     return all_changes\n",
    "\n",
    "def get_cluster_freq_change(model, samples, tracker, df, offset=0):\n",
    "    \n",
    "    all_changes = []\n",
    "    \n",
    "    for i, sample in enumerate(tqdm(samples)):\n",
    "        #sample = pd.read_json('data/dev/samples/sample_' + str(i) + '.json')\n",
    "        sample.reset_index(inplace=True, drop=True)\n",
    "        # sample_vecs = get_doc_vecs(doc_vecs, df, sample['id'])\n",
    "        target = get_target(sample)\n",
    "        clusters = get_clusters(model.labels_, df, sample['id'])\n",
    "        events = tracker.iloc[i+offset]\n",
    "        freq_change = get_cluster_change(clusters, sample, target, events)\n",
    "        \n",
    "        all_changes += freq_change\n",
    "    \n",
    "    return all_changes\n",
    "\n",
    "def get_freq_change(samples, tracker):\n",
    "    \n",
    "    changes = []\n",
    "    \n",
    "    for i, sample in enumerate(tqdm(samples)):\n",
    "        event = tracker.iloc[i]\n",
    "        counts = sample['time'].value_counts().sort_index()\n",
    "        # print(class_count[0])\n",
    "#         p = event['pivots']\n",
    "#         e = event['event'] if is_target else 'noise'\n",
    "        \n",
    "        changes.append((counts.values, event['pivots']))\n",
    "        \n",
    "    return changes\n",
    "    \n",
    "\n",
    "def scale_x(X):\n",
    "    X = X + 1\n",
    "    return X / X[:, 0][:, None]"
   ]
  },
  {
   "cell_type": "code",
   "execution_count": 16,
   "metadata": {},
   "outputs": [],
   "source": [
    "# sample = dataset[0]"
   ]
  },
  {
   "cell_type": "code",
   "execution_count": 17,
   "metadata": {},
   "outputs": [],
   "source": [
    "# target = get_target(sample)\n",
    "# clusters = get_clusters(clustering.labels_, df, sample['id'])\n",
    "# changes = get_cluster_change(clusters, sample, target)"
   ]
  },
  {
   "cell_type": "code",
   "execution_count": null,
   "metadata": {},
   "outputs": [],
   "source": []
  },
  {
   "cell_type": "code",
   "execution_count": 18,
   "metadata": {},
   "outputs": [],
   "source": [
    "train_samples = dataset[200:]\n",
    "test_samples = dataset[:200]"
   ]
  },
  {
   "cell_type": "code",
   "execution_count": 19,
   "metadata": {},
   "outputs": [
    {
     "name": "stderr",
     "output_type": "stream",
     "text": [
      "100%|██████████| 1800/1800 [07:47<00:00,  3.85it/s]\n"
     ]
    }
   ],
   "source": [
    "train_data = get_cluster_freq_change(kmeans, train_samples, tracker, df, offset=200)"
   ]
  },
  {
   "cell_type": "code",
   "execution_count": 20,
   "metadata": {},
   "outputs": [
    {
     "name": "stderr",
     "output_type": "stream",
     "text": [
      "100%|██████████| 200/200 [00:51<00:00,  3.87it/s]\n"
     ]
    }
   ],
   "source": [
    "test_data = get_cluster_freq_change(kmeans, test_samples, tracker, df)"
   ]
  },
  {
   "cell_type": "code",
   "execution_count": 10,
   "metadata": {},
   "outputs": [
    {
     "data": {
      "text/plain": [
       "[(array([29, 28, 16, 25, 25, 31, 16, 28, 27, 31, 29, 19, 22, 33, 30, 20, 20,\n",
       "         30, 22, 35, 22, 32, 22, 24, 25, 27, 32, 21, 27, 23, 39, 33, 25, 25,\n",
       "         28, 23, 27, 29, 36, 29, 18, 24, 28, 28, 27, 21, 26, 22, 27, 25, 23,\n",
       "         28, 35, 24, 26, 22, 22, 35, 28, 29, 29, 24, 26, 18, 31, 27, 25, 20,\n",
       "         29, 24, 31, 29, 24, 21, 21, 28, 29, 31, 28, 27, 34, 32, 31, 25, 26,\n",
       "         28, 21, 26, 24, 27, 26, 23, 21, 29, 30, 25, 20, 36, 28, 31]),\n",
       "  False,\n",
       "  'luonto',\n",
       "  'noise',\n",
       "  []),\n",
       " (array([29, 30, 25, 22, 31, 29, 13, 22, 19, 20, 25, 28, 28, 20, 20, 18, 14,\n",
       "         25, 19, 15, 27, 17, 26, 29, 20, 20, 26, 22, 23, 23, 24, 21, 29, 26,\n",
       "         27, 26, 24, 18, 29, 20, 17, 21, 24, 22, 22, 24, 30, 23, 22, 22, 31,\n",
       "         20, 20, 25, 22, 25, 23, 24, 25, 25, 26, 10, 18, 22, 12, 20, 24, 18,\n",
       "         26, 27, 24, 21, 17, 22, 23, 23, 17, 22, 11, 33, 17, 26, 28, 22, 27,\n",
       "         20, 21, 27, 26, 21, 21, 21, 25, 22, 18, 20, 28, 19, 31, 23]),\n",
       "  False,\n",
       "  'koulut',\n",
       "  'noise',\n",
       "  []),\n",
       " (array([25, 22, 20, 29, 15, 24, 19, 30, 21, 30, 22, 28, 27, 25, 27, 18, 23,\n",
       "         21, 26, 19, 25, 20, 27, 28, 26, 29, 25, 25, 32, 16, 28, 20, 25, 25,\n",
       "         25, 29, 21, 22, 23, 24, 35, 19, 25, 29, 19, 27, 19, 28, 27, 26, 26,\n",
       "         22, 20, 18, 21, 25, 15, 24, 32, 23, 23, 19, 25, 27, 21, 23, 26, 30,\n",
       "         28, 33, 25, 24, 20, 24, 31, 19, 29, 24, 24, 23, 19, 26, 24, 20, 23,\n",
       "         27, 18, 26, 26, 23, 23, 22, 34, 16, 28, 20, 27, 24, 28, 27]),\n",
       "  False,\n",
       "  'vaalit',\n",
       "  'noise',\n",
       "  []),\n",
       " (array([43, 25, 33, 29, 33, 32, 26, 33, 29, 27, 33, 28, 37, 29, 40, 29, 43,\n",
       "         30, 29, 31, 30, 29, 37, 27, 32, 27, 31, 19, 31, 25, 28, 32, 38, 40,\n",
       "         27, 30, 31, 37, 31, 31, 31, 32, 30, 32, 31, 27, 30, 37, 28, 32, 35,\n",
       "         35, 34, 27, 31, 26, 29, 30, 26, 27, 25, 31, 30, 30, 38, 31, 25, 21,\n",
       "         22, 31, 29, 34, 40, 21, 28, 30, 32, 27, 27, 32, 33, 36, 34, 30, 25,\n",
       "         23, 20, 33, 41, 29, 30, 41, 24, 26, 33, 37, 27, 36, 33, 27]),\n",
       "  False,\n",
       "  'kulttuuri',\n",
       "  'noise',\n",
       "  []),\n",
       " (array([28, 22, 34, 22, 28, 22, 29, 25, 20, 22, 27, 21, 35, 24, 31, 27, 23,\n",
       "         25, 24, 24, 28, 20, 16, 29, 28, 28, 22, 22, 18, 21, 22, 25, 33, 18,\n",
       "         25, 29, 23, 21, 24, 27, 27, 29, 26, 31, 21, 22, 27, 27, 34, 33, 23,\n",
       "         26, 24, 28, 30, 26, 28, 32, 24, 25, 17, 22, 23, 29, 21, 25, 25, 25,\n",
       "         28, 26, 23, 25, 24, 25, 26, 32, 21, 26, 21, 19, 36, 26, 23, 29, 24,\n",
       "         32, 27, 24, 30, 24, 36, 33, 24, 21, 30, 25, 23, 21, 23, 25]),\n",
       "  False,\n",
       "  'jääkiekko',\n",
       "  'noise',\n",
       "  []),\n",
       " (array([40, 40, 32, 41, 43, 39, 42, 37, 43, 37, 40, 35, 34, 42, 52, 41, 45,\n",
       "         40, 37, 40, 50, 44, 32, 39, 43, 48, 38, 42, 38, 38, 40, 43, 28, 39,\n",
       "         39, 39, 40, 40, 47, 43, 34, 43, 44, 35, 44, 46, 38, 40, 33, 36, 40,\n",
       "         47, 34, 42, 44, 38, 39, 33, 42, 43, 31, 38, 46, 39, 38, 42, 44, 50,\n",
       "         41, 39, 37, 30, 39, 33, 43, 33, 43, 39, 46, 40, 44, 36, 44, 35, 37,\n",
       "         41, 42, 40, 37, 39, 38, 43, 40, 45, 47, 36, 45, 38, 43, 47]),\n",
       "  False,\n",
       "  'taudit',\n",
       "  'noise',\n",
       "  []),\n",
       " (array([24, 41, 40, 30, 43, 41, 41, 31, 42, 33, 36, 40, 36, 24, 32, 38, 31,\n",
       "         40, 40, 42, 41, 40, 34, 35, 37, 33, 40, 32, 33, 39, 29, 35, 40, 36,\n",
       "         39, 36, 27, 38, 41, 31, 35, 43, 40, 33, 32, 40, 37, 39, 38, 33, 37,\n",
       "         42, 44, 46, 41, 31, 51, 37, 30, 34, 40, 48, 37, 33, 38, 35, 30, 26,\n",
       "         43, 38, 42, 37, 42, 33, 39, 33, 37, 34, 35, 37, 38, 32, 36, 33, 34,\n",
       "         41, 46, 33, 26, 43, 38, 40, 34, 45, 37, 34, 39, 38, 36, 36]),\n",
       "  False,\n",
       "  'vaalit',\n",
       "  'noise',\n",
       "  []),\n",
       " (array([23, 31, 43, 40, 31, 36, 41, 33, 29, 35, 37, 39, 34, 40, 39, 42, 37,\n",
       "         39, 36, 46, 28, 42, 39, 31, 36, 35, 31, 36, 41, 33, 39, 36, 30, 33,\n",
       "         33, 32, 34, 34, 37, 34, 43, 37, 33, 36, 29, 32, 38, 39, 43, 36, 26,\n",
       "         37, 26, 31, 35, 38, 25, 31, 24, 35, 36, 41, 42, 36, 29, 35, 34, 36,\n",
       "         31, 28, 33, 32, 28, 36, 34, 32, 42, 35, 40, 27, 35, 33, 30, 31, 25,\n",
       "         29, 38, 29, 30, 35, 39, 37, 26, 36, 47, 36, 32, 43, 31, 34]),\n",
       "  False,\n",
       "  'koulut',\n",
       "  'noise',\n",
       "  []),\n",
       " (array([37, 35, 32, 31, 33, 31, 30, 38, 40, 33, 43, 49, 35, 33, 32, 41, 35,\n",
       "         25, 25, 30, 23, 40, 27, 33, 36, 27, 33, 33, 29, 33, 37, 30, 32, 37,\n",
       "         33, 40, 33, 29, 26, 34, 41, 28, 40, 36, 29, 36, 27, 31, 44, 41, 31,\n",
       "         21, 33, 24, 30, 32, 37, 35, 40, 30, 40, 37, 31, 42, 35, 25, 44, 33,\n",
       "         37, 31, 43, 37, 34, 44, 31, 35, 24, 45, 27, 27, 38, 35, 28, 39, 34,\n",
       "         30, 38, 32, 42, 34, 40, 23, 34, 22, 35, 35, 44, 43, 30, 30]),\n",
       "  False,\n",
       "  'rikokset',\n",
       "  'noise',\n",
       "  []),\n",
       " (array([34, 48, 36, 45, 41, 41, 42, 40, 48, 45, 38, 47, 34, 44, 34, 39, 47,\n",
       "         42, 41, 38, 37, 48, 50, 43, 41, 38, 50, 39, 45, 50, 44, 45, 34, 51,\n",
       "         39, 42, 46, 49, 39, 42, 40, 41, 40, 41, 49, 48, 46, 42, 35, 37, 47,\n",
       "         48, 49, 34, 32, 40, 42, 36, 43, 41, 50, 47, 46, 42, 43, 46, 44, 44,\n",
       "         41, 41, 45, 42, 44, 41, 41, 41, 48, 41, 48, 47, 36, 43, 47, 40, 41,\n",
       "         41, 39, 46, 38, 44, 30, 41, 48, 49, 37, 39, 45, 37, 45, 43]),\n",
       "  False,\n",
       "  'jääkiekko',\n",
       "  'noise',\n",
       "  []),\n",
       " (array([19, 25, 17, 28, 15, 20, 19, 19, 17, 20, 23, 15, 25, 14, 20, 20, 17,\n",
       "         20, 21, 22, 14, 21, 22, 21, 16, 19, 15,  7, 19, 19, 22, 16, 15, 18,\n",
       "         22, 20, 17, 13, 24, 17, 19, 19, 14, 12, 19, 16, 25, 25, 18, 17, 21,\n",
       "         18, 20, 27, 23, 17, 21, 20, 13, 15, 18, 23, 24, 17, 14, 13, 18, 19,\n",
       "         21, 21, 16, 23, 22, 22, 19, 18, 18, 25, 19, 27, 23, 23, 25, 20, 19,\n",
       "         19, 19, 20, 21, 21, 26, 24, 19, 18, 17, 17, 18, 24, 22, 13]),\n",
       "  False,\n",
       "  'ruoat',\n",
       "  'noise',\n",
       "  []),\n",
       " (array([25, 22, 29, 25, 26, 30, 28, 26, 25, 20, 18, 25, 22, 28, 23, 26, 31,\n",
       "         21, 25, 26, 27, 21, 20, 23, 20, 28, 20, 30, 35, 26, 26, 35, 32, 24,\n",
       "         24, 26, 25, 21, 18, 28, 32, 31, 23, 36, 30, 23, 17, 28, 25, 15, 32,\n",
       "         26, 31, 24, 21, 30, 30, 28, 20, 29, 22, 22, 25, 18, 25, 23, 27, 29,\n",
       "         21, 28, 23, 25, 25, 22, 29, 20, 17, 21, 25, 27, 19, 25, 16, 23, 21,\n",
       "         23, 18, 24, 18, 15, 22, 19, 27, 22, 18, 29, 24, 22, 32, 33]),\n",
       "  False,\n",
       "  'ruoat',\n",
       "  'noise',\n",
       "  []),\n",
       " (array([20, 22, 20, 24, 28, 15, 26, 22, 23, 29, 29, 24, 17, 17, 25, 18, 22,\n",
       "         14, 23, 18, 24, 28, 20, 20, 15, 21, 21, 24, 23, 20, 20, 19, 19, 19,\n",
       "         22, 21, 27, 18, 15, 19, 17, 27, 30, 28, 28, 25, 24, 19, 24, 18, 18,\n",
       "         18, 10, 23, 19, 29, 18, 13, 26, 28, 28, 31, 19, 23, 24, 29, 25, 28,\n",
       "         22, 27, 18, 21, 31, 22, 22, 29, 18, 24, 23, 15, 15, 23, 20, 28, 21,\n",
       "         18, 25, 28, 33, 23, 22, 16, 24, 13, 29, 27, 16, 18, 23, 24]),\n",
       "  False,\n",
       "  'kulttuuri',\n",
       "  'noise',\n",
       "  []),\n",
       " (array([18, 18, 18, 12, 17, 18, 13, 16, 11, 22, 21, 17, 17, 22,  8, 23, 16,\n",
       "         14, 21, 20, 23, 15, 16, 21, 18, 16, 14, 17, 22, 20, 14, 14, 15,  9,\n",
       "         15, 16, 12, 20, 17, 14, 25, 12, 22, 16, 11,  8, 10, 15, 18, 19, 14,\n",
       "         16, 16, 19,  8, 17, 13, 12, 22, 21, 19, 14, 20, 26, 15, 17, 21, 12,\n",
       "         10, 16, 20, 13, 12, 18, 15, 14,  9, 13, 11, 20, 17, 14, 10, 16, 11,\n",
       "         20, 11, 17, 21, 17, 14, 15, 19, 17, 14, 10, 15, 14, 22, 17]),\n",
       "  False,\n",
       "  'taudit',\n",
       "  'noise',\n",
       "  []),\n",
       " (array([ 57,  58,  57,  58,  55,  53,  48,  58,  52,  60,  90,  56,  55,\n",
       "          61,  45,  62,  53,  64,  51,  49,  56,  52,  65,  59,  55,  59,\n",
       "          95,  63,  56,  66,  51,  65,  56,  59,  61,  56,  57,  53,  46,\n",
       "          47,  54,  68,  90,  55,  53,  64,  60,  56,  50,  65,  56,  62,\n",
       "          52,  61,  58,  67,  54,  66, 114,  54,  53,  43,  52,  59,  65,\n",
       "          61,  49,  52,  65,  64,  59,  58,  53,  56,  85,  64,  61,  55,\n",
       "          60,  54,  46,  57,  52,  50,  52,  60,  54,  60,  65,  52,  97,\n",
       "          62,  58,  63,  56,  58,  60,  54,  55,  61]),\n",
       "  True,\n",
       "  'tulipalot',\n",
       "  'periodic',\n",
       "  array([10, 26, 42, 58, 74, 90])),\n",
       " (array([152, 128, 141, 132, 134, 140, 142, 125, 149, 132, 162, 128, 139,\n",
       "         133, 137, 132, 145, 137, 150, 133, 137, 131, 144, 131, 140, 126,\n",
       "         168, 144, 131, 127, 128, 133, 146, 137, 141, 133, 145, 131, 130,\n",
       "         150, 130, 129, 167, 121, 150, 142, 135, 146, 125, 127, 131, 128,\n",
       "         149, 125, 153, 134, 135, 140, 144, 145, 139, 135, 128, 131, 125,\n",
       "         143, 138, 160, 132, 137, 121, 139, 131, 149, 168, 152, 139, 144,\n",
       "         141, 139, 143, 126, 147, 143, 159, 132, 148, 130, 131, 143, 150,\n",
       "         123, 130, 144, 123, 135, 137, 128, 120, 125]),\n",
       "  False,\n",
       "  'tulipalot',\n",
       "  'noise',\n",
       "  []),\n",
       " (array([46, 43, 47, 39, 37, 35, 47, 38, 38, 31, 40, 35, 41, 43, 41, 41, 33,\n",
       "         42, 46, 45, 40, 40, 41, 33, 44, 44, 44, 58, 38, 45, 39, 39, 32, 44,\n",
       "         43, 38, 46, 49, 51, 39, 42, 35, 38, 49, 40, 27, 37, 36, 42, 31, 39,\n",
       "         47, 45, 39, 47, 43, 42, 38, 36, 39, 38, 45, 32, 35, 47, 41, 43, 37,\n",
       "         38, 35, 43, 41, 44, 36, 46, 36, 43, 39, 37, 41, 42, 38, 38, 38, 48,\n",
       "         44, 46, 40, 42, 40, 48, 51, 49, 45, 40, 48, 38, 41, 37, 42]),\n",
       "  False,\n",
       "  'rikokset',\n",
       "  'noise',\n",
       "  []),\n",
       " (array([28, 30, 34, 34, 30, 27, 31, 29, 27, 29, 27, 28, 28, 26, 27, 28, 32,\n",
       "         28, 29, 22, 24, 23, 30, 32, 26, 33, 26, 27, 30, 31, 33, 23, 20, 25,\n",
       "         21, 23, 25, 33, 21, 31, 25, 26, 24, 28, 30, 30, 30, 24, 25, 38, 30,\n",
       "         26, 21, 36, 20, 26, 35, 27, 39, 23, 34, 27, 30, 31, 37, 26, 29, 23,\n",
       "         30, 21, 27, 28, 32, 31, 24, 23, 32, 21, 32, 24, 21, 26, 21, 38, 27,\n",
       "         37, 31, 29, 23, 31, 15, 29, 25, 23, 30, 26, 20, 22, 30, 27]),\n",
       "  False,\n",
       "  'luonto',\n",
       "  'noise',\n",
       "  []),\n",
       " (array([16, 20, 24, 26, 20, 32, 34, 26, 23, 26, 19, 26, 25, 20, 20, 22, 22,\n",
       "         29, 21, 24, 26, 25, 17, 29, 26, 29, 20, 29, 14, 28, 27, 22, 33, 18,\n",
       "         31, 22, 24, 28, 27, 31, 26, 25, 26, 18, 22, 28, 24, 14, 25, 29, 23,\n",
       "         28, 27, 28, 20, 21, 25, 25, 19, 23, 18, 28, 29, 29, 24, 20, 20, 27,\n",
       "         19, 19, 29, 28, 24, 29, 24, 16, 23, 24, 27, 25, 30, 30, 28, 26, 21,\n",
       "         24, 18, 21, 21, 24, 30, 25, 28, 30, 16, 24, 32, 27, 17, 26]),\n",
       "  False,\n",
       "  'kulttuuri',\n",
       "  'noise',\n",
       "  []),\n",
       " (array([15, 20,  9, 17, 19, 15, 22, 28, 18, 24, 16, 17, 18, 23, 25, 18, 19,\n",
       "         18, 21, 22, 20, 19, 21, 20, 22, 22, 22, 16, 22, 20, 15, 20, 24, 21,\n",
       "         14, 20, 21, 23, 23, 16, 14, 15, 15, 21, 22, 22, 25, 14, 23, 27, 24,\n",
       "         17, 19, 18, 21, 19, 17, 20, 24, 19, 20, 16, 21, 20, 21, 22, 20, 17,\n",
       "         19, 21, 17, 19, 16, 23, 25, 30, 23, 19, 20, 24, 23, 17, 22, 21, 27,\n",
       "         20, 27, 20, 15, 25, 28, 22, 22, 20, 19, 25, 18, 19, 21, 13]),\n",
       "  False,\n",
       "  'ruoat',\n",
       "  'noise',\n",
       "  [])]"
      ]
     },
     "execution_count": 10,
     "metadata": {},
     "output_type": "execute_result"
    }
   ],
   "source": [
    "test_data[:20]"
   ]
  },
  {
   "cell_type": "code",
   "execution_count": 23,
   "metadata": {},
   "outputs": [],
   "source": [
    "# test_samples[0]"
   ]
  },
  {
   "cell_type": "code",
   "execution_count": 11,
   "metadata": {},
   "outputs": [
    {
     "data": {
      "text/html": [
       "<div>\n",
       "<style scoped>\n",
       "    .dataframe tbody tr th:only-of-type {\n",
       "        vertical-align: middle;\n",
       "    }\n",
       "\n",
       "    .dataframe tbody tr th {\n",
       "        vertical-align: top;\n",
       "    }\n",
       "\n",
       "    .dataframe thead th {\n",
       "        text-align: right;\n",
       "    }\n",
       "</style>\n",
       "<table border=\"1\" class=\"dataframe\">\n",
       "  <thead>\n",
       "    <tr style=\"text-align: right;\">\n",
       "      <th></th>\n",
       "      <th>category</th>\n",
       "      <th>event</th>\n",
       "      <th>pivots</th>\n",
       "    </tr>\n",
       "  </thead>\n",
       "  <tbody>\n",
       "    <tr>\n",
       "      <th>0</th>\n",
       "      <td>tulipalot</td>\n",
       "      <td>periodic</td>\n",
       "      <td>[10, 26, 42, 58, 74, 90]</td>\n",
       "    </tr>\n",
       "    <tr>\n",
       "      <th>1</th>\n",
       "      <td>työllisyys</td>\n",
       "      <td>complex</td>\n",
       "      <td>[30, 60, 90]</td>\n",
       "    </tr>\n",
       "    <tr>\n",
       "      <th>2</th>\n",
       "      <td>musiikki</td>\n",
       "      <td>down</td>\n",
       "      <td>[6, 90]</td>\n",
       "    </tr>\n",
       "    <tr>\n",
       "      <th>3</th>\n",
       "      <td>rikokset</td>\n",
       "      <td>down_up</td>\n",
       "      <td>[30, 54, 78]</td>\n",
       "    </tr>\n",
       "    <tr>\n",
       "      <th>4</th>\n",
       "      <td>koulut</td>\n",
       "      <td>up_down</td>\n",
       "      <td>[1, 39, 77]</td>\n",
       "    </tr>\n",
       "  </tbody>\n",
       "</table>\n",
       "</div>"
      ],
      "text/plain": [
       "     category     event                    pivots\n",
       "0   tulipalot  periodic  [10, 26, 42, 58, 74, 90]\n",
       "1  työllisyys   complex              [30, 60, 90]\n",
       "2    musiikki      down                   [6, 90]\n",
       "3    rikokset   down_up              [30, 54, 78]\n",
       "4      koulut   up_down               [1, 39, 77]"
      ]
     },
     "execution_count": 11,
     "metadata": {},
     "output_type": "execute_result"
    }
   ],
   "source": [
    "tracker.head()"
   ]
  },
  {
   "cell_type": "code",
   "execution_count": 14,
   "metadata": {},
   "outputs": [],
   "source": [
    "def convert_pivots(pivot_list, timeline=100):\n",
    "    point_list = np.zeros((len(pivot_list), 100))\n",
    "    \n",
    "    for i, pivots in enumerate(pivot_list):\n",
    "        \n",
    "        points = np.zeros(timeline, dtype=int)\n",
    "\n",
    "        for j in pivots:\n",
    "            points[j:] = points[j-1] == 0\n",
    "            \n",
    "        point_list[i] = points\n",
    "        \n",
    "    return point_list"
   ]
  },
  {
   "cell_type": "code",
   "execution_count": 21,
   "metadata": {},
   "outputs": [],
   "source": [
    "X, targets, _, events, y = zip(*train_data)\n",
    "X_test, _, maj_cats, events_test, y_test = zip(*test_data)"
   ]
  },
  {
   "cell_type": "code",
   "execution_count": 22,
   "metadata": {},
   "outputs": [],
   "source": [
    "# points_test = convert_pivots(y_test)\n",
    "# points = convert_pivots(y)"
   ]
  },
  {
   "cell_type": "code",
   "execution_count": 23,
   "metadata": {},
   "outputs": [],
   "source": [
    "temp = tuple(zip(X, events, y))"
   ]
  },
  {
   "cell_type": "code",
   "execution_count": 24,
   "metadata": {},
   "outputs": [
    {
     "name": "stderr",
     "output_type": "stream",
     "text": [
      "/home/me/anaconda3/lib/python3.7/site-packages/numpy/core/_asarray.py:83: VisibleDeprecationWarning: Creating an ndarray from ragged nested sequences (which is a list-or-tuple of lists-or-tuples-or ndarrays with different lengths or shapes) is deprecated. If you meant to do this, you must specify 'dtype=object' when creating the ndarray\n",
      "  return array(a, dtype, copy=False, order=order)\n"
     ]
    }
   ],
   "source": [
    "ros = RandomOverSampler(random_state=12)\n",
    "resampled, _ = ros.fit_resample(temp, targets)"
   ]
  },
  {
   "cell_type": "code",
   "execution_count": 25,
   "metadata": {},
   "outputs": [],
   "source": [
    "X_resampled, events_resampled, y_resampled = zip(*resampled)"
   ]
  },
  {
   "cell_type": "code",
   "execution_count": null,
   "metadata": {},
   "outputs": [],
   "source": []
  },
  {
   "cell_type": "code",
   "execution_count": 42,
   "metadata": {},
   "outputs": [],
   "source": [
    "# y_test[11]"
   ]
  },
  {
   "cell_type": "code",
   "execution_count": 26,
   "metadata": {},
   "outputs": [],
   "source": [
    "X_resampled = np.vstack(X_resampled)\n",
    "#y = np.array(y)\n",
    "X_test = np.vstack(X_test)\n",
    "#y_test = np.array(y_test)"
   ]
  },
  {
   "cell_type": "code",
   "execution_count": null,
   "metadata": {},
   "outputs": [],
   "source": []
  },
  {
   "cell_type": "code",
   "execution_count": 27,
   "metadata": {},
   "outputs": [],
   "source": [
    "X_resampled = minmax_scale(X_resampled, axis=1)\n",
    "X_test = minmax_scale(X_test, axis=1)\n",
    "# X_resampled = scale_x(X_resampled)\n",
    "# X_test = scale_x(X_test)"
   ]
  },
  {
   "cell_type": "code",
   "execution_count": null,
   "metadata": {},
   "outputs": [],
   "source": [
    "X_resampled.shape, y_resampled.shape"
   ]
  },
  {
   "cell_type": "code",
   "execution_count": 110,
   "metadata": {},
   "outputs": [
    {
     "data": {
      "text/plain": [
       "(100,)"
      ]
     },
     "execution_count": 110,
     "metadata": {},
     "output_type": "execute_result"
    }
   ],
   "source": [
    "X[0].shape"
   ]
  },
  {
   "cell_type": "code",
   "execution_count": null,
   "metadata": {},
   "outputs": [],
   "source": []
  },
  {
   "cell_type": "code",
   "execution_count": 157,
   "metadata": {
    "code_folding": []
   },
   "outputs": [],
   "source": [
    "def visualize_change(sample, model, df, events):    \n",
    "    fig, ax = plt.subplots(figsize=(20, 10))\n",
    "    target = get_target(sample)\n",
    "    clusters = get_clusters(model.labels_, df, sample['id'])\n",
    "    changes = get_cluster_change(clusters, sample, target, events)\n",
    "    index = np.arange(100)\n",
    "    distance = 0\n",
    "    \n",
    "    counts, is_target, cats, event, pivots = zip(*changes)\n",
    "    counts = np.array(counts) + 1\n",
    "    # print(counts.shape)\n",
    "    counts = counts / counts[:, 0][:,None]\n",
    "    # print(counts[-1])\n",
    "    \n",
    "    \n",
    "    for i, change in enumerate(is_target):\n",
    "        val = counts[i] + distance\n",
    "        \n",
    "        if change:\n",
    "            print(event[i])\n",
    "            print(pivots[i])\n",
    "            ax.plot(index, val, ls='--')\n",
    "        else:\n",
    "            ax.plot(index, val)\n",
    "            \n",
    "        distance += 1\n",
    "    \n",
    "    ax.set(xlabel='Time', ylabel='Counts')\n",
    "    # ax.legend()\n",
    "    ax.grid()\n",
    "\n",
    "    plt.show()\n",
    "\n",
    "def visualize_train_data(X, y):    \n",
    "    fig, ax = plt.subplots(figsize=(20, 10))\n",
    "    index = np.arange(100)\n",
    "    \n",
    "    ax.plot(index, X)\n",
    "    ax.vlines(y, ymin=0, ymax=1, color='red')\n",
    "    \n",
    "    ax.set(xlabel='Time', ylabel='Counts')\n",
    "    # ax.legend()\n",
    "    ax.set_ylim(0, 5)\n",
    "    ax.grid()\n",
    "\n",
    "    plt.show()\n",
    "    \n",
    "# def scale_2(X):\n",
    "#     X = X + 1\n",
    "#     print(X[0])\n",
    "#     D = np.diff(X, axis=1)\n",
    "#     print(D[0])\n",
    "#     S = X[:, 1:] + X[:, :-1]\n",
    "#     print(S[0])\n",
    "#     avg = D / S\n",
    "#     z = np.zeros((X.shape[0], 1))\n",
    "#     avg = np.concatenate((z, avg), axis=1)\n",
    "#     # avg = minmax_scale(avg, axis=1)\n",
    "    \n",
    "#     return avg\n",
    "\n",
    "def scale_2(X):\n",
    "    X = X + 1\n",
    "    print(X[0])\n",
    "    D = np.diff(X, axis=1, prepend=0)\n",
    "    print(D[0])\n",
    "    S = np.mean(X, axis=1)\n",
    "    # S = X[:, 1:] + X[:, :-1]\n",
    "    print(S[0])\n",
    "    avg = D / S[:, None]\n",
    "    avg = np.nancumsum(avg, axis=1)\n",
    "#     z = np.zeros((X.shape[0], 1))\n",
    "#     avg = np.concatenate((z, avg), axis=1)\n",
    "    # avg = minmax_scale(avg, axis=1)\n",
    "    print(avg[0])\n",
    "    return avg"
   ]
  },
  {
   "cell_type": "code",
   "execution_count": 181,
   "metadata": {},
   "outputs": [],
   "source": [
    "X_scale_2 = minmax_scale(X_resampled, axis=1)"
   ]
  },
  {
   "cell_type": "code",
   "execution_count": null,
   "metadata": {},
   "outputs": [],
   "source": []
  },
  {
   "cell_type": "code",
   "execution_count": 183,
   "metadata": {},
   "outputs": [
    {
     "name": "stdout",
     "output_type": "stream",
     "text": [
      "[19. 16. 26. 25. 23. 24. 19. 23. 24. 27. 24. 28. 22. 30. 33. 28. 22. 21.\n",
      " 15. 19. 24. 20. 25. 21. 24. 22. 22. 23. 20. 29. 19. 23. 22. 19. 21. 18.\n",
      " 16. 19. 25. 18. 19. 19. 24. 22. 19. 25. 20. 20. 24. 23. 23. 18. 18. 23.\n",
      " 20. 24. 18. 18. 16. 20. 20. 22. 20. 19. 19. 24. 18. 19. 17. 25. 21. 23.\n",
      " 24. 14. 32. 21. 18. 19. 21. 22. 19. 19. 30. 15. 19. 14. 15. 22. 26. 14.\n",
      " 25. 24. 17. 23. 25. 22. 17. 14. 22. 20.]\n",
      "[ 19.  -3.  10.  -1.  -2.   1.  -5.   4.   1.   3.  -3.   4.  -6.   8.\n",
      "   3.  -5.  -6.  -1.  -6.   4.   5.  -4.   5.  -4.   3.  -2.   0.   1.\n",
      "  -3.   9. -10.   4.  -1.  -3.   2.  -3.  -2.   3.   6.  -7.   1.   0.\n",
      "   5.  -2.  -3.   6.  -5.   0.   4.  -1.   0.  -5.   0.   5.  -3.   4.\n",
      "  -6.   0.  -2.   4.   0.   2.  -2.  -1.   0.   5.  -6.   1.  -2.   8.\n",
      "  -4.   2.   1. -10.  18. -11.  -3.   1.   2.   1.  -3.   0.  11. -15.\n",
      "   4.  -5.   1.   7.   4. -12.  11.  -1.  -7.   6.   2.  -3.  -5.  -3.\n",
      "   8.  -2.]\n",
      "21.31\n",
      "[0.89160019 0.75082121 1.22008447 1.17315814 1.07930549 1.12623182\n",
      " 0.89160019 1.07930549 1.12623182 1.26701079 1.12623182 1.31393712\n",
      " 1.03237916 1.40778977 1.54856875 1.31393712 1.03237916 0.98545284\n",
      " 0.70389489 0.89160019 1.12623182 0.93852651 1.17315814 0.98545284\n",
      " 1.12623182 1.03237916 1.03237916 1.07930549 0.93852651 1.36086344\n",
      " 0.89160019 1.07930549 1.03237916 0.89160019 0.98545284 0.84467386\n",
      " 0.75082121 0.89160019 1.17315814 0.84467386 0.89160019 0.89160019\n",
      " 1.12623182 1.03237916 0.89160019 1.17315814 0.93852651 0.93852651\n",
      " 1.12623182 1.07930549 1.07930549 0.84467386 0.84467386 1.07930549\n",
      " 0.93852651 1.12623182 0.84467386 0.84467386 0.75082121 0.93852651\n",
      " 0.93852651 1.03237916 0.93852651 0.89160019 0.89160019 1.12623182\n",
      " 0.84467386 0.89160019 0.79774754 1.17315814 0.98545284 1.07930549\n",
      " 1.12623182 0.65696856 1.50164242 0.98545284 0.84467386 0.89160019\n",
      " 0.98545284 1.03237916 0.89160019 0.89160019 1.40778977 0.70389489\n",
      " 0.89160019 0.65696856 0.70389489 1.03237916 1.22008447 0.65696856\n",
      " 1.17315814 1.12623182 0.79774754 1.07930549 1.17315814 1.03237916\n",
      " 0.79774754 0.65696856 1.03237916 0.93852651]\n"
     ]
    }
   ],
   "source": [
    "X_scale_2 = scale_2(X_resampled)"
   ]
  },
  {
   "cell_type": "code",
   "execution_count": 184,
   "metadata": {},
   "outputs": [
    {
     "data": {
      "image/png": "[encoded data removed]",
      "text/plain": [
       "<Figure size 1440x720 with 1 Axes>"
      ]
     },
     "metadata": {
      "needs_background": "light"
     },
     "output_type": "display_data"
    }
   ],
   "source": [
    "visualize_train_data(X_scale_2[2], y_resampled[2])"
   ]
  },
  {
   "cell_type": "code",
   "execution_count": 114,
   "metadata": {},
   "outputs": [
    {
     "data": {
      "image/png": "[encoded data removed]",
      "text/plain": [
       "<Figure size 1440x720 with 1 Axes>"
      ]
     },
     "metadata": {
      "needs_background": "light"
     },
     "output_type": "display_data"
    }
   ],
   "source": [
    "visualize_train_data(X_resampled[2], y_resampled[2])"
   ]
  },
  {
   "cell_type": "code",
   "execution_count": null,
   "metadata": {},
   "outputs": [],
   "source": []
  },
  {
   "cell_type": "code",
   "execution_count": 1,
   "metadata": {},
   "outputs": [],
   "source": [
    "# randid = np.random.randint(2000)\n",
    "# sample = dataset[randid]\n",
    "# print(randid)\n",
    "# visualize_change(sample, clustering, df, pivot_data.iloc[randid])"
   ]
  },
  {
   "cell_type": "code",
   "execution_count": 29,
   "metadata": {},
   "outputs": [],
   "source": [
    "X_train, X_val, y_train, y_val, e_train, e_val = train_test_split(X_resampled, y_resampled, events_resampled, test_size=0.1)"
   ]
  },
  {
   "cell_type": "code",
   "execution_count": 30,
   "metadata": {},
   "outputs": [
    {
     "data": {
      "text/plain": [
       "(6585, 100)"
      ]
     },
     "execution_count": 30,
     "metadata": {},
     "output_type": "execute_result"
    }
   ],
   "source": [
    "X_val.shape"
   ]
  },
  {
   "cell_type": "code",
   "execution_count": null,
   "metadata": {},
   "outputs": [],
   "source": []
  },
  {
   "cell_type": "code",
   "execution_count": 33,
   "metadata": {},
   "outputs": [],
   "source": [
    "class SeqDataset(Dataset):\n",
    "\n",
    "    def __init__(self, X, pivots, events, timeline=100):\n",
    "        self.X = X\n",
    "        self.pivots = pivots\n",
    "        self.timeline = timeline\n",
    "        self.events = events\n",
    "\n",
    "    def __len__(self):\n",
    "        return len(self.X)\n",
    "\n",
    "    def __getitem__(self, idx):\n",
    "        src = self.X[idx]\n",
    "        # trg = torch.zeros(self.timeline, dtype=torch.long)\n",
    "        \n",
    "        trg = self.format_pivots(self.events[idx], self.pivots[idx])\n",
    "#         for i in self.pivots[idx]:\n",
    "#             trg[i:] = trg[i-1] == 0\n",
    "            \n",
    "        sos = torch.tensor([1])\n",
    "        eos = torch.tensor([2])\n",
    "        \n",
    "        src = torch.tensor(src, dtype=torch.float)\n",
    "        # src = torch.cat((sos, src, eos))\n",
    "        trg = torch.cat((sos, trg, eos))\n",
    "        # add sos and eos token id\n",
    "        # print(F.one_hot(trg))\n",
    "        # print(self.events[idx], self.pivots[idx])\n",
    "        return src, trg\n",
    "    \n",
    "    def format_pivots(self, event, pivots):\n",
    "        \n",
    "        points = torch.ones(self.timeline, dtype=torch.long) * 3\n",
    "        \n",
    "        if event == 'periodic':\n",
    "            for p in pivots:\n",
    "                points[p-2: p] = 4\n",
    "                points[p: p+2] = 5\n",
    "                \n",
    "        elif event == 'up_down':\n",
    "            points[pivots[0]: pivots[1]] = 4\n",
    "            points[pivots[1]: pivots[2]] = 5\n",
    "            \n",
    "        elif event == 'down_up':\n",
    "            points[pivots[0]: pivots[1]] = 5\n",
    "            points[pivots[1]: pivots[2]] = 4\n",
    "            \n",
    "        elif event == 'up':\n",
    "            points[pivots[0]: pivots[1]] = 4\n",
    "            \n",
    "        elif event == 'down':\n",
    "            points[pivots[0]: pivots[1]] = 5\n",
    "            \n",
    "        elif event == 'complex':\n",
    "            for p in pivots:\n",
    "                if p < 0:\n",
    "                    points[-p:] = 5\n",
    "                elif p > self.timeline:\n",
    "                    points[p - self.timeline:] = 4\n",
    "                else:\n",
    "                    points[p:] = 3\n",
    "        else:\n",
    "            pass\n",
    "        \n",
    "        return points\n"
   ]
  },
  {
   "cell_type": "code",
   "execution_count": 34,
   "metadata": {},
   "outputs": [],
   "source": [
    "train_set = SeqDataset(X_train, y_train, e_train)\n",
    "val_set = SeqDataset(X_val, y_val, e_val)\n",
    "test_set = SeqDataset(X_test, y_test, events_test)\n",
    "\n",
    "train_loader = DataLoader(train_set, batch_size=128, shuffle=True, num_workers=4)\n",
    "val_loader = DataLoader(val_set, batch_size=128, shuffle=False, num_workers=4)\n",
    "test_loader = DataLoader(test_set, batch_size=128, shuffle=False, num_workers=4)"
   ]
  },
  {
   "cell_type": "code",
   "execution_count": 119,
   "metadata": {},
   "outputs": [
    {
     "data": {
      "text/plain": [
       "(tensor([0.3143, 0.4571, 0.4571, 0.3714, 0.3143, 0.3714, 0.2000, 0.2286, 0.2571,\n",
       "         0.3143, 0.1143, 0.4857, 0.2571, 0.2286, 0.4000, 0.3143, 0.4571, 0.2857,\n",
       "         0.2857, 0.1429, 0.1143, 0.2571, 0.7714, 0.0000, 0.4286, 0.6286, 0.5714,\n",
       "         0.4571, 0.6571, 0.6857, 0.4286, 0.7143, 0.8286, 0.6571, 0.2857, 0.6857,\n",
       "         0.8571, 0.6857, 0.4000, 0.8857, 0.7143, 0.7143, 0.8571, 0.6286, 0.9429,\n",
       "         0.7429, 0.8857, 1.0000, 0.5714, 0.8571, 0.7143, 0.6571, 0.6286, 0.9714,\n",
       "         0.6857, 0.8571, 0.8286, 0.6857, 0.6571, 0.9143, 0.5429, 0.6000, 0.5429,\n",
       "         1.0000, 0.9429, 0.7143, 0.8000, 0.6000, 0.8000, 0.6286, 0.6857, 0.6857,\n",
       "         0.9143, 0.6000, 0.7429, 0.7143, 0.7714, 0.7143, 0.4000, 0.5714, 0.8286,\n",
       "         0.9429, 0.5714, 0.8000, 0.8000, 0.7143, 0.6571, 0.5143, 0.9429, 0.6571,\n",
       "         0.8000, 0.9429, 0.5714, 0.7143, 1.0000, 0.8857, 0.7714, 0.8286, 0.7429,\n",
       "         0.5429]),\n",
       " tensor([1, 3, 3, 3, 3, 3, 3, 3, 3, 3, 3, 3, 3, 3, 3, 3, 3, 3, 3, 3, 3, 3, 3, 4,\n",
       "         4, 4, 4, 4, 4, 4, 4, 4, 4, 4, 4, 4, 4, 4, 4, 4, 4, 4, 4, 4, 4, 4, 4, 4,\n",
       "         4, 4, 4, 4, 4, 4, 4, 4, 4, 4, 4, 4, 4, 4, 4, 4, 4, 4, 4, 3, 3, 3, 3, 3,\n",
       "         3, 3, 3, 3, 3, 3, 3, 3, 3, 3, 3, 3, 3, 3, 3, 3, 3, 3, 3, 3, 3, 3, 3, 3,\n",
       "         3, 3, 3, 3, 3, 2]))"
      ]
     },
     "execution_count": 119,
     "metadata": {},
     "output_type": "execute_result"
    }
   ],
   "source": [
    "train_set[78]"
   ]
  },
  {
   "cell_type": "code",
   "execution_count": 115,
   "metadata": {},
   "outputs": [
    {
     "data": {
      "text/plain": [
       "(tensor([0.4444, 0.5556, 0.6667, 0.5000, 0.2500, 0.5833, 0.2778, 0.5000, 0.3611,\n",
       "         0.4444, 0.6111, 0.5000, 0.3333, 0.6389, 0.3889, 0.7222, 0.5556, 0.6667,\n",
       "         0.4722, 0.9722, 0.3889, 0.6389, 0.9444, 0.5833, 0.4167, 0.3611, 1.0000,\n",
       "         0.4444, 0.6111, 0.6667, 0.6944, 0.5556, 0.6944, 0.6667, 0.3056, 0.5833,\n",
       "         0.5833, 0.6389, 0.1389, 0.3056, 0.1111, 0.1667, 0.3611, 0.2222, 0.1667,\n",
       "         0.1389, 0.0000, 0.1389, 0.0833, 0.1944, 0.2778, 0.1111, 0.4167, 0.3333,\n",
       "         0.5278, 0.1389, 0.3611, 0.3611, 0.1389, 0.2500, 0.1389, 0.0000, 0.1389,\n",
       "         0.1667, 0.2222, 0.4167, 0.4444, 0.1667, 0.5000, 0.1944, 0.1111, 0.1389,\n",
       "         0.3333, 0.1111, 0.3333, 0.3889, 0.2222, 0.2222, 0.3333, 0.4167, 0.0833,\n",
       "         0.5556, 0.3056, 0.0556, 0.3333, 0.1944, 0.1944, 0.3889, 0.1389, 0.1944,\n",
       "         0.3333, 0.5556, 0.1111, 0.1944, 0.0556, 0.3611, 0.3333, 0.2778, 0.2222,\n",
       "         0.3333]),\n",
       " tensor([1, 3, 3, 3, 3, 3, 3, 3, 3, 3, 3, 4, 4, 4, 4, 4, 4, 4, 4, 4, 4, 4, 4, 4,\n",
       "         4, 4, 4, 4, 4, 4, 4, 5, 5, 5, 5, 5, 5, 5, 5, 5, 5, 3, 3, 3, 3, 3, 3, 3,\n",
       "         3, 3, 3, 3, 3, 3, 3, 3, 3, 3, 3, 3, 3, 3, 3, 3, 3, 3, 3, 3, 3, 3, 3, 3,\n",
       "         3, 3, 3, 3, 3, 3, 3, 3, 3, 3, 3, 3, 3, 3, 3, 3, 3, 3, 3, 3, 3, 3, 3, 3,\n",
       "         3, 3, 3, 3, 3, 2]))"
      ]
     },
     "execution_count": 115,
     "metadata": {},
     "output_type": "execute_result"
    }
   ],
   "source": [
    "test_set[14]"
   ]
  },
  {
   "cell_type": "code",
   "execution_count": 132,
   "metadata": {},
   "outputs": [],
   "source": [
    "class Seq2SeqModel(nn.Module):\n",
    "    \n",
    "    def __init__(self, hid_dim, out_dim, dropout=0.2, device=device):\n",
    "        super().__init__()\n",
    "        \n",
    "        self.hid_dim = hid_dim\n",
    "        self.encoder = nn.GRU(1, hid_dim, bidirectional=True, batch_first=True)\n",
    "        self.decoder = nn.GRU(out_dim + hid_dim * 2, hid_dim, bidirectional=True, batch_first=True)\n",
    "        self.out_dim = out_dim\n",
    "        self.device = device\n",
    "        \n",
    "        # self.fc_out = nn.Linear((self.seq_len + 1) * hid_dim * 2, out_dim)\n",
    "        self.fc_out = nn.Linear(hid_dim * 4, out_dim)\n",
    "\n",
    "        self.dropout = nn.Dropout(dropout)\n",
    "\n",
    "    def encode(self, src):\n",
    "        src = src.unsqueeze(2)\n",
    "        #print('src', src.shape)\n",
    "        out, hid = self.encoder(src)\n",
    "        # print('out', out.shape)\n",
    "        out = torch.mean(out, dim=1)\n",
    "        return out, hid\n",
    "    \n",
    "    def decode(self, input, hidden, context):\n",
    "        batch_size = input.shape[0]\n",
    "        # print('input', input.shape)\n",
    "        one_hot = F.one_hot(input.unsqueeze(0), num_classes=self.out_dim)\n",
    "        # print('onehot', one_hot.shape)\n",
    "        # print('ctx', context.shape)\n",
    "        #print('hid', hidden.shape)\n",
    "        merge_ctx = torch.cat((one_hot, context.view(1, batch_size, -1)), dim=2)\n",
    "        # print('merge', merge_ctx.shape)\n",
    "        \n",
    "        out, hid = self.decoder(merge_ctx.permute(1, 0, 2), hidden)\n",
    "        # print('out', out.shape)\n",
    "        # print('hid', hid.shape)\n",
    "        # out = torch.mean(out, dim=1)\n",
    "        cat = torch.cat((hid.view(batch_size, -1), context), dim=1)\n",
    "        # print('cat', cat.shape)\n",
    "        \n",
    "        pred = self.fc_out(cat)\n",
    "        \n",
    "        return pred, hid\n",
    "    \n",
    "    def forward(self, src, trg):\n",
    "        trg_len = src.shape[1] + 2\n",
    "        batch_size = src.shape[0]\n",
    "        #tensor to store decoder outputs\n",
    "        outputs = torch.zeros(batch_size, trg_len, self.out_dim).to(self.device)\n",
    "        #assign the sos to the first output (mark index 1 is True)\n",
    "        outputs[:, 0, 1] = 1\n",
    "        #last hidden state of the encoder is the context\n",
    "        context, hidden = self.encode(src)\n",
    "        # print('context', context.shape)\n",
    "        # context = context.reshape(batch_size, -1)\n",
    "        #first input to the decoder is the <sos> tokens\n",
    "        input = trg[:, 0]\n",
    "        \n",
    "        for t in range(1, trg_len):\n",
    "            \n",
    "            #insert input token embedding, previous hidden state and the context state\n",
    "            #receive output tensor (predictions) and new hidden state\n",
    "            output, hidden = self.decode(input, hidden, context)\n",
    "            \n",
    "            #place predictions in a tensor holding predictions for each token\n",
    "            outputs[:, t] = output\n",
    "            \n",
    "            #if teacher forcing, use actual next token as next input\n",
    "            #if not, use predicted token\n",
    "            # print('output', output.shape)\n",
    "            input = output.argmax(1)\n",
    "\n",
    "        return outputs\n"
   ]
  },
  {
   "cell_type": "code",
   "execution_count": null,
   "metadata": {},
   "outputs": [],
   "source": []
  },
  {
   "cell_type": "code",
   "execution_count": 133,
   "metadata": {},
   "outputs": [],
   "source": [
    "model = Seq2SeqModel(hid_dim=256, out_dim=6).to(device)\n",
    "optimizer = Adam(model.parameters(), lr=1e-4)\n",
    "criterion = nn.CrossEntropyLoss()\n",
    "# criterion = nn.BCEWithLogitsLoss(pos_weight=torch.tensor([10]).to(device))"
   ]
  },
  {
   "cell_type": "code",
   "execution_count": 134,
   "metadata": {
    "code_folding": [
     36
    ]
   },
   "outputs": [],
   "source": [
    "def train(model, data_loader, optimizer, criterion):\n",
    "    model.train()\n",
    "    epoch_loss = 0\n",
    "    # for i, batch in tqdm(enumerate(data_loader), total=len(data_loader), desc='Train'):\n",
    "    for batch in data_loader:\n",
    "        inputs, labels = batch\n",
    "        inputs = inputs.to(device)\n",
    "        labels = labels.to(device)\n",
    "        \n",
    "        #print('inputs', inputs.shape)\n",
    "        #print('labels', labels.shape)\n",
    "        \n",
    "        outputs = model(inputs, labels)\n",
    "\n",
    "        #print('output', outputs.shape)\n",
    "\n",
    "        # outputs = outputs.squeeze(1)\n",
    "        #trg = [(trg len - 1) * batch size]\n",
    "        #output = [(trg len - 1) * batch size, output dim]\n",
    "#         print(outputs)\n",
    "#         print(labels)\n",
    "        output_dim = outputs.shape[-1]\n",
    "        \n",
    "        outputs = outputs.reshape(-1, output_dim)\n",
    "        labels = labels.reshape(-1)\n",
    "        \n",
    "        optimizer.zero_grad()\n",
    "        loss = criterion(outputs, labels)\n",
    "        loss.backward()\n",
    "\n",
    "        optimizer.step()\n",
    "        \n",
    "        epoch_loss += loss.item()\n",
    "        \n",
    "    return epoch_loss / len(data_loader)\n",
    "\n",
    "def evaluate(model, data_loader, criterion):\n",
    "    model.eval()\n",
    "    epoch_loss = 0\n",
    "    # y_pred = torch.tensor([], dtype=bool).to(device)\n",
    "    # y_true = torch.tensor([], dtype=bool).to(device)\n",
    "    \n",
    "    with torch.no_grad():\n",
    "        for batch in data_loader:\n",
    "\n",
    "            inputs, labels = batch\n",
    "            inputs = inputs.to(device)\n",
    "            labels = labels.to(device)\n",
    "\n",
    "            outputs = model(inputs, labels)\n",
    "        \n",
    "            output_dim = outputs.shape[-1]\n",
    "            outputs = outputs.reshape(-1, output_dim)\n",
    "            labels = labels.reshape(-1)\n",
    "\n",
    "            loss = criterion(outputs, labels)\n",
    "            epoch_loss += loss.item()\n",
    "            # y_true = torch.cat([y_true, labels])\n",
    "            \n",
    "#             accuracy += (preds == labels).sum()\n",
    "#             n_sample += len(labels)\n",
    "    \n",
    "    epoch_loss = epoch_loss / len(data_loader)\n",
    "    # accuracy = accuracy.cpu().item()\n",
    "    # accuracy = accuracy / n_sample\n",
    "    return epoch_loss\n",
    "\n",
    "def test(model, data_loader, criterion):\n",
    "    model.eval()\n",
    "    epoch_loss = 0\n",
    "    y_pred = torch.tensor([], dtype=bool).to(device)\n",
    "    # y_true = torch.tensor([], dtype=bool).to(device)\n",
    "    \n",
    "    with torch.no_grad():\n",
    "        for batch in data_loader:\n",
    "\n",
    "            inputs, labels = batch\n",
    "            inputs = inputs.to(device)\n",
    "            labels = labels.to(device)\n",
    "\n",
    "            outputs = model(inputs, labels)\n",
    "            # print('output', outputs.shape)\n",
    "#             print('labels', labels.shape)\n",
    "#         print(labels)\n",
    "            preds = torch.argmax(outputs, 2)\n",
    "    \n",
    "            # print(preds.shape)\n",
    "            y_pred = torch.cat([y_pred, preds])\n",
    "        \n",
    "            output_dim = outputs.shape[-1]\n",
    "            outputs = outputs.reshape(-1, output_dim)\n",
    "            labels = labels.reshape(-1)\n",
    "\n",
    "            loss = criterion(outputs, labels)\n",
    "            epoch_loss += loss.item()\n",
    "            # y_true = torch.cat([y_true, labels])\n",
    "            \n",
    "#             accuracy += (preds == labels).sum()\n",
    "#             n_sample += len(labels)\n",
    "    \n",
    "    epoch_loss = epoch_loss / len(data_loader)\n",
    "    # accuracy = accuracy.cpu().item()\n",
    "    # accuracy = accuracy / n_sample\n",
    "    return epoch_loss, y_pred.cpu().numpy()\n",
    "\n",
    "# def get_pivots(pred):\n",
    "#     pivots = []\n",
    "    \n",
    "#     cur = 0\n",
    "#     for i, v in enumerate(pred[:-1]):\n",
    "#         if v != 0 and v != 1:\n",
    "#             # print(v)\n",
    "#             continue\n",
    "#         if v != cur:\n",
    "#             pivots.append(i)\n",
    "#             cur = v\n",
    "#     return pivots\n",
    "            \n",
    "    "
   ]
  },
  {
   "cell_type": "code",
   "execution_count": 135,
   "metadata": {
    "scrolled": true
   },
   "outputs": [
    {
     "name": "stdout",
     "output_type": "stream",
     "text": [
      "Epoch: 1 | Time: 1.44 mins | Train Loss: 0.870 | Val Loss: 0.803\n",
      "Epoch: 2 | Time: 1.44 mins | Train Loss: 0.758 | Val Loss: 0.713\n",
      "Epoch: 3 | Time: 1.46 mins | Train Loss: 0.712 | Val Loss: 0.730\n",
      "Epoch: 4 | Time: 1.45 mins | Train Loss: 0.702 | Val Loss: 0.711\n",
      "Epoch: 5 | Time: 1.44 mins | Train Loss: 0.652 | Val Loss: 0.593\n",
      "Epoch: 6 | Time: 1.45 mins | Train Loss: 0.583 | Val Loss: 0.566\n",
      "Epoch: 7 | Time: 1.44 mins | Train Loss: 0.553 | Val Loss: 0.544\n",
      "Epoch: 8 | Time: 1.45 mins | Train Loss: 0.543 | Val Loss: 0.555\n",
      "Epoch: 9 | Time: 1.47 mins | Train Loss: 0.533 | Val Loss: 0.525\n",
      "Epoch: 10 | Time: 1.45 mins | Train Loss: 0.521 | Val Loss: 0.518\n",
      "Epoch: 11 | Time: 1.47 mins | Train Loss: 0.518 | Val Loss: 0.520\n",
      "Epoch: 12 | Time: 1.45 mins | Train Loss: 0.514 | Val Loss: 0.524\n",
      "Epoch: 13 | Time: 1.45 mins | Train Loss: 0.507 | Val Loss: 0.507\n",
      "Epoch: 14 | Time: 1.46 mins | Train Loss: 0.500 | Val Loss: 0.502\n",
      "Epoch: 15 | Time: 1.43 mins | Train Loss: 0.498 | Val Loss: 0.496\n",
      "Epoch: 16 | Time: 1.43 mins | Train Loss: 0.498 | Val Loss: 0.500\n",
      "Epoch: 17 | Time: 1.46 mins | Train Loss: 0.494 | Val Loss: 0.488\n",
      "Epoch: 18 | Time: 1.45 mins | Train Loss: 0.494 | Val Loss: 0.510\n",
      "Epoch: 19 | Time: 1.46 mins | Train Loss: 0.488 | Val Loss: 0.484\n",
      "Epoch: 20 | Time: 1.45 mins | Train Loss: 0.491 | Val Loss: 0.484\n",
      "Epoch: 21 | Time: 1.43 mins | Train Loss: 0.489 | Val Loss: 0.484\n",
      "Epoch: 22 | Time: 1.44 mins | Train Loss: 0.483 | Val Loss: 0.478\n",
      "Epoch: 23 | Time: 1.44 mins | Train Loss: 0.483 | Val Loss: 0.477\n",
      "Epoch: 24 | Time: 1.46 mins | Train Loss: 0.485 | Val Loss: 0.477\n",
      "Epoch: 25 | Time: 1.45 mins | Train Loss: 0.480 | Val Loss: 0.480\n",
      "Epoch: 26 | Time: 1.44 mins | Train Loss: 0.477 | Val Loss: 0.473\n",
      "Epoch: 27 | Time: 1.44 mins | Train Loss: 0.477 | Val Loss: 0.466\n",
      "Epoch: 28 | Time: 1.46 mins | Train Loss: 0.461 | Val Loss: 0.446\n",
      "Epoch: 29 | Time: 1.45 mins | Train Loss: 0.456 | Val Loss: 0.442\n",
      "Epoch: 30 | Time: 1.45 mins | Train Loss: 0.448 | Val Loss: 0.431\n"
     ]
    }
   ],
   "source": [
    "N_EPOCH = 30\n",
    "for epoch in range(N_EPOCH):\n",
    "    \n",
    "    t0 = time.time()\n",
    "    \n",
    "    train_loss = train(model, train_loader, optimizer, criterion)\n",
    "    val_loss = evaluate(model, val_loader, criterion)\n",
    "    \n",
    "    duration = (time.time() - t0) / 60\n",
    "    # print(f'Train Loss: {train_loss:.4f}')\n",
    "    # f1 = f1_score(y_true, y_pred)\n",
    "    print(f'Epoch: {epoch+1} | Time: {duration:.2f} mins | Train Loss: {train_loss:.3f} | Val Loss: {val_loss:.3f}')\n",
    "    # print(classification_report(y_true, y_pred))\n"
   ]
  },
  {
   "cell_type": "code",
   "execution_count": 44,
   "metadata": {},
   "outputs": [],
   "source": [
    "torch.save(model.state_dict(), 'models/rnn/rnn_seq_kmeans.pt')"
   ]
  },
  {
   "cell_type": "code",
   "execution_count": null,
   "metadata": {},
   "outputs": [],
   "source": [
    "# now test with LDA"
   ]
  },
  {
   "cell_type": "code",
   "execution_count": 136,
   "metadata": {},
   "outputs": [],
   "source": [
    "test_loss, y_pred = test(model, test_loader, criterion)"
   ]
  },
  {
   "cell_type": "code",
   "execution_count": 137,
   "metadata": {},
   "outputs": [
    {
     "data": {
      "text/plain": [
       "0.1535915075801313"
      ]
     },
     "execution_count": 137,
     "metadata": {},
     "output_type": "execute_result"
    }
   ],
   "source": [
    "test_loss"
   ]
  },
  {
   "cell_type": "code",
   "execution_count": 175,
   "metadata": {},
   "outputs": [
    {
     "data": {
      "text/plain": [
       "(101,)"
      ]
     },
     "execution_count": 175,
     "metadata": {},
     "output_type": "execute_result"
    }
   ],
   "source": [
    "y_pred[0][:-1].shape"
   ]
  },
  {
   "cell_type": "code",
   "execution_count": 147,
   "metadata": {},
   "outputs": [],
   "source": [
    "\"\"\"\n",
    "Check if the sample has the changed event\n",
    "Predict the pivot points for that changed event\n",
    "The metric is rand index average by number of samples\n",
    "\"\"\"\n",
    "\n",
    "def get_result(y_pred):\n",
    "    founds = []\n",
    "    for i, p in enumerate(y_pred):\n",
    "        pivots = get_pivots(p)\n",
    "        if len(pivots):\n",
    "            founds.append(i)\n",
    "    return founds\n",
    "\n",
    "\n",
    "def get_pivots(pred):\n",
    "    pivots = []\n",
    "    \n",
    "    cur = 3\n",
    "    for i, v in enumerate(pred[:-1]):\n",
    "        if v == 1 or v == 2:\n",
    "            # print(v)\n",
    "            continue\n",
    "        if v != cur:\n",
    "            pivots.append(i)\n",
    "            cur = v\n",
    "    return pivots\n",
    "\n",
    "def convert_complex(pivots, timeline=100):\n",
    "    converted = np.zeros(len(pivots), dtype=int)\n",
    "    \n",
    "    for i, p in enumerate(pivots):\n",
    "        if p < 0:\n",
    "            converted[i] = -p\n",
    "        elif p > timeline:\n",
    "            converted[i] = p - timeline\n",
    "        else:\n",
    "            converted[i] = p\n",
    "    return converted\n",
    "# def get_metrics(y_true, y_pred):\n",
    "#     timeline = 100\n",
    "#     avg = 0\n",
    "    \n",
    "#     pred_pivots = []\n",
    "    \n",
    "#     for i, p in enumerate(y_pred):\n",
    "#         pivots = get_pivots(p)\n",
    "#         if len(pivots):\n",
    "#             founds.append(i)\n",
    "    \n",
    "#     for t, p in zip(pv_true, pv_pred):\n",
    "#         t = np.concatenate((t, [timeline]))\n",
    "#         p = np.concatenate((p, [timeline]))\n",
    "#         ridx = randindex(t, p)\n",
    "        \n",
    "#         avg += ridx\n",
    "#     avg = avg / len(pv_true)\n",
    "    \n",
    "#     return avg"
   ]
  },
  {
   "cell_type": "code",
   "execution_count": 78,
   "metadata": {},
   "outputs": [
    {
     "data": {
      "text/plain": [
       "(102,)"
      ]
     },
     "execution_count": 78,
     "metadata": {},
     "output_type": "execute_result"
    }
   ],
   "source": [
    "y_pred[119].shape"
   ]
  },
  {
   "cell_type": "code",
   "execution_count": 214,
   "metadata": {},
   "outputs": [
    {
     "data": {
      "text/plain": [
       "array([1, 3, 3, 3, 3, 3, 3, 3, 3, 3, 3, 3, 3, 3, 3, 3, 3, 3, 3, 4, 4, 4,\n",
       "       4, 4, 4, 4, 4, 4, 4, 4, 4, 4, 4, 4, 4, 4, 4, 4, 4, 4, 4, 4, 4, 4,\n",
       "       4, 4, 4, 4, 4, 4, 4, 4, 4, 4, 4, 4, 4, 4, 4, 4, 4, 4, 4, 4, 4, 4,\n",
       "       4, 4, 4, 4, 4, 4, 4, 4, 4, 4, 4, 4, 4, 4, 3, 3, 3, 3, 3, 3, 3, 3,\n",
       "       3, 3, 3, 3, 3, 3, 3, 3, 3, 3, 3, 3, 3, 2])"
      ]
     },
     "execution_count": 214,
     "metadata": {},
     "output_type": "execute_result"
    }
   ],
   "source": [
    "y_pred[157]"
   ]
  },
  {
   "cell_type": "code",
   "execution_count": 148,
   "metadata": {},
   "outputs": [],
   "source": [
    "dcm = get_result(y_pred)"
   ]
  },
  {
   "cell_type": "code",
   "execution_count": 215,
   "metadata": {},
   "outputs": [
    {
     "name": "stdout",
     "output_type": "stream",
     "text": [
      "551\n"
     ]
    }
   ],
   "source": [
    "test_id = np.random.choice(dcm)\n",
    "print(test_id)"
   ]
  },
  {
   "cell_type": "code",
   "execution_count": 216,
   "metadata": {},
   "outputs": [
    {
     "data": {
      "text/plain": [
       "[10, 85]"
      ]
     },
     "execution_count": 216,
     "metadata": {},
     "output_type": "execute_result"
    }
   ],
   "source": [
    "get_pivots(y_pred[test_id])"
   ]
  },
  {
   "cell_type": "code",
   "execution_count": 217,
   "metadata": {},
   "outputs": [
    {
     "data": {
      "text/plain": [
       "array([ 2, 72])"
      ]
     },
     "execution_count": 217,
     "metadata": {},
     "output_type": "execute_result"
    }
   ],
   "source": [
    "y_test[test_id]"
   ]
  },
  {
   "cell_type": "code",
   "execution_count": 218,
   "metadata": {},
   "outputs": [
    {
     "data": {
      "image/png": "[encoded data removed]",
      "text/plain": [
       "<Figure size 1440x720 with 1 Axes>"
      ]
     },
     "metadata": {
      "needs_background": "light"
     },
     "output_type": "display_data"
    }
   ],
   "source": [
    "visualize_train_data(X_test[test_id], y_test[test_id])"
   ]
  },
  {
   "cell_type": "code",
   "execution_count": 182,
   "metadata": {},
   "outputs": [],
   "source": [
    "def get_metrics(df, y_true, y_pred, maj_cats, events, target):\n",
    "    accuracy = 0   # accuracy of detect correctly clusters have the target category as major\n",
    "    precision = 0  # accuracy of detect how many articles in cluster are target category\n",
    "    recall = 0    # accuracy of detect how many articles in target category are in choosen clusters\n",
    "    randidx = 0\n",
    "    pred_ids = []\n",
    "    timeline = 100\n",
    "    \n",
    "    for i, pred_points in enumerate(y_pred):\n",
    "        if len(pred_points):\n",
    "            pred_ids.append(i)\n",
    "            \n",
    "            true_points = y_true[i]\n",
    "            \n",
    "            if events[i] == 'complex':\n",
    "                true_points = convert_complex(true_points)\n",
    "                # print(true_points)\n",
    "            \n",
    "            if len(true_points):\n",
    "                # print(pred_points)\n",
    "                true_points = np.concatenate((true_points, [timeline]), axis=0).astype(int)\n",
    "                \n",
    "                if timeline not in pred_points:\n",
    "                    pred_points = np.concatenate((pred_points, [timeline]), axis=0).astype(int)\n",
    "                # print(t, p)\n",
    "                # print(true_points)\n",
    "                randidx += randindex(true_points, pred_points)\n",
    "    \n",
    "    # pred_ids = np.argwhere(y_pred > 0).squeeze(1)\n",
    "    n_cluster = len(pred_ids)\n",
    "\n",
    "    df['target'] = (df['event'] != 'noise')\n",
    "    target_cluster = df[df['target'] == True]\n",
    "    \n",
    "    for i in pred_ids:\n",
    "        pred_cat = maj_cats[i]\n",
    "        cluster = df[df['cluster'] == i]\n",
    "        \n",
    "        if pred_cat == target:\n",
    "            accuracy += 1\n",
    "        # calculate the prec and recall\n",
    "        if len(cluster['target']) > 0:\n",
    "            precision += cluster['target'].mean()\n",
    "        recall += cluster['target'].sum()\n",
    "    \n",
    "    # if there is output \n",
    "    if n_cluster:\n",
    "        accuracy = accuracy / n_cluster\n",
    "        precision = precision / n_cluster\n",
    "        randidx = randidx / n_cluster\n",
    "    \n",
    "    recall = recall / target_cluster.shape[0]\n",
    "    \n",
    "    return accuracy, precision, recall, randidx\n",
    "\n",
    "\n",
    "def evaluate_pipeline(samples, labels, preds, maj_cats, events):\n",
    "    n_samples = len(samples)\n",
    "    acc = np.zeros(n_samples)\n",
    "    prc = np.zeros(n_samples)\n",
    "    rec = np.zeros(n_samples)\n",
    "    f = np.zeros(n_samples)\n",
    "    rid = np.zeros(n_samples)\n",
    "    n_cluster = 20\n",
    "    \n",
    "    for i, sample in enumerate(tqdm(samples)):\n",
    "        target = get_target(sample)\n",
    "        y_true = labels[i*n_cluster: (i+1)*n_cluster]\n",
    "        y_pred = preds[i*n_cluster: (i+1)*n_cluster]\n",
    "        pivots = [get_pivots(p) for p in y_pred]\n",
    "        cats = maj_cats[i*n_cluster: (i+1)*n_cluster]\n",
    "        evts = events[i*n_cluster: (i+1)*n_cluster]\n",
    "        # clusters = pickle.load(open(\"models/lda_cluster/clusters_\" + str(i) + \".pkl\", \"rb\"))\n",
    "        \n",
    "        acc[i], prc[i], rec[i], rid[i] = get_metrics(sample, y_true, pivots, cats, evts, target)\n",
    "        if (prc[i] + rec[i]) != 0:\n",
    "            f[i] = 2 * prc[i] * rec[i] / (prc[i] + rec[i])\n",
    "        \n",
    "    return acc, prc, rec, rid, f\n",
    "\n"
   ]
  },
  {
   "cell_type": "code",
   "execution_count": 183,
   "metadata": {},
   "outputs": [
    {
     "name": "stderr",
     "output_type": "stream",
     "text": [
      "100%|██████████| 200/200 [00:04<00:00, 49.30it/s]\n"
     ]
    }
   ],
   "source": [
    "accs, precs, recs, rid, f_micro = evaluate_pipeline(test_samples, y_test, y_pred, maj_cats, events_test)"
   ]
  },
  {
   "cell_type": "code",
   "execution_count": 178,
   "metadata": {},
   "outputs": [],
   "source": [
    "# randindex([ 10, 30,  50,  70,  90, 100], [ 12, 101, 100])"
   ]
  },
  {
   "cell_type": "code",
   "execution_count": null,
   "metadata": {},
   "outputs": [],
   "source": []
  },
  {
   "cell_type": "code",
   "execution_count": 184,
   "metadata": {},
   "outputs": [
    {
     "data": {
      "text/plain": [
       "(0.71125, 0.5828127665882714, 0.5422520732568544, 0.4916236666666667)"
      ]
     },
     "execution_count": 184,
     "metadata": {},
     "output_type": "execute_result"
    }
   ],
   "source": [
    "f_macro =2 * precs.mean()*recs.mean()/(precs.mean()+recs.mean())\n",
    "accs.mean(), precs.mean(), recs.mean(), rid.mean()"
   ]
  },
  {
   "cell_type": "code",
   "execution_count": 185,
   "metadata": {},
   "outputs": [
    {
     "name": "stdout",
     "output_type": "stream",
     "text": [
      "f_micro: 0.5407721152233762 f_macro: 0.5618012754652569\n"
     ]
    }
   ],
   "source": [
    "f_micro = np.nan_to_num(f_micro)\n",
    "print(\"f_micro:\", f_micro.mean(), \"f_macro:\", f_macro)"
   ]
  },
  {
   "cell_type": "code",
   "execution_count": null,
   "metadata": {},
   "outputs": [],
   "source": [
    "# Now evaluate historical data"
   ]
  },
  {
   "cell_type": "code",
   "execution_count": 301,
   "metadata": {},
   "outputs": [],
   "source": [
    "# 1. load stt vecs\n",
    "# 2. train stt kmeans\n",
    "# 3. \n",
    "def get_stt_changes():\n",
    "    changes = pickle.load(open(\"models/stt/tm_changes.pkl\", \"rb\"))\n",
    "#     X = np.zeros((len(changes), 100))\n",
    "    \n",
    "#     for i, s in enumerate(changes):\n",
    "#         counts = s[2].values\n",
    "#         X[i] = counts\n",
    "    \n",
    "#     X = minmax_scale(X)\n",
    "    \n",
    "    return changes\n",
    "\n",
    "def infer(model, inputs):\n",
    "    model.eval()\n",
    "    y_pred = torch.tensor([], dtype=bool).to(device)\n",
    "    \n",
    "    with torch.no_grad():\n",
    "        inputs = torch.tensor(inputs, dtype=torch.float).to(device)\n",
    "        \n",
    "        labels = torch.full((inputs.shape[0], 1), 1, dtype=torch.long).to(device)\n",
    "        \n",
    "        #print(inputs.shape)\n",
    "        #print(labels)\n",
    "\n",
    "        outputs = model(inputs, labels)\n",
    "        \n",
    "        preds = torch.argmax(outputs, 2)\n",
    "        y_pred = torch.cat([y_pred, preds])\n",
    "            \n",
    "    return y_pred.cpu().numpy()\n",
    "\n",
    "def visualize_changes(changes):    \n",
    "    fig, ax = plt.subplots(figsize=(20, 10))\n",
    "\n",
    "    index = np.arange(changes.shape[1])\n",
    "    distance = 0\n",
    "    \n",
    "    for i, change in enumerate(changes):\n",
    "        val = change + distance\n",
    "        ax.plot(index, val, label=str(i))\n",
    "            \n",
    "        distance += 0.5\n",
    "        \n",
    "        if i == 10:\n",
    "            break\n",
    "    \n",
    "    ax.set(xlabel='Time', ylabel='Counts')\n",
    "    ax.legend()\n",
    "    ax.grid()\n",
    "    ax.set_xticks(range(0, changes.shape[1], 2))\n",
    "    # ax.set_xlim(0, 63)\n",
    "    # ax.set_ylim(0, 5)\n",
    "\n",
    "    plt.show()"
   ]
  },
  {
   "cell_type": "code",
   "execution_count": 296,
   "metadata": {},
   "outputs": [],
   "source": [
    "stt_changes = get_stt_changes()"
   ]
  },
  {
   "cell_type": "code",
   "execution_count": 303,
   "metadata": {},
   "outputs": [
    {
     "data": {
      "text/plain": [
       "array([1.        , 0.89015279, 0.87366004, 0.77664543, 0.55457107,\n",
       "       0.57240806, 0.49136709, 0.41820795, 0.39491345, 0.04801792,\n",
       "       0.45999879, 0.53613227, 0.30749595, 0.05025607, 0.08901365,\n",
       "       0.24712194, 0.17336029, 0.27548464, 0.16418047, 0.24946135,\n",
       "       0.32937405, 0.32425158, 0.19738741, 0.03834287, 0.12666486,\n",
       "       0.13356207, 0.08853224, 0.22248057, 0.16530791, 0.13498348,\n",
       "       0.11856853, 0.10692929, 0.1068654 , 0.12993398, 0.08608623,\n",
       "       0.06986502, 0.10584539, 0.1068939 , 0.01635009, 0.06360749,\n",
       "       0.57596593, 0.0205623 , 0.        , 0.02793189, 0.01070324,\n",
       "       0.01115279, 0.02167935, 0.15621823, 0.17378522, 0.16883288,\n",
       "       0.09990012, 0.11223697, 0.05761602, 0.07483348, 0.05367091,\n",
       "       0.04285905, 0.07912512, 0.31581234, 0.36922021, 0.3257831 ,\n",
       "       0.27007092, 0.29719807, 0.31790163, 0.22666818])"
      ]
     },
     "execution_count": 303,
     "metadata": {},
     "output_type": "execute_result"
    }
   ],
   "source": [
    "stt_changes[0]"
   ]
  },
  {
   "cell_type": "code",
   "execution_count": null,
   "metadata": {},
   "outputs": [],
   "source": []
  },
  {
   "cell_type": "code",
   "execution_count": 302,
   "metadata": {},
   "outputs": [
    {
     "data": {
      "image/png": "[encoded data removed]",
      "text/plain": [
       "<Figure size 1440x720 with 1 Axes>"
      ]
     },
     "metadata": {
      "needs_background": "light"
     },
     "output_type": "display_data"
    }
   ],
   "source": [
    "visualize_changes(stt_changes)"
   ]
  },
  {
   "cell_type": "code",
   "execution_count": 304,
   "metadata": {},
   "outputs": [],
   "source": [
    "stt_pred = infer(model, stt_changes)"
   ]
  },
  {
   "cell_type": "code",
   "execution_count": 305,
   "metadata": {},
   "outputs": [
    {
     "data": {
      "text/plain": [
       "array([1, 3, 3, 3, 3, 3, 3, 3, 3, 3, 3, 3, 3, 3, 3, 3, 3, 3, 3, 3, 3, 3,\n",
       "       3, 3, 3, 3, 3, 3, 3, 3, 3, 3, 3, 3, 3, 3, 3, 3, 3, 3, 3, 3, 3, 3,\n",
       "       3, 3, 3, 3, 3, 3, 3, 3, 3, 3, 3, 3, 3, 3, 3, 3, 3, 3, 3, 3, 3, 3])"
      ]
     },
     "execution_count": 305,
     "metadata": {},
     "output_type": "execute_result"
    }
   ],
   "source": [
    "stt_pred[2]"
   ]
  },
  {
   "cell_type": "code",
   "execution_count": 306,
   "metadata": {},
   "outputs": [],
   "source": [
    "def get_result_stt(y_pred):\n",
    "    founds = []\n",
    "    pivot_list = []\n",
    "    \n",
    "    for i, p in enumerate(y_pred):\n",
    "        pivots = get_pivots(p)\n",
    "        if len(pivots):\n",
    "            founds.append(i)\n",
    "            pivot_list.append(pivots)\n",
    "    return founds, pivot_list"
   ]
  },
  {
   "cell_type": "code",
   "execution_count": 307,
   "metadata": {},
   "outputs": [],
   "source": [
    "stt_result, stt_pivots = get_result_stt(stt_pred)"
   ]
  },
  {
   "cell_type": "code",
   "execution_count": 308,
   "metadata": {},
   "outputs": [
    {
     "data": {
      "text/plain": [
       "[3,\n",
       " 4,\n",
       " 7,\n",
       " 9,\n",
       " 10,\n",
       " 12,\n",
       " 13,\n",
       " 14,\n",
       " 16,\n",
       " 17,\n",
       " 18,\n",
       " 19,\n",
       " 21,\n",
       " 22,\n",
       " 24,\n",
       " 25,\n",
       " 26,\n",
       " 28,\n",
       " 30,\n",
       " 32,\n",
       " 36,\n",
       " 37,\n",
       " 38,\n",
       " 39,\n",
       " 40,\n",
       " 42,\n",
       " 43,\n",
       " 46,\n",
       " 48,\n",
       " 49]"
      ]
     },
     "execution_count": 308,
     "metadata": {},
     "output_type": "execute_result"
    }
   ],
   "source": [
    "stt_result"
   ]
  },
  {
   "cell_type": "code",
   "execution_count": 312,
   "metadata": {},
   "outputs": [
    {
     "data": {
      "text/plain": [
       "[18]"
      ]
     },
     "execution_count": 312,
     "metadata": {},
     "output_type": "execute_result"
    }
   ],
   "source": [
    "stt_pivots[3]"
   ]
  },
  {
   "cell_type": "code",
   "execution_count": 118,
   "metadata": {},
   "outputs": [],
   "source": [
    "def get_datetime(pivot_list):\n",
    "    start = datetime.datetime(2007, 1, 1)\n",
    "    date_list = []\n",
    "    \n",
    "    for pivots in pivot_list:\n",
    "        dates = []\n",
    "        for p in pivots:\n",
    "            d = datetime.timedelta(days=p*7)\n",
    "            end = start + d\n",
    "            dates.append(end.strftime(\"%Y-%m-%d\"))\n",
    "        date_list.append(dates)\n",
    "            \n",
    "    return date_list\n",
    "            "
   ]
  },
  {
   "cell_type": "code",
   "execution_count": 119,
   "metadata": {},
   "outputs": [],
   "source": [
    "stt_dates = get_datetime(stt_pivots)"
   ]
  },
  {
   "cell_type": "code",
   "execution_count": 121,
   "metadata": {},
   "outputs": [],
   "source": [
    "# stt_dates"
   ]
  },
  {
   "cell_type": "code",
   "execution_count": null,
   "metadata": {},
   "outputs": [],
   "source": []
  }
 ],
 "metadata": {
  "kernelspec": {
   "display_name": "Python 3",
   "language": "python",
   "name": "python3"
  },
  "language_info": {
   "codemirror_mode": {
    "name": "ipython",
    "version": 3
   },
   "file_extension": ".py",
   "mimetype": "text/x-python",
   "name": "python",
   "nbconvert_exporter": "python",
   "pygments_lexer": "ipython3",
   "version": "3.7.5"
  },
  "varInspector": {
   "cols": {
    "lenName": 16,
    "lenType": 16,
    "lenVar": 40
   },
   "kernels_config": {
    "python": {
     "delete_cmd_postfix": "",
     "delete_cmd_prefix": "del ",
     "library": "var_list.py",
     "varRefreshCmd": "print(var_dic_list())"
    },
    "r": {
     "delete_cmd_postfix": ") ",
     "delete_cmd_prefix": "rm(",
     "library": "var_list.r",
     "varRefreshCmd": "cat(var_dic_list()) "
    }
   },
   "types_to_exclude": [
    "module",
    "function",
    "builtin_function_or_method",
    "instance",
    "_Feature"
   ],
   "window_display": false
  }
 },
 "nbformat": 4,
 "nbformat_minor": 4
}
